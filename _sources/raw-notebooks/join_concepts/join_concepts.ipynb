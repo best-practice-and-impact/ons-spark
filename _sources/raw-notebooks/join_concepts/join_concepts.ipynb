{
 "cells": [
  {
   "cell_type": "markdown",
   "metadata": {},
   "source": [
    "## Optimising Joins\n",
    "\n",
    "Joining DataFrames is a common and often essential operation in Spark. However, joins are one of the more expensive operations in terms of processing time. This is because by default both source DataFrames are first sorted, which is a *wide transformation*, causing a *shuffle* (or *exchange*). As such, it is worth paying extra attention to where joins occur in the code and trying to figure out which method to use to make them more efficient.\n",
    "\n",
    "This article describes the different join algorithms in Spark, explains how they work, when to use them, and shows examples of each. It also covers replacing joins entirely with narrow transformations, and gives a brief overview of *salted joins*, that can be used when the data are skewed.\n",
    "\n",
    "Before reading this article ensure that you understand how to join two DataFrames in Spark. Knowledge of shuffles and the difference between wide and narrow transformations will also help understanding of why some methods are faster than others, although not mandatory. Useful resources on this include the [DataBricks Transformations definition](https://databricks.com/glossary/what-are-transformations), and the Spark Application and UI, Shuffles and Partitions articles in this book.\n",
    "\n",
    "It's important to note that in this notebook when we talk about different joins and the way they are processed we aren't talking about left, right, inner or outer joins, but how it is processed on the cluster. The result of the join will always be the same, regardless of which of the algorithms described in this article is used.\n",
    "\n",
    "This article uses both PySpark and sparklyr examples; note that the outputs from the cells are from Python, the R output may be formatted slightly differently.\n",
    "\n",
    "### The Join Algorithms in Spark\n",
    "\n",
    "You do not need to know how joins work when writing Spark code, but you can make them more efficient by understanding that there are different ways for them to be processed and coding appropriately. These are:\n",
    "- Shuffle Hash Join\n",
    "- Sort Merge Join\n",
    "- Broadcast Join\n",
    "- Other Methods\n",
    "\n",
    "We will look at each in more detail, get a better idea of how they are processed by looking at the Spark UI. We will then compare them and give the advantages and disadvantages of using each.\n",
    "\n",
    "### Shuffle Hash Join\n",
    "\n",
    "In the development of Spark, the shuffle hash join was the original join implementation.\n",
    "\n",
    "This consists of two stages: *shuffle* and *hash*. First a *shuffle*, where data with the same keys from both DataFrames are moved to the same executors. Once all the data are on the relevant executors, they are joined using the hash join algorithm. This involves building a hash table in memory and may fail for some larger joins.\n",
    "\n",
    "Shuffle hash joins will not be explored further as they have been superseded by sort merge join, which is similar apart from the processing stage.\n",
    "\n",
    "### Sort Merge Join\n",
    "\n",
    "This is now the default method of joining two DataFrames in Spark.\n",
    "\n",
    "It consists of two key stages, as suggested by the name: *sort* and *merge*.\n",
    "\n",
    "First of all, the data in each DataFrame will be sorted. A sort operation requires a shuffle on each DataFrame. This will also ensure that all the same key values are on the same partition. This also means that the join can be done in parallel on each partition, although it can potentially be a problem if your data are skewed (in which case a *salted join* may be useful).\n",
    "\n",
    "Now that both DataFrames are ordered, it is easy to iterate over each row in the DataFrames and see if they have a matching key; if they do, they can be returned as part of the resulting DataFrame. In most circumstances this will be more efficient than the shuffle hash join.\n",
    "\n",
    "This diagram should help explain this visually:\n",
    "\n",
    "![Diagram showing how a sort merge join works](../images/sort_merge_join.png)\n",
    "\n",
    "Both sort merge joins and shuffle hash joins use a shuffle; the difference is in the processing stage, where the former uses a searching algorithm and the latter uses a hash table.\n",
    "\n",
    "#### Sort Merge Join Example\n",
    "\n",
    "Let's see an example of a sort merge join and then look at the plan and the Spark UI. The example uses the Animal Rescue (as CSV) and Population (as parquet) datasets, left joining on the `postcode_district`. Note that we are disabling automatic broadcast joins by setting `spark.sql.autoBroadcastJoinThreshold` to `-1`; broadcast joins are covered in the next section. First, start a Spark session, read the data and select and rename the relevant columns:"
   ]
  },
  {
   "cell_type": "code",
   "execution_count": 1,
   "metadata": {},
   "outputs": [],
   "source": [
    "import os\n",
    "import yaml\n",
    "from pyspark.sql import SparkSession, functions as F\n",
    "\n",
    "spark = (SparkSession.builder.master(\"local[2]\")\n",
    "         .appName(\"joins\")\n",
    "         # Disable broadcast join by default\n",
    "         .config(\"spark.sql.autoBroadcastJoinThreshold\", -1)\n",
    "         .getOrCreate())\n",
    "\n",
    "with open(\"../../../config.yaml\") as f:\n",
    "    config = yaml.safe_load(f)\n",
    "    \n",
    "rescue_path = config[\"rescue_path_csv\"]\n",
    "population_path = config[\"population_path\"]\n",
    "\n",
    "rescue = spark.read.csv(rescue_path, header=True, inferSchema=True).select(\n",
    "    F.col(\"IncidentNumber\").alias(\"incident_number\"),\n",
    "    F.col(\"CalYear\").alias(\"cal_year\"),\n",
    "    F.col(\"AnimalGroupParent\").alias(\"animal_group\"),\n",
    "    F.col(\"PostcodeDistrict\").alias(\"postcode_district\"))\n",
    "\n",
    "population = spark.read.parquet(population_path)"
   ]
  },
  {
   "cell_type": "markdown",
   "metadata": {},
   "source": [
    "```r\n",
    "library(sparklyr)\n",
    "library(dplyr)\n",
    "\n",
    "joins_config <- sparklyr::spark_config()\n",
    "# Disable broadcast join by default\n",
    "joins_config$spark.sql.autoBroadcastJoinThreshold <- -1\n",
    "\n",
    "sc <- sparklyr::spark_connect(\n",
    "    master = \"local[2]\",\n",
    "    app_name = \"joins\",\n",
    "    config = joins_config)\n",
    "\n",
    "config <- yaml::yaml.load_file(\"ons-spark/config.yaml\")\n",
    "\n",
    "rescue <- sparklyr::spark_read_csv(sc, config$rescue_path_csv, header=TRUE, inferSchema=TRUE) %>%\n",
    "    sparklyr::select(incident_number = IncidentNumber,\n",
    "                     cal_year= CalYear,\n",
    "                     animal_group = AnimalGroupParent,\n",
    "                     postcode_district = PostcodeDistrict)\n",
    "\n",
    "\n",
    "population <- sparklyr::spark_read_parquet(sc, config$population_path)            \n",
    "```"
   ]
  },
  {
   "cell_type": "markdown",
   "metadata": {},
   "source": [
    "Preview both DataFrames; we can see the desired join column, `postcode_district`, is present and contains data in a standard postcode format:"
   ]
  },
  {
   "cell_type": "code",
   "execution_count": 2,
   "metadata": {},
   "outputs": [
    {
     "name": "stdout",
     "output_type": "stream",
     "text": [
      "+---------------+--------+------------+-----------------+\n",
      "|incident_number|cal_year|animal_group|postcode_district|\n",
      "+---------------+--------+------------+-----------------+\n",
      "|         139091|    2009|         Dog|             SE19|\n",
      "|         275091|    2009|         Fox|             SE25|\n",
      "|        2075091|    2009|         Dog|              SM5|\n",
      "|        2872091|    2009|       Horse|              UB9|\n",
      "|        3553091|    2009|      Rabbit|              RM3|\n",
      "+---------------+--------+------------+-----------------+\n",
      "only showing top 5 rows\n",
      "\n",
      "+-----------------+----------+\n",
      "|postcode_district|population|\n",
      "+-----------------+----------+\n",
      "|              DH7|     41076|\n",
      "|              NW3|     52376|\n",
      "|              NR4|     22331|\n",
      "|             SO31|     44742|\n",
      "|             CT18|     14357|\n",
      "+-----------------+----------+\n",
      "only showing top 5 rows\n",
      "\n"
     ]
    }
   ],
   "source": [
    "rescue.show(5)\n",
    "population.show(5)"
   ]
  },
  {
   "cell_type": "markdown",
   "metadata": {},
   "source": [
    "```r\n",
    "rescue %>%\n",
    "    head(5) %>%\n",
    "    sparklyr::collect() %>%\n",
    "    print()\n",
    "    \n",
    "population %>%\n",
    "    head(5) %>%\n",
    "    sparklyr::collect() %>%\n",
    "    print()\n",
    "```"
   ]
  },
  {
   "cell_type": "markdown",
   "metadata": {},
   "source": [
    "We can now join these on `PostcodeDistrict`, using [`.join()`](https://spark.apache.org/docs/latest/api/python/reference/api/pyspark.sql.DataFrame.join.html) with `how=\"left\"` in PySpark or [`left_join()`](https://spark.rstudio.com/packages/sparklyr/latest/reference/join.tbl_spark.html) in sparklyr, then preview:"
   ]
  },
  {
   "cell_type": "code",
   "execution_count": 3,
   "metadata": {},
   "outputs": [
    {
     "name": "stdout",
     "output_type": "stream",
     "text": [
      "+-----------------+---------------+--------+--------------------+----------+\n",
      "|postcode_district|incident_number|cal_year|        animal_group|population|\n",
      "+-----------------+---------------+--------+--------------------+----------+\n",
      "|             SE17|        6259091|    2009|Unknown - Domesti...|     32866|\n",
      "|             SE17|        6317091|    2009|                 Cat|     32866|\n",
      "|             SE17|       17297091|    2009|                 Dog|     32866|\n",
      "|             SE17|       74801101|    2010|            Squirrel|     32866|\n",
      "|             SE17|       64851111|    2011|                 Dog|     32866|\n",
      "+-----------------+---------------+--------+--------------------+----------+\n",
      "only showing top 5 rows\n",
      "\n"
     ]
    }
   ],
   "source": [
    "rescue_with_pop = (\n",
    "    rescue.join(\n",
    "        population,\n",
    "        on=\"postcode_district\",\n",
    "        how=\"left\")\n",
    ")\n",
    "\n",
    "rescue_with_pop.show(5)"
   ]
  },
  {
   "cell_type": "markdown",
   "metadata": {},
   "source": [
    "```r\n",
    "rescue_with_pop <- rescue %>%\n",
    "    sparklyr::left_join(population, by=\"postcode_district\")\n",
    "\n",
    "rescue_with_pop %>%\n",
    "    head(5) %>%\n",
    "    sparklyr::collect() %>%\n",
    "    print()\n",
    "```"
   ]
  },
  {
   "cell_type": "markdown",
   "metadata": {},
   "source": [
    "Note that the order of the DataFrame hasn't been preserved and that this preview has only given us rows with idential `PostcodeDistrict` values. This is due to two Spark concepts: lazy evaluation and the sort merge join algorithm. As the action only requires five rows to be returned, Spark can get all these from the first partition rather than having to return data from multiple partitions, ensuring that the job is completed faster. The sort merge join algorithm has sorted the DataFrame by the hashed join key, and put all these values in the first partition, and so these are the values that are returned. See the article on partitions for more information.\n",
    "\n",
    "We know the result of the join, but to see how Spark actually processed the join we need to look at the *plan*. Remember that Spark has the concept of *lazy evaluation*, in which rather than process code line-by-line like in a pandas or base R DataFrame, we instead create a *plan* which gets executed on the cluster in one go when an *action* is called. We can see this plan with `explain()`, a [DataFrame method](https://spark.apache.org/docs/latest/api/python/reference/api/pyspark.sql.DataFrame.explain.html) in PySpark and [dplyr function](https://dplyr.tidyverse.org/reference/explain.html) in sparklyr."
   ]
  },
  {
   "cell_type": "code",
   "execution_count": 4,
   "metadata": {},
   "outputs": [
    {
     "name": "stdout",
     "output_type": "stream",
     "text": [
      "== Physical Plan ==\n",
      "*(5) Project [postcode_district#65, incident_number#62, cal_year#63, animal_group#64, population#71L]\n",
      "+- SortMergeJoin [postcode_district#65], [postcode_district#70], LeftOuter\n",
      "   :- *(2) Sort [postcode_district#65 ASC NULLS FIRST], false, 0\n",
      "   :  +- Exchange hashpartitioning(postcode_district#65, 200)\n",
      "   :     +- *(1) Project [IncidentNumber#10 AS incident_number#62, CalYear#12 AS cal_year#63, AnimalGroupParent#20 AS animal_group#64, PostcodeDistrict#31 AS postcode_district#65]\n",
      "   :        +- *(1) FileScan csv [IncidentNumber#10,CalYear#12,AnimalGroupParent#20,PostcodeDistrict#31] Batched: false, Format: CSV, Location: InMemoryFileIndex[file:/home/cdsw/ons-spark/ons-spark/data/animal_rescue.csv], PartitionFilters: [], PushedFilters: [], ReadSchema: struct<IncidentNumber:string,CalYear:int,AnimalGroupParent:string,PostcodeDistrict:string>\n",
      "   +- *(4) Sort [postcode_district#70 ASC NULLS FIRST], false, 0\n",
      "      +- Exchange hashpartitioning(postcode_district#70, 200)\n",
      "         +- *(3) Project [postcode_district#70, population#71L]\n",
      "            +- *(3) Filter isnotnull(postcode_district#70)\n",
      "               +- *(3) FileScan parquet [postcode_district#70,population#71L] Batched: true, Format: Parquet, Location: InMemoryFileIndex[file:/home/cdsw/ons-spark/ons-spark/data/population.parquet], PartitionFilters: [], PushedFilters: [IsNotNull(postcode_district)], ReadSchema: struct<postcode_district:string,population:bigint>\n"
     ]
    }
   ],
   "source": [
    "rescue_with_pop.explain()"
   ]
  },
  {
   "cell_type": "markdown",
   "metadata": {},
   "source": [
    "```r\n",
    "rescue_with_pop %>% dplyr::explain()\n",
    "```"
   ]
  },
  {
   "cell_type": "markdown",
   "metadata": {},
   "source": [
    "Spark plans can be tricky to read if you're not familiar with them but we can see some key terms being used:\n",
    "- We are doing a `SortMergeJoin`, of type `LeftOuter`\n",
    "- Before that, each DataFrame is being sorted and shuffled; the name for this on the plan is an `Exchange`.\n",
    "- The data are being read with `FileScan csv` and `FileScan parquet`\n",
    "- As this was a left join, we don't need to return any values from `population` where `OutwardCode` is `null`, so Spark is filtering these out at source with `PushedFilters: [IsNotNull(OutwardCode)]`."
   ]
  },
  {
   "cell_type": "markdown",
   "metadata": {},
   "source": [
    "We can view the plan visually with the Spark UI on the SQL tab. See the Spark Application and UI article for details on how to access the Spark UI, and the Persisting article for more details on interpreting the information in the SQL tab."
   ]
  },
  {
   "cell_type": "code",
   "execution_count": 5,
   "metadata": {},
   "outputs": [
    {
     "data": {
      "text/plain": [
       "'spark-rgho0m50if2n1upk.cdswmn-d01-01.ons.statistics.gov.uk'"
      ]
     },
     "execution_count": 5,
     "metadata": {},
     "output_type": "execute_result"
    }
   ],
   "source": [
    "spark_ui_url = \"spark-%s.%s\" % (os.environ[\"CDSW_ENGINE_ID\"], os.environ[\"CDSW_DOMAIN\"])\n",
    "spark_ui_url"
   ]
  },
  {
   "cell_type": "markdown",
   "metadata": {},
   "source": [
    "```r\n",
    "spark_ui_url <- paste0(\n",
    "    \"http://\",\n",
    "    \"spark-\",\n",
    "    Sys.getenv(\"CDSW_ENGINE_ID\"),\n",
    "    \".\",\n",
    "    Sys.getenv(\"CDSW_DOMAIN\"))\n",
    "\n",
    "spark_ui_url\n",
    "```"
   ]
  },
  {
   "cell_type": "markdown",
   "metadata": {},
   "source": [
    "![Spark UI for sort merge join, showing an exchange for both DataFrames](../images/sort_merge_join_ui.png)\n",
    "\n",
    "This diagram has the same information as the `explain()`, just presented in a much nicer way. Again, we can see that there is an **Exchange** for each DataFrame, before the **SortMergeJoin**, and a **Filter** when reading the parquet.\n",
    "\n",
    "#### Understanding Sort Merge Join\n",
    "\n",
    "The sort merge join involves two **Exchanges** (also called *shuffles*), one for the sorting of each source DataFrame (see the Shuffles article for a full discussion of this topic). Spark is most powerful when it can process data in parallel (*narrow transformations*), and sorting is instead a *wide transformation*, causing a *shuffle*, meaning that a sort merge join can take significant time to process, depending on the size and composition of your data. There is a full discussion in the when to use each join method section.\n",
    "\n",
    "The sort merge join is the *default* join although not always chosen automatically; the next section on *broadcast joins* explains this further.\n",
    "\n",
    "### Broadcast Join\n",
    "\n",
    "The other common method is the broadcast join. This can be used when you are joining a small DataFrame to a large one. The smaller DataFrame is copied to every node on the cluster and then a traditional hash join is performed. This avoids the need for the sorting step that exists in the sort merge join, and therefore the expensive shuffles.\n",
    "\n",
    "Broadcast joins are suitable when you are joining a small DataFrame to a larger one. As one DataFrame is pushed to several places, this may actually be too slow or impossible if you are joining two large DataFrames.\n",
    "\n",
    "The diagram below shows how a broadcast join works visually:\n",
    "\n",
    "![Diagram showing how a broadcast join works](../images/broadcast_join.png)\n",
    "\n",
    "There are two ways to trigger a broadcast join:\n",
    "1. Use the broadcast hint: [`F.broadcast()`](https://spark.apache.org/docs/latest/api/python/reference/api/pyspark.sql.functions.broadcast.html) in PySpark or [`sdf_broadcast()`](https://spark.rstudio.com/packages/sparklyr/latest/reference/sdf_broadcast.html) in sparklyr\n",
    "2. Spark will use a broadcast join by default if the size of the DataFrame to be broadcast is known and smaller 10MB; this value can be changed with the [`spark.sql.autoBroadcastJoinThreshold`](https://spark.apache.org/docs/latest/sql-performance-tuning.html) configuration setting.\n",
    "\n",
    "#### Example: Using a Broadcast Hint \n",
    "\n",
    "We can use the same source DataFrames as the sort merge join example, `rescue` and `population`. To perform a broadcast join, we just add the broadcast join hint `F.broadcast()`/`sdf_broadcast()` around `population`."
   ]
  },
  {
   "cell_type": "code",
   "execution_count": 6,
   "metadata": {},
   "outputs": [
    {
     "name": "stdout",
     "output_type": "stream",
     "text": [
      "+-----------------+---------------+--------+------------+----------+\n",
      "|postcode_district|incident_number|cal_year|animal_group|population|\n",
      "+-----------------+---------------+--------+------------+----------+\n",
      "|             SE19|         139091|    2009|         Dog|     27639|\n",
      "|             SE25|         275091|    2009|         Fox|     34521|\n",
      "|              SM5|        2075091|    2009|         Dog|     38291|\n",
      "|              UB9|        2872091|    2009|       Horse|     14336|\n",
      "|              RM3|        3553091|    2009|      Rabbit|     40272|\n",
      "+-----------------+---------------+--------+------------+----------+\n",
      "only showing top 5 rows\n",
      "\n"
     ]
    }
   ],
   "source": [
    "rescue_with_pop_broadcast = (\n",
    "    rescue.join(\n",
    "        F.broadcast(population),\n",
    "        on=\"postcode_district\",\n",
    "        how=\"left\")\n",
    ")\n",
    "\n",
    "rescue_with_pop_broadcast.show(5)"
   ]
  },
  {
   "cell_type": "markdown",
   "metadata": {},
   "source": [
    "```r\n",
    "rescue_with_pop_broadcast <- rescue %>%\n",
    "    sparklyr::left_join(sparklyr::sdf_broadcast(population), by=\"postcode_district\")\n",
    "\n",
    "rescue_with_pop_broadcast %>%\n",
    "    head(5) %>%\n",
    "    sparklyr::collect() %>%\n",
    "    print()\n",
    "```"
   ]
  },
  {
   "cell_type": "markdown",
   "metadata": {},
   "source": [
    "Unlike the first example, the `postcode_district` values are not identical. The DataFrame has not needed to be shuffled and so the same `PostcodeDistrict` values may be on different partitions.\n",
    "\n",
    "`explain()` will confirm that a broadcast join was used:"
   ]
  },
  {
   "cell_type": "code",
   "execution_count": 7,
   "metadata": {},
   "outputs": [
    {
     "name": "stdout",
     "output_type": "stream",
     "text": [
      "== Physical Plan ==\n",
      "*(2) Project [postcode_district#65, incident_number#62, cal_year#63, animal_group#64, population#71L]\n",
      "+- *(2) BroadcastHashJoin [postcode_district#65], [postcode_district#70], LeftOuter, BuildRight\n",
      "   :- *(2) Project [IncidentNumber#10 AS incident_number#62, CalYear#12 AS cal_year#63, AnimalGroupParent#20 AS animal_group#64, PostcodeDistrict#31 AS postcode_district#65]\n",
      "   :  +- *(2) FileScan csv [IncidentNumber#10,CalYear#12,AnimalGroupParent#20,PostcodeDistrict#31] Batched: false, Format: CSV, Location: InMemoryFileIndex[file:/home/cdsw/ons-spark/ons-spark/data/animal_rescue.csv], PartitionFilters: [], PushedFilters: [], ReadSchema: struct<IncidentNumber:string,CalYear:int,AnimalGroupParent:string,PostcodeDistrict:string>\n",
      "   +- BroadcastExchange HashedRelationBroadcastMode(List(input[0, string, true]))\n",
      "      +- *(1) Project [postcode_district#70, population#71L]\n",
      "         +- *(1) Filter isnotnull(postcode_district#70)\n",
      "            +- *(1) FileScan parquet [postcode_district#70,population#71L] Batched: true, Format: Parquet, Location: InMemoryFileIndex[file:/home/cdsw/ons-spark/ons-spark/data/population.parquet], PartitionFilters: [], PushedFilters: [IsNotNull(postcode_district)], ReadSchema: struct<postcode_district:string,population:bigint>\n"
     ]
    }
   ],
   "source": [
    "rescue_with_pop_broadcast.explain()"
   ]
  },
  {
   "cell_type": "markdown",
   "metadata": {},
   "source": [
    "```r\n",
    "rescue_with_pop_broadcast %>% dplyr::explain()\n",
    "```"
   ]
  },
  {
   "cell_type": "markdown",
   "metadata": {},
   "source": [
    "We can see that we are now using a **BroadcastHashJoin**. Let's look at the UI again:"
   ]
  },
  {
   "cell_type": "code",
   "execution_count": 8,
   "metadata": {},
   "outputs": [
    {
     "data": {
      "text/plain": [
       "'spark-eejet47wnollgkuz.cdswmn-d01-01.ons.statistics.gov.uk'"
      ]
     },
     "execution_count": 8,
     "metadata": {},
     "output_type": "execute_result"
    }
   ],
   "source": [
    "spark_ui_url"
   ]
  },
  {
   "cell_type": "markdown",
   "metadata": {},
   "source": [
    "```r\n",
    "spark_ui_url\n",
    "```"
   ]
  },
  {
   "cell_type": "markdown",
   "metadata": {},
   "source": [
    "![Spark UI for broadcast join, showing a broadcast exchange](../images/broadcast_join_ui.png)\n",
    "\n",
    "The difference from the sort merge join example is that rather than two shuffles, there is a **BroadcastExchange** then a **BroadcastHashJoin**. If the second DataFrame is small, pushing it to executors should take less time than the two full shuffles which occur in the sort merge join example.\n",
    "\n",
    "#### Example: Automatic Broadcasting\n",
    "\n",
    "In addition to broadcasting explicitly with the hint, Spark will use a broadcast join automatically if the size of the smaller DataFrame is known and below 10MB.\n",
    "\n",
    "You can change this value with the `spark.sql.autoBroadcastJoinThreshold` configuration setting. This has to be a `long` DataType, so 10MB is equal to $10\\times1024^2$. Automatic broadcasting can be turned off by setting it to `-1`, as we did in the previous example.\n",
    "\n",
    "As we already have a Spark session running, we need to close this down and create another, ensuring that a new value for `spark.sql.autoBroadcastJoinThreshold` is defined. Be careful when closing and starting Spark sessions, as previous configuration settings will be used unless specifically overwritten."
   ]
  },
  {
   "cell_type": "code",
   "execution_count": 9,
   "metadata": {},
   "outputs": [],
   "source": [
    "spark.stop()\n",
    "\n",
    "spark = (SparkSession.builder.master(\"local[2]\")\n",
    "         .appName(\"joins\")\n",
    "          # Automatically broadcast DataFrames less than 10MB\n",
    "          .config(\"spark.sql.autoBroadcastJoinThreshold\", 10 * 1024**2)\n",
    "          .getOrCreate()\n",
    ")"
   ]
  },
  {
   "cell_type": "markdown",
   "metadata": {},
   "source": [
    "```r\n",
    "sparklyr::spark_disconnect(sc)\n",
    "\n",
    "joins_config <- sparklyr::spark_config()\n",
    "# Automatically broadcast DataFrames less than 10MB\n",
    "joins_config$spark.sql.autoBroadcastJoinThreshold <- 10 * 1024**2\n",
    "\n",
    "sc <- sparklyr::spark_connect(\n",
    "    master = \"local[2]\",\n",
    "    app_name = \"joins\",\n",
    "    config = joins_config)\n",
    "```"
   ]
  },
  {
   "cell_type": "markdown",
   "metadata": {},
   "source": [
    "As this is a new Spark session our old DataFrames no longer exist, so we need to create them again:"
   ]
  },
  {
   "cell_type": "code",
   "execution_count": 10,
   "metadata": {},
   "outputs": [],
   "source": [
    "rescue = spark.read.csv(rescue_path, header=True, inferSchema=True).select(\n",
    "    F.col(\"IncidentNumber\").alias(\"incident_number\"),\n",
    "    F.col(\"CalYear\").alias(\"cal_year\"),\n",
    "    F.col(\"AnimalGroupParent\").alias(\"animal_group\"),\n",
    "    F.col(\"PostcodeDistrict\").alias(\"postcode_district\"),\n",
    "    F.col(\"OriginofCall\").alias(\"origin_of_call\"))\n",
    "\n",
    "population = spark.read.parquet(population_path)"
   ]
  },
  {
   "cell_type": "markdown",
   "metadata": {},
   "source": [
    "```r\n",
    "rescue <- sparklyr::spark_read_csv(sc, config$rescue_path_csv, header=TRUE, inferSchema=TRUE) %>%\n",
    "    sparklyr::select(incident_number = IncidentNumber,\n",
    "                     cal_year= CalYear,\n",
    "                     animal_group = AnimalGroupParent,\n",
    "                     postcode_district = PostcodeDistrict,\n",
    "                     origin_of_call = OriginofCall)\n",
    "\n",
    "population <- sparklyr::spark_read_parquet(sc, config$population_path)\n",
    "```"
   ]
  },
  {
   "cell_type": "markdown",
   "metadata": {},
   "source": [
    "Now try the join. Note that this is identical code to in the sort merge join example, but it will be automatically broadcast as the second DataFrame is below 10MB."
   ]
  },
  {
   "cell_type": "code",
   "execution_count": 11,
   "metadata": {},
   "outputs": [
    {
     "name": "stdout",
     "output_type": "stream",
     "text": [
      "+-----------------+---------------+--------+------------+------------------+----------+\n",
      "|postcode_district|incident_number|cal_year|animal_group|    origin_of_call|population|\n",
      "+-----------------+---------------+--------+------------+------------------+----------+\n",
      "|             SE19|         139091|    2009|         Dog|Person (land line)|     27639|\n",
      "|             SE25|         275091|    2009|         Fox|Person (land line)|     34521|\n",
      "|              SM5|        2075091|    2009|         Dog|   Person (mobile)|     38291|\n",
      "|              UB9|        2872091|    2009|       Horse|   Person (mobile)|     14336|\n",
      "|              RM3|        3553091|    2009|      Rabbit|   Person (mobile)|     40272|\n",
      "+-----------------+---------------+--------+------------+------------------+----------+\n",
      "only showing top 5 rows\n",
      "\n"
     ]
    }
   ],
   "source": [
    "rescue_with_pop_auto_broadcast = (\n",
    "    rescue.join(\n",
    "        population,\n",
    "        on=\"postcode_district\",\n",
    "        how=\"left\")\n",
    ")\n",
    "\n",
    "rescue_with_pop_auto_broadcast.show(5)"
   ]
  },
  {
   "cell_type": "markdown",
   "metadata": {},
   "source": [
    "```r\n",
    "rescue_with_pop_auto_broadcast<- rescue %>%\n",
    "    sparklyr::left_join(population, by=\"postcode_district\")\n",
    "\n",
    "rescue_with_pop_auto_broadcast %>%\n",
    "    head(5) %>%\n",
    "    sparklyr::collect() %>%\n",
    "    print()\n",
    "```"
   ]
  },
  {
   "cell_type": "markdown",
   "metadata": {},
   "source": [
    "This can be confirmed with `explain()`:"
   ]
  },
  {
   "cell_type": "code",
   "execution_count": 12,
   "metadata": {},
   "outputs": [
    {
     "name": "stdout",
     "output_type": "stream",
     "text": [
      "== Physical Plan ==\n",
      "*(2) Project [postcode_district#213, incident_number#210, cal_year#211, animal_group#212, origin_of_call#214, population#221L]\n",
      "+- *(2) BroadcastHashJoin [postcode_district#213], [postcode_district#220], LeftOuter, BuildRight\n",
      "   :- *(2) Project [IncidentNumber#158 AS incident_number#210, CalYear#160 AS cal_year#211, AnimalGroupParent#168 AS animal_group#212, PostcodeDistrict#179 AS postcode_district#213, OriginofCall#169 AS origin_of_call#214]\n",
      "   :  +- *(2) FileScan csv [IncidentNumber#158,CalYear#160,AnimalGroupParent#168,OriginofCall#169,PostcodeDistrict#179] Batched: false, Format: CSV, Location: InMemoryFileIndex[file:/home/cdsw/ons-spark/ons-spark/data/animal_rescue.csv], PartitionFilters: [], PushedFilters: [], ReadSchema: struct<IncidentNumber:string,CalYear:int,AnimalGroupParent:string,OriginofCall:string,PostcodeDis...\n",
      "   +- BroadcastExchange HashedRelationBroadcastMode(List(input[0, string, true]))\n",
      "      +- *(1) Project [postcode_district#220, population#221L]\n",
      "         +- *(1) Filter isnotnull(postcode_district#220)\n",
      "            +- *(1) FileScan parquet [postcode_district#220,population#221L] Batched: true, Format: Parquet, Location: InMemoryFileIndex[file:/home/cdsw/ons-spark/ons-spark/data/population.parquet], PartitionFilters: [], PushedFilters: [IsNotNull(postcode_district)], ReadSchema: struct<postcode_district:string,population:bigint>\n"
     ]
    }
   ],
   "source": [
    "rescue_with_pop_auto_broadcast.explain()"
   ]
  },
  {
   "cell_type": "markdown",
   "metadata": {},
   "source": [
    "```r\n",
    "rescue_with_pop_auto_broadcast %>% dplyr::explain()\n",
    "```"
   ]
  },
  {
   "cell_type": "markdown",
   "metadata": {},
   "source": [
    "Both ways of broadcasting give the same result. You can leave it to Spark to decide, or if you want more control over how you DataFrames are joined, turn off automatic broadcasting by setting `spark.sql.autoBroadcastJoinThreshold` to `-1`.\n",
    "\n",
    "Note that Spark will not always be able to determine the size of the data in which case it will default to a sort merge join, even when this would be significantly less efficient. Spark does have some non-instinctive behaviour when it comes to automatic broadcasting; generally, if the raw file is less than 10MB it will be broadcast regardless of file type. Large parquet files which are filtered or grouped to reduce the size should be broadcast but the same is not true of CSVs. If unsure, use `explain()` to check or manually broadcast with the broadcast hint.\n",
    "\n",
    "### Replacing a join with a narrow transformation\n",
    "\n",
    "If your second DataFrame is tiny, you could potentially even not do a join at all, and replace it with a series of [`F.when()`](https://spark.apache.org/docs/latest/api/python/reference/api/pyspark.sql.functions.when.html) statements in PySpark or [`case_when()`](https://dplyr.tidyverse.org/reference/case_when.html) in sparklyr. These will be processed as a *narrow transformation* in parallel rather than a *wide transformation*, meaning that it should be quicker than joining using the usual methods.\n",
    "\n",
    "The following diagram from the  shows how this works visually; the `F.when()`/`case_when()` method is a narrow *narrow transformation* is within the same stage, rather than a *wide transformation* between stages:\n",
    "\n",
    "![Diagram showing wide and narrow transformations](../images/application_and_ui.png)\n",
    "\n",
    "#### Example: Narrow Transformations\n",
    "\n",
    "The rescue data has a column, `origin_of_call`, which contains information about who reported the incident."
   ]
  },
  {
   "cell_type": "code",
   "execution_count": 13,
   "metadata": {},
   "outputs": [
    {
     "name": "stdout",
     "output_type": "stream",
     "text": [
      "+---------------------+\n",
      "|origin_of_call       |\n",
      "+---------------------+\n",
      "|Coastguard           |\n",
      "|Person (mobile)      |\n",
      "|Person (land line)   |\n",
      "|Other FRS            |\n",
      "|Not known            |\n",
      "|Police               |\n",
      "|Person (running call)|\n",
      "|Ambulance            |\n",
      "+---------------------+\n",
      "\n"
     ]
    }
   ],
   "source": [
    "rescue.select(\"origin_of_call\").distinct().show(truncate=False)"
   ]
  },
  {
   "cell_type": "markdown",
   "metadata": {},
   "source": [
    "```r\n",
    "rescue %>% \n",
    "    sparklyr::select(origin_of_call) %>%\n",
    "    sparklyr::sdf_distinct() %>%\n",
    "    sparklyr::collect() %>%\n",
    "    print()\n",
    "```"
   ]
  },
  {
   "cell_type": "markdown",
   "metadata": {},
   "source": [
    "Let's categorise these into `Emergency Services` and `Member of Public`; there is also a `Not known` value which can be mapped to `null`:"
   ]
  },
  {
   "cell_type": "code",
   "execution_count": 14,
   "metadata": {},
   "outputs": [
    {
     "name": "stdout",
     "output_type": "stream",
     "text": [
      "+---------------------+------------------+\n",
      "|origin_of_call       |origin_type       |\n",
      "+---------------------+------------------+\n",
      "|Coastguard           |Emergency Services|\n",
      "|Police               |Emergency Services|\n",
      "|Ambulance            |Emergency Services|\n",
      "|Other FRS            |Emergency Services|\n",
      "|Person (mobile)      |Member of Public  |\n",
      "|Person (land line)   |Member of Public  |\n",
      "|Person (running call)|Member of Public  |\n",
      "|Not known            |null              |\n",
      "+---------------------+------------------+\n",
      "\n"
     ]
    }
   ],
   "source": [
    "call_origin = spark.createDataFrame([\n",
    "    [\"Coastguard\", \"Emergency Services\"],\n",
    "    [\"Police\", \"Emergency Services\"],\n",
    "    [\"Ambulance\", \"Emergency Services\"],\n",
    "    [\"Other FRS\", \"Emergency Services\"], #Other fire and rescue services\n",
    "    [\"Person (mobile)\", \"Member of Public\"],\n",
    "    [\"Person (land line)\", \"Member of Public\"],\n",
    "    [\"Person (running call)\", \"Member of Public\"],\n",
    "    [\"Not known\", None],],\n",
    "    [\"origin_of_call\", \"origin_type\"])\n",
    "\n",
    "call_origin.show(truncate=False)"
   ]
  },
  {
   "cell_type": "markdown",
   "metadata": {},
   "source": [
    "```r\n",
    "call_origin <- sparklyr::sdf_copy_to(sc, data.frame(\n",
    "    \"origin_of_call\" = c(\"Coastguard\", \"Police\", \"Ambulance\", \"Other FRS\",\n",
    "                         \"Person (mobile)\", \"Person (land line)\", \"Person (running call)\",\n",
    "                         \"Not known\"),\n",
    "    \"origin_type\" = c(rep(c(\"Emergency Services\"), 4),\n",
    "                      rep(c(\"Member of Public\"), 3),\n",
    "                      NA)))\n",
    "\n",
    "call_origin %>%\n",
    "    sparklyr::collect() %>%\n",
    "    print()\n",
    "```"
   ]
  },
  {
   "cell_type": "markdown",
   "metadata": {},
   "source": [
    "We can do a left join, as we have done previously. As the DataFrame is small, we will ensure it is broadcast with the broadcast hint:"
   ]
  },
  {
   "cell_type": "code",
   "execution_count": 15,
   "metadata": {},
   "outputs": [
    {
     "name": "stdout",
     "output_type": "stream",
     "text": [
      "+------------------+----------------+--------+--------------------------------+-----------------+------------------+\n",
      "|origin_of_call    |incident_number |cal_year|animal_group                    |postcode_district|origin_type       |\n",
      "+------------------+----------------+--------+--------------------------------+-----------------+------------------+\n",
      "|Other FRS         |000014-03092018M|2018    |Unknown - Heavy Livestock Animal|CR8              |Emergency Services|\n",
      "|Person (mobile)   |000099-01012017 |2017    |Dog                             |BR2              |Member of Public  |\n",
      "|Person (land line)|000260-01012017 |2017    |Bird                            |CR0              |Member of Public  |\n",
      "|Person (mobile)   |000375-01012017 |2017    |Dog                             |TW8              |Member of Public  |\n",
      "|Person (mobile)   |000477-01012017 |2017    |Deer                            |HA7              |Member of Public  |\n",
      "+------------------+----------------+--------+--------------------------------+-----------------+------------------+\n",
      "only showing top 5 rows\n",
      "\n"
     ]
    }
   ],
   "source": [
    "rescue_with_origin = rescue.join(F.broadcast(call_origin), on=\"origin_of_call\", how=\"left\")\n",
    "\n",
    "rescue_with_origin.orderBy(\"incident_number\").show(5, truncate=False)"
   ]
  },
  {
   "cell_type": "markdown",
   "metadata": {},
   "source": [
    "```r\n",
    "rescue_with_origin <- rescue %>%\n",
    "    sparklyr::left_join(sparklyr::sdf_broadcast(call_origin), by=\"origin_of_call\")\n",
    "\n",
    "rescue_with_origin %>%\n",
    "    dplyr::arrange(incident_number) %>%\n",
    "    head(5) %>%\n",
    "    sparklyr::collect() %>%\n",
    "    print()\n",
    "```"
   ]
  },
  {
   "cell_type": "markdown",
   "metadata": {},
   "source": [
    "An alternative to a join here is using chained `F.when()` statements in PySpark or `case_when` inside `mutate` in sparklyr.\n",
    "\n",
    "The three `origin_of_call` which map to `Member of Public` all begin with `Person`. We can take the first six characters with `substr()` (a [column method](https://spark.apache.org/docs/latest/api/python/reference/api/pyspark.sql.Column.substr.html) in PySpark and a [Spark SQL function](https://spark.apache.org/docs/latest/api/sql/index.html#substr) in sparklyr), and if this equals `Person` we know that this is `Member of Public`.\n",
    "\n",
    "We can put the values which map to `Emergency Services` in an [`.isin()`](https://spark.apache.org/docs/latest/api/python/reference/api/pyspark.sql.Column.isin.html) (PySpark) or `%in%` (sparklyr) statement.\n",
    "\n",
    "For `Not known`, a simple equality statement can be used.\n",
    "\n",
    "Finally, any values not matching any of these criteria can be mapped to `null` with [`F.otherwise()`](https://spark.apache.org/docs/latest/api/python/reference/api/pyspark.sql.functions.otherwise.html) (PySpark) or `TRUE ~ NA` (sparklyr), although no values will match this criteria in our example. Note that this is the default value and could be omitted, but it's better to be explicit where we can."
   ]
  },
  {
   "cell_type": "code",
   "execution_count": 16,
   "metadata": {},
   "outputs": [
    {
     "name": "stdout",
     "output_type": "stream",
     "text": [
      "+----------------+--------+--------------------------------+-----------------+------------------+------------------+\n",
      "|incident_number |cal_year|animal_group                    |postcode_district|origin_of_call    |origin_type       |\n",
      "+----------------+--------+--------------------------------+-----------------+------------------+------------------+\n",
      "|000014-03092018M|2018    |Unknown - Heavy Livestock Animal|CR8              |Other FRS         |Emergency Services|\n",
      "|000099-01012017 |2017    |Dog                             |BR2              |Person (mobile)   |Member of Public  |\n",
      "|000260-01012017 |2017    |Bird                            |CR0              |Person (land line)|Member of Public  |\n",
      "|000375-01012017 |2017    |Dog                             |TW8              |Person (mobile)   |Member of Public  |\n",
      "|000477-01012017 |2017    |Deer                            |HA7              |Person (mobile)   |Member of Public  |\n",
      "+----------------+--------+--------------------------------+-----------------+------------------+------------------+\n",
      "only showing top 5 rows\n",
      "\n"
     ]
    }
   ],
   "source": [
    "rescue_with_origin_when = rescue.withColumn(\"origin_type\",\n",
    "                  F.when(F.col(\"origin_of_call\").substr(1, 6) == \"Person\", \"Member of Public\")\n",
    "                   .when(F.col(\"origin_of_call\").isin(\n",
    "                       \"Coastguard\", \"Police\", \"Ambulance\", \"Other FRS\"), \"Emergency Services\")\n",
    "                   .when(F.col(\"origin_of_call\") == \"Not known\", None)\n",
    "                   .otherwise(None))\n",
    "\n",
    "rescue_with_origin_when.orderBy(\"incident_number\").show(5, truncate=False)"
   ]
  },
  {
   "cell_type": "markdown",
   "metadata": {},
   "source": [
    "```r\n",
    "rescue_with_origin_when <- rescue %>%\n",
    "    sparklyr::mutate(origin_type = case_when(\n",
    "        substr(origin_of_call, 1, 6) == \"Person\" ~ \"Member of Public\",\n",
    "        origin_of_call %in% c(\"Coastguard\", \"Police\", \"Ambulance\", \"Other FRS\") ~ \"Emergency Services\",\n",
    "        origin_of_call == \"Not known\" ~ NA,\n",
    "        TRUE ~ NA))\n",
    "\n",
    "rescue_with_origin_when %>%\n",
    "    dplyr::arrange(incident_number) %>%\n",
    "    head(5) %>%\n",
    "    sparklyr::collect() %>%\n",
    "    print()\n",
    "```"
   ]
  },
  {
   "cell_type": "code",
   "execution_count": 17,
   "metadata": {},
   "outputs": [
    {
     "name": "stdout",
     "output_type": "stream",
     "text": [
      "== Physical Plan ==\n",
      "*(1) Project [IncidentNumber#158 AS incident_number#210, CalYear#160 AS cal_year#211, AnimalGroupParent#168 AS animal_group#212, PostcodeDistrict#179 AS postcode_district#213, OriginofCall#169 AS origin_of_call#214, CASE WHEN (substring(OriginofCall#169, 1, 6) = Person) THEN Member of Public WHEN OriginofCall#169 IN (Coastguard,Police,Ambulance,Other FRS) THEN Emergency Services WHEN (OriginofCall#169 = Not known) THEN null ELSE null END AS origin_type#301]\n",
      "+- *(1) FileScan csv [IncidentNumber#158,CalYear#160,AnimalGroupParent#168,OriginofCall#169,PostcodeDistrict#179] Batched: false, Format: CSV, Location: InMemoryFileIndex[file:/home/cdsw/ons-spark/ons-spark/data/animal_rescue.csv], PartitionFilters: [], PushedFilters: [], ReadSchema: struct<IncidentNumber:string,CalYear:int,AnimalGroupParent:string,OriginofCall:string,PostcodeDis...\n"
     ]
    }
   ],
   "source": [
    "rescue_with_origin_when.explain()"
   ]
  },
  {
   "cell_type": "markdown",
   "metadata": {},
   "source": [
    "```r\n",
    "rescue_with_origin_when %>% dplyr::explain()\n",
    "```"
   ]
  },
  {
   "cell_type": "markdown",
   "metadata": {},
   "source": [
    "The plan here confirms that no join is taking place; instead, the conditional statements are interpreted as an SQL style `CASE WHEN` statement. There are only narrow transformations, meaning that the data can stay within the partitions and no shuffle is needed and therefore should be more efficient than a join.\n",
    "\n",
    "This can be confirmed by looking at the Spark UI:"
   ]
  },
  {
   "cell_type": "code",
   "execution_count": 18,
   "metadata": {},
   "outputs": [
    {
     "data": {
      "text/plain": [
       "'spark-eejet47wnollgkuz.cdswmn-d01-01.ons.statistics.gov.uk'"
      ]
     },
     "execution_count": 18,
     "metadata": {},
     "output_type": "execute_result"
    }
   ],
   "source": [
    "spark_ui_url"
   ]
  },
  {
   "cell_type": "markdown",
   "metadata": {},
   "source": [
    "```r\n",
    "spark_ui_url\n",
    "```"
   ]
  },
  {
   "cell_type": "markdown",
   "metadata": {},
   "source": [
    "![Spark UI for replacing joins with a narrow transformation, showing no exchanges](../images/when_ui.png)\n",
    "\n",
    "This plan is far simpler than the other two we saw.\n",
    "\n",
    "Although it may be tempting to use this method be careful. It is trickier to code and harder to read than a conventional join and also will not work if the source data changes, so if a new value appeared in `origin_of_call` (e.g. the RSPCA or the army, which may want a different `origin_type`) we would have to change the actual code rather than adding new lines to a reference file.\n",
    "\n",
    "In production code, it is best practice to use unit tests. These are very important when making efficiency improvements, since it is important that any changes do not affect the functionality of the code. See the article on Unit Testing for more details.\n",
    "\n",
    "### When to use each method\n",
    "\n",
    "We have seen examples of three ways of joining data:\n",
    "- Sort Merge Join\n",
    "- Broadcast Join\n",
    "- Replacing joins with a narrow transformation\n",
    "\n",
    "When should each be used?\n",
    "\n",
    "First of all, it is most important that your code works. Optimising your code prematurely can lead to errors, so it is often best to not concern yourself with the detail initially and let Spark make the decision.\n",
    "\n",
    "Once your code is working, the main question to answer is *is the second DataFrame small enough to be broadcast effectively?* If so, then a broadcast join is the best option. If not, use a sort merge join.\n",
    "\n",
    "Another question to answer is *should I turn the automatic broadcasting on or off*? Automatic broadcasting is useful if you're unsure as Spark will decide for you. It is also good for future-proofing if your source data grows in size, since it will automatically change to a sort merge join once it goes over the threshold; often large datasets started out as a small ones! However, only DataFrames which Spark can calculate the size of will be automatically broadcast; if not, a sort merge join will be used, even if the second DataFrame is tiny. If you're using automatic broadcasting, check the Spark UI or use `explain()` to verify the type of join.\n",
    "\n",
    "Some users prefer to have complete control, by setting `spark.sql.autoBroadcastJoinThreshold` to `-1` and using the broadcast hints (`F.broadcast()`/`sdf_broadcast`). Be careful not to broadcast a DataFrame which grows in size over time if you choose to do this.\n",
    "\n",
    "You can change the value of `spark.sql.autoBroadcastJoinThreshold`, which may be useful for those using either very small or very large Spark sessions.\n",
    "\n",
    "The narrow transformation method was shown mainly to demonstrate that you can replace a join with a narrow transformation in certain circumstances. In practice, as such DataFrames will be tiny they can be broadcast anyway so it is not recommended. Only use this if your source data will never change, and be careful to extensively test and comment your code.\n",
    "\n",
    "The analysis above assumes that the join keys in the DataFrames are roughly equally partitioned. If your DataFrame is skewed so that some partitions contain significantly more data than others, then the efficiency of the join could be affected. See the article on partitions for more detail. The solution here is to use a *salted join*.\n",
    "\n",
    "### Salted Joins\n",
    "\n",
    "A sort merge join will move all the data with the same join keys to the same partition, which can lead to skew in the DataFrame and cause the join to process inefficiently, or not at all in some cases. This can be resolved with a *salted join*: splitting the join keys, so that the DataFrame is distributed into more equal partition sizes. See the article on salted joins for more information.\n",
    "\n",
    "### Further Resources\n",
    "\n",
    "PySpark Documentation:\n",
    "- [`.join()`](https://spark.apache.org/docs/latest/api/python/reference/api/pyspark.sql.DataFrame.join.html)\n",
    "- [`.explain()`](https://spark.apache.org/docs/latest/api/python/reference/api/pyspark.sql.DataFrame.explain.html)\n",
    "- [`F.broadcast()`](https://spark.apache.org/docs/latest/api/python/reference/api/pyspark.sql.functions.broadcast.html)\n",
    "- [`F.when()`](https://spark.apache.org/docs/latest/api/python/reference/api/pyspark.sql.functions.when.html)\n",
    "- [`F.otherwise()`](https://spark.apache.org/docs/latest/api/python/reference/api/pyspark.sql.functions.otherwise.html)\n",
    "- [`substr()`](https://spark.apache.org/docs/latest/api/python/reference/api/pyspark.sql.Column.substr.html) \n",
    "- [`.isin()`](https://spark.apache.org/docs/latest/api/python/reference/api/pyspark.sql.Column.isin.html) \n",
    "\n",
    "sparklyr Documentation:\n",
    "- [`left_join()`](https://spark.rstudio.com/packages/sparklyr/latest/reference/join.tbl_spark.html)\n",
    "- [`explain()`](https://dplyr.tidyverse.org/reference/explain.html)\n",
    "- [`sdf_broadcast()`](https://spark.rstudio.com/packages/sparklyr/latest/reference/sdf_broadcast.html)\n",
    "- [`case_when()`](https://dplyr.tidyverse.org/reference/case_when.html)\n",
    "\n",
    "Spark documentation:\n",
    "- [Performance tuning](https://spark.apache.org/docs/latest/sql-performance-tuning.html): details of `spark.sql.autoBroadcastJoinThreshold`\n",
    "- [`substr`](https://spark.apache.org/docs/latest/api/sql/index.html#substr)\n",
    "\n",
    "Spark in ONS material:\n",
    "- Shuffles\n",
    "- Spark Application and UI\n",
    "- Persisting\n",
    "- Partitions\n",
    "- Salted Joins\n",
    "- Spark configuration hierarchy\n",
    "- Unit testing in Spark\n",
    "\n",
    "Other links:\n",
    "- [DataBricks Transformations definition](https://databricks.com/glossary/what-are-transformations)"
   ]
  }
 ],
 "metadata": {
  "kernelspec": {
   "display_name": "Python 3",
   "language": "python",
   "name": "python3"
  },
  "language_info": {
   "codemirror_mode": {
    "name": "ipython",
    "version": 3
   },
   "file_extension": ".py",
   "mimetype": "text/x-python",
   "name": "python",
   "nbconvert_exporter": "python",
   "pygments_lexer": "ipython3",
   "version": "3.6.8"
  }
 },
 "nbformat": 4,
 "nbformat_minor": 2
}
