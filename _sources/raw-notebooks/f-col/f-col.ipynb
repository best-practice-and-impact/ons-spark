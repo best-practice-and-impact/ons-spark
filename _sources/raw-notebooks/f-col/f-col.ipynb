{
 "cells": [
  {
   "cell_type": "markdown",
   "metadata": {},
   "source": [
    "## Reference columns by name: `F.col()`\n",
    "\n",
    "There are several different ways to reference columns in a PySpark DataFrame `df`, e.g. in a [`.filter()`](https://spark.apache.org/docs/latest/api/python/reference/api/pyspark.sql.DataFrame.filter.html) operation:\n",
    "- `df.filter(F.col(\"column_name\") == value)`: references column by name; the recommended method, used throughout this book\n",
    "- `df.filter(df.column_name == value)`: references column directly from the DF\n",
    "- `df.flter(df[\"column_name\"] == value)`: pandas style, less commonly used in PySpark\n",
    "\n",
    "The preferred method is using [`F.col()`](https://spark.apache.org/docs/latest/api/python/reference/api/pyspark.sql.functions.col.html) from the `pyspark.sql.functions` module and is used throughout this book. Although all three methods above will work in some circumstances, only `F.col()` will always have the desired outcome. This is because it references the column by *name* rather than directly from the DF, which means columns not yet assigned to the DF can be used, e.g. when chaining several operations on the same DF together.\n",
    "\n",
    "There are several cases where `F.col()` will work but one of the other methods may not:\n",
    "- [Filter the DataFrame when reading in](f-col:example-1)\n",
    "- [Filter on a new column](f-col:example-2)\n",
    "- [Ensuring you are using the latest values](f-col:example-3)\n",
    "- [Columns with special characters or spaces](f-col:example-4)"
   ]
  },
  {
   "cell_type": "markdown",
   "metadata": {},
   "source": [
    "(f-col:example-1)=\n",
    "### Example 1: Filter the DataFrame when reading in\n",
    "\n",
    "First, import the modules and create a Spark session:"
   ]
  },
  {
   "cell_type": "code",
   "execution_count": 1,
   "metadata": {},
   "outputs": [],
   "source": [
    "import yaml\n",
    "from pyspark.sql import SparkSession, functions as F\n",
    "\n",
    "spark = SparkSession.builder.master(\"local[2]\").appName(\"f-col\").getOrCreate()\n",
    "\n",
    "with open(\"../../../config.yaml\") as f:\n",
    "    config = yaml.safe_load(f)\n",
    "    \n",
    "rescue_path = config[\"rescue_path\"]\n",
    "rescue_path_csv = config[\"rescue_path_csv\"]"
   ]
  },
  {
   "cell_type": "markdown",
   "metadata": {},
   "source": [
    "We can filter on columns when reading in the DataFrame. For instance to only read `\"Cat\"` from the animal rescue data:"
   ]
  },
  {
   "cell_type": "code",
   "execution_count": 2,
   "metadata": {},
   "outputs": [
    {
     "name": "stdout",
     "output_type": "stream",
     "text": [
      "+---------------+------------+\n",
      "|incident_number|animal_group|\n",
      "+---------------+------------+\n",
      "|       80771131|         Cat|\n",
      "|       43051141|         Cat|\n",
      "|126246-03092018|         Cat|\n",
      "|       17398141|         Cat|\n",
      "|129971-26092017|         Cat|\n",
      "+---------------+------------+\n",
      "only showing top 5 rows\n",
      "\n"
     ]
    }
   ],
   "source": [
    "cats = spark.read.parquet(rescue_path).filter(F.col(\"animal_group\") == \"Cat\")\n",
    "cats.select(\"incident_number\", \"animal_group\").show(5)"
   ]
  },
  {
   "cell_type": "markdown",
   "metadata": {},
   "source": [
    "This cannot be done using `cats.animal_group` as we have not defined `cats` when referencing the DataFrame. To use the other notation we need to define `rescue` then filter on `cats.animal_group`:"
   ]
  },
  {
   "cell_type": "code",
   "execution_count": 3,
   "metadata": {},
   "outputs": [
    {
     "name": "stdout",
     "output_type": "stream",
     "text": [
      "+---------------+------------+\n",
      "|incident_number|animal_group|\n",
      "+---------------+------------+\n",
      "|       80771131|         Cat|\n",
      "|       43051141|         Cat|\n",
      "|126246-03092018|         Cat|\n",
      "|       17398141|         Cat|\n",
      "|129971-26092017|         Cat|\n",
      "+---------------+------------+\n",
      "only showing top 5 rows\n",
      "\n"
     ]
    }
   ],
   "source": [
    "rescue = spark.read.parquet(rescue_path)\n",
    "cats.filter(cats.animal_group == \"Cat\").select(\"incident_number\", \"animal_group\").show(5)"
   ]
  },
  {
   "cell_type": "markdown",
   "metadata": {},
   "source": [
    "(f-col:example-2)=\n",
    "### Example 2: Filter on a new column\n",
    "\n",
    "Read in the animal rescue data:"
   ]
  },
  {
   "cell_type": "code",
   "execution_count": 4,
   "metadata": {},
   "outputs": [],
   "source": [
    "rescue = spark.read.parquet(rescue_path).select(\"incident_number\", \"animal_group\")"
   ]
  },
  {
   "cell_type": "markdown",
   "metadata": {},
   "source": [
    "Create a new column, `animal_group_upper`, which consists of the `animal_group` in uppercase.\n",
    "\n",
    "If we try and immediately filter on this column using `rescue.animal_group_upper`, it will not work. This is because we have yet to define the column in `rescue`. Error handling is being used here; for more information see the article on [Handling Errors in PySpark](../testing-debugging/handling-errors-pyspark)."
   ]
  },
  {
   "cell_type": "code",
   "execution_count": 5,
   "metadata": {},
   "outputs": [
    {
     "name": "stdout",
     "output_type": "stream",
     "text": [
      "'DataFrame' object has no attribute 'animal_group_upper'\n"
     ]
    }
   ],
   "source": [
    "try:\n",
    "    (rescue\n",
    "     .withColumn(\"animal_group_upper\", F.upper(rescue.animal_group))\n",
    "     .filter(rescue.animal_group_upper == \"CAT\")\n",
    "     .show(5))\n",
    "except AttributeError as e:\n",
    "    print(e)"
   ]
  },
  {
   "cell_type": "markdown",
   "metadata": {},
   "source": [
    "We could split this statement up over two different lines:"
   ]
  },
  {
   "cell_type": "code",
   "execution_count": 6,
   "metadata": {},
   "outputs": [
    {
     "name": "stdout",
     "output_type": "stream",
     "text": [
      "+---------------+------------+------------------+\n",
      "|incident_number|animal_group|animal_group_upper|\n",
      "+---------------+------------+------------------+\n",
      "|       80771131|         Cat|               CAT|\n",
      "|       43051141|         Cat|               CAT|\n",
      "|126246-03092018|         Cat|               CAT|\n",
      "|       17398141|         Cat|               CAT|\n",
      "|129971-26092017|         Cat|               CAT|\n",
      "+---------------+------------+------------------+\n",
      "only showing top 5 rows\n",
      "\n"
     ]
    }
   ],
   "source": [
    "rescue_upper = rescue.withColumn(\"animal_group_upper\", F.upper(rescue.animal_group))\n",
    "rescue_upper.filter(rescue_upper.animal_group_upper == \"CAT\").show(5)"
   ]
  },
  {
   "cell_type": "markdown",
   "metadata": {},
   "source": [
    "Using `F.col()` is instead is much neater:"
   ]
  },
  {
   "cell_type": "code",
   "execution_count": 7,
   "metadata": {},
   "outputs": [
    {
     "name": "stdout",
     "output_type": "stream",
     "text": [
      "+---------------+------------+------------------+\n",
      "|incident_number|animal_group|animal_group_upper|\n",
      "+---------------+------------+------------------+\n",
      "|       80771131|         Cat|               CAT|\n",
      "|       43051141|         Cat|               CAT|\n",
      "|126246-03092018|         Cat|               CAT|\n",
      "|       17398141|         Cat|               CAT|\n",
      "|129971-26092017|         Cat|               CAT|\n",
      "+---------------+------------+------------------+\n",
      "only showing top 5 rows\n",
      "\n"
     ]
    }
   ],
   "source": [
    "(rescue\n",
    "    .withColumn(\"animal_group_upper\", F.upper(F.col(\"animal_group\")))\n",
    "    .filter(F.col(\"animal_group_upper\") == \"CAT\")\n",
    "    .show(5))"
   ]
  },
  {
   "cell_type": "markdown",
   "metadata": {},
   "source": [
    "(f-col:example-3)=\n",
    "### Example 3: Ensuring you are using the latest values\n",
    "\n",
    "Using `df.column_name` can also result in bugs when you think you are referencing the latest values, but are actually using the original ones. Here, the values in `animal_group` are changed, but `rescue` is yet to be redefined, and so the old values are used. As such no data is returned:"
   ]
  },
  {
   "cell_type": "code",
   "execution_count": 8,
   "metadata": {},
   "outputs": [
    {
     "name": "stdout",
     "output_type": "stream",
     "text": [
      "+---------------+------------+\n",
      "|incident_number|animal_group|\n",
      "+---------------+------------+\n",
      "+---------------+------------+\n",
      "\n"
     ]
    }
   ],
   "source": [
    "rescue = spark.read.parquet(rescue_path).select(\"incident_number\", \"animal_group\")\n",
    "(rescue\n",
    "    .withColumn(\"animal_group\", F.upper(rescue.animal_group))\n",
    "    .filter(rescue.animal_group == \"CAT\")\n",
    "    .show(5))"
   ]
  },
  {
   "cell_type": "markdown",
   "metadata": {},
   "source": [
    "Changing to `F.col(\"animal_group\")` gives the correct result:"
   ]
  },
  {
   "cell_type": "code",
   "execution_count": 9,
   "metadata": {},
   "outputs": [
    {
     "name": "stdout",
     "output_type": "stream",
     "text": [
      "+---------------+------------+\n",
      "|incident_number|animal_group|\n",
      "+---------------+------------+\n",
      "|       80771131|         CAT|\n",
      "|       43051141|         CAT|\n",
      "|126246-03092018|         CAT|\n",
      "|       17398141|         CAT|\n",
      "|129971-26092017|         CAT|\n",
      "+---------------+------------+\n",
      "only showing top 5 rows\n",
      "\n"
     ]
    }
   ],
   "source": [
    "(rescue\n",
    "    .withColumn(\"animal_group\", F.upper(F.col(\"animal_group\")))\n",
    "    .filter(F.col(\"animal_group\") == \"CAT\")\n",
    "    .show(5))"
   ]
  },
  {
   "cell_type": "markdown",
   "metadata": {},
   "source": [
    "(f-col:example-4)=\n",
    "### Example 4: Columns with special characters or spaces\n",
    "\n",
    "One final use case for this method is when your source data has column names with spaces or special characters in them. This can happen if reading in from a CSV file rather than parquet or Hive table. The animal rescue CSV has a column called `IncidentNotionalCost(£)`. You cannot refer to the column using `rescue.IncidentNotionalCost(£)`, instead, use `F.col(\"IncidentNotionalCost(£)\")`:"
   ]
  },
  {
   "cell_type": "code",
   "execution_count": 10,
   "metadata": {},
   "outputs": [
    {
     "name": "stdout",
     "output_type": "stream",
     "text": [
      "+---------------+-----------------------+\n",
      "| IncidentNumber|IncidentNotionalCost(£)|\n",
      "+---------------+-----------------------+\n",
      "|       48360131|                 3480.0|\n",
      "|       49076141|                 2655.0|\n",
      "|       62700151|                 2980.0|\n",
      "|098141-28072016|                 3912.0|\n",
      "|092389-09072018|                 2664.0|\n",
      "+---------------+-----------------------+\n",
      "\n"
     ]
    }
   ],
   "source": [
    "rescue = (spark.read.csv(rescue_path_csv, header=True)\n",
    "          .select(\"IncidentNumber\", \"IncidentNotionalCost(£)\"))\n",
    "rescue.filter(F.col(\"IncidentNotionalCost(£)\") > 2500).show()"
   ]
  },
  {
   "cell_type": "markdown",
   "metadata": {},
   "source": [
    "You can use the pandas style `rescue[\"IncidentNotionalCost(£)\"]` but this notation is not encouraged in PySpark:"
   ]
  },
  {
   "cell_type": "code",
   "execution_count": 11,
   "metadata": {},
   "outputs": [
    {
     "name": "stdout",
     "output_type": "stream",
     "text": [
      "+---------------+-----------------------+\n",
      "| IncidentNumber|IncidentNotionalCost(£)|\n",
      "+---------------+-----------------------+\n",
      "|       48360131|                 3480.0|\n",
      "|       49076141|                 2655.0|\n",
      "|       62700151|                 2980.0|\n",
      "|098141-28072016|                 3912.0|\n",
      "|092389-09072018|                 2664.0|\n",
      "+---------------+-----------------------+\n",
      "\n"
     ]
    }
   ],
   "source": [
    "rescue.filter(rescue[\"IncidentNotionalCost(£)\"] > 2500).show()"
   ]
  },
  {
   "cell_type": "markdown",
   "metadata": {},
   "source": [
    "Of course, the best idea is to rename the column something sensible, which is easier to reference:"
   ]
  },
  {
   "cell_type": "code",
   "execution_count": 12,
   "metadata": {},
   "outputs": [
    {
     "name": "stdout",
     "output_type": "stream",
     "text": [
      "+---------------+-------------+\n",
      "|incident_number|notional_cost|\n",
      "+---------------+-------------+\n",
      "|       48360131|       3480.0|\n",
      "|       49076141|       2655.0|\n",
      "|       62700151|       2980.0|\n",
      "|098141-28072016|       3912.0|\n",
      "|092389-09072018|       2664.0|\n",
      "+---------------+-------------+\n",
      "\n"
     ]
    }
   ],
   "source": [
    "rescue = (rescue\n",
    "          .withColumnRenamed(\"IncidentNotionalCost(£)\", \"notional_cost\")\n",
    "          .withColumnRenamed(\"IncidentNumber\", \"incident_number\"))\n",
    "rescue.filter(F.col(\"notional_cost\") > 2500).show()"
   ]
  },
  {
   "cell_type": "markdown",
   "metadata": {},
   "source": [
    "If your data is stored as CSV with non-standard column names you may want to create a data cleansing stage, which reads in the CSV and renames the columns, then write this out as a [parquet file](../spark-functions/writing-data.html#writing-data-to-a-parquet-file) or [Hive table](../spark-functions/writing-data.html#writing-data-to-a-hive-table). Parquet files and Hive tables also have the advantage of being far quicker for Spark to process\n",
    "\n",
    "### Further Resources\n",
    "\n",
    "Spark at the ONS Articles:\n",
    "- [Handling Errors in PySpark](../testing-debugging/handling-errors-pyspark)\n",
    "- [Writing Data](../spark-functions/writing-data)\n",
    "    - [Writing Data to a Parquet File](../spark-functions/writing-data.html#writing-data-to-a-parquet-file)\n",
    "    - [Writing Data to a Hive Table](../spark-functions/writing-data.html#writing-data-to-a-hive-table)\n",
    "\n",
    "PySpark Documentation:\n",
    "- [`.filter()`](https://spark.apache.org/docs/latest/api/python/reference/api/pyspark.sql.DataFrame.filter.html)\n",
    "- [`F.col()`](https://spark.apache.org/docs/latest/api/python/reference/api/pyspark.sql.functions.col.html)"
   ]
  }
 ],
 "metadata": {
  "kernelspec": {
   "display_name": "Python 3",
   "language": "python",
   "name": "python3"
  },
  "language_info": {
   "codemirror_mode": {
    "name": "ipython",
    "version": 3
   },
   "file_extension": ".py",
   "mimetype": "text/x-python",
   "name": "python",
   "nbconvert_exporter": "python",
   "pygments_lexer": "ipython3",
   "version": "3.6.8"
  }
 },
 "nbformat": 4,
 "nbformat_minor": 2
}
