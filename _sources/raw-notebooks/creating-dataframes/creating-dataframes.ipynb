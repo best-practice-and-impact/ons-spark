{
 "cells": [
  {
   "cell_type": "markdown",
   "id": "9b640a03",
   "metadata": {},
   "source": [
    "## Creating DataFrames Manually\n",
    "\n",
    "Most Spark DataFrames are created by reading in data from another source, often a parquet file or Hive table, or a CSV file. It is also possible to manually create DataFrames without reading in from another source.\n",
    "\n",
    "One of the most common cases for manually creating DataFrames is for creating input data and expected output data while writing unit tests.\n",
    "\n",
    "Remember that Spark DataFrames are processed on the Spark cluster, regardless of if they were read in from another source or created manually.\n",
    "\n",
    "### Simple one column DataFrames\n",
    "\n",
    "`spark.range()`/`sdf_seq()` are functions which create a simple DataFrame with one column, `id`, with the specified number of rows. This can be useful as a starting point for creating synthetic or test data, or for generating a DataFrame containing random numbers.\n",
    "\n",
    "<details>\n",
    "    <summary><b>PySpark Explanation</b></summary>\n",
    "\n",
    "In PySpark, use `spark.range()`. There are two ways this function can be used:\n",
    "- To create a DF with `id` starting from `0`, just specify the `end` value, e.g. `spark.range(5)`. In common with many other Python operations, the values start from `0` and the end number is not included in the results.\n",
    "- To create a DF starting from a value other than `0`, then specify a `start` and `end` values, e.g. `spark.range(1, 6)`.\n",
    "\n",
    "There is also an option for `step`, e.g `spark.range(start=1, end=10, step=2)` will return odd numbers.\n",
    "\n",
    "</details>\n",
    "\n",
    "<details>\n",
    "    <summary><b>sparklyr Explanation</b></summary>\n",
    "    \n",
    "In sparklyr, use `sdf_seq()`. The first argument is always the Spark connection object `sc`. The range is supplied with `from` and `to`; note that both `from` and `to` values are included in the output. If `from` is not supplied then it will start from `1`.\n",
    "\n",
    "\n",
    "There is also an option for the increment, `by`, e.g `sdf_seq(sc, from=1, to=9, by=2)` will return odd numbers.\n",
    "\n",
    "</details>\n",
    "\n",
    "\n",
    "As an example, start a Spark session then create a DataFrame with ten rows, and add a column of random numbers:"
   ]
  },
  {
   "cell_type": "code",
   "execution_count": 1,
   "id": "41239d47",
   "metadata": {},
   "outputs": [
    {
     "name": "stdout",
     "output_type": "stream",
     "text": [
      "+---+-------------------+\n",
      "| id|            rand_no|\n",
      "+---+-------------------+\n",
      "|  0| 0.6841403791584381|\n",
      "|  1|0.21180593775249568|\n",
      "|  2| 0.6121482044354868|\n",
      "|  3| 0.4561043858476006|\n",
      "|  4| 0.3728419130290753|\n",
      "+---+-------------------+\n",
      "\n"
     ]
    }
   ],
   "source": [
    "import pandas as pd\n",
    "from pyspark.sql import SparkSession, functions as F\n",
    "\n",
    "spark = (SparkSession.builder.master(\"local[2]\")\n",
    "         .appName(\"create-DFs\")\n",
    "         .getOrCreate())\n",
    "\n",
    "seed_no = 100\n",
    "random_numbers = (spark.range(5)\n",
    "                  .withColumn(\"rand_no\", F.rand(seed_no)))\n",
    "\n",
    "random_numbers.show()"
   ]
  },
  {
   "cell_type": "markdown",
   "id": "f4d7f73e",
   "metadata": {},
   "source": [
    "```r\n",
    "library(sparklyr)\n",
    "library(dplyr)\n",
    "\n",
    "sc <- sparklyr::spark_connect(\n",
    "    master = \"local[2]\",\n",
    "    app_name = \"window-functions\",\n",
    "    config = sparklyr::spark_config())\n",
    "\n",
    "seed_no <- 100L\n",
    "random_numbers = sparklyr::sdf_seq(sc, 0, 4) %>%\n",
    "    sparklyr::mutate(rand_no = rand(seed_no))\n",
    "\n",
    "random_numbers %>%\n",
    "    sparklyr::collect() %>%\n",
    "    print()\n",
    "```"
   ]
  },
  {
   "cell_type": "markdown",
   "id": "7e86dbc1",
   "metadata": {},
   "source": [
    "### Spark DF from pandas/R DF\n",
    "\n",
    "You can also create Spark DataFrames from pandas or base R DataFrames. Spark DFs are processed in the Spark cluster, which means you have more memory when using Spark, and so some operations may be easier than in the driver, e.g. a join between two pandas/R DataFrames which results in a larger DF.\n",
    "\n",
    "Remember that there are key differences between pandas/R DFs and Spark DFs. Spark DFs are not ordered by default and also have no index, so converting to Spark and then back will not preserve the original row order. Some operations are also easier with pandas/R than they are with Spark. See the Choosing between pandas/R and Spark article for more information.\n",
    "\n",
    "In PySpark, use `spark.createDataFrame(pandas_df)`, where `pandas_df` is the pandas DataFrame. You can also specify the `schema` argument here, although generally you will not need to as pandas DFs already have data types assigned. Note that if your pandas version is earlier that `0.25.0` there may be a bug when creating the DataFrame due to the column ordering. It is recommended to update to a later version of pandas to solve this.\n",
    "\n",
    "In sparklyr, use `sdf_copy_to()`, with `sc` as the first argument and the base R DF as the second. You can also create a temporary table with the `name` option if desired.\n",
    "\n",
    "As an example, create a DataFrame of the five Grand National winners between 2017 and 2021 using pandas/R:"
   ]
  },
  {
   "cell_type": "code",
   "execution_count": 2,
   "id": "9a76e7fc",
   "metadata": {},
   "outputs": [
    {
     "data": {
      "text/html": [
       "<div>\n",
       "<style scoped>\n",
       "    .dataframe tbody tr th:only-of-type {\n",
       "        vertical-align: middle;\n",
       "    }\n",
       "\n",
       "    .dataframe tbody tr th {\n",
       "        vertical-align: top;\n",
       "    }\n",
       "\n",
       "    .dataframe thead th {\n",
       "        text-align: right;\n",
       "    }\n",
       "</style>\n",
       "<table border=\"1\" class=\"dataframe\">\n",
       "  <thead>\n",
       "    <tr style=\"text-align: right;\">\n",
       "      <th></th>\n",
       "      <th>year</th>\n",
       "      <th>winner</th>\n",
       "      <th>starting_price</th>\n",
       "      <th>age</th>\n",
       "      <th>jockey</th>\n",
       "    </tr>\n",
       "  </thead>\n",
       "  <tbody>\n",
       "    <tr>\n",
       "      <th>0</th>\n",
       "      <td>2017</td>\n",
       "      <td>Minella Times</td>\n",
       "      <td>11/1</td>\n",
       "      <td>8.0</td>\n",
       "      <td>Rachael Blackmore</td>\n",
       "    </tr>\n",
       "    <tr>\n",
       "      <th>1</th>\n",
       "      <td>2018</td>\n",
       "      <td>None</td>\n",
       "      <td>None</td>\n",
       "      <td>NaN</td>\n",
       "      <td>None</td>\n",
       "    </tr>\n",
       "    <tr>\n",
       "      <th>2</th>\n",
       "      <td>2019</td>\n",
       "      <td>Tiger Roll</td>\n",
       "      <td>4/1 F</td>\n",
       "      <td>9.0</td>\n",
       "      <td>Davy Russell</td>\n",
       "    </tr>\n",
       "    <tr>\n",
       "      <th>3</th>\n",
       "      <td>2020</td>\n",
       "      <td>Tiger Roll</td>\n",
       "      <td>10/1</td>\n",
       "      <td>8.0</td>\n",
       "      <td>Davy Russell</td>\n",
       "    </tr>\n",
       "    <tr>\n",
       "      <th>4</th>\n",
       "      <td>2021</td>\n",
       "      <td>One For Arthur</td>\n",
       "      <td>14/1</td>\n",
       "      <td>8.0</td>\n",
       "      <td>Derek Fox</td>\n",
       "    </tr>\n",
       "  </tbody>\n",
       "</table>\n",
       "</div>"
      ],
      "text/plain": [
       "   year          winner starting_price  age             jockey\n",
       "0  2017   Minella Times           11/1  8.0  Rachael Blackmore\n",
       "1  2018            None           None  NaN               None\n",
       "2  2019      Tiger Roll          4/1 F  9.0       Davy Russell\n",
       "3  2020      Tiger Roll           10/1  8.0       Davy Russell\n",
       "4  2021  One For Arthur           14/1  8.0          Derek Fox"
      ]
     },
     "execution_count": 2,
     "metadata": {},
     "output_type": "execute_result"
    }
   ],
   "source": [
    "winners_pd = pd.DataFrame(\n",
    "    {\"year\": list(range(2017, 2022)),\n",
    "     \"winner\": [\"Minella Times\", None, \"Tiger Roll\", \"Tiger Roll\", \"One For Arthur\"],\n",
    "     \"starting_price\": [\"11/1\", None, \"4/1 F\", \"10/1\", \"14/1\"],\n",
    "     \"age\": [8, None, 9, 8, 8],\n",
    "     \"jockey\": [\"Rachael Blackmore\", None, \"Davy Russell\", \"Davy Russell\", \"Derek Fox\"]\n",
    "})\n",
    "\n",
    "winners_pd"
   ]
  },
  {
   "cell_type": "markdown",
   "id": "93acc51e",
   "metadata": {},
   "source": [
    "```r\n",
    "winners_rdf <- data.frame(\n",
    "    \"year\" = 2017:2021,\n",
    "    \"winner\" = c(\"Minella Times\", NA, \"Tiger Roll\", \"Tiger Roll\", \"One For Arthur\"),\n",
    "    \"starting_price\" = c(\"11/1\", NA, \"4/1 F\", \"10/1\", \"14/1\"),\n",
    "    \"age\" = c(8, NA, 9, 8, 8),\n",
    "    \"jockey\" = c(\"Rachael Blackmore\", NA, \"Davy Russell\", \"Davy Russell\", \"Derek Fox\")\n",
    ")\n",
    "\n",
    "winners_rdf %>%\n",
    "    print()\n",
    "```"
   ]
  },
  {
   "cell_type": "markdown",
   "id": "e44d47c7",
   "metadata": {},
   "source": [
    "Then convert this into a Spark DF and preview. Remember that previewing a DataFrame involves collecting data to the driver."
   ]
  },
  {
   "cell_type": "code",
   "execution_count": 3,
   "id": "3988f134",
   "metadata": {},
   "outputs": [
    {
     "name": "stdout",
     "output_type": "stream",
     "text": [
      "+----+--------------+--------------+---+-----------------+\n",
      "|year|        winner|starting_price|age|           jockey|\n",
      "+----+--------------+--------------+---+-----------------+\n",
      "|2017| Minella Times|          11/1|8.0|Rachael Blackmore|\n",
      "|2018|          null|          null|NaN|             null|\n",
      "|2019|    Tiger Roll|         4/1 F|9.0|     Davy Russell|\n",
      "|2020|    Tiger Roll|          10/1|8.0|     Davy Russell|\n",
      "|2021|One For Arthur|          14/1|8.0|        Derek Fox|\n",
      "+----+--------------+--------------+---+-----------------+\n",
      "\n"
     ]
    }
   ],
   "source": [
    "winners_spark = spark.createDataFrame(winners_pd)\n",
    "winners_spark.show()"
   ]
  },
  {
   "cell_type": "markdown",
   "id": "ca2493a4",
   "metadata": {},
   "source": [
    "```r\n",
    "winners_spark <- sparklyr::sdf_copy_to(sc, winners_rdf)\n",
    "\n",
    "winners_spark %>%\n",
    "    sparklyr::collect() %>%\n",
    "    print()\n",
    "```"
   ]
  },
  {
   "cell_type": "markdown",
   "id": "8c683d0a",
   "metadata": {},
   "source": [
    "Another issue to be careful with when converting pandas DFs to Spark is the treatment of `null`/`NaN` values. See the article on `null` and `NaN` comparison for more information.\n",
    "\n",
    "### Create DF directly\n",
    "\n",
    "In PySpark, as well as converting a pandas DF you can also create a DataFrame directly with `spark.createDataFrame()`. The first argument is `data`, generally as a regular Python list with each row containing another list. If using this method then you will also want to supply the `schema`, either a list of column names, or an object containing column names and types. See the article on Data Types for more information.\n",
    "\n",
    "You cannot create a DataFrame in sparklyr in this way; instead, create a base R DF or tibble and use `sdf_copy_to()`, as described above."
   ]
  },
  {
   "cell_type": "code",
   "execution_count": 4,
   "id": "0810dcbd",
   "metadata": {},
   "outputs": [
    {
     "name": "stdout",
     "output_type": "stream",
     "text": [
      "+----+--------------+--------------+----+-----------------+\n",
      "|year|        winner|starting_price| age|           jockey|\n",
      "+----+--------------+--------------+----+-----------------+\n",
      "|2021| Minella Times|          11/1|   8|Rachael Blackmore|\n",
      "|2020|          null|          null|null|             null|\n",
      "|2019|    Tiger Roll|         4/1 F|   9|     Davy Russell|\n",
      "|2018|    Tiger Roll|          10/1|   8|     Davy Russell|\n",
      "|2017|One For Arthur|          14/1|   8|        Derek Fox|\n",
      "+----+--------------+--------------+----+-----------------+\n",
      "\n"
     ]
    }
   ],
   "source": [
    "winners_spark = spark.createDataFrame(data=[\n",
    "    [2021, \"Minella Times\", \"11/1\", 8, \"Rachael Blackmore\"],\n",
    "    [2020, None, None, None, None],\n",
    "    [2019, \"Tiger Roll\", \"4/1 F\", 9, \"Davy Russell\"],\n",
    "    [2018, \"Tiger Roll\", \"10/1\", 8, \"Davy Russell\"],\n",
    "    [2017, \"One For Arthur\", \"14/1\", 8, \"Derek Fox\"]],\n",
    "    schema=[\"year\", \"winner\", \"starting_price\", \"age\", \"jockey\"])\n",
    "\n",
    "winners_spark.show()"
   ]
  },
  {
   "cell_type": "markdown",
   "id": "f05164b9",
   "metadata": {},
   "source": [
    "Note that the `age` column for the cancelled `2020` race is `null`, whereas it was `NaN` when converted from pandas.\n",
    "\n",
    "### Partitions\n",
    "\n",
    "Although most manually created DataFrames are small, they are still partitioned on the Spark cluster. The number of partitions can be set with `numPartitions` in `spark.range()` and `repartition` in `sdf_seq()`. See the article on Managing Partitions for details of how newly created DataFrames are partitioned.\n",
    "\n",
    "### Further Resources\n",
    "\n",
    "TBC"
   ]
  }
 ],
 "metadata": {
  "kernelspec": {
   "display_name": "Python 3",
   "language": "python",
   "name": "python3"
  },
  "language_info": {
   "codemirror_mode": {
    "name": "ipython",
    "version": 3
   },
   "file_extension": ".py",
   "mimetype": "text/x-python",
   "name": "python",
   "nbconvert_exporter": "python",
   "pygments_lexer": "ipython3",
   "version": "3.6.8"
  }
 },
 "nbformat": 4,
 "nbformat_minor": 5
}
