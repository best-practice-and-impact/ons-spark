{
 "cells": [
  {
   "cell_type": "markdown",
   "id": "848f4bf2",
   "metadata": {},
   "source": [
    "## Salted Joins\n",
    "\n",
    "When joining DataFrames in Spark with a Sort Merge Join, all the data with the same join keys will be moved to the same partition. Spark works best when partitions are of roughly equal size. If the data are skewed so that some partitions are much larger than others, then a disproportionate amount of time will be spent on dealing with data in one partition.\n",
    "\n",
    "Attempting to force a repartition of the DataFrame with [`.repartition()`](https://spark.apache.org/docs/latest/api/python/reference/api/pyspark.sql.DataFrame.repartition.html) (PySpark) or [`sdf_repartition()`](https://spark.rstudio.com/packages/sparklyr/latest/reference/sdf_repartition.html) (sparklyr) will not work, as a Sort Merge Join will then automatically shuffle the data based on join keys. Note that this issue will not occur if the smaller DataFrame is able to be broadcast, since that does not force a shuffle of the DataFrames.\n",
    "\n",
    "To resolve this issue, we can change the join keys manually, so that the larger partitions get split into smaller ones. This is called *salting*.\n",
    "\n",
    "### Salted Join Example\n",
    "\n",
    "First, create a Spark session. Note that the DataFrame used in this example is artificially created and is ten million rows long, so this may not work if using a local session with only a small amount of memory. Note that broadcast joins are being disabled by default."
   ]
  },
  {
   "cell_type": "code",
   "execution_count": 1,
   "id": "53bcb4ca",
   "metadata": {},
   "outputs": [],
   "source": [
    "import os\n",
    "from pyspark.sql import SparkSession, functions as F\n",
    "\n",
    "spark = (SparkSession.builder.master(\"local[2]\")\n",
    "         .appName(\"joins\")\n",
    "         # Disable Broadcast join by default\n",
    "         .config(\"spark.sql.autoBroadcastJoinThreshold\", -1)\n",
    "         .getOrCreate())"
   ]
  },
  {
   "cell_type": "markdown",
   "id": "8088b36e",
   "metadata": {},
   "source": [
    "```r\n",
    "library(sparklyr)\n",
    "library(dplyr)\n",
    "\n",
    "no_broadcast_config <- sparklyr::spark_config()\n",
    "\n",
    "# Disable Broadcast join by default\n",
    "no_broadcast_config$spark.sql.autoBroadcastJoinThreshold <- -1\n",
    "\n",
    "sc <- sparklyr::spark_connect(\n",
    "  master = \"local[2]\",\n",
    "  app_name = \"joins\",\n",
    "  config = no_broadcast_config)\n",
    "```"
   ]
  },
  {
   "cell_type": "markdown",
   "id": "d3812a5c",
   "metadata": {},
   "source": [
    "Create a DataFrame with excessive skew by using [`spark.range()`](https://spark.apache.org/docs/latest/api/python/reference/api/pyspark.sql.SparkSession.range.html)/[`sdf_seq()`](https://spark.rstudio.com/packages/sparklyr/latest/reference/sdf_seq.html) to create a one column DF with an `id` column, then assigning an arbitrary letter from `A` to `E`. "
   ]
  },
  {
   "cell_type": "code",
   "execution_count": 2,
   "id": "955f6994",
   "metadata": {},
   "outputs": [],
   "source": [
    "row_ct = 10**7\n",
    "skewed_df = spark.range(row_ct).withColumn(\"join_col\", F.when(F.col(\"id\") < 100, \"A\")\n",
    "                               .when(F.col(\"id\") < 1000, \"B\")\n",
    "                               .when(F.col(\"id\") < 10000, \"C\")\n",
    "                               .when(F.col(\"id\") < 100000, \"D\")\n",
    "                               .otherwise(\"E\"))"
   ]
  },
  {
   "cell_type": "markdown",
   "id": "b478979c",
   "metadata": {},
   "source": [
    "```r\n",
    "row_ct <- 10 ** 7\n",
    "skewed_df <- sparklyr::sdf_seq(sc, 0, row_ct - 1) %>%\n",
    "    sparklyr::mutate(join_col = dplyr::case_when(\n",
    "        id < 100 ~ \"A\",\n",
    "        id < 1000 ~ \"B\",\n",
    "        id < 10000 ~ \"C\",\n",
    "        id < 100000 ~ \"D\",\n",
    "        TRUE ~ \"E\"))\n",
    "```"
   ]
  },
  {
   "cell_type": "markdown",
   "id": "565f9418",
   "metadata": {},
   "source": [
    "To show just how skewed this DF is, group the data by `join_col` and get the row count; 99% of the values of `join_col` are `\"E\"`:"
   ]
  },
  {
   "cell_type": "code",
   "execution_count": 3,
   "id": "1f7fd027",
   "metadata": {},
   "outputs": [
    {
     "name": "stdout",
     "output_type": "stream",
     "text": [
      "+--------+-------+-----------+\n",
      "|join_col|  count|pct_of_data|\n",
      "+--------+-------+-----------+\n",
      "|       E|9900000|       99.0|\n",
      "|       B|    900|      0.009|\n",
      "|       D|  90000|        0.9|\n",
      "|       C|   9000|       0.09|\n",
      "|       A|    100|      0.001|\n",
      "+--------+-------+-----------+\n",
      "\n"
     ]
    }
   ],
   "source": [
    "(skewed_df\n",
    "    .groupBy(\"join_col\")\n",
    "    .count()\n",
    "    .withColumn(\"pct_of_data\", F.round((F.col(\"count\") / row_ct) * 100, 3))\n",
    "    .show())"
   ]
  },
  {
   "cell_type": "markdown",
   "id": "d18d9130",
   "metadata": {},
   "source": [
    "```r\n",
    "skewed_df %>%\n",
    "    dplyr::group_by(join_col) %>%\n",
    "    dplyr::summarise(count = n()) %>%\n",
    "    sparklyr::mutate(pct_of_data = round((count / row_ct) * 100, 3)) %>%\n",
    "    sparklyr::collect() %>%\n",
    "    print()\n",
    "```"
   ]
  },
  {
   "cell_type": "markdown",
   "id": "8b68a1e6",
   "metadata": {},
   "source": [
    "Create another DF, `small_df` that will be joined to `skewed_df`. This is a simple mapping of letters to numbers."
   ]
  },
  {
   "cell_type": "code",
   "execution_count": 4,
   "id": "580979b0",
   "metadata": {},
   "outputs": [],
   "source": [
    "small_df = spark.createDataFrame([\n",
    "    [\"A\", 1],\n",
    "    [\"B\", 2],\n",
    "    [\"C\", 3],\n",
    "    [\"D\", 4],\n",
    "    [\"E\", 5]\n",
    "], [\"join_col\", \"number_col\"])"
   ]
  },
  {
   "cell_type": "markdown",
   "id": "f376933f",
   "metadata": {},
   "source": [
    "```r\n",
    "small_df <- sparklyr::sdf_copy_to(sc, data.frame(\n",
    "    join_col = LETTERS[1:5],\n",
    "    number_col = 1:5))\n",
    "```"
   ]
  },
  {
   "cell_type": "markdown",
   "id": "86e805bd",
   "metadata": {},
   "source": [
    "Now join, using the default Sort Merge Join:"
   ]
  },
  {
   "cell_type": "code",
   "execution_count": 5,
   "id": "ec62008c",
   "metadata": {},
   "outputs": [],
   "source": [
    "joined_df = skewed_df.join(small_df, on=\"join_col\", how=\"left\")"
   ]
  },
  {
   "cell_type": "markdown",
   "id": "84f3d3d0",
   "metadata": {},
   "source": [
    "```r\n",
    "joined_df <- skewed_df %>%\n",
    "    sparklyr::left_join(small_df, by=\"join_col\")\n",
    "```"
   ]
  },
  {
   "cell_type": "markdown",
   "id": "001e819d",
   "metadata": {},
   "source": [
    "We want to see how the DataFrame is processed on the cluster using the Spark UI, so use `.count()` and [set the job description](../spark-functions/job-description) with [`.setJobDescription()`](https://spark.apache.org/docs/latest/api/python/reference/api/pyspark.SparkContext.setJobDescription.html)/[`invoke(\"setJobDescription\", ...)`](https://spark.rstudio.com/packages/sparklyr/latest/reference/invoke.html):"
   ]
  },
  {
   "cell_type": "code",
   "execution_count": 6,
   "id": "d40f6608",
   "metadata": {},
   "outputs": [
    {
     "data": {
      "text/plain": [
       "10000000"
      ]
     },
     "execution_count": 6,
     "metadata": {},
     "output_type": "execute_result"
    }
   ],
   "source": [
    "spark.sparkContext.setJobDescription(\"Row Count\")\n",
    "joined_df.count()"
   ]
  },
  {
   "cell_type": "markdown",
   "id": "fc76735a",
   "metadata": {},
   "source": [
    "```r\n",
    "sc %>%\n",
    "    sparklyr::spark_context() %>%\n",
    "    sparklyr::invoke(\"setJobDescription\", \"Row Count\")\n",
    "\n",
    "sparklyr::sdf_nrow(joined_df)\n",
    "```"
   ]
  },
  {
   "cell_type": "markdown",
   "id": "80ad06b4",
   "metadata": {},
   "source": [
    "Group the data to verify the result of the join:"
   ]
  },
  {
   "cell_type": "code",
   "execution_count": 7,
   "id": "01dc8922",
   "metadata": {},
   "outputs": [
    {
     "name": "stdout",
     "output_type": "stream",
     "text": [
      "+--------+----------+-------+\n",
      "|join_col|number_col|  count|\n",
      "+--------+----------+-------+\n",
      "|       E|         5|9900000|\n",
      "|       B|         2|    900|\n",
      "|       D|         4|  90000|\n",
      "|       C|         3|   9000|\n",
      "|       A|         1|    100|\n",
      "+--------+----------+-------+\n",
      "\n"
     ]
    }
   ],
   "source": [
    "spark.sparkContext.setJobDescription(\"Show Grouped Data\")\n",
    "joined_df.groupBy(\"join_col\", \"number_col\").count().show()"
   ]
  },
  {
   "cell_type": "markdown",
   "id": "3d7c7659",
   "metadata": {},
   "source": [
    "```r\n",
    "sc %>%\n",
    "    sparklyr::spark_context() %>%\n",
    "    sparklyr::invoke(\"setJobDescription\", \"Show Grouped Data\")\n",
    "\n",
    "joined_df %>%\n",
    "    dplyr::group_by(join_col, number_col) %>%\n",
    "    dplyr::summarise(count = n()) %>%\n",
    "    sparklyr::collect() %>%\n",
    "    print()\n",
    "```"
   ]
  },
  {
   "cell_type": "markdown",
   "id": "4d7c87e3",
   "metadata": {},
   "source": [
    "Looking at the [Spark UI](../spark-concepts/spark-application-and-ui) (the Spark UI link for a local session is http://localhost:4040/jobs/) for the `Row Count` job, we can see that one partition is taking much longer than the rest to process:\n",
    "\n",
    "![Spark UI demonstrating inefficient processing of a skewed DF](../images/presalt_ui.png)\n",
    "\n",
    "This is because all of the data with the same join key will be on the same partition. To split this up, we can *salt* the keys. Salting is the process of artificially creating new join keys. For instance, the `E` key could be split into ten new keys, called `E-0`, `E-1` ... `E-9`. Provided the salting is identical in both DataFrames the result of the join will be correct. As with any similar process, ensure that your code is fully tested.\n",
    "\n",
    "The easiest way to do this is by concatenating a random number to the key in both DataFrames. We are using a seed here for reproducibility.\n",
    "\n",
    "In this example we will salt every key as we do not have many unique values in our key column, but you can also use `F.when()` to salt only specified values if you wish.\n",
    "\n",
    "We could change `salt_count` here; 10 is used as an example but you can change this depending on just how skewed your data are. Our example of 99% of the join keys being the same value is deliberately extreme and a higher `salt_count` would likely improve the efficiency. As with a lot of Spark issues, it is good to experiment and see what works best for your own situation."
   ]
  },
  {
   "cell_type": "code",
   "execution_count": 8,
   "id": "ac8a4257",
   "metadata": {},
   "outputs": [
    {
     "name": "stdout",
     "output_type": "stream",
     "text": [
      "+---+--------+----------+\n",
      "| id|join_col|salted_col|\n",
      "+---+--------+----------+\n",
      "|  0|       A|       A-5|\n",
      "|  1|       A|       A-9|\n",
      "|  2|       A|       A-8|\n",
      "|  3|       A|       A-8|\n",
      "|  4|       A|       A-3|\n",
      "|  5|       A|       A-4|\n",
      "|  6|       A|       A-1|\n",
      "|  7|       A|       A-5|\n",
      "|  8|       A|       A-9|\n",
      "|  9|       A|       A-1|\n",
      "| 10|       A|       A-8|\n",
      "| 11|       A|       A-2|\n",
      "| 12|       A|       A-2|\n",
      "| 13|       A|       A-0|\n",
      "| 14|       A|       A-4|\n",
      "| 15|       A|       A-7|\n",
      "| 16|       A|       A-9|\n",
      "| 17|       A|       A-7|\n",
      "| 18|       A|       A-4|\n",
      "| 19|       A|       A-1|\n",
      "+---+--------+----------+\n",
      "only showing top 20 rows\n",
      "\n"
     ]
    }
   ],
   "source": [
    "spark.sparkContext.setJobDescription(\"Salted Join\")\n",
    "salt_count = 10\n",
    "seed_no = 123\n",
    "skewed_df = skewed_df.withColumn(\"salted_col\",\n",
    "                                 F.concat(\n",
    "                                     # Salted column will be in the format A-0, A-1...E-9\n",
    "                                     F.col(\"join_col\"),\n",
    "                                     F.lit(\"-\"),\n",
    "                                     F.floor(F.rand(seed_no) * salt_count)))\n",
    "skewed_df.show()"
   ]
  },
  {
   "cell_type": "markdown",
   "id": "60a08f6b",
   "metadata": {},
   "source": [
    "```r\n",
    "sc %>%\n",
    "    sparklyr::spark_context() %>%\n",
    "    sparklyr::invoke(\"setJobDescription\", \"Salted Join\")\n",
    "\n",
    "salt_count <- 10\n",
    "seed_no <- 123L\n",
    "skewed_df <- skewed_df %>%\n",
    "    # Salted column will be in the format A-0, A-1...E-9\n",
    "    sparklyr::mutate(salted_col = concat_ws(\"-\", join_col, floor(rand(seed_no) * salt_count)))\n",
    "\n",
    "skewed_df %>%\n",
    "    head(20) %>%\n",
    "    sparklyr::collect() %>%\n",
    "    print()\n",
    "```"
   ]
  },
  {
   "cell_type": "markdown",
   "id": "660869dc",
   "metadata": {},
   "source": [
    "We now need to join on `salted_col`, so obviously need to create this column in `skewed_df` too. We can achieve this with a [cross join](../spark-functions/cross-joins) (also sometimes called the cartesian product), to generate all the combinations of the salted values. Be careful when using cross joins as the number of rows returned will be the product of the row count in the two DataFrames.\n",
    "\n",
    "Create a DataFrame of the numbers 0 to 9:"
   ]
  },
  {
   "cell_type": "code",
   "execution_count": 9,
   "id": "b772e119",
   "metadata": {},
   "outputs": [],
   "source": [
    "salt_df = spark.range(salt_count)"
   ]
  },
  {
   "cell_type": "markdown",
   "id": "4f2fb6d2",
   "metadata": {},
   "source": [
    "```r\n",
    "salt_df <- sparklyr::sdf_seq(sc, 0, salt_count - 1)\n",
    "```"
   ]
  },
  {
   "cell_type": "markdown",
   "id": "f1b0bb48",
   "metadata": {},
   "source": [
    "Cross join this to `small_df` to generate every combination, then concatenate it in the same way as previously:"
   ]
  },
  {
   "cell_type": "code",
   "execution_count": 10,
   "id": "abb42032",
   "metadata": {},
   "outputs": [
    {
     "name": "stdout",
     "output_type": "stream",
     "text": [
      "+----------+----------+\n",
      "|number_col|salted_col|\n",
      "+----------+----------+\n",
      "|         1|       A-0|\n",
      "|         1|       A-1|\n",
      "|         1|       A-2|\n",
      "|         1|       A-3|\n",
      "|         1|       A-4|\n",
      "|         2|       B-0|\n",
      "|         2|       B-1|\n",
      "|         2|       B-2|\n",
      "|         2|       B-3|\n",
      "|         2|       B-4|\n",
      "|         1|       A-5|\n",
      "|         1|       A-6|\n",
      "|         1|       A-7|\n",
      "|         1|       A-8|\n",
      "|         1|       A-9|\n",
      "|         2|       B-5|\n",
      "|         2|       B-6|\n",
      "|         2|       B-7|\n",
      "|         2|       B-8|\n",
      "|         2|       B-9|\n",
      "+----------+----------+\n",
      "only showing top 20 rows\n",
      "\n"
     ]
    }
   ],
   "source": [
    "small_df_salted = (small_df\n",
    "                   .crossJoin(salt_df)\n",
    "                   .withColumn(\"salted_col\",\n",
    "                               F.concat(\n",
    "                                   F.col(\"join_col\"),\n",
    "                                   F.lit(\"-\"),\n",
    "                                   F.col(\"id\")\n",
    "                               ))\n",
    "                   .drop(\"id\", \"join_col\"))\n",
    "small_df_salted.show()"
   ]
  },
  {
   "cell_type": "markdown",
   "id": "775f235b",
   "metadata": {},
   "source": [
    "```r\n",
    "small_df_salted <- small_df %>%\n",
    "    sparklyr::full_join(salt_df, by=character()) %>%\n",
    "    sparklyr::mutate(salted_col = concat_ws(\"-\", join_col, id)) %>%\n",
    "    sparklyr::select(-id, -join_col)\n",
    "\n",
    "small_df_salted %>%\n",
    "    head(20) %>%\n",
    "    sparklyr::collect() %>%\n",
    "    print()\n",
    "```"
   ]
  },
  {
   "cell_type": "markdown",
   "id": "b21e3737",
   "metadata": {},
   "source": [
    "Now join on `salted_col` and `.count()` the DataFrame, once again setting the job description first:"
   ]
  },
  {
   "cell_type": "code",
   "execution_count": 11,
   "id": "de230e50",
   "metadata": {},
   "outputs": [
    {
     "data": {
      "text/plain": [
       "10000000"
      ]
     },
     "execution_count": 11,
     "metadata": {},
     "output_type": "execute_result"
    }
   ],
   "source": [
    "salted_join_df = skewed_df.join(small_df_salted, on=\"salted_col\", how=\"left\")\n",
    "spark.sparkContext.setJobDescription(\"Salted Join Row Count\")\n",
    "salted_join_df.count()"
   ]
  },
  {
   "cell_type": "markdown",
   "id": "e72d70a4",
   "metadata": {},
   "source": [
    "```r\n",
    "salted_join_df <- skewed_df %>%\n",
    "    sparklyr::left_join(small_df_salted, by=\"salted_col\")\n",
    "\n",
    "sc %>%\n",
    "    sparklyr::spark_context() %>%\n",
    "    sparklyr::invoke(\"setJobDescription\", \"Salted Join Row Count\")\n",
    "\n",
    "sparklyr::sdf_nrow(salted_join_df)\n",
    "```"
   ]
  },
  {
   "cell_type": "markdown",
   "id": "8a079f85",
   "metadata": {},
   "source": [
    "Verify that the result was the same as before:"
   ]
  },
  {
   "cell_type": "code",
   "execution_count": 12,
   "id": "12648b59",
   "metadata": {},
   "outputs": [
    {
     "name": "stdout",
     "output_type": "stream",
     "text": [
      "+--------+----------+-------+\n",
      "|join_col|number_col|  count|\n",
      "+--------+----------+-------+\n",
      "|       D|         4|  90000|\n",
      "|       A|         1|    100|\n",
      "|       E|         5|9900000|\n",
      "|       C|         3|   9000|\n",
      "|       B|         2|    900|\n",
      "+--------+----------+-------+\n",
      "\n"
     ]
    }
   ],
   "source": [
    "spark.sparkContext.setJobDescription(\"Salted Join Show Grouped Data\")\n",
    "salted_join_df.groupBy(\"join_col\", \"number_col\").count().show()"
   ]
  },
  {
   "cell_type": "markdown",
   "id": "f59ed0ef",
   "metadata": {},
   "source": [
    "```r\n",
    "sc %>%\n",
    "    sparklyr::spark_context() %>%\n",
    "    sparklyr::invoke(\"setJobDescription\", \"Salted Join Show Grouped Data\")\n",
    "\n",
    "joined_df %>%\n",
    "    dplyr::group_by(join_col, number_col) %>%\n",
    "    dplyr::summarise(count = n()) %>%\n",
    "    sparklyr::collect() %>%\n",
    "    print()\n",
    "```"
   ]
  },
  {
   "cell_type": "markdown",
   "id": "d738ec5e",
   "metadata": {},
   "source": [
    "Finally, look at the Spark UI for `Salted Join Row Count` to see that the parallelism is improved:\n",
    "\n",
    "![Spark UI demonstrating efficient processing of a salted DF](../images/salt_ui.png)\n",
    "\n",
    "The key metric here is not the overall time, but how the work is distributed. It is shared more equally and there is no longer one long green bar taking far longer than the other processes. In real life examples where salting is essential you will find that the Spark UI looks much more efficient; obviously this is only a minimal example.\n",
    "\n",
    "### Salting Alternatives\n",
    "\n",
    "Salting is not the only option for dealing with skewed DataFrames:\n",
    "- [Broadcasting](../spark-concepts/join-concepts.html#broadcast-join) the smaller DataFrame removes the need for a shuffle of the larger DF, and so the partitioning will remain the same. A broadcast join should also be more efficient than salting.\n",
    "- Some parts of the join could be achieved with conditional statements, e.g. split the DF into two and use [`F.when()`](https://spark.apache.org/docs/latest/api/python/reference/api/pyspark.sql.functions.when.html)/[`case_when()`](https://dplyr.tidyverse.org/reference/case_when.html) for the larger join keys then a regular join for the rest.\n",
    "- Reducing the size of the larger DataFrame may be possible in some circumstances, e.g. by grouping or filtering earlier in the process.\n",
    "- If salting only leads to minor improvements in efficiency you may prefer not to salt and just use a regular [sort merge join](../spark-concepts/join-concepts.html#sort-merge-join); you may feel that the benefits of the code being more readable and requiring less testing are worth a small sacrifice of efficiency\n",
    "\n",
    "### Further Resources\n",
    "\n",
    "Spark at the ONS Articles:\n",
    "- [Spark Application and UI](../spark-concepts/spark-application-and-ui)\n",
    "- [Set Spark Job Description](../spark-functions/job-description)\n",
    "- [Cross Joins](../spark-functions/cross-joins)\n",
    "\n",
    "- [Optimising Joins](../spark-concepts/join-concepts)\n",
    "\t- [Broadcast Join](../spark-concepts/join-concepts.html#broadcast-join)\n",
    "    - [Sort Merge Join](../spark-concepts/join-concepts.html#sort-merge-join)\n",
    "\n",
    "PySpark Documentation:\n",
    "- [`.repartition()`](https://spark.apache.org/docs/latest/api/python/reference/api/pyspark.sql.DataFrame.repartition.html)\n",
    "- [`spark.range()`](https://spark.apache.org/docs/latest/api/python/reference/api/pyspark.sql.SparkSession.range.html)\n",
    "- [`F.when()`](https://spark.apache.org/docs/latest/api/python/reference/api/pyspark.sql.functions.when.html)\n",
    "- [`.setJobDescription()`](https://spark.apache.org/docs/latest/api/python/reference/api/pyspark.SparkContext.setJobDescription.html)\n",
    "- [`F.rand()`](https://spark.apache.org/docs/latest/api/python/reference/api/pyspark.sql.functions.rand.html)\n",
    "- [`F.concat()`](https://spark.apache.org/docs/latest/api/python/reference/api/pyspark.sql.functions.concat.html)\n",
    "- [`F.floor()`](https://spark.apache.org/docs/latest/api/python/reference/api/pyspark.sql.functions.floor.html)\n",
    "- [`.crossJoin()`](https://spark.apache.org/docs/latest/api/python/reference/api/pyspark.sql.DataFrame.crossJoin.html)\n",
    "\n",
    "sparklyr and tidyverse Documentation:\n",
    "- [`sdf_repartition()`](https://spark.rstudio.com/packages/sparklyr/latest/reference/sdf_repartition.html)\n",
    "- [`sdf_seq()`](https://spark.rstudio.com/packages/sparklyr/latest/reference/sdf_seq.html)\n",
    "- [`case_when()`](https://dplyr.tidyverse.org/reference/case_when.html)\n",
    "- [`invoke()`](https://spark.rstudio.com/packages/sparklyr/latest/reference/invoke.html)\n",
    "- [`full_join()`](https://spark.rstudio.com/packages/sparklyr/latest/reference/join.tbl_spark.html): there is no native cross join function in sparklyr; the documentation recommends using `by=character()`\n",
    "\n",
    "Spark SQL Documentation:\n",
    "- [`case_when`](https://spark.apache.org/docs/latest/api/sql/index.html#case_when)\n",
    "- [`rand`](https://spark.apache.org/docs/latest/api/sql/index.html#rand)\n",
    "- [`concat_ws`](https://spark.apache.org/docs/latest/api/sql/index.html#concat_ws)\n",
    "- [`floor`](https://spark.apache.org/docs/latest/api/sql/index.html#floor)"
   ]
  }
 ],
 "metadata": {
  "kernelspec": {
   "display_name": "Python 3",
   "language": "python",
   "name": "python3"
  },
  "language_info": {
   "codemirror_mode": {
    "name": "ipython",
    "version": 3
   },
   "file_extension": ".py",
   "mimetype": "text/x-python",
   "name": "python",
   "nbconvert_exporter": "python",
   "pygments_lexer": "ipython3",
   "version": "3.6.8"
  }
 },
 "nbformat": 4,
 "nbformat_minor": 5
}
