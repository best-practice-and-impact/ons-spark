{
 "cells": [
  {
   "cell_type": "markdown",
   "metadata": {},
   "source": [
    "<div align=\"center\">\n",
    "  <img src=\"https://officenationalstatistics.sharepoint.com/:i:/r/sites/itoDSTPMO/DAPCATS/04.%20Technical/02.%20Development_Test/images_for_gitlab/dap-cats-ds-logo.png\"/></div>\n",
    "  \n",
    "# Interpolation in PySpark\n",
    "\n",
    "In this tip we will impute some missing values in time series data. This tip has been adapted from [another source](https://walkenho.github.io/interpolating-time-series-p2-spark/). \n",
    "\n",
    "Please note that there are many imputation methods to choose from, for more information see the [Awareness in Editing and Imputation](https://learninghub.ons.gov.uk/enrol/index.php?id=574) course on the Learning Hub. Before using this code in your work please consult other team members or methodologists on the suitablility of this method for your use case. This code also hasn't been thoroughly tested, so please test it yourself before considering using it for production.\n",
    "\n",
    "We don't want to spend too much time on the methodology here, the purpose is to give you inspiration on how to solve your own PySpark problem and maybe learn about some new functions.\n",
    "\n",
    "It's also worth mentioning that there is an [interpolate function in pandas](https://pandas.pydata.org/pandas-docs/stable/reference/api/pandas.DataFrame.interpolate.html), so if your DataFrame is small enough just use pandas!\n",
    "\n",
    "\n",
    "## What is interpolation?\n",
    "\n",
    "[Wikipedia says](https://en.wikipedia.org/wiki/Interpolation) \"In the mathematical field of numerical analysis, interpolation is a type of estimation, a method of constructing new data points based on the range of a discrete set of known data points.\"\n",
    "\n",
    "The DataFrame we will create consists of the columns `area_code`, `period` and `count`. To impute the missing `count` values we will use linear interpolation, which means to draw a straight line between two known points and use this gradient line to fill in the missing values. \n",
    "\n",
    "The linear interpolation equation we will use is,\n",
    "\n",
    "<span style=\\\"font-size:18px\\\">&#x1D49A; = &#x1D49A;<sub>&#x31;</sub> + &#x1D48E; (&#x1D499; &minus; &#x1D499;<sub>&#x31;</sub>)</span>\n",
    "\n",
    "where\n",
    "\n",
    "    m = (y2 - y1) / (x2 - x1)\n",
    "\n",
    "is the gradient between points 1 and 2\n",
    "\n",
    "y = linear interpolation value (`count` in this example), between y1 and y2\n",
    "\n",
    "x = independant variable (`period` in this example), between x1 and x2\n",
    "\n",
    "x1, y1 = known values at point 1\n",
    "\n",
    "x2, y2 = known values at point 2"
   ]
  },
  {
   "cell_type": "markdown",
   "metadata": {},
   "source": [
    "## Create DataFrame and plot\n",
    "\n",
    "Let's start with some imports and creating a spark session "
   ]
  },
  {
   "cell_type": "code",
   "execution_count": 1,
   "metadata": {},
   "outputs": [],
   "source": [
    "from pyspark.sql import SparkSession\n",
    "from pyspark.sql import functions as F\n",
    "from pyspark.sql.window import Window\n",
    "import datetime\n",
    "\n",
    "spark = (\n",
    "    SparkSession.builder.appName(\"interpolate-tip\")\n",
    "    .getOrCreate()\n",
    ")"
   ]
  },
  {
   "cell_type": "markdown",
   "metadata": {},
   "source": [
    "As mentioned previously we will create three columns, `area_code`, `period` and `count`. Note that `count` contains some missing values to impute and `period` contains some mixed frequency points to make it more interesting."
   ]
  },
  {
   "cell_type": "code",
   "execution_count": 2,
   "metadata": {},
   "outputs": [],
   "source": [
    "df = spark.createDataFrame([\n",
    "    [\"A\", \"20210101\", 100],\n",
    "    [\"A\", \"20210106\", None],\n",
    "    [\"A\", \"20210111\", None],\n",
    "    [\"A\", \"20210116\", 130],\n",
    "    [\"A\", \"20210121\", 100],\n",
    "    [\"A\", \"20210126\", 120],\n",
    "    [\"A\", \"20210131\", None],\n",
    "    [\"A\", \"20210205\", 130],\n",
    "    [\"B\", \"20210101\", None],\n",
    "    [\"B\", \"20210111\", 85],\n",
    "    [\"B\", \"20210119\", 82],\n",
    "    [\"B\", \"20210131\", 75],\n",
    "    [\"B\", \"20210210\", None],\n",
    "    [\"B\", \"20210215\", 85],\n",
    "    [\"B\", \"20210220\", None],\n",
    "    [\"B\", \"20210225\", 75]\n",
    "    ],\n",
    "    [\"area_code\", \"period\", \"count\"])"
   ]
  },
  {
   "cell_type": "markdown",
   "metadata": {},
   "source": [
    "Let's take a quick look at some charts to see what this looks like"
   ]
  },
  {
   "cell_type": "code",
   "execution_count": 3,
   "metadata": {},
   "outputs": [],
   "source": [
    "import pandas as pd\n",
    "pdf = df.toPandas()\n",
    "pdf.set_index(pd.to_datetime(pdf[\"period\"]), inplace=True)"
   ]
  },
  {
   "cell_type": "code",
   "execution_count": 4,
   "metadata": {},
   "outputs": [
    {
     "data": {
      "text/plain": [
       "<matplotlib.axes._subplots.AxesSubplot at 0x7fd2a05f2c88>"
      ]
     },
     "execution_count": 4,
     "metadata": {},
     "output_type": "execute_result"
    }
   ],
   "source": [
    "pdf[pdf[\"area_code\"]==\"A\"].plot(marker=\"o\")\n",
    "pdf[pdf[\"area_code\"]==\"B\"].plot(marker=\"o\")"
   ]
  },
  {
   "cell_type": "markdown",
   "metadata": {},
   "source": [
    "As you can see, the lines don't meet all the points becuase there are missing counts in between.\n",
    "\n",
    "## Interpolate\n",
    "\n",
    "The approach we will take to interpolate is to create new columns containing forward filled and backward filled counts and periods where the `count` is missing. Then use these columns in the formula above to calculate the gradient and interpolated counts.\n",
    "\n",
    "Here are the steps in more detail,\n",
    "1. Add timestamp columns\n",
    "2. Create ordered windows for forward and backward filling\n",
    "3. Carry out the forward and backward fills on count and timestamp\n",
    "4. Calculate the gradient\n",
    "5. Calculate the interpolated counts\n",
    "\n",
    "In practice there is often some cleaning to do with dates, here we just have a string in the format `YYYYMMDD`.\n",
    "\n",
    "Before we impute any values we will create a flag to indicate an imputed value for the end user."
   ]
  },
  {
   "cell_type": "code",
   "execution_count": 5,
   "metadata": {},
   "outputs": [],
   "source": [
    "df = df.withColumn(\"impute_flag\",\n",
    "                   F.when(F.col(\"count\").isNull(), 1)\n",
    "                   .otherwise(0))"
   ]
  },
  {
   "cell_type": "markdown",
   "metadata": {},
   "source": [
    "Next we will need to create some new timestamp columns. The function `unix_timestamp()` will convert the `period` column into [seconds since 1st of January 1970](https://en.wikipedia.org/wiki/Unix_time#:~:text=The%20Unix%20epoch%20is%20the,%2D01T00%3A00%3A00Z.). We need one version of the column with missing timestamps corresponding to the missing counts, and another version including all the periods."
   ]
  },
  {
   "cell_type": "code",
   "execution_count": 6,
   "metadata": {},
   "outputs": [],
   "source": [
    "# Add timestamp for data we have only. This will be used to interpolate\n",
    "df = df.withColumn(\"timestamp_with_nulls\",\n",
    "                   F.when(F.col(\"impute_flag\")!=1,\n",
    "                          F.unix_timestamp(F.col(\"period\"), \"yyyyMMdd\"))\n",
    "                   .otherwise(None))\n",
    "\n",
    "# Add timestamp for all data\n",
    "df = df.withColumn(\"timestamp_all\",\n",
    "                  F.unix_timestamp(F.col(\"period\"), \"yyyyMMdd\")\n",
    "                  )"
   ]
  },
  {
   "cell_type": "markdown",
   "metadata": {},
   "source": [
    "Next we create the `Window` functions to forward fill and backward fill the missing values in the `count` and `timestamp_with_nulls` columns."
   ]
  },
  {
   "cell_type": "code",
   "execution_count": 7,
   "metadata": {},
   "outputs": [],
   "source": [
    "# Create window for forward filling\n",
    "window_ff = (\n",
    "    Window\n",
    "    .partitionBy(\"area_code\")\n",
    "    .orderBy(\"period\")\n",
    "    .rangeBetween(Window.unboundedPreceding, 0)\n",
    ") \n",
    "\n",
    "# Create window for backward filling\n",
    "window_bf = (\n",
    "    Window\n",
    "    .partitionBy('area_code')\n",
    "    .orderBy(\"period\")\n",
    "    .rangeBetween(0, Window.unboundedFollowing)\n",
    ") "
   ]
  },
  {
   "cell_type": "markdown",
   "metadata": {},
   "source": [
    "To forward and backward fill the missing values we use the `F.last()` and `F.first()` functions respectively. These will grab the preceding and following values of a missing value within our defined windows.\n",
    "\n",
    "Once assembled we can put them in `.withColumn()` to add the forward and backward fill columns."
   ]
  },
  {
   "cell_type": "code",
   "execution_count": 8,
   "metadata": {},
   "outputs": [
    {
     "name": "stdout",
     "output_type": "stream",
     "text": [
      "+---------+--------+-----+-----------+--------------------+-------------+--------+--------+----------+----------+\n",
      "|area_code|  period|count|impute_flag|timestamp_with_nulls|timestamp_all|count_ff|count_bf| period_ff| period_bf|\n",
      "+---------+--------+-----+-----------+--------------------+-------------+--------+--------+----------+----------+\n",
      "|        B|20210101| null|          1|                null|   1609459200|    null|      85|      null|1610323200|\n",
      "|        B|20210111|   85|          0|          1610323200|   1610323200|      85|      85|1610323200|1610323200|\n",
      "|        B|20210119|   82|          0|          1611014400|   1611014400|      82|      82|1611014400|1611014400|\n",
      "|        B|20210131|   75|          0|          1612051200|   1612051200|      75|      75|1612051200|1612051200|\n",
      "|        B|20210210| null|          1|                null|   1612915200|      75|      85|1612051200|1613347200|\n",
      "|        B|20210215|   85|          0|          1613347200|   1613347200|      85|      85|1613347200|1613347200|\n",
      "|        B|20210220| null|          1|                null|   1613779200|      85|      75|1613347200|1614211200|\n",
      "|        B|20210225|   75|          0|          1614211200|   1614211200|      75|      75|1614211200|1614211200|\n",
      "|        A|20210101|  100|          0|          1609459200|   1609459200|     100|     100|1609459200|1609459200|\n",
      "|        A|20210106| null|          1|                null|   1609891200|     100|     130|1609459200|1610755200|\n",
      "|        A|20210111| null|          1|                null|   1610323200|     100|     130|1609459200|1610755200|\n",
      "|        A|20210116|  130|          0|          1610755200|   1610755200|     130|     130|1610755200|1610755200|\n",
      "|        A|20210121|  100|          0|          1611187200|   1611187200|     100|     100|1611187200|1611187200|\n",
      "|        A|20210126|  120|          0|          1611619200|   1611619200|     120|     120|1611619200|1611619200|\n",
      "|        A|20210131| null|          1|                null|   1612051200|     120|     130|1611619200|1612483200|\n",
      "|        A|20210205|  130|          0|          1612483200|   1612483200|     130|     130|1612483200|1612483200|\n",
      "+---------+--------+-----+-----------+--------------------+-------------+--------+--------+----------+----------+\n",
      "\n"
     ]
    }
   ],
   "source": [
    "# create the series containing the filled values\n",
    "count_last = F.last(F.col(\"count\"), ignorenulls=True).over(window_ff)\n",
    "count_first = F.first(F.col(\"count\"), ignorenulls=True).over(window_bf)\n",
    "\n",
    "period_last = F.last(F.col(\"timestamp_with_nulls\"), ignorenulls=True).over(window_ff)\n",
    "period_first = F.first(F.col(\"timestamp_with_nulls\"), ignorenulls=True).over(window_bf)\n",
    "\n",
    "# add the columns to the dataframe\n",
    "df = (\n",
    "    df.withColumn('count_ff', count_last)\n",
    "    .withColumn('count_bf', count_first)\n",
    "    .withColumn('period_ff', period_last)\n",
    "    .withColumn('period_bf', period_first)\n",
    ")\n",
    "\n",
    "df.show()"
   ]
  },
  {
   "cell_type": "markdown",
   "metadata": {},
   "source": [
    "We're now ready to calculate the gradient between the known points and interpolate. "
   ]
  },
  {
   "cell_type": "code",
   "execution_count": 9,
   "metadata": {},
   "outputs": [],
   "source": [
    "# Create a gradient column\n",
    "df = df.withColumn(\"gradient\",\n",
    "                   F.when(F.col(\"impute_flag\")==1,\n",
    "                          (F.col(\"count_bf\") - F.col(\"count_ff\")) /\n",
    "                          (F.col(\"period_bf\") - F.col(\"period_ff\")))\n",
    "                   .otherwise(0)\n",
    "                  )\n",
    "\n",
    "# Create the imputed values\n",
    "df = df.withColumn(\"count_final\",\n",
    "                  F.when(F.col(\"impute_flag\")==1,\n",
    "                        F.col(\"count_ff\") +\n",
    "                        F.col(\"gradient\") *\n",
    "                        (F.col(\"timestamp_all\") - F.col(\"period_ff\"))\n",
    "                        )\n",
    "                   .otherwise(F.col(\"count\"))\n",
    "                  )"
   ]
  },
  {
   "cell_type": "markdown",
   "metadata": {},
   "source": [
    "## View the results\n",
    "\n",
    "To view the results we will select the columns of interest and convert to pandas."
   ]
  },
  {
   "cell_type": "code",
   "execution_count": 10,
   "metadata": {},
   "outputs": [
    {
     "data": {
      "text/html": [
       "<div>\n",
       "<style>\n",
       "    .dataframe thead tr:only-child th {\n",
       "        text-align: right;\n",
       "    }\n",
       "\n",
       "    .dataframe thead th {\n",
       "        text-align: left;\n",
       "    }\n",
       "\n",
       "    .dataframe tbody tr th {\n",
       "        vertical-align: top;\n",
       "    }\n",
       "</style>\n",
       "<table border=\"1\" class=\"dataframe\">\n",
       "  <thead>\n",
       "    <tr style=\"text-align: right;\">\n",
       "      <th></th>\n",
       "      <th>area_code</th>\n",
       "      <th>count</th>\n",
       "      <th>impute_flag</th>\n",
       "      <th>count_final</th>\n",
       "    </tr>\n",
       "    <tr>\n",
       "      <th>period</th>\n",
       "      <th></th>\n",
       "      <th></th>\n",
       "      <th></th>\n",
       "      <th></th>\n",
       "    </tr>\n",
       "  </thead>\n",
       "  <tbody>\n",
       "    <tr>\n",
       "      <th>2021-01-01</th>\n",
       "      <td>B</td>\n",
       "      <td>NaN</td>\n",
       "      <td>1</td>\n",
       "      <td>NaN</td>\n",
       "    </tr>\n",
       "    <tr>\n",
       "      <th>2021-01-11</th>\n",
       "      <td>B</td>\n",
       "      <td>85.0</td>\n",
       "      <td>0</td>\n",
       "      <td>85.000000</td>\n",
       "    </tr>\n",
       "    <tr>\n",
       "      <th>2021-01-19</th>\n",
       "      <td>B</td>\n",
       "      <td>82.0</td>\n",
       "      <td>0</td>\n",
       "      <td>82.000000</td>\n",
       "    </tr>\n",
       "    <tr>\n",
       "      <th>2021-01-31</th>\n",
       "      <td>B</td>\n",
       "      <td>75.0</td>\n",
       "      <td>0</td>\n",
       "      <td>75.000000</td>\n",
       "    </tr>\n",
       "    <tr>\n",
       "      <th>2021-02-10</th>\n",
       "      <td>B</td>\n",
       "      <td>NaN</td>\n",
       "      <td>1</td>\n",
       "      <td>81.666667</td>\n",
       "    </tr>\n",
       "    <tr>\n",
       "      <th>2021-02-15</th>\n",
       "      <td>B</td>\n",
       "      <td>85.0</td>\n",
       "      <td>0</td>\n",
       "      <td>85.000000</td>\n",
       "    </tr>\n",
       "    <tr>\n",
       "      <th>2021-02-20</th>\n",
       "      <td>B</td>\n",
       "      <td>NaN</td>\n",
       "      <td>1</td>\n",
       "      <td>80.000000</td>\n",
       "    </tr>\n",
       "    <tr>\n",
       "      <th>2021-02-25</th>\n",
       "      <td>B</td>\n",
       "      <td>75.0</td>\n",
       "      <td>0</td>\n",
       "      <td>75.000000</td>\n",
       "    </tr>\n",
       "    <tr>\n",
       "      <th>2021-01-01</th>\n",
       "      <td>A</td>\n",
       "      <td>100.0</td>\n",
       "      <td>0</td>\n",
       "      <td>100.000000</td>\n",
       "    </tr>\n",
       "    <tr>\n",
       "      <th>2021-01-06</th>\n",
       "      <td>A</td>\n",
       "      <td>NaN</td>\n",
       "      <td>1</td>\n",
       "      <td>110.000000</td>\n",
       "    </tr>\n",
       "    <tr>\n",
       "      <th>2021-01-11</th>\n",
       "      <td>A</td>\n",
       "      <td>NaN</td>\n",
       "      <td>1</td>\n",
       "      <td>120.000000</td>\n",
       "    </tr>\n",
       "    <tr>\n",
       "      <th>2021-01-16</th>\n",
       "      <td>A</td>\n",
       "      <td>130.0</td>\n",
       "      <td>0</td>\n",
       "      <td>130.000000</td>\n",
       "    </tr>\n",
       "    <tr>\n",
       "      <th>2021-01-21</th>\n",
       "      <td>A</td>\n",
       "      <td>100.0</td>\n",
       "      <td>0</td>\n",
       "      <td>100.000000</td>\n",
       "    </tr>\n",
       "    <tr>\n",
       "      <th>2021-01-26</th>\n",
       "      <td>A</td>\n",
       "      <td>120.0</td>\n",
       "      <td>0</td>\n",
       "      <td>120.000000</td>\n",
       "    </tr>\n",
       "    <tr>\n",
       "      <th>2021-01-31</th>\n",
       "      <td>A</td>\n",
       "      <td>NaN</td>\n",
       "      <td>1</td>\n",
       "      <td>125.000000</td>\n",
       "    </tr>\n",
       "    <tr>\n",
       "      <th>2021-02-05</th>\n",
       "      <td>A</td>\n",
       "      <td>130.0</td>\n",
       "      <td>0</td>\n",
       "      <td>130.000000</td>\n",
       "    </tr>\n",
       "  </tbody>\n",
       "</table>\n",
       "</div>"
      ],
      "text/plain": [
       "           area_code  count  impute_flag  count_final\n",
       "period                                               \n",
       "2021-01-01         B    NaN            1          NaN\n",
       "2021-01-11         B   85.0            0    85.000000\n",
       "2021-01-19         B   82.0            0    82.000000\n",
       "2021-01-31         B   75.0            0    75.000000\n",
       "2021-02-10         B    NaN            1    81.666667\n",
       "2021-02-15         B   85.0            0    85.000000\n",
       "2021-02-20         B    NaN            1    80.000000\n",
       "2021-02-25         B   75.0            0    75.000000\n",
       "2021-01-01         A  100.0            0   100.000000\n",
       "2021-01-06         A    NaN            1   110.000000\n",
       "2021-01-11         A    NaN            1   120.000000\n",
       "2021-01-16         A  130.0            0   130.000000\n",
       "2021-01-21         A  100.0            0   100.000000\n",
       "2021-01-26         A  120.0            0   120.000000\n",
       "2021-01-31         A    NaN            1   125.000000\n",
       "2021-02-05         A  130.0            0   130.000000"
      ]
     },
     "execution_count": 10,
     "metadata": {},
     "output_type": "execute_result"
    }
   ],
   "source": [
    "pdf = df.select(\"area_code\", \"period\", \"count\", \"impute_flag\", \"count_final\").toPandas()\n",
    "pdf = pdf.set_index(pd.to_datetime(pdf[\"period\"])).drop(\"period\", axis=1)\n",
    "pdf"
   ]
  },
  {
   "cell_type": "markdown",
   "metadata": {},
   "source": [
    "Note that the first value for `area_code` B could not be interpolated because there is no preceding count available. In other words, we would need to extrapolate to estimate for this value.\n",
    "\n",
    "Once again, we will plot the series with pandas. The original data are plotted as red circles and the final series in blue."
   ]
  },
  {
   "cell_type": "code",
   "execution_count": 11,
   "metadata": {},
   "outputs": [
    {
     "data": {
      "text/plain": [
       "<matplotlib.axes._subplots.AxesSubplot at 0x7fd2a05e27f0>"
      ]
     },
     "execution_count": 11,
     "metadata": {},
     "output_type": "execute_result"
    },
    {
     "data": {
      "image/png": "[encoded data removed]",
      "text/plain": [
       "<matplotlib.figure.Figure at 0x7fd2a04a6320>"
      ]
     },
     "metadata": {
      "needs_background": "light"
     },
     "output_type": "display_data"
    },
    {
     "data": {
      "image/png": "[encoded data removed]",
      "text/plain": [
       "<matplotlib.figure.Figure at 0x7fd2a0435668>"
      ]
     },
     "metadata": {
      "needs_background": "light"
     },
     "output_type": "display_data"
    }
   ],
   "source": [
    "pdf[pdf[\"area_code\"] == \"A\"].drop(\"impute_flag\", axis=1).plot(style={\"count\":\"ro\", \"count_final\":\"b+-\"}, alpha=0.5)\n",
    "pdf[pdf[\"area_code\"] == \"B\"].drop(\"impute_flag\", axis=1).plot(style={\"count\":\"ro\", \"count_final\":\"b+-\"}, alpha=0.5)"
   ]
  },
  {
   "cell_type": "markdown",
   "metadata": {},
   "source": [
    "## Further resources\n",
    "\n",
    "- This tip has been adapted from [another source](https://walkenho.github.io/interpolating-time-series-p2-spark/). Note that the method shown in the linked page uses User Defined Functions (UDFs).\n",
    "- For more information about imputation, see the [Awareness in Editing and Imputation](https://learninghub.ons.gov.uk/enrol/index.php?id=574) course on the Learning Hub.\n",
    "- If your DataFrame is small enough [just use pandas](https://pandas.pydata.org/pandas-docs/stable/reference/api/pandas.DataFrame.interpolate.html).\n",
    "- Wikipedia definition for [interpolation](https://en.wikipedia.org/wiki/Interpolation)"
   ]
  }
 ],
 "metadata": {
  "kernelspec": {
   "display_name": "Python 3",
   "language": "python",
   "name": "python3"
  },
  "language_info": {
   "codemirror_mode": {
    "name": "ipython",
    "version": 3
   },
   "file_extension": ".py",
   "mimetype": "text/x-python",
   "name": "python",
   "nbconvert_exporter": "python",
   "pygments_lexer": "ipython3",
   "version": "3.6.8"
  }
 },
 "nbformat": 4,
 "nbformat_minor": 2
}
