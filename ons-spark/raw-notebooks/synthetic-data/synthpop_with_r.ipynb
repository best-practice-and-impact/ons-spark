{
 "cells": [
  {
   "cell_type": "markdown",
   "metadata": {},
   "source": [
    "# Generating Synthetic Data in `R`"
   ]
  },
  {
   "cell_type": "markdown",
   "metadata": {},
   "source": [
    "## 1. What is synthetic data?\n",
    "\n",
    "According to the US Census Bureau, “Synthetic data are microdata records created to improve data utility while preventing disclosure of confidential respondent information. Synthetic data is created by statistically modelling original data and then using those models to generate new data values that reproduce the original data’s statistical properties. Users are unable to identify the information of the entities that provided the original data.”​\n",
    "\n",
    "There are many situations in ONS where the generation of synthetic data could be used to improve outputs. These are listed in [Synthetic data at ONS](https://www.ons.gov.uk/methodology/methodologicalpublications/generalmethodology/onsworkingpaperseries/onsmethodologyworkingpaperseriesnumber16syntheticdatapilot) and they include:\n",
    "\n",
    "* provision of microdata to users\n",
    "* testing systems\n",
    "* developing systems or methods in non-secure environments\n",
    "* obtaining non-disclosive data from data suppliers\n",
    "* teaching – a useful way to promote the use of ONS data sources\n",
    "\n",
    "**Methods for Generating Synthetic Data in `R`**\n",
    "\n",
    "We will look at two methods for generating synthetic data. Some of the examples here were adapted from Iain Dove presentations on [Synthetic data, a useful tool for ONS](https://officenationalstatistics.sharepoint.com/sites/ONS_coffee_and_coding/Recording%20of%20Monthly%20Presentations/Forms/AllItems.aspx?ct=1741603363150&or=Teams%2DHL&ga=1&LOF=1&id=%2Fsites%2FONS%5Fcoffee%5Fand%5Fcoding%2FRecording%20of%20Monthly%20Presentations%2FSythetic%20Data%2C%20a%20tool%20for%20ONS%2FSynthetic%2Ddata%2C%2Da%2Duseful%2Dtool%2Dfor%2DONS%2Ehtml&parent=%2Fsites%2FONS%5Fcoffee%5Fand%5Fcoding%2FRecording%20of%20Monthly%20Presentations%2FSythetic%20Data%2C%20a%20tool%20for%20ONS):\n",
    "\n",
    "1. Writing your own code\n",
    "2. Using the `synthpop` R package"
   ]
  },
  {
   "cell_type": "markdown",
   "metadata": {
    "vscode": {
     "languageId": "markdown"
    }
   },
   "source": [
    "## 2. Generating synthetic data in `R` from scratch"
   ]
  },
  {
   "cell_type": "markdown",
   "metadata": {},
   "source": [
    "### 2.1 Numerical Variables\n",
    "\n"
   ]
  },
  {
   "cell_type": "markdown",
   "metadata": {
    "vscode": {
     "languageId": "markdown"
    }
   },
   "source": [
    "In this section, we will generate synthetic numerical variables using different distributions in `R`. We will use the following distributions:\n",
    "\n",
    "1. Uniform Distribution\n",
    "2. Normal Distribution\n",
    "3. Binomial Distribution\n",
    "4. Poisson Distribution\n",
    "\n",
    "Below are the `R` codes to generate these variables."
   ]
  },
  {
   "cell_type": "markdown",
   "metadata": {},
   "source": [
    "**1. Uniform Distribution**: The uniform distribution generates data where each value within a specified range is equally likely. This is useful for simulating data with a consistent spread.\n",
    "\n",
    "`runif` generates data where each value within the specified range is equally likely."
   ]
  },
  {
   "cell_type": "markdown",
   "metadata": {},
   "source": [
    "\n",
    "```r\n",
    "# Create data from scratch\n",
    "# Creates a uniform distribution of data\n",
    "\n",
    "uniform_dist <- runif(n = 1000, # number of observations/rows\n",
    "                      min = 0,  # lower limit\n",
    "                      max = 1)  # upper limit\n",
    "\n",
    "# Example: Simulating random probabilities or proportions.\n",
    "# To explore the generated data:\n",
    "# hist(uniform_dist, main=\"Uniform Distribution Example\", xlab=\"Value\")\n",
    "# summary(uniform_dist)\n",
    "```"
   ]
  },
  {
   "cell_type": "markdown",
   "metadata": {
    "vscode": {
     "languageId": "r"
    }
   },
   "source": [
    "**2. Normal Distribution**: The normal distribution, or Gaussian distribution, is useful for simulating data that clusters around a mean. This is common in many natural phenomena.\n",
    "\n",
    "`rnorm` generates data that clusters around a specified mean, with a given standard deviation."
   ]
  },
  {
   "cell_type": "markdown",
   "metadata": {},
   "source": [
    "```r\n",
    "# Create data from scratch\n",
    "# Creates a normal distribution of data\n",
    "\n",
    "normal_dist <- rnorm(n = 1000,  # number of observations/rows\n",
    "                     mean = 50, # average\n",
    "                     sd = 4)    # standard deviation\n",
    "\n",
    "# Example: Simulating test scores or measurements.\n",
    "# To explore the generated data:\n",
    "# hist(normal_dist, main=\"Normal Distribution Example\", xlab=\"Value\")\n",
    "# summary(normal_dist)\n",
    "```"
   ]
  },
  {
   "cell_type": "markdown",
   "metadata": {},
   "source": [
    "**3. Poisson Distribution**: The Poisson distribution is used for count data, where you are counting the number of events in a fixed interval of time or space.\n",
    "\n",
    "`rpois` generates count data, useful for modeling the number of events in a fixed interval."
   ]
  },
  {
   "cell_type": "markdown",
   "metadata": {},
   "source": [
    "```r\n",
    "# Create data from scratch\n",
    "# Creates a poisson distribution of data\n",
    "\n",
    "poisson_dist <- rpois(n = 1000,  # number of observations/rows\n",
    "                      lambda = 4) # non negative mean\n",
    "\n",
    "# Example: Simulating the number of visits to a government website per day.\n",
    "# To explore the generated data:\n",
    "# hist(poisson_dist, main=\"Poisson Distribution Example\", xlab=\"Number of Events\")\n",
    "# summary(poisson_dist)\n",
    "```"
   ]
  },
  {
   "cell_type": "markdown",
   "metadata": {},
   "source": [
    "**4. Binomial Distribution**: The binomial distribution is useful for simulating the number of successes in a fixed number of trials, each with the same probability of success.\n",
    "\n",
    "`rbinom` generates data representing the number of successes in a fixed number of trials, each with the same probability of success."
   ]
  },
  {
   "cell_type": "markdown",
   "metadata": {},
   "source": [
    "```r\n",
    "# Create data from scratch\n",
    "# Creates a binomial distribution of data\n",
    "\n",
    "binomial_dist <- rbinom(n = 1000,  # number of observations/rows\n",
    "                        size = 20, # number of trials\n",
    "                        prob = 0.2) # probability of success of each trial\n",
    "\n",
    "# Example: Simulating the number of successful outcomes in a series of experiments.\n",
    "# To explore the generated data:\n",
    "# hist(binomial_dist, main=\"Binomial Distribution Example\", xlab=\"Number of Successes\")\n",
    "# summary(binomial_dist)\n",
    "```"
   ]
  },
  {
   "cell_type": "markdown",
   "metadata": {},
   "source": [
    "### 2.2 Character/factor variables"
   ]
  },
  {
   "cell_type": "markdown",
   "metadata": {},
   "source": [
    "In this section, we will generate synthetic character (factor) variables using random sampling in `R`. These variables are useful for simulating categorical data, such as demographic information."
   ]
  },
  {
   "cell_type": "markdown",
   "metadata": {},
   "source": [
    "**1. Random sampling from a vector**: Random sampling from a vector allows you to generate categorical data by randomly selecting elements from a specified set. This is useful for creating variables like gender, where each observation is randomly assigned a category."
   ]
  },
  {
   "cell_type": "markdown",
   "metadata": {},
   "source": [
    "```r\n",
    "# Set seed for reproducibility\n",
    "set.seed(123)\n",
    "\n",
    "# Random sampling from a vector\n",
    "\n",
    "gender <- sample(x = c(\"M\", \"F\"),  # elements to choose from\n",
    "              size = 1000,      # number of observations\n",
    "              replace = TRUE)   # sampling with replacement\n",
    "\n",
    "# Example: Simulating gender distribution in a population.\n",
    "# To explore the generated data:\n",
    "# table(gender)\n",
    "# prop.table(table(gender))\n",
    "```"
   ]
  },
  {
   "cell_type": "markdown",
   "metadata": {},
   "source": [
    "**2. Weighted sampling from a vector**: Weighted sampling allows you to generate categorical data with specified probabilities for each category. This is useful for creating variables like marital status, where each category has a different likelihood of being selected.\n",
    "\n"
   ]
  },
  {
   "cell_type": "markdown",
   "metadata": {},
   "source": [
    "```r\n",
    "# Set seed for reproducibility\n",
    "set.seed(456)\n",
    "\n",
    "# Weighted sampling from a vector, using a vector of probabilities\n",
    "\n",
    "marriage_status <- sample(x = c(\"Single\", \"Married\", \"Divorced\", \"Widowed\"),  \n",
    "                          size = 1000,    \n",
    "                          replace = TRUE,\n",
    "                          prob = c(0.35, 0.50, 0.10, 0.05))\n",
    "\n",
    "# Example: Simulating marital status distribution in a population.\n",
    "# To explore the generated data:\n",
    "# table(marriage_status)\n",
    "# prop.table(table(marriage_status))\n",
    "```"
   ]
  },
  {
   "cell_type": "markdown",
   "metadata": {},
   "source": [
    "Here is the explanation of the code snippet above:\n",
    "\n",
    "1. Setting a Seed (`set.seed`):\n",
    "\n",
    "* `set.seed(123)`: Sets the seed for random number generation. The number `123` can be any integer. Using the same seed will produce the same sequence of random numbers each time the code is run.\n",
    "2. Random Sampling (`sample`):\n",
    "\n",
    "* `x`: The vector of elements to choose from.\n",
    "* `size`: The number of observations to generate.\n",
    "* `replace`: Whether sampling is with replacement (`TRUE`) or without replacement (`FALSE`).\n",
    "3. Weighted Sampling (`sample` with `prob`):\n",
    "\n",
    "* `prob`: A vector of probabilities corresponding to the likelihood of each element in `x` being selected. The probabilities must sum to `1`."
   ]
  },
  {
   "cell_type": "markdown",
   "metadata": {},
   "source": [
    "### 2.3 Combining data into a synthetic dataset\n"
   ]
  },
  {
   "cell_type": "markdown",
   "metadata": {},
   "source": [
    "Now, we will combine the numerical and categorical data into a single synthetic dataset using the `data.table` package:"
   ]
  },
  {
   "cell_type": "markdown",
   "metadata": {},
   "source": [
    "```r\n",
    "# Load the data.table package (first install the package using: install.packages(\"data.table\"))\n",
    "library(data.table)\n",
    "\n",
    "# Combine the data into a synthetic dataset\n",
    "synthetic_data1 <- data.table(uniform_dist,\n",
    "                              normal_dist,\n",
    "                              poisson_dist,\n",
    "                              binomial_dist,\n",
    "                              gender,\n",
    "                              marriage_status)\n",
    "\n",
    "# Explore the synthetic dataset\n",
    "print(head(synthetic_data1))\n",
    "summary(synthetic_data1)\n",
    "str(synthetic_data1)\n",
    "```"
   ]
  },
  {
   "cell_type": "markdown",
   "metadata": {},
   "source": [
    "**Converting Character Variables to Factors**  \n",
    "To ensure that the categorical variables are treated appropriately in analyses, we should convert them to factor variables:"
   ]
  },
  {
   "cell_type": "markdown",
   "metadata": {},
   "source": [
    "```r\n",
    "# Change gender and marriage_status to factor variables\n",
    "synthetic_data1$gender <- as.factor(synthetic_data1$gender)\n",
    "synthetic_data1$marriage_status <- as.factor(synthetic_data1$marriage_status)\n",
    "\n",
    "# Check the structure of the dataset again\n",
    "str(synthetic_data1)\n",
    "```"
   ]
  },
  {
   "cell_type": "markdown",
   "metadata": {},
   "source": [
    "This combined synthetic dataset can now be used for various analyses, simulations, and testing purposes. It provides a comprehensive representation of both numerical and categorical variables, making it suitable for a wide range of applications."
   ]
  },
  {
   "cell_type": "markdown",
   "metadata": {},
   "source": [
    "These snippets provide a starting point for generating synthetic categorical data using random and weighted sampling with reproducibility. You can adjust the parameters to fit the specific characteristics of the population you are modeling. For more detailed information on the `sample` function, refer to the R documentation."
   ]
  },
  {
   "cell_type": "markdown",
   "metadata": {
    "vscode": {
     "languageId": "markdown"
    }
   },
   "source": [
    "## 3. `synthpop` for Generating Synthetic Data in `R`"
   ]
  },
  {
   "cell_type": "markdown",
   "metadata": {},
   "source": [
    "In the guidiance, we will work with the `R` package `synthpop` [(Nowok, Raab, and Dibben 2016)](https://www.synthpop.org.uk/get-started.html), which is one of the most advanced and dedicated packages in `R` to create synthetic data."
   ]
  },
  {
   "cell_type": "markdown",
   "metadata": {},
   "source": [
    "```r\n",
    "install.packages(\"synthpop\")\n",
    "```"
   ]
  },
  {
   "cell_type": "markdown",
   "metadata": {},
   "source": [
    "\n",
    "\n",
    "This will install `synthpop` and its dependencies from [ONS Artifactory](https://onsart-01/ui/login/).\n",
    "\n",
    "\n",
    "### 3.2 Start `synthpop`\n",
    "\n",
    "To start using the package, load it using the `library()` function:\n",
    "\n"
   ]
  },
  {
   "cell_type": "markdown",
   "metadata": {},
   "source": [
    "```r\n",
    "library(\"synthpop\")\n",
    "```"
   ]
  },
  {
   "cell_type": "markdown",
   "metadata": {},
   "source": [
    "\n",
    "\n",
    "To get a list of all `synthpop` functions, use:\n",
    "\n"
   ]
  },
  {
   "cell_type": "markdown",
   "metadata": {},
   "source": [
    "```r\n",
    "help(package = synthpop)\n",
    "```"
   ]
  },
  {
   "cell_type": "markdown",
   "metadata": {},
   "source": [
    "\n",
    "\n",
    "To quickly access a help file for a specific function, such as the main `synthpop` function [`syn()`](https://www.rdocumentation.org/packages/synthpop/versions/1.8-0/topics/syn), you can type its name preceded by `?`.\n"
   ]
  },
  {
   "cell_type": "markdown",
   "metadata": {},
   "source": [
    "```r\n",
    "?synthpop\n",
    "?syn\n",
    "```"
   ]
  },
  {
   "cell_type": "markdown",
   "metadata": {},
   "source": [
    "<insert figure: \"ons-spark/images/syn_screenshot.png\">"
   ]
  },
  {
   "cell_type": "markdown",
   "metadata": {},
   "source": [
    "\n",
    "\n",
    "## 3.3 Synthesise `synthpop` sample data `SD2011`\n",
    "\n",
    "You will be working with your own data, but for practice, you can use the sample data [`SD2011`](https://www.rdocumentation.org/packages/synthpop/versions/1.8-0/topics/SD2011) provided with the `synthpop` package.\n",
    "\n",
    "**Read the data**  \n",
    "Read the data you want to synthesise into `R`. You can use the `synthpop` function [`read.obs()`](https://www.rdocumentation.org/packages/synthpop/versions/1.9-0/topics/read.obs) to read data from other formats.\n",
    "\n",
    "**Examine your data**  \n",
    "Start with a modest number of variables (8-12) to understand `synthpop`. If your data have more variables, make a selection. The package is intended for large datasets (at least `500` observations).\n",
    "\n",
    "Use the [`codebook.syn()`](https://www.rdocumentation.org/packages/synthpop/versions/1.8-0/topics/codebook.syn) function to examine the features relevant to synthesising:\n",
    "\n"
   ]
  },
  {
   "cell_type": "markdown",
   "metadata": {},
   "source": [
    "### 3.3.1 Sample synthesis using sample data `SD2011` provided with the `synthpop` package\n",
    "\n",
    "In this section, we will guide you through a sample synthesis using the `synthpop` package in `R`. This example uses the [`SD2011` dataset](https://www.rdocumentation.org/packages/synthpop/versions/1.8-0/topics/SD2011), sample provided with the `synthpop` package and [demonstrates how to generate synthetic data](https://www.synthpop.org.uk/assets/firstsynthesis.r) with a smaller subset of variables.\n",
    "\n",
    "#### Step-by-step guide\n",
    "\n",
    "1. **Clean workspace and load package**\n",
    "\n"
   ]
  },
  {
   "cell_type": "markdown",
   "metadata": {},
   "source": [
    "```r\n",
    "# Clean out workspace\n",
    "rm(list = ls())\n",
    "\n",
    "# Load the synthpop package\n",
    "library(synthpop)\n",
    "```"
   ]
  },
  {
   "cell_type": "markdown",
   "metadata": {},
   "source": [
    "\n",
    "\n",
    "2. **Explore the `SD2011` dataset**\n",
    "\n"
   ]
  },
  {
   "cell_type": "markdown",
   "metadata": {},
   "source": [
    "```r\n",
    "# Get information about the SD2011 dataset\n",
    "help(SD2011)\n",
    "\n",
    "# Get the size of the data frame\n",
    "dim(SD2011)\n",
    "\n",
    "# Get summary information about variables\n",
    "codebook.syn(SD2011)$tab\n",
    "```"
   ]
  },
  {
   "cell_type": "markdown",
   "metadata": {},
   "source": [
    "\n",
    "\n",
    "3. **Select a subset of variables**\n",
    "\n"
   ]
  },
  {
   "cell_type": "markdown",
   "metadata": {},
   "source": [
    "```r\n",
    "# Select a subset of variables from SD2011\n",
    "mydata <- SD2011[, c(1, 3, 6, 8, 11, 17, 18, 19, 20, 10)]\n",
    "\n",
    "# Get summary information about the selected variables\n",
    "codebook.syn(mydata)$tab\n",
    "```"
   ]
  },
  {
   "cell_type": "markdown",
   "metadata": {},
   "source": [
    "\n",
    "\n",
    "4. **Handle missing values**\n",
    "\n"
   ]
  },
  {
   "cell_type": "markdown",
   "metadata": {},
   "source": [
    "```r\n",
    "# Check for negative income values\n",
    "table(mydata$income[mydata$income < 0], useNA = \"ifany\")\n",
    "```"
   ]
  },
  {
   "cell_type": "markdown",
   "metadata": {},
   "source": [
    "\n",
    "\n",
    "5. **Synthesise data**\n",
    "\n"
   ]
  },
  {
   "cell_type": "markdown",
   "metadata": {},
   "source": [
    "```r\n",
    "# Synthesize data, handling -8 as a missing value for income\n",
    "mysyn <- syn(mydata, cont.na = list(income = -8))\n",
    "\n",
    "# Get a summary of the synthetic data\n",
    "summary(mysyn)\n",
    "\n",
    "# Compare the synthetic data with the original data\n",
    "compare(mysyn, mydata, stat = \"counts\")\n",
    "```"
   ]
  },
  {
   "cell_type": "markdown",
   "metadata": {},
   "source": [
    "\n",
    "\n",
    "6. **Export synthetic data**\n",
    "\n"
   ]
  },
  {
   "cell_type": "markdown",
   "metadata": {},
   "source": [
    "```r\n",
    "# Export synthetic data to SPSS format\n",
    "write.syn(mysyn, filename = \"mysyn_SD2001.sav\", filetype = \"SPSS\")\n",
    "\n",
    "# Export synthetic data to CSV format\n",
    "write.syn(mysyn, filename = \"mysyn_SD2001.csv\", filetype = \"csv\")\n",
    "```"
   ]
  },
  {
   "cell_type": "markdown",
   "metadata": {},
   "source": [
    "\n",
    "\n",
    "7. **Explore synthetic data**\n",
    "After generating synthetic data using the `synthpop` package, it is important to explore and understand the structure and components of the synthetic data object. This section provides guidance on how to explore the synthetic data object and perform additional comparisons.\n",
    "\n",
    "**Exploring the synthetic data object**  \n",
    "\n",
    "**I. Retrieve component names**"
   ]
  },
  {
   "cell_type": "markdown",
   "metadata": {},
   "source": [
    "```r\n",
    "names(mysyn)\n",
    "```"
   ]
  },
  {
   "cell_type": "markdown",
   "metadata": {},
   "source": [
    "* This command retrieves the names of the components within the `mysyn` object, helping you understand its structure.\n",
    "* When you run `names(mysyn)`, you might see output similar to this:  \n",
    "<Insert ons-spark/images/names(mysyn)_Screenshot.png>"
   ]
  },
  {
   "cell_type": "markdown",
   "metadata": {},
   "source": [
    "**II. Explanation of some of the components**\n",
    "1. [`syn`](https://www.synthpop.org.uk/assets/firstsynthesis.r): The synthetic data set.\n",
    "2. `method`: The methods used for synthesising each variable.\n",
    "3. `predictor.matrix`: The matrix indicating which variables were used as predictors for each synthesised variable.\n",
    "4. `visit.sequence`: The order in which the variables were synthesised.\n",
    "5. `cont.na`: Information about how missing values were handled.\n",
    "6. `rules`: Any rules applied during synthesis.\n",
    "7. `rvalues`: Values used for rules.\n",
    "8. `m`: Number of synthetic datasets created (if multiple).\n",
    "9. `proper`: Indicates if proper synthesis was used.\n",
    "10. `seed`: The seed used for random number generation.\n",
    "11. `call`: The original call to the syn() function.\n",
    "12. `data`: The original data used for synthesis."
   ]
  },
  {
   "cell_type": "markdown",
   "metadata": {},
   "source": [
    "**III. Inspect key components**"
   ]
  },
  {
   "cell_type": "markdown",
   "metadata": {},
   "source": [
    "```r\n",
    "mysyn$method\n",
    "mysyn$predictor.matrix\n",
    "mysyn$visit.sequence\n",
    "mysyn$cont.na\n",
    "mysyn$seed\n",
    "```"
   ]
  },
  {
   "cell_type": "markdown",
   "metadata": {},
   "source": [
    "**IV. Additional comparisons**  \n",
    "To further validate the synthetic data, you can perform additional comparisons between the synthetic and original data using the [`multi.compare()`](https://www.rdocumentation.org/packages/synthpop/versions/1.8-0/topics/multi.compare) function."
   ]
  },
  {
   "cell_type": "markdown",
   "metadata": {
    "vscode": {
     "languageId": "r"
    }
   },
   "source": [
    "```r\n",
    "# Additional comparisons\n",
    "multi.compare(mysyn, mydata, var = \"marital\", by = \"sex\")\n",
    "multi.compare(mysyn, mydata, var = \"income\", by = \"agegr\")\n",
    "multi.compare(mysyn, mydata, var = \"income\", by = \"edu\", cont.type = \"boxplot\")\n",
    "```"
   ]
  },
  {
   "cell_type": "markdown",
   "metadata": {},
   "source": [
    "* `multi.compare(mysyn, mydata, var = \"marital\", by = \"sex\")`: Compares the distribution of the `marital` variable by `sex` between the synthetic and original data.\n",
    "* `multi.compare(mysyn, mydata, var = \"income\", by = \"agegr\")`: Compares the distribution of the `income` variable by `age group` between the synthetic and original data.\n",
    "* `multi.compare(mysyn, mydata, var = \"income\", by = \"edu\", cont.type = \"boxplot\")`: Compares the distribution of the `income` variable by `education level` using boxplots between the synthetic and original data.\n",
    "\n",
    "These steps help ensure that the synthetic data accurately reflects the structure and relationships present in the original data, making it suitable for analysis while protecting the privacy of the original data.\n",
    "\n",
    "See below some of the visuals from using the `multi.compare()` function.\n",
    "\n",
    "<insert the \"ons-spark/images/Rplot_Observed_versus_synthetic_data.png\">"
   ]
  },
  {
   "cell_type": "markdown",
   "metadata": {},
   "source": [
    "### 3.4 Synthesise census teaching data\n",
    "\n",
    "In this section, we will guide you through the process of synthesising another case study as presented by [Iain Dove 2022](https://officenationalstatistics.sharepoint.com/sites/ONS_coffee_and_coding/Recording%20of%20Monthly%20Presentations/Forms/AllItems.aspx?ct=1741603363150&or=Teams%2DHL&ga=1&LOF=1&id=%2Fsites%2FONS%5Fcoffee%5Fand%5Fcoding%2FRecording%20of%20Monthly%20Presentations%2FSythetic%20Data%2C%20a%20tool%20for%20ONS%2FSynthetic%2Ddata%2C%2Da%2Duseful%2Dtool%2Dfor%2DONS%2Ehtml&parent=%2Fsites%2FONS%5Fcoffee%5Fand%5Fcoding%2FRecording%20of%20Monthly%20Presentations%2FSythetic%20Data%2C%20a%20tool%20for%20ONS), a census teaching data using the `synthpop` package in `R`. This demo is an alternative to the synthesis of `SD2011` in `section 3.3`. This involves loading the data, creating a subset, synthesizing the data, and comparing the synthetic data with the original data.\n",
    "\n",
    "#### Step-by-step guide\n",
    "\n",
    "1. **Loading the data**\n",
    "\n"
   ]
  },
  {
   "cell_type": "markdown",
   "metadata": {
    "vscode": {
     "languageId": "r"
    }
   },
   "source": [
    "```r\n",
    "# Load necessary packages\n",
    "library(data.table)\n",
    "library(janitor)\n",
    "library(synthpop)\n",
    "\n",
    "with open(\"../../../config.yaml\") as f:\n",
    "    config = yaml.safe_load(f)\n",
    "    \n",
    "census_2011_path = config[\"census_2011_teaching_data_path_csv\"]\n",
    "\n",
    "# Load the data\n",
    "census_teaching_data <- data.table::fread(census_2011_path, skip = 1) %>%\n",
    "                        janitor::clean_names() # clean variable names\n",
    "```"
   ]
  },
  {
   "cell_type": "markdown",
   "metadata": {},
   "source": [
    "\n",
    "\n",
    "2. **Create a subset of the data**\n",
    "\n",
    "To reduce the demo run time, we will create a subset of the data.\n",
    "\n"
   ]
  },
  {
   "cell_type": "markdown",
   "metadata": {},
   "source": [
    "```r\n",
    "# Create a subset of the data\n",
    "small_census_teaching_data <- census_teaching_data[1:100000,]\n",
    "```"
   ]
  },
  {
   "cell_type": "markdown",
   "metadata": {},
   "source": [
    "\n",
    "\n",
    "3. **First synthesis of census data**\n",
    "\n",
    "Let's now create the synthetic data.\n",
    "\n"
   ]
  },
  {
   "cell_type": "markdown",
   "metadata": {
    "vscode": {
     "languageId": "r"
    }
   },
   "source": [
    "```r\n",
    "# First synthesis\n",
    "synthetic_census_teaching_data <- synthpop::syn(data = small_census_teaching_data, # data to synthesise\n",
    "                                                method = \"sample\", # synthesising method\n",
    "                                                k = 100000) # size of synthetic data\n",
    "```"
   ]
  },
  {
   "cell_type": "markdown",
   "metadata": {},
   "source": [
    "\n",
    "\n",
    "You have created a synthetic data object `synthetic_census_teaching_data` of class `synds`, which is a list with a number of components including the synthesised data and information on how they were created.\n",
    "\n"
   ]
  },
  {
   "cell_type": "markdown",
   "metadata": {
    "vscode": {
     "languageId": "r"
    }
   },
   "source": [
    "```r\n",
    "# Check the class of the synthetic data object\n",
    "class(synthetic_census_teaching_data)\n",
    "```"
   ]
  },
  {
   "cell_type": "markdown",
   "metadata": {},
   "source": [
    "\n",
    "\n",
    "5. **Access the synthetic dataframe**\n",
    "\n",
    "We can access the synthetic dataframe by selecting it from the `synds` object.\n",
    "\n"
   ]
  },
  {
   "cell_type": "markdown",
   "metadata": {
    "vscode": {
     "languageId": "r"
    }
   },
   "source": [
    "```r\n",
    "# Access the synthetic dataframe\n",
    "synthetic_census_teaching_data$syn\n",
    "```"
   ]
  },
  {
   "cell_type": "markdown",
   "metadata": {},
   "source": [
    "```R\n",
    "# Get a summary of the synthetic data\n",
    "summary(synthetic_census_teaching_data)\n",
    "```"
   ]
  },
  {
   "cell_type": "markdown",
   "metadata": {},
   "source": [
    "6. **Comparison with real data**\n",
    "\n",
    "`synthpop` contains functions to assess the accuracy of the synthetic data. Univariate measures are quite easy to satisfy, but relationships between multiple variables are much more difficult."
   ]
  },
  {
   "cell_type": "markdown",
   "metadata": {
    "vscode": {
     "languageId": "r"
    }
   },
   "source": [
    "```r\n",
    "# Compare synthetic data with real data\n",
    "synthpop::compare(object = synthetic_census_teaching_data,\n",
    "                  data = small_census_teaching_data)\n",
    "```"
   ]
  },
  {
   "cell_type": "markdown",
   "metadata": {},
   "source": [
    "#### Relationships between multiple variables\n",
    "\n",
    "Relationships between multiple variables are more complex to model. The `synthpop` default uses a saturated model, which can be challenging for large datasets. Here, we use an input CSV file to specify which variables are related.\n",
    "\n",
    "1. **Load the input CSV file**\n",
    "\n"
   ]
  },
  {
   "cell_type": "markdown",
   "metadata": {
    "vscode": {
     "languageId": "r"
    }
   },
   "source": [
    "```r\n",
    "with open(\"../../../config.yaml\") as f:\n",
    "    config = yaml.safe_load(f)\n",
    "    \n",
    "census_relationship_path = config[\"census_relationship_file_path_csv\"]\n",
    "\n",
    "# Load the input CSV file\n",
    "input <- read.csv(census_relationship_path, # File to load\n",
    "                  stringsAsFactors = FALSE, # Do not load characters as factors\n",
    "                  skip = 1) %>%\n",
    "         dplyr::select(variable, description, predictors) # Select only these columns\n",
    "\n",
    "# Add row names to make it easier\n",
    "rownames(input) <- input$variable\n",
    "```"
   ]
  },
  {
   "cell_type": "markdown",
   "metadata": {},
   "source": [
    "\n",
    "\n",
    "2. **Create predictor matrix**\n",
    "\n",
    "The predictor matrix tells `synthpop` which variables are related and which variables predict each other. If variable `X` is used as a predictor for variable `Y`, the relationship between `X` and `Y` will be preserved to some extent.\n",
    "\n",
    "The predictor matrix should have the following structure:\n",
    "* Each row represents a variable that is being predicted.\n",
    "* Each column represents a variable that is used as a predictor.\n",
    "* A value of 1 in the matrix indicates that the column variable is used as a predictor for the row variable.\n",
    "* A value of 0 indicates that the column variable is not used as a predictor for the row variable.\n",
    "\n"
   ]
  },
  {
   "cell_type": "markdown",
   "metadata": {
    "vscode": {
     "languageId": "r"
    }
   },
   "source": [
    "```r\n",
    "# Create predictor matrix in appropriate format for synthpop from CSV input\n",
    "predictor_matrix <- as.data.frame(matrix(0, nrow = nrow(input), \n",
    "                                         ncol = nrow(input), \n",
    "                                         dimnames = list(input$variable, input$variable)))\n",
    "\n",
    "# Use predictors\n",
    "# Lengthy code here is to deal with multiple predictors written in a single cell\n",
    "for (var in input$variable) {\n",
    "  predictor_matrix[var, as.vector((strsplit(input[var, 'predictors'], \" \"))[[1]])] <- 1\n",
    "}\n",
    "\n",
    "# Relationships can be added manually (row variable predicted by column variable)\n",
    "predictor_matrix['Marital_Status', 'Age'] <- 1\n",
    "predictor_matrix['Economic_Activity', 'Age'] <- 1\n",
    "predictor_matrix['Occupation', 'Economic_Activity'] <- 1\n",
    "predictor_matrix['Hours_worked_per_week', 'Economic_Activity'] <- 1\n",
    "```"
   ]
  },
  {
   "cell_type": "markdown",
   "metadata": {},
   "source": [
    "\n",
    "\n",
    "3. **Synthesise data with relationships**\n",
    "\n",
    "These relationships are used in the synthesis model. The `minnumlevels` parameter converts numeric variables with few unique values into factor variables for the synthesis.\n",
    "\n"
   ]
  },
  {
   "cell_type": "markdown",
   "metadata": {
    "vscode": {
     "languageId": "r"
    }
   },
   "source": [
    "```r\n",
    "# Synthesize data with relationships\n",
    "synthetic_census_teaching_data_2 <- synthpop::syn(data = small_census_teaching_data,\n",
    "                                                  predictor.matrix = as.matrix(predictor_matrix),\n",
    "                                                  minnumlevels = 10)\n",
    "```"
   ]
  },
  {
   "cell_type": "markdown",
   "metadata": {},
   "source": [
    "\n",
    "\n",
    "#### Comparison with real data\n",
    "\n",
    "Assess the accuracy of the synthetic data by comparing it with the original data.\n",
    "\n"
   ]
  },
  {
   "cell_type": "markdown",
   "metadata": {
    "vscode": {
     "languageId": "r"
    }
   },
   "source": [
    "```r\n",
    "# Compare synthetic data with real data\n",
    "synthpop::compare(data = small_census_teaching_data,\n",
    "                  object = synthetic_census_teaching_data_2)\n",
    "\n",
    "# Press enter for the next variable\n",
    "```"
   ]
  },
  {
   "cell_type": "markdown",
   "metadata": {},
   "source": [
    "\n",
    "\n",
    "You can write your own code to compare the datasets, particularly on variables/statistics of interest, e.g., compare bi-variate counts.\n",
    "\n"
   ]
  },
  {
   "cell_type": "markdown",
   "metadata": {
    "vscode": {
     "languageId": "r"
    }
   },
   "source": [
    "```r\n",
    "# Define variables to compare\n",
    "compare_vars <- c(\"economic_activity\", \"hours_worked_per_week\")\n",
    "\n",
    "# Frequency table of compare_vars in original data\n",
    "orig_table <- small_census_teaching_data[, .(orig_count = .N), keyby = compare_vars]\n",
    "\n",
    "# Convert to factors\n",
    "orig_table <- orig_table %>% \n",
    "              dplyr::mutate(economic_activity = as.factor(economic_activity),\n",
    "                            hours_worked_per_week = as.factor(hours_worked_per_week))\n",
    "\n",
    "orig_table\n",
    "\n",
    "# Frequency table of compare_vars in synthetic data with relationships\n",
    "synth2_table <- as.data.table(synthetic_census_teaching_data_2$syn)[, .(synth2_count = .N), keyby = compare_vars]\n",
    "\n",
    "# Frequency table of compare_vars in basic synthetic data\n",
    "synth1_table <- as.data.table(synthetic_census_teaching_data$syn)[, .(synth1_count = .N), keyby = compare_vars]\n",
    "\n",
    "# Convert to factors\n",
    "synth1_table <- synth1_table %>% \n",
    "              dplyr::mutate(economic_activity = as.factor(economic_activity),\n",
    "                            hours_worked_per_week = as.factor(hours_worked_per_week))\n",
    "\n",
    "# Combine counts from both datasets for comparisons\n",
    "comparison2_table <- merge(orig_table, synth2_table, all = TRUE)\n",
    "comparison1_table <- merge(orig_table, synth1_table, all = TRUE)\n",
    "\n",
    "# Replace NA with 0\n",
    "comparison1_table <- comparison1_table %>% \n",
    "                     dplyr::mutate(orig_count = as.double(orig_count)) %>% \n",
    "                     dplyr::mutate(orig_count = if_else(condition = is.na(orig_count),\n",
    "                                                        true = 0, \n",
    "                                                        false = orig_count))\n",
    "\n",
    "# NAs occur if the combination is not present in one of the datasets, convert these to zero counts\n",
    "comparison2_table[is.na(orig_count), orig_count := 0]\n",
    "comparison2_table[is.na(synth2_count), synth2_count := 0]\n",
    "comparison1_table[is.na(orig_count), orig_count := 0]\n",
    "comparison1_table[is.na(synth1_count), synth1_count := 0]\n",
    "\n",
    "# Average absolute distance\n",
    "comparison2_table[, mean(abs(orig_count - synth2_count))]\n",
    "comparison1_table[, mean(abs(orig_count - synth1_count))]\n",
    "\n",
    "# Average percentage difference\n",
    "comparison2_table[, 100 * mean((abs(orig_count - synth2_count) / orig_count))]\n",
    "comparison1_table[, 100 * mean((abs(orig_count - synth1_count) / orig_count))]\n",
    "```"
   ]
  },
  {
   "cell_type": "markdown",
   "metadata": {},
   "source": [
    "\n",
    "\n",
    "This guide provides a concise overview of synthesizing census teaching data with relationships between multiple variables using the `synthpop` package in R. For more detailed information, refer to the [synthpop documentation](https://www.synthpop.org.uk/get-started.html)."
   ]
  },
  {
   "cell_type": "markdown",
   "metadata": {},
   "source": [
    "## References\n",
    "\n",
    "1. [Synthetic data at ONS](https://www.ons.gov.uk/methodology/methodologicalpublications/generalmethodology/onsworkingpaperseries/onsmethodologyworkingpaperseriesnumber16syntheticdatapilot)\n",
    "2. [Synthetic data, a useful tool for ONS (Iain Dove 2022)](https://officenationalstatistics.sharepoint.com/sites/ONS_coffee_and_coding/Recording%20of%20Monthly%20Presentations/Forms/AllItems.aspx?ct=1741603363150&or=Teams%2DHL&ga=1&LOF=1&id=%2Fsites%2FONS%5Fcoffee%5Fand%5Fcoding%2FRecording%20of%20Monthly%20Presentations%2FSythetic%20Data%2C%20a%20tool%20for%20ONS%2FSynthetic%2Ddata%2C%2Da%2Duseful%2Dtool%2Dfor%2DONS%2Ehtml&parent=%2Fsites%2FONS%5Fcoffee%5Fand%5Fcoding%2FRecording%20of%20Monthly%20Presentations%2FSythetic%20Data%2C%20a%20tool%20for%20ONS)\n",
    "3. [`synthpop` (Nowok, Raab, and Dibben 2016)](https://www.synthpop.org.uk/get-started.html)"
   ]
  }
 ],
 "metadata": {
  "kernelspec": {
   "display_name": ".venv",
   "language": "python",
   "name": "python3"
  },
  "language_info": {
   "codemirror_mode": {
    "name": "ipython",
    "version": 3
   },
   "file_extension": ".py",
   "mimetype": "text/x-python",
   "name": "python",
   "nbconvert_exporter": "python",
   "pygments_lexer": "ipython3",
   "version": "3.10.11"
  }
 },
 "nbformat": 4,
 "nbformat_minor": 2
}
