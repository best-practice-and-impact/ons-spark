{
 "cells": [
  {
   "cell_type": "markdown",
   "metadata": {},
   "source": [
    "# Generating Synthetic Data in `R`"
   ]
  },
  {
   "cell_type": "markdown",
   "metadata": {},
   "source": [
    "## 1. What is synthetic data?\n",
    "\n",
    "According to the US Census Bureau, “Synthetic data are microdata records created to improve data utility while preventing disclosure of confidential respondent information. Synthetic data is created by statistically modelling original data and then using those models to generate new data values that reproduce the original data’s statistical properties. Users are unable to identify the information of the entities that provided the original data.”​\n",
    "\n",
    "There are many situations in ONS where the generation of synthetic data could be used to improve outputs. These are listed in [Synthetic data at ONS](https://www.ons.gov.uk/methodology/methodologicalpublications/generalmethodology/onsworkingpaperseries/onsmethodologyworkingpaperseriesnumber16syntheticdatapilot) and they include:\n",
    "\n",
    "* provision of microdata to users\n",
    "* testing systems\n",
    "* developing systems or methods in non-secure environments\n",
    "* obtaining non-disclosive data from data suppliers\n",
    "* teaching – a useful way to promote the use of ONS data sources\n",
    "\n",
    "**Methods for Generating Synthetic Data in `R`**\n",
    "\n",
    "We will look at two methods for generating synthetic data. Some of the examples here were adapted from Iain Dove presentations on [Synthetic data, a useful tool for ONS](https://officenationalstatistics.sharepoint.com/sites/ONS_coffee_and_coding/Recording%20of%20Monthly%20Presentations/Forms/AllItems.aspx?ct=1741603363150&or=Teams%2DHL&ga=1&LOF=1&id=%2Fsites%2FONS%5Fcoffee%5Fand%5Fcoding%2FRecording%20of%20Monthly%20Presentations%2FSythetic%20Data%2C%20a%20tool%20for%20ONS%2FSynthetic%2Ddata%2C%2Da%2Duseful%2Dtool%2Dfor%2DONS%2Ehtml&parent=%2Fsites%2FONS%5Fcoffee%5Fand%5Fcoding%2FRecording%20of%20Monthly%20Presentations%2FSythetic%20Data%2C%20a%20tool%20for%20ONS):\n",
    "\n",
    "1. Writing your own code\n",
    "2. Using the `synthpop` R package"
   ]
  },
  {
   "cell_type": "markdown",
   "metadata": {
    "vscode": {
     "languageId": "markdown"
    }
   },
   "source": [
    "## 2. Generating synthetic data in `R` from scratch"
   ]
  },
  {
   "cell_type": "markdown",
   "metadata": {},
   "source": [
    "### 2.1 Numerical Variables\n",
    "\n"
   ]
  },
  {
   "cell_type": "markdown",
   "metadata": {
    "vscode": {
     "languageId": "markdown"
    }
   },
   "source": [
    "In this section, we will generate synthetic numerical variables using different distributions in `R`. We will use the following distributions:\n",
    "\n",
    "1. Uniform Distribution\n",
    "2. Normal Distribution\n",
    "3. Binomial Distribution\n",
    "4. Poisson Distribution\n",
    "\n",
    "Below are the `R` codes to generate these variables."
   ]
  },
  {
   "cell_type": "markdown",
   "metadata": {},
   "source": [
    "**1. Uniform Distribution**: The uniform distribution generates data where each value within a specified range is equally likely. This is useful for simulating data with a consistent spread.\n",
    "\n",
    "`runif` generates data where each value within the specified range is equally likely."
   ]
  },
  {
   "cell_type": "markdown",
   "metadata": {},
   "source": [
    "\n",
    "```r\n",
    "# Create data from scratch\n",
    "# Creates a uniform distribution of data\n",
    "\n",
    "uniform_dist <- runif(n = 1000, # number of observations/rows\n",
    "                      min = 0,  # lower limit\n",
    "                      max = 1)  # upper limit\n",
    "\n",
    "# Example: Simulating random probabilities or proportions.\n",
    "# To explore the generated data:\n",
    "# hist(uniform_dist, main=\"Uniform Distribution Example\", xlab=\"Value\")\n",
    "# summary(uniform_dist)\n",
    "```"
   ]
  },
  {
   "cell_type": "markdown",
   "metadata": {
    "vscode": {
     "languageId": "r"
    }
   },
   "source": [
    "**2. Normal Distribution**: The normal distribution, or Gaussian distribution, is useful for simulating data that clusters around a mean. This is common in many natural phenomena.\n",
    "\n",
    "`rnorm` generates data that clusters around a specified mean, with a given standard deviation."
   ]
  },
  {
   "cell_type": "markdown",
   "metadata": {},
   "source": [
    "```r\n",
    "# Create data from scratch\n",
    "# Creates a normal distribution of data\n",
    "\n",
    "normal_dist <- rnorm(n = 1000,  # number of observations/rows\n",
    "                     mean = 50, # average\n",
    "                     sd = 4)    # standard deviation\n",
    "\n",
    "# Example: Simulating test scores or measurements.\n",
    "# To explore the generated data:\n",
    "# hist(normal_dist, main=\"Normal Distribution Example\", xlab=\"Value\")\n",
    "# summary(normal_dist)\n",
    "```"
   ]
  },
  {
   "cell_type": "markdown",
   "metadata": {},
   "source": [
    "**3. Poisson Distribution**: The Poisson distribution is used for count data, where you are counting the number of events in a fixed interval of time or space.\n",
    "\n",
    "`rpois` generates count data, useful for modeling the number of events in a fixed interval."
   ]
  },
  {
   "cell_type": "markdown",
   "metadata": {},
   "source": [
    "```r\n",
    "# Create data from scratch\n",
    "# Creates a poisson distribution of data\n",
    "\n",
    "poisson_dist <- rpois(n = 1000,  # number of observations/rows\n",
    "                      lambda = 4) # non negative mean\n",
    "\n",
    "# Example: Simulating the number of visits to a government website per day.\n",
    "# To explore the generated data:\n",
    "# hist(poisson_dist, main=\"Poisson Distribution Example\", xlab=\"Number of Events\")\n",
    "# summary(poisson_dist)\n",
    "```"
   ]
  },
  {
   "cell_type": "markdown",
   "metadata": {},
   "source": [
    "**4. Binomial Distribution**: The binomial distribution is useful for simulating the number of successes in a fixed number of trials, each with the same probability of success.\n",
    "\n",
    "`rbinom` generates data representing the number of successes in a fixed number of trials, each with the same probability of success."
   ]
  },
  {
   "cell_type": "markdown",
   "metadata": {},
   "source": [
    "```r\n",
    "# Create data from scratch\n",
    "# Creates a binomial distribution of data\n",
    "\n",
    "binomial_dist <- rbinom(n = 1000,  # number of observations/rows\n",
    "                        size = 20, # number of trials\n",
    "                        prob = 0.2) # probability of success of each trial\n",
    "\n",
    "# Example: Simulating the number of successful outcomes in a series of experiments.\n",
    "# To explore the generated data:\n",
    "# hist(binomial_dist, main=\"Binomial Distribution Example\", xlab=\"Number of Successes\")\n",
    "# summary(binomial_dist)\n",
    "```"
   ]
  },
  {
   "cell_type": "markdown",
   "metadata": {},
   "source": [
    "### 2.2 Character/factor variables"
   ]
  },
  {
   "cell_type": "markdown",
   "metadata": {},
   "source": [
    "In this section, we will generate synthetic character (factor) variables using random sampling in `R`. These variables are useful for simulating categorical data, such as demographic information."
   ]
  },
  {
   "cell_type": "markdown",
   "metadata": {},
   "source": [
    "**1. Random sampling from a vector**: Random sampling from a vector allows you to generate categorical data by randomly selecting elements from a specified set. This is useful for creating variables like gender, where each observation is randomly assigned a category."
   ]
  },
  {
   "cell_type": "markdown",
   "metadata": {},
   "source": [
    "```r\n",
    "# Set seed for reproducibility\n",
    "set.seed(123)\n",
    "\n",
    "# Random sampling from a vector\n",
    "\n",
    "gender <- sample(x = c(\"M\", \"F\"),  # elements to choose from\n",
    "              size = 1000,      # number of observations\n",
    "              replace = TRUE)   # sampling with replacement\n",
    "\n",
    "# Example: Simulating gender distribution in a population.\n",
    "# To explore the generated data:\n",
    "# table(gender)\n",
    "# prop.table(table(gender))\n",
    "```"
   ]
  },
  {
   "cell_type": "markdown",
   "metadata": {},
   "source": [
    "**2. Weighted sampling from a vector**: Weighted sampling allows you to generate categorical data with specified probabilities for each category. This is useful for creating variables like marital status, where each category has a different likelihood of being selected.\n",
    "\n"
   ]
  },
  {
   "cell_type": "markdown",
   "metadata": {},
   "source": [
    "```r\n",
    "# Set seed for reproducibility\n",
    "set.seed(456)\n",
    "\n",
    "# Weighted sampling from a vector, using a vector of probabilities\n",
    "\n",
    "marriage_status <- sample(x = c(\"Single\", \"Married\", \"Divorced\", \"Widowed\"),  \n",
    "                          size = 1000,    \n",
    "                          replace = TRUE,\n",
    "                          prob = c(0.35, 0.50, 0.10, 0.05))\n",
    "\n",
    "# Example: Simulating marital status distribution in a population.\n",
    "# To explore the generated data:\n",
    "# table(marriage_status)\n",
    "# prop.table(table(marriage_status))\n",
    "```"
   ]
  },
  {
   "cell_type": "markdown",
   "metadata": {},
   "source": [
    "Here is the explanation of the code snippet above:\n",
    "\n",
    "1. Setting a Seed (`set.seed`):\n",
    "\n",
    "* `set.seed(123)`: Sets the seed for random number generation. The number `123` can be any integer. Using the same seed will produce the same sequence of random numbers each time the code is run.\n",
    "2. Random Sampling (`sample`):\n",
    "\n",
    "* `x`: The vector of elements to choose from.\n",
    "* `size`: The number of observations to generate.\n",
    "* `replace`: Whether sampling is with replacement (`TRUE`) or without replacement (`FALSE`).\n",
    "3. Weighted Sampling (`sample` with `prob`):\n",
    "\n",
    "* `prob`: A vector of probabilities corresponding to the likelihood of each element in `x` being selected. The probabilities must sum to `1`."
   ]
  },
  {
   "cell_type": "markdown",
   "metadata": {},
   "source": [
    "### 2.3 Combining data into a synthetic dataset\n"
   ]
  },
  {
   "cell_type": "markdown",
   "metadata": {},
   "source": [
    "Now, we will combine the numerical and categorical data into a single synthetic dataset using the `data.table` package:"
   ]
  },
  {
   "cell_type": "markdown",
   "metadata": {},
   "source": [
    "```r\n",
    "# Load the data.table package (first install the package using: install.packages(\"data.table\"))\n",
    "library(data.table)\n",
    "\n",
    "# Combine the data into a synthetic dataset\n",
    "synthetic_data1 <- data.table(uniform_dist,\n",
    "                              normal_dist,\n",
    "                              poisson_dist,\n",
    "                              binomial_dist,\n",
    "                              gender,\n",
    "                              marriage_status)\n",
    "\n",
    "# Explore the synthetic dataset\n",
    "print(head(synthetic_data1))\n",
    "summary(synthetic_data1)\n",
    "str(synthetic_data1)\n",
    "```"
   ]
  },
  {
   "cell_type": "markdown",
   "metadata": {},
   "source": [
    "**Converting Character Variables to Factors**  \n",
    "To ensure that the categorical variables are treated appropriately in analyses, we should convert them to factor variables:"
   ]
  },
  {
   "cell_type": "markdown",
   "metadata": {},
   "source": [
    "```r\n",
    "# Change gender and marriage_status to factor variables\n",
    "synthetic_data1$gender <- as.factor(synthetic_data1$gender)\n",
    "synthetic_data1$marriage_status <- as.factor(synthetic_data1$marriage_status)\n",
    "\n",
    "# Check the structure of the dataset again\n",
    "str(synthetic_data1)\n",
    "```"
   ]
  },
  {
   "cell_type": "markdown",
   "metadata": {},
   "source": [
    "This combined synthetic dataset can now be used for various analyses, simulations, and testing purposes. It provides a comprehensive representation of both numerical and categorical variables, making it suitable for a wide range of applications."
   ]
  },
  {
   "cell_type": "markdown",
   "metadata": {},
   "source": [
    "These snippets provide a starting point for generating synthetic categorical data using random and weighted sampling with reproducibility. You can adjust the parameters to fit the specific characteristics of the population you are modeling. For more detailed information on the `sample` function, refer to the R documentation."
   ]
  },
  {
   "cell_type": "markdown",
   "metadata": {
    "vscode": {
     "languageId": "markdown"
    }
   },
   "source": [
    "## 3. `synthpop` for Generating Synthetic Data in `R`"
   ]
  },
  {
   "cell_type": "markdown",
   "metadata": {},
   "source": [
    "In the guidiance, we will work with the `R` package `synthpop` [(Nowok, Raab, and Dibben 2016)](https://www.synthpop.org.uk/get-started.html), which is one of the most advanced and dedicated packages in `R` to create synthetic data."
   ]
  },
  {
   "cell_type": "markdown",
   "metadata": {},
   "source": [
    "```r\n",
    "install.packages(\"synthpop\")\n",
    "```"
   ]
  },
  {
   "cell_type": "markdown",
   "metadata": {},
   "source": [
    "\n",
    "\n",
    "This will install `synthpop` and its dependencies from [ONS Artifactory](https://onsart-01/ui/login/).\n",
    "\n",
    "\n",
    "### 3.2 Start `synthpop`\n",
    "\n",
    "To start using the package, load it using the `library()` function:\n",
    "\n"
   ]
  },
  {
   "cell_type": "markdown",
   "metadata": {},
   "source": [
    "```r\n",
    "library(\"synthpop\")\n",
    "```"
   ]
  },
  {
   "cell_type": "markdown",
   "metadata": {},
   "source": [
    "\n",
    "\n",
    "To get a list of all `synthpop` functions, use:\n",
    "\n"
   ]
  },
  {
   "cell_type": "markdown",
   "metadata": {},
   "source": [
    "```r\n",
    "help(package = synthpop)\n",
    "```"
   ]
  },
  {
   "cell_type": "markdown",
   "metadata": {},
   "source": [
    "\n",
    "\n",
    "To access a help file for a specific function, e.g., the main `synthpop` function `syn()`, type:\n",
    "\n"
   ]
  },
  {
   "cell_type": "markdown",
   "metadata": {},
   "source": [
    "```r\n",
    "?syn\n",
    "```"
   ]
  },
  {
   "cell_type": "markdown",
   "metadata": {},
   "source": [
    "\n",
    "\n",
    "## 3.3 First synthesis\n",
    "\n",
    "You will be working with your own data, but for practice, you can use the sample data `SD2011` provided with the `synthpop` package.\n",
    "\n",
    "**Read the Data**  \n",
    "Read the data you want to synthesise into `R`. You can use the `synthpop` function `read.obs()` to read data from other formats.\n",
    "\n",
    "**Examine Your Data**  \n",
    "Start with a modest number of variables (8-12) to understand `synthpop`. If your data have more variables, make a selection. The package is intended for large datasets (at least `500` observations).\n",
    "\n",
    "Use the `codebook.syn()` function to examine the features relevant to synthesising:\n",
    "\n"
   ]
  },
  {
   "cell_type": "markdown",
   "metadata": {},
   "source": [
    "### 3.3.1 Sample synthesis using sample data `SD2011` provided with the `synthpop` package\n",
    "\n",
    "In this section, we will guide you through a sample synthesis using the `synthpop` package in `R`. This example uses the [`SD2011` dataset](sample data `SD2011` provided with the `synthpop` package) provided by the package and demonstrates how to generate synthetic data with a smaller subset of variables.\n",
    "\n",
    "#### Step-by-Step Guide\n",
    "\n",
    "1. **Clean Workspace and Load Package**\n",
    "\n"
   ]
  },
  {
   "cell_type": "markdown",
   "metadata": {},
   "source": [
    "```r\n",
    "# Clean out workspace\n",
    "rm(list = ls())\n",
    "\n",
    "# Load the synthpop package\n",
    "library(synthpop)\n",
    "```"
   ]
  },
  {
   "cell_type": "markdown",
   "metadata": {},
   "source": [
    "\n",
    "\n",
    "2. **Explore the `SD2011` Dataset**\n",
    "\n"
   ]
  },
  {
   "cell_type": "markdown",
   "metadata": {},
   "source": [
    "```r\n",
    "# Get information about the SD2011 dataset\n",
    "help(SD2011)\n",
    "\n",
    "# Get the size of the data frame\n",
    "dim(SD2011)\n",
    "\n",
    "# Get summary information about variables\n",
    "codebook.syn(SD2011)$tab\n",
    "```"
   ]
  },
  {
   "cell_type": "markdown",
   "metadata": {},
   "source": [
    "\n",
    "\n",
    "3. **Select a Subset of Variables**\n",
    "\n"
   ]
  },
  {
   "cell_type": "markdown",
   "metadata": {},
   "source": [
    "```r\n",
    "# Select a subset of variables from SD2011\n",
    "mydata <- SD2011[, c(1, 3, 6, 8, 11, 17, 18, 19, 20, 10)]\n",
    "\n",
    "# Get summary information about the selected variables\n",
    "codebook.syn(mydata)$tab\n",
    "```"
   ]
  },
  {
   "cell_type": "markdown",
   "metadata": {},
   "source": [
    "\n",
    "\n",
    "4. **Handle Missing Values**\n",
    "\n"
   ]
  },
  {
   "cell_type": "markdown",
   "metadata": {},
   "source": [
    "```r\n",
    "# Check for negative income values\n",
    "table(mydata$income[mydata$income < 0], useNA = \"ifany\")\n",
    "```"
   ]
  },
  {
   "cell_type": "markdown",
   "metadata": {},
   "source": [
    "\n",
    "\n",
    "5. **Synthesize Data**\n",
    "\n"
   ]
  },
  {
   "cell_type": "markdown",
   "metadata": {},
   "source": [
    "```r\n",
    "# Synthesize data, handling -8 as a missing value for income\n",
    "mysyn <- syn(mydata, cont.na = list(income = -8))\n",
    "\n",
    "# Get a summary of the synthetic data\n",
    "summary(mysyn)\n",
    "\n",
    "# Compare the synthetic data with the original data\n",
    "compare(mysyn, mydata, stat = \"counts\")\n",
    "```"
   ]
  },
  {
   "cell_type": "markdown",
   "metadata": {},
   "source": [
    "\n",
    "\n",
    "6. **Export Synthetic Data**\n",
    "\n"
   ]
  },
  {
   "cell_type": "markdown",
   "metadata": {},
   "source": [
    "```r\n",
    "# Export synthetic data to SPSS format\n",
    "write.syn(mysyn, filename = \"mysyn_SD2001.sav\", filetype = \"SPSS\")\n",
    "\n",
    "# Export synthetic data to CSV format\n",
    "write.syn(mysyn, filename = \"mysyn_SD2001.csv\", filetype = \"csv\")\n",
    "```"
   ]
  },
  {
   "cell_type": "markdown",
   "metadata": {},
   "source": [
    "\n",
    "\n",
    "7. **Explore synthetic data**\n",
    "After generating synthetic data using the `synthpop` package, it is important to explore and understand the structure and components of the synthetic data object. This section provides guidance on how to explore the synthetic data object and perform additional comparisons.\n",
    "\n",
    "**Exploring the synthetic data object**  \n",
    "\n",
    "**I. Retrieve Component Names**"
   ]
  },
  {
   "cell_type": "markdown",
   "metadata": {},
   "source": [
    "```r\n",
    "names(mysyn)\n",
    "```"
   ]
  },
  {
   "cell_type": "markdown",
   "metadata": {},
   "source": [
    "* This command retrieves the names of the components within the `mysyn` object, helping you understand its structure.\n",
    "* When you run `name(mysyn)`, you might see output similar to this:\n",
    "<Insert a screenshot of example output>"
   ]
  },
  {
   "cell_type": "markdown",
   "metadata": {},
   "source": [
    "**II. Explanation of some of the components**\n",
    "1. `syn`: The synthetic data set.\n",
    "2. `method`: The methods used for synthesising each variable.\n",
    "3. `predictor.matrix`: The matrix indicating which variables were used as predictors for each synthesised variable.\n",
    "4. `visit.sequence`: The order in which the variables were synthesised.\n",
    "5. `cont.na`: Information about how missing values were handled.\n",
    "6. `rules`: Any rules applied during synthesis.\n",
    "7. `rvalues`: Values used for rules.\n",
    "8. `m`: Number of synthetic datasets created (if multiple).\n",
    "9. `proper`: Indicates if proper synthesis was used.\n",
    "10. `seed`: The seed used for random number generation.\n",
    "11. `call`: The original call to the syn() function.\n",
    "12. `data`: The original data used for synthesis."
   ]
  },
  {
   "cell_type": "markdown",
   "metadata": {},
   "source": [
    "**III. Inspect key components**"
   ]
  },
  {
   "cell_type": "markdown",
   "metadata": {},
   "source": [
    "```r\n",
    "mysyn$method\n",
    "mysyn$predictor.matrix\n",
    "mysyn$visit.sequence\n",
    "mysyn$cont.na\n",
    "mysyn$seed\n",
    "```"
   ]
  },
  {
   "cell_type": "markdown",
   "metadata": {},
   "source": [
    "**IV. Additional comparisons**  \n",
    "To further validate the synthetic data, you can perform additional comparisons between the synthetic and original data using the `multi.compare()` function."
   ]
  },
  {
   "cell_type": "markdown",
   "metadata": {
    "vscode": {
     "languageId": "r"
    }
   },
   "source": [
    "```r\n",
    "# Additional comparisons\n",
    "multi.compare(mysyn, mydata, var = \"marital\", by = \"sex\")\n",
    "multi.compare(mysyn, mydata, var = \"income\", by = \"agegr\")\n",
    "multi.compare(mysyn, mydata, var = \"income\", by = \"edu\", cont.type = \"boxplot\")\n",
    "```"
   ]
  },
  {
   "cell_type": "markdown",
   "metadata": {},
   "source": [
    "* `multi.compare(mysyn, mydata, var = \"marital\", by = \"sex\")`: Compares the distribution of the `marital` variable by `sex` between the synthetic and original data.\n",
    "* `multi.compare(mysyn, mydata, var = \"income\", by = \"agegr\")`: Compares the distribution of the `income` variable by `age group` between the synthetic and original data.\n",
    "* `multi.compare(mysyn, mydata, var = \"income\", by = \"edu\", cont.type = \"boxplot\")`: Compares the distribution of the `income` variable by `education level` using boxplots between the synthetic and original data.\n",
    "\n",
    "These steps help ensure that the synthetic data accurately reflects the structure and relationships present in the original data, making it suitable for analysis while protecting the privacy of the original data.\n",
    "\n",
    "See below some of the visuals from using the `multi.compare()` function.\n",
    "\n",
    "<insert the \"figures/Rplot_Observed_versus_synthetic_data.png\">"
   ]
  },
  {
   "cell_type": "markdown",
   "metadata": {},
   "source": [
    "\n",
    "\n",
    "### Explanation\n",
    "\n",
    "1. **Clean Workspace and Load Package**:\n",
    "    - `rm(list = ls())`: Clears the workspace.\n",
    "    - `library(synthpop)`: Loads the `synthpop` package.\n",
    "\n",
    "2. **Explore the `SD2011` Dataset**:\n",
    "    - `help(SD2011)`: Provides information about the `SD2011` dataset.\n",
    "    - `dim(SD2011)`: Displays the dimensions of the dataset.\n",
    "    - `codebook.syn(SD2011)$tab`: Generates a codebook for the dataset.\n",
    "\n",
    "3. **Select a Subset of Variables**:\n",
    "    - Selects specific columns from `SD2011` to create a smaller dataset `mydata`.\n",
    "    - `codebook.syn(mydata)$tab`: Generates a codebook for the selected variables.\n",
    "\n",
    "4. **Handle Missing Values**:\n",
    "    - `table(mydata$income[mydata$income < 0], useNA = \"ifany\")`: Checks for negative income values.\n",
    "\n",
    "5. **Synthesize Data**:\n",
    "    - `syn(mydata, cont.na = list(income = -8))`: Synthesizes the data, treating -8 as a missing value for income.\n",
    "    - `summary(mysyn)`: Summarizes the synthetic data.\n",
    "    - `compare(mysyn, mydata, stat = \"counts\")`: Compares the synthetic data with the original data.\n",
    "\n",
    "6. **Export Synthetic Data**:\n",
    "    - `write.syn(mysyn, filename = \"mysyn\", filetype = \"SPSS\")`: Exports the synthetic data to SPSS format.\n",
    "\n",
    "7. **Explore Synthetic Data**:\n",
    "    - `names(mysyn)`, `mysyn$method`, `mysyn$predictor.matrix`, `mysyn$visit.sequence`, `mysyn$cont.na`: Explores various components of the synthetic data object.\n",
    "    - `multi.compare()`: Performs additional comparisons between the synthetic and original data.\n",
    "\n",
    "This guide provides a concise overview of generating synthetic data using the `synthpop` package in R. For more detailed information, refer to the [synthpop documentation](https://www.synthpop.org.uk/get-started.html)."
   ]
  },
  {
   "cell_type": "markdown",
   "metadata": {},
   "source": [
    "## References\n",
    "\n",
    "1. [Synthetic data at ONS](https://www.ons.gov.uk/methodology/methodologicalpublications/generalmethodology/onsworkingpaperseries/onsmethodologyworkingpaperseriesnumber16syntheticdatapilot)\n",
    "2. [Synthetic data, a useful tool for ONS (Iain Dove 2022)](https://officenationalstatistics.sharepoint.com/sites/ONS_coffee_and_coding/Recording%20of%20Monthly%20Presentations/Forms/AllItems.aspx?ct=1741603363150&or=Teams%2DHL&ga=1&LOF=1&id=%2Fsites%2FONS%5Fcoffee%5Fand%5Fcoding%2FRecording%20of%20Monthly%20Presentations%2FSythetic%20Data%2C%20a%20tool%20for%20ONS%2FSynthetic%2Ddata%2C%2Da%2Duseful%2Dtool%2Dfor%2DONS%2Ehtml&parent=%2Fsites%2FONS%5Fcoffee%5Fand%5Fcoding%2FRecording%20of%20Monthly%20Presentations%2FSythetic%20Data%2C%20a%20tool%20for%20ONS)\n",
    "3. [`synthpop` (Nowok, Raab, and Dibben 2016)](https://www.synthpop.org.uk/get-started.html)"
   ]
  }
 ],
 "metadata": {
  "kernelspec": {
   "display_name": ".venv",
   "language": "python",
   "name": "python3"
  },
  "language_info": {
   "codemirror_mode": {
    "name": "ipython",
    "version": 3
   },
   "file_extension": ".py",
   "mimetype": "text/x-python",
   "name": "python",
   "nbconvert_exporter": "python",
   "pygments_lexer": "ipython3",
   "version": "3.10.11"
  }
 },
 "nbformat": 4,
 "nbformat_minor": 2
}
