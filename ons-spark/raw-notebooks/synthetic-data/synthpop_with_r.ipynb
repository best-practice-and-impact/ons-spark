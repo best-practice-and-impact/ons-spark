{
 "cells": [
  {
   "cell_type": "markdown",
   "metadata": {},
   "source": [
    "## Synthpop: Syntheic Data in `R`"
   ]
  },
  {
   "cell_type": "markdown",
   "metadata": {},
   "source": [
    "### 1. What is synthetic data?\n",
    "\n",
    "According to the US Census Bureau, “Synthetic data are microdata records created to improve data utility while preventing disclosure of confidential respondent information. Synthetic data is created by statistically modelling original data and then using those models to generate new data values that reproduce the original data’s statistical properties. Users are unable to identify the information of the entities that provided the original data.”​\n",
    "\n",
    "There are many situations in ONS where the generation of synthetic data could be used to improve outputs. These are listed in [Synthetic data at ONS](https://www.ons.gov.uk/methodology/methodologicalpublications/generalmethodology/onsworkingpaperseries/onsmethodologyworkingpaperseriesnumber16syntheticdatapilot) and they include:\n",
    "\n",
    "* provision of microdata to users\n",
    "* testing systems\n",
    "* developing systems or methods in non-secure environments\n",
    "* obtaining non-disclosive data from data suppliers\n",
    "* teaching – a useful way to promote the use of ONS data sources\n",
    "\n",
    "**Methods for Generating Synthetic Data in R**\n",
    "\n",
    "We will look at two methods for generating synthetic data:\n",
    "\n",
    "1. Writing your own code\n",
    "2. Using the `synthpop` R package"
   ]
  },
  {
   "cell_type": "markdown",
   "metadata": {
    "vscode": {
     "languageId": "markdown"
    }
   },
   "source": [
    "### 2. Generating synthetic data in R from scratch"
   ]
  },
  {
   "cell_type": "markdown",
   "metadata": {},
   "source": [
    "```r\n",
    "# Load the R packages\n",
    "rm(list = ls()) \n",
    "library(dplyr)\n",
    "library(readr)\n",
    "library(janitor)\n",
    "library(magrittr)\n",
    "```"
   ]
  },
  {
   "cell_type": "markdown",
   "metadata": {},
   "source": [
    "#### 2.1 Numerical variables"
   ]
  },
  {
   "cell_type": "markdown",
   "metadata": {
    "vscode": {
     "languageId": "markdown"
    }
   },
   "source": [
    "In this section, we will generate synthetic numerical variables using different distributions in R. We will use the following distributions:\n",
    "\n",
    "1. Uniform Distribution\n",
    "2. Normal Distribution\n",
    "3. Binomial Distribution\n",
    "4. Poisson Distribution\n",
    "\n",
    "Below are the R codes to generate these variables.\n",
    "\n",
    "Note that in the interest of reproducible results, we can use the  [`set.seed(n)`](https://www.rdocumentation.org/packages/base/versions/3.6.2/topics/Random) function."
   ]
  },
  {
   "cell_type": "markdown",
   "metadata": {},
   "source": [
    "```r\n",
    "set.seed(12345)\n",
    "```"
   ]
  },
  {
   "cell_type": "markdown",
   "metadata": {},
   "source": [
    "**1. Uniform Distribution**: The uniform distribution generates data where each value within a specified range is equally likely. This is useful for simulating data with a consistent spread.\n",
    "\n",
    "[`runif()`](https://github.com/best-practice-and-impact/ons-spark/blob/synthetic-data-branch/ons-spark/raw-notebooks/synthetic-data/synthpop_with_r.ipynb) generates data where each value within the specified range is equally likely. We can visualise this data using the following example:"
   ]
  },
  {
   "cell_type": "markdown",
   "metadata": {},
   "source": [
    "```r\n",
    "uniform_dist <- runif(n = 1000, \n",
    "                      min = 0,  \n",
    "                      max = 1)\n",
    "hist(uniform_dist, main=\"Uniform Distribution Example\", xlab=\"Value\")\n",
    "summary(uniform_dist)\n",
    "```"
   ]
  },
  {
   "cell_type": "markdown",
   "metadata": {
    "vscode": {
     "languageId": "r"
    }
   },
   "source": [
    "**2. Normal Distribution**: The normal distribution, or Gaussian distribution, is useful for simulating data that clusters around a mean. This is common in many natural phenomena.\n",
    "\n",
    "[`rnorm()`](https://www.rdocumentation.org/packages/stats/versions/3.6.2/topics/Normal) generates data that clusters around a specified mean, with a given standard deviation. We explore the generated data using the `hist()` and `summary()` functions."
   ]
  },
  {
   "cell_type": "markdown",
   "metadata": {},
   "source": [
    "```r\n",
    "normal_dist <- rnorm(n = 1000,\n",
    "                     mean = 50,\n",
    "                     sd = 4)\n",
    "hist(normal_dist, main=\"Normal Distribution Example\", xlab=\"Value\")\n",
    "summary(normal_dist)\n",
    "```"
   ]
  },
  {
   "cell_type": "markdown",
   "metadata": {},
   "source": [
    "**3. Poisson Distribution**: The Poisson distribution is used for count data, where you are counting the number of events in a fixed interval of time or space. Typical examples is simulating the number of visits to a government website per day.\n",
    "\n",
    "[`rpois()`](https://www.rdocumentation.org/packages/stats/versions/3.6.2/topics/Poisson) generates count data, useful for modeling the number of events in a fixed interval."
   ]
  },
  {
   "cell_type": "markdown",
   "metadata": {},
   "source": [
    "```r\n",
    "poisson_dist <- rpois(n = 1000,  \n",
    "                      lambda = 4)  \n",
    "\n",
    "hist(poisson_dist, main=\"Poisson Distribution Example\", xlab=\"Number of Events\")\n",
    "summary(poisson_dist)\n",
    "```"
   ]
  },
  {
   "cell_type": "markdown",
   "metadata": {},
   "source": [
    "**4. Binomial Distribution**: The binomial distribution is useful for simulating the number of successes in a fixed number of trials, each with the same probability of success.\n",
    "\n",
    "[`rbinom()`](https://www.rdocumentation.org/packages/stats/versions/3.6.2/topics/Binomial) generates data representing the number of successes in a fixed number of trials, each with the same probability of success."
   ]
  },
  {
   "cell_type": "markdown",
   "metadata": {},
   "source": [
    "```r\n",
    "binomial_dist <- rbinom(n = 1000,   \n",
    "                        size = 20,  \n",
    "                        prob = 0.2)  \n",
    "\n",
    "hist(binomial_dist, main=\"Binomial Distribution Example\", xlab=\"Number of Successes\")\n",
    "summary(binomial_dist)\n",
    "```"
   ]
  },
  {
   "cell_type": "markdown",
   "metadata": {},
   "source": [
    "#### 2.2 Character/factor variables"
   ]
  },
  {
   "cell_type": "markdown",
   "metadata": {},
   "source": [
    "In this section, we will generate synthetic `character (factor)` variables using random sampling in R. These variables are useful for simulating categorical data, such as demographic information."
   ]
  },
  {
   "cell_type": "markdown",
   "metadata": {},
   "source": [
    "**1. Random sampling from a vector**: Random sampling from a vector allows you to generate categorical data by randomly selecting elements from a specified set. This is useful for creating variables like gender, where each observation is randomly assigned a category."
   ]
  },
  {
   "cell_type": "markdown",
   "metadata": {},
   "source": [
    "```r\n",
    "gender <- sample(x = c(\"M\", \"F\"),  \n",
    "              size = 1000,      \n",
    "              replace = TRUE)   \n",
    "\n",
    "table(gender)\n",
    "prop.table(table(gender))\n",
    "```"
   ]
  },
  {
   "cell_type": "markdown",
   "metadata": {},
   "source": [
    "**2. Weighted sampling from a vector**: Weighted sampling allows you to generate categorical data with specified probabilities for each category. This is useful for creating variables like marital status, where each category has a different likelihood of being selected.\n",
    "\n"
   ]
  },
  {
   "cell_type": "markdown",
   "metadata": {},
   "source": [
    "```r\n",
    "marriage_status <- sample(x = c(\"Single\", \"Married\", \"Divorced\", \"Widowed\"),  \n",
    "                          size = 1000,    \n",
    "                          replace = TRUE,\n",
    "                          prob = c(0.35, 0.50, 0.10, 0.05))\n",
    "\n",
    "table(marriage_status)\n",
    "prop.table(table(marriage_status))\n",
    "```"
   ]
  },
  {
   "cell_type": "markdown",
   "metadata": {},
   "source": [
    "Here is the explanation of the code snippet above:\n",
    "\n",
    "1. Setting a Seed (`set.seed`):\n",
    "\n",
    "* `set.seed(12345)`: Sets the seed for random number generation. The number `12345` can be any integer. Using the same seed will produce the same sequence of random numbers each time the code is run.\n",
    "2. Random Sampling (`sample`):\n",
    "\n",
    "* `x`: The vector of elements to choose from.\n",
    "* `size`: The number of observations to generate.\n",
    "* `replace`: Whether sampling is with replacement (`TRUE`) or without replacement (`FALSE`).\n",
    "3. Weighted Sampling (`sample` with `prob`):\n",
    "\n",
    "* `prob`: A vector of probabilities corresponding to the likelihood of each element in `x` being selected. The probabilities must sum to `1`."
   ]
  },
  {
   "cell_type": "markdown",
   "metadata": {},
   "source": [
    "#### 2.3 Combining data into a synthetic dataset"
   ]
  },
  {
   "cell_type": "markdown",
   "metadata": {},
   "source": [
    "Now, we will combine the numerical and categorical data into a single synthetic dataset using the `data.table` package:"
   ]
  },
  {
   "cell_type": "markdown",
   "metadata": {},
   "source": [
    "```r\n",
    "library(data.table)\n",
    "\n",
    "synthetic_data1 <- data.table(uniform_dist,\n",
    "                              normal_dist,\n",
    "                              poisson_dist,\n",
    "                              binomial_dist,\n",
    "                              gender,\n",
    "                              marriage_status)\n",
    "\n",
    "print(head(synthetic_data1))\n",
    "summary(synthetic_data1)\n",
    "str(synthetic_data1)\n",
    "```"
   ]
  },
  {
   "cell_type": "markdown",
   "metadata": {},
   "source": [
    "**Converting Character Variables to Factors**  \n",
    "To ensure that the categorical variables are treated appropriately in analyses, we should convert them to factor variables:"
   ]
  },
  {
   "cell_type": "markdown",
   "metadata": {},
   "source": [
    "```r\n",
    "# Change gender and marriage_status to factor variables\n",
    "synthetic_data1$gender <- as.factor(synthetic_data1$gender)\n",
    "synthetic_data1$marriage_status <- as.factor(synthetic_data1$marriage_status)\n",
    "\n",
    "# Check the structure of the dataset again\n",
    "str(synthetic_data1)\n",
    "```"
   ]
  },
  {
   "cell_type": "markdown",
   "metadata": {},
   "source": [
    "This combined synthetic dataset can now be used for various analyses, simulations, and testing purposes. It provides a comprehensive representation of both numerical and categorical variables, making it suitable for a wide range of applications."
   ]
  },
  {
   "cell_type": "markdown",
   "metadata": {},
   "source": [
    "These snippets provide a starting point for generating synthetic categorical data using random and weighted sampling with reproducibility. You can adjust the parameters to fit the specific characteristics of the population you are modeling. For more detailed information on the `sample` function, refer to the [R documentation](https://www.rdocumentation.org/packages/base/versions/3.6.2/topics/sample)."
   ]
  },
  {
   "cell_type": "markdown",
   "metadata": {
    "vscode": {
     "languageId": "markdown"
    }
   },
   "source": [
    "### 3. Generating synthetic data using `synthpop`"
   ]
  },
  {
   "cell_type": "markdown",
   "metadata": {},
   "source": [
    "In the guidiance, we will work with the R package `synthpop` [(Nowok, Raab, and Dibben 2016)](https://www.synthpop.org.uk/get-started.html), which is one of the most advanced and dedicated packages in R to create synthetic data.\n",
    "\n",
    "\n",
    "Synthpop generates synthetic data by modeling the relationships in the original dataset and then simulating new data that preserves the statistical properties of the original, while reducing disclosure risk."
   ]
  },
  {
   "cell_type": "markdown",
   "metadata": {},
   "source": [
    "#### 3.1 Setting up `synthpop` and required packages"
   ]
  },
  {
   "cell_type": "markdown",
   "metadata": {},
   "source": [
    "```r\n",
    "install.packages(\"synthpop\")\n",
    "```"
   ]
  },
  {
   "cell_type": "markdown",
   "metadata": {},
   "source": [
    "\n",
    "\n",
    "This will install `synthpop` and its dependencies from [ONS Artifactory](https://onsart-01/ui/login/).\n",
    "\n",
    "\n",
    "First clear the workspace and load packages using the `library()` function.\n",
    "\n"
   ]
  },
  {
   "cell_type": "markdown",
   "metadata": {},
   "source": [
    "```r\n",
    "# Clean out workspace\n",
    "rm(list = ls())\n",
    "```"
   ]
  },
  {
   "cell_type": "markdown",
   "metadata": {},
   "source": [
    "```r\n",
    "library(synthpop)\n",
    "library(dplyr)\n",
    "library(readr)\n",
    "library(janitor)\n",
    "library(magrittr)\n",
    "library(data.table)\n",
    "```"
   ]
  },
  {
   "cell_type": "markdown",
   "metadata": {},
   "source": [
    "\n",
    "\n",
    "To get a list of all `synthpop` functions, use:\n",
    "\n"
   ]
  },
  {
   "cell_type": "markdown",
   "metadata": {},
   "source": [
    "```{r, results='hide'}\n",
    "help(package = synthpop)\n",
    "```"
   ]
  },
  {
   "cell_type": "markdown",
   "metadata": {},
   "source": [
    "\n",
    "\n",
    "To quickly access a help file for a specific function, such as the main `synthpop` function [`syn()`](https://www.rdocumentation.org/packages/synthpop/versions/1.8-0/topics/syn), you can type its name preceded by `?`.\n"
   ]
  },
  {
   "cell_type": "markdown",
   "metadata": {},
   "source": [
    "```{r, results='hide'}\n",
    "?synthpop\n",
    "```"
   ]
  },
  {
   "cell_type": "markdown",
   "metadata": {},
   "source": [
    "```{r, results='hide'}\n",
    "?syn\n",
    "```"
   ]
  },
  {
   "cell_type": "markdown",
   "metadata": {},
   "source": [
    "### Case 1: Synthesise `synthpop` sample data `SD2011`\n",
    "\n",
    "In most cases, you will be working with your own data, but for practice, you can use the sample data [`SD2011`](https://www.rdocumentation.org/packages/synthpop/versions/1.8-0/topics/SD2011) provided with the `synthpop` package.\n",
    "\n",
    "**Read the data**  \n",
    "Read the data you want to synthesise into `R`. You can use the `synthpop` function [`read.obs()`](https://www.rdocumentation.org/packages/synthpop/versions/1.9-0/topics/read.obs) to read data from other formats.\n",
    "\n",
    "**Examine your data**  \n",
    "Start with a modest number of variables (8-12) to understand `synthpop`. If your data have more variables, make a selection. The package is intended for large datasets (at least `500` observations).\n",
    "\n",
    "Use the [`codebook.syn()`](https://www.rdocumentation.org/packages/synthpop/versions/1.8-0/topics/codebook.syn) function to examine the features relevant to synthesising:\n",
    "\n"
   ]
  },
  {
   "cell_type": "markdown",
   "metadata": {},
   "source": [
    "In this section, we will guide you through a sample synthesis using the `synthpop` package in R. This example uses the [`SD2011` dataset](https://www.rdocumentation.org/packages/synthpop/versions/1.8-0/topics/SD2011) sample, provided with the `synthpop` package and [demonstrates how to generate synthetic data](https://www.synthpop.org.uk/assets/firstsynthesis.r) with a smaller subset of variables. The SD2011 dataset is a social diagnosis survey from 2011, included as a sample dataset in the synthpop package.\n",
    "\n",
    "\n",
    "In this example, we will load the SD2011 dataset, select a subset of variables, generate a synthetic version using synthpop, and compare the synthetic data to the original."
   ]
  },
  {
   "cell_type": "markdown",
   "metadata": {},
   "source": [
    "#### Step-by-step guide"
   ]
  },
  {
   "cell_type": "markdown",
   "metadata": {},
   "source": [
    "1. **Explore the `SD2011` dataset**  \n",
    "Here, we will use the `help()` method to obtain the information about the SD2011, `dim()` method to get the size of the dataframe and `codebook.syn()` method to obtain the summary information about variables.\n",
    "\n",
    "\n",
    "Note: SD2011 is included with the synthpop package. If you cannot find it, load it with data(SD2011). This example was tested in RStudio/VS Code/CDP with synthpop installed."
   ]
  },
  {
   "cell_type": "markdown",
   "metadata": {},
   "source": [
    "```{r, results='hide'}\n",
    "help(SD2011) # this will give you information about it\n",
    "```"
   ]
  },
  {
   "cell_type": "markdown",
   "metadata": {},
   "source": [
    "```r\n",
    "# This will give you the dimensions (rows, columns) of the SD2011 dataset\n",
    "dim(SD2011)  # Output: 5000 rows, 35 variables\n",
    "```"
   ]
  },
  {
   "cell_type": "markdown",
   "metadata": {},
   "source": [
    "```r\n",
    "# Show summary information for a subset of variables; here we show only the first five variables for brevity.\n",
    "codebook.syn(SD2011[, 1:5])$tab\n",
    "```"
   ]
  },
  {
   "cell_type": "markdown",
   "metadata": {},
   "source": [
    "2. **Select a subset of variables**\n",
    "* After loading the data, inspect it to understand its structure and contents.\n",
    "* You can review a `summary()` of all variables to generate descriptive statistics."
   ]
  },
  {
   "cell_type": "markdown",
   "metadata": {},
   "source": [
    "```r\n",
    "# Select a smaller subset of variables for demonstration\n",
    "mydata <- SD2011[, c(1, 2, 3, 6, 8, 10, 11)]\n",
    "# Preview the first few rows of the dataset\n",
    "head(mydata)\n",
    "# Get a summary of the dataset\n",
    "summary(mydata)\n",
    "```"
   ]
  },
  {
   "cell_type": "markdown",
   "metadata": {},
   "source": [
    "3. **Checking for missing values**\n",
    "The following code checks for negative and missing values in the income variable."
   ]
  },
  {
   "cell_type": "markdown",
   "metadata": {},
   "source": [
    "```r\n",
    "# Check for negative income values\n",
    "table(mydata$income[mydata$income < 0], useNA = \"ifany\")\n",
    "```"
   ]
  },
  {
   "cell_type": "markdown",
   "metadata": {},
   "source": [
    "4. **Synthesise data**  \n",
    " * Use the `syn()` function from the `synthpop` package to create a synthetic version of your data, using the default settings.\n",
    " * Fix the random seed before generating the synthetic data, so that you can compare your output with our output."
   ]
  },
  {
   "cell_type": "markdown",
   "metadata": {},
   "source": [
    "```r\n",
    "set.seed(123)\n",
    "\n",
    "# Synthesise data, handling -8 as a missing value for income\n",
    "mysyn <- syn(mydata, cont.na = list(income = -8))\n",
    "```"
   ]
  },
  {
   "cell_type": "markdown",
   "metadata": {},
   "source": [
    "We have now created the object `mysyn`, which is of class `synds` and contains several pieces of information related to the synthetic data. We will quickly go over the most important output."
   ]
  },
  {
   "cell_type": "markdown",
   "metadata": {},
   "source": [
    "```r\n",
    "summary(mysyn)\n",
    "```"
   ]
  },
  {
   "cell_type": "markdown",
   "metadata": {},
   "source": [
    "The following output is produced by the `compare()` function. It provides statistical measures and significance tests that indicate how well the synthetic data replicates the distributions and relationships found in the original data. These results help you assess the quality of the synthetic data."
   ]
  },
  {
   "cell_type": "markdown",
   "metadata": {},
   "source": [
    "```r\n",
    "# Compare the synthetic data with the original data\n",
    "compare(mysyn, mydata, stat = \"counts\")\n",
    "```"
   ]
  },
  {
   "cell_type": "markdown",
   "metadata": {},
   "source": [
    "5. **Export synthetic data**"
   ]
  },
  {
   "cell_type": "markdown",
   "metadata": {},
   "source": [
    "```r\n",
    "# Export synthetic data to CSV format\n",
    "write.syn(mysyn, filename = \"mysyn_SD2001\", filetype = \"csv\")\n",
    "```"
   ]
  },
  {
   "cell_type": "markdown",
   "metadata": {},
   "source": [
    "6. **Explore synthetic data**  \n",
    "After generating synthetic data using the `synthpop` package, it is important to explore and understand the structure and components of the synthetic data object. This section provides guidance on how to explore the synthetic data object and perform additional comparisons.\n",
    "\n",
    "**I. Retrieve component names**"
   ]
  },
  {
   "cell_type": "markdown",
   "metadata": {},
   "source": [
    "```r\n",
    "names(mysyn)\n",
    "```"
   ]
  },
  {
   "cell_type": "markdown",
   "metadata": {},
   "source": [
    "* This command retrieves the names of the components within the `mysyn` object, helping you understand its structure."
   ]
  },
  {
   "cell_type": "markdown",
   "metadata": {},
   "source": [
    "**II. Explanation of some of the components**\n",
    "1. [`syn`](https://www.synthpop.org.uk/assets/firstsynthesis.r): The synthetic data set.\n",
    "2. `method`: The methods used for synthesising each variable.\n",
    "3. `predictor.matrix`: The matrix indicating which variables were used as predictors for each synthesised variable.\n",
    "4. `visit.sequence`: The order in which the variables were synthesised.\n",
    "5. `cont.na`: Information about how missing values were handled.\n",
    "6. `rules`: Any rules applied during synthesis.\n",
    "7. `rvalues`: Values used for rules.\n",
    "8. `m`: Number of synthetic datasets created (if multiple).\n",
    "9. `proper`: Indicates if proper synthesis was used.\n",
    "10. `seed`: The seed used for random number generation.\n",
    "11. `call`: The original call to the syn() function.\n",
    "12. `data`: The original data used for synthesis."
   ]
  },
  {
   "cell_type": "markdown",
   "metadata": {},
   "source": [
    "**III. Inspect key components**"
   ]
  },
  {
   "cell_type": "markdown",
   "metadata": {},
   "source": [
    "```r\n",
    "mysyn$method\n",
    "mysyn$predictor.matrix\n",
    "mysyn$visit.sequence\n",
    "mysyn$cont.na\n",
    "mysyn$seed\n",
    "```"
   ]
  },
  {
   "cell_type": "markdown",
   "metadata": {},
   "source": [
    "**IV. Additional comparisons**  \n",
    "To further validate the synthetic data, you can perform additional comparisons between the synthetic and original data using the [`multi.compare()`](https://www.rdocumentation.org/packages/synthpop/versions/1.8-0/topics/multi.compare) function."
   ]
  },
  {
   "cell_type": "markdown",
   "metadata": {
    "vscode": {
     "languageId": "r"
    }
   },
   "source": [
    "```r\n",
    "# Additional comparisons\n",
    "multi.compare(mysyn, mydata, var = \"marital\", by = \"sex\")\n",
    "multi.compare(mysyn, mydata, var = \"income\", by = \"agegr\")\n",
    "multi.compare(mysyn, mydata, var = \"income\", by = \"edu\", cont.type = \"boxplot\")\n",
    "```"
   ]
  },
  {
   "cell_type": "markdown",
   "metadata": {},
   "source": [
    "* `multi.compare(mysyn, mydata, var = \"marital\", by = \"sex\")`: Compares the distribution of the `marital` variable by `sex` between the synthetic and original data.\n",
    "* `multi.compare(mysyn, mydata, var = \"income\", by = \"agegr\")`: Compares the distribution of the `income` variable by `age group` between the synthetic and original data.\n",
    "* `multi.compare(mysyn, mydata, var = \"income\", by = \"edu\", cont.type = \"boxplot\")`: Compares the distribution of the `income` variable by `education level` using boxplots between the synthetic and original data.\n",
    "\n",
    "These steps help ensure that the synthetic data accurately reflects the structure and relationships present in the original data, making it suitable for analysis while protecting the privacy of the original data."
   ]
  },
  {
   "cell_type": "markdown",
   "metadata": {},
   "source": [
    "This figure shows examples of visuals from using the `multi.compare()` function:\n",
    "\n",
    "```{figure} ../images/Rplot_Observed_versus_synthetic_data.png\n",
    "---\n",
    "width: 100%\n",
    "name: MultiCompareDiagram\n",
    "alt: Diagram showing visuals from using the `multi.compare()` function\n",
    "---\n",
    "Observed_versus_synthetic_data\n",
    "```"
   ]
  },
  {
   "cell_type": "markdown",
   "metadata": {},
   "source": [
    "### Case 2: Synthesise census teaching data\n",
    "\n",
    "In this section, we will guide you through the process of synthesising another case study as presented by Iain Dove, a census teaching data using the `synthpop` package in R. This demo is an alternative to the synthesis of `SD2011` in `Case 1`. This involves loading the data, creating a subset, synthesising the data, and comparing the synthetic data with the original data.\n",
    "\n",
    "#### Step-by-step guide\n",
    "\n",
    "1. **Loading the data**"
   ]
  },
  {
   "cell_type": "markdown",
   "metadata": {},
   "source": [
    "```r\n",
    "# Load the configuration and set the path to the census teaching data\n",
    "# config <- yaml::yaml.load_file(\"/home/cdsw/ons-spark/config.yaml\")\n",
    "config <- yaml::yaml.load_file(\"D:/dapcats_guidance/ons-spark/config.yaml\")\n",
    "census_2011_path = config$census_2011_teaching_data_path_csv\n",
    "census_teaching_data <- data.table::fread(census_2011_path, skip = 1) %>%\n",
    "                        janitor::clean_names()\n",
    "```"
   ]
  },
  {
   "cell_type": "markdown",
   "metadata": {},
   "source": [
    "2. **Create a subset of the data**\n",
    "\n",
    "As before, we first create a subset of the data to reduce run time."
   ]
  },
  {
   "cell_type": "markdown",
   "metadata": {},
   "source": [
    "```r\n",
    "# Create a subset of the data\n",
    "small_census_teaching_data <- census_teaching_data[1:100000,]\n",
    "```"
   ]
  },
  {
   "cell_type": "markdown",
   "metadata": {},
   "source": [
    "\n",
    "\n",
    "3. **First synthesis of census data**\n",
    "\n",
    "Let's now create the synthetic data.\n",
    "\n"
   ]
  },
  {
   "cell_type": "markdown",
   "metadata": {
    "vscode": {
     "languageId": "r"
    }
   },
   "source": [
    "```r\n",
    "# First synthesis\n",
    "synthetic_census_teaching_data <- synthpop::syn(data = small_census_teaching_data,\n",
    "                                                method = \"sample\",\n",
    "                                                k = 100000)\n",
    "```"
   ]
  },
  {
   "cell_type": "markdown",
   "metadata": {},
   "source": [
    "\n",
    "\n",
    "You have created a synthetic data object `synthetic_census_teaching_data` of class `synds`, which is a list with a number of components including the synthesised data and information on how they were created.\n",
    "\n"
   ]
  },
  {
   "cell_type": "markdown",
   "metadata": {
    "vscode": {
     "languageId": "r"
    }
   },
   "source": [
    "```r\n",
    "# Check the class of the synthetic data object\n",
    "class(synthetic_census_teaching_data)\n",
    "```"
   ]
  },
  {
   "cell_type": "markdown",
   "metadata": {},
   "source": [
    "4. **Access the synthetic dataframe**\n",
    "\n",
    "We have now created the object `mysyn`, which is of class `synds` (the main output class from synthpop, containing the synthetic data and metadata).\n",
    "\n",
    "To view the synthetic data, use `synthetic_census_teaching_data$syn`, and use `summary()` to review all variables "
   ]
  },
  {
   "cell_type": "markdown",
   "metadata": {
    "vscode": {
     "languageId": "r"
    }
   },
   "source": [
    "```{r, results='hide'}\n",
    "# Access the synthetic dataframe\n",
    "synthetic_census_teaching_data$syn\n",
    "```"
   ]
  },
  {
   "cell_type": "markdown",
   "metadata": {},
   "source": [
    "```r\n",
    "summary(synthetic_census_teaching_data)\n",
    "```"
   ]
  },
  {
   "cell_type": "markdown",
   "metadata": {},
   "source": [
    "5. **Comparison with real data**\n",
    "\n",
    "`synthpop` contains functions to assess the accuracy of the synthetic data. Univariate measures are quite easy to satisfy, but relationships between multiple variables are much more difficult."
   ]
  },
  {
   "cell_type": "markdown",
   "metadata": {
    "vscode": {
     "languageId": "r"
    }
   },
   "source": [
    "```r\n",
    "# Compare synthetic data with real data\n",
    "synthpop::compare(object = synthetic_census_teaching_data,\n",
    "                  data = small_census_teaching_data)\n",
    "```"
   ]
  },
  {
   "cell_type": "markdown",
   "metadata": {
    "vscode": {
     "languageId": "raw"
    }
   },
   "source": [
    "#### Relationships between multiple variables\n",
    "\n",
    "Relationships between multiple variables are more complex to model. The `synthpop` default uses a saturated model, which can be challenging for large datasets. Here, we use an input `CSV` file to specify which variables are related.\n",
    "\n",
    "1. **Load the input CSV file**"
   ]
  },
  {
   "cell_type": "markdown",
   "metadata": {},
   "source": [
    "```r\n",
    "#config <- yaml::yaml.load_file(\"/home/cdsw/ons-spark/config.yaml\")\n",
    "config <- yaml::yaml.load_file(\"D:/dapcats_guidance/ons-spark/config.yaml\")\n",
    "census_relationship_path = config$census_relationship_file_path_csv\n",
    "\n",
    "input <- read.csv(census_relationship_path,\n",
    "                  stringsAsFactors = FALSE,\n",
    "                  skip = 1) %>%\n",
    "         dplyr::select(variable, description, predictors)\n",
    "\n",
    "# Add row names to make it easier\n",
    "rownames(input) <- input$variable\n",
    "```"
   ]
  },
  {
   "cell_type": "markdown",
   "metadata": {},
   "source": [
    "\n",
    "\n",
    "2. **Create predictor matrix**\n",
    "\n",
    "The predictor matrix tells `synthpop` which variables are related and which variables predict each other. If variable `X` is used as a predictor for variable `Y`, the relationship between `X` and `Y` will be preserved to some extent.\n",
    "\n",
    "The predictor matrix should have the following structure:\n",
    "* Each row represents a variable that is being predicted.\n",
    "* Each column represents a variable that is used as a predictor.\n",
    "* A value of 1 in the matrix indicates that the column variable is used as a predictor for the row variable.\n",
    "* A value of 0 indicates that the column variable is not used as a predictor for the row variable.\n",
    "\n"
   ]
  },
  {
   "cell_type": "markdown",
   "metadata": {
    "vscode": {
     "languageId": "r"
    }
   },
   "source": [
    "```r\n",
    "# Create predictor matrix in appropriate format for synthpop from CSV input\n",
    "predictor_matrix <- as.data.frame(matrix(0, nrow = nrow(input), \n",
    "                                         ncol = nrow(input), \n",
    "                                         dimnames = list(input$variable, input$variable)))\n",
    "\n",
    "# Use predictors\n",
    "for (var in input$variable) {\n",
    "  predictor_matrix[var, as.vector((strsplit(input[var, 'predictors'], \" \"))[[1]])] <- 1\n",
    "}\n",
    "```"
   ]
  },
  {
   "cell_type": "markdown",
   "metadata": {},
   "source": [
    "Relationships can be added manually (`row` variable predicted by `column` variable)\n",
    "\n",
    "Sensible predictors could be Marital Status being predicted by `Age` (under 16s not married) hours worked being predicted by `Economic Activity`."
   ]
  },
  {
   "cell_type": "markdown",
   "metadata": {},
   "source": [
    "```r\n",
    "# Relationships can be added manually (row variable predicted by column variable)\n",
    "predictor_matrix['Marital_Status', 'Age'] <- 1\n",
    "predictor_matrix['Economic_Activity', 'Age'] <- 1\n",
    "predictor_matrix['Occupation', 'Economic_Activity'] <- 1\n",
    "predictor_matrix['Hours_worked_per_week', 'Economic_Activity'] <- 1\n",
    "```"
   ]
  },
  {
   "cell_type": "markdown",
   "metadata": {},
   "source": [
    "\n",
    "\n",
    "3. **Synthesise data with relationships**\n",
    "\n",
    "These relationships are used in the synthesis model. The `minnumlevels` parameter converts numeric variables with few unique values into factor variables for the synthesis.\n",
    "\n"
   ]
  },
  {
   "cell_type": "markdown",
   "metadata": {
    "vscode": {
     "languageId": "r"
    }
   },
   "source": [
    "```r\n",
    "# Synthesise data with relationships\n",
    "synthetic_census_teaching_data_2 <- synthpop::syn(data = small_census_teaching_data,\n",
    "                                                  predictor.matrix = as.matrix(predictor_matrix),\n",
    "                                                  minnumlevels = 10)\n",
    "```"
   ]
  },
  {
   "cell_type": "markdown",
   "metadata": {},
   "source": [
    "#### Comparison with real data\n",
    "\n",
    "To compare the synthetic and original data, use:"
   ]
  },
  {
   "cell_type": "markdown",
   "metadata": {
    "vscode": {
     "languageId": "r"
    }
   },
   "source": [
    "```r\n",
    "# Compare synthetic data with real data\n",
    "synthpop::compare(data = small_census_teaching_data,\n",
    "                  object = synthetic_census_teaching_data_2)\n",
    "```"
   ]
  },
  {
   "cell_type": "markdown",
   "metadata": {},
   "source": [
    "**Press `enter` on your keyboard for the next variable**"
   ]
  },
  {
   "cell_type": "markdown",
   "metadata": {},
   "source": [
    "\n",
    "\n",
    "You can write your own code to compare the datasets, particularly on variables/statistics of interest, e.g., compare bi-variate counts.\n",
    "\n"
   ]
  },
  {
   "cell_type": "markdown",
   "metadata": {
    "vscode": {
     "languageId": "r"
    }
   },
   "source": [
    "```r\n",
    "# Define variables to compare\n",
    "compare_vars <- c(\"economic_activity\", \"hours_worked_per_week\")\n",
    "\n",
    "# Frequency table of compare_vars in original data\n",
    "orig_table <- small_census_teaching_data[, .(orig_count = .N), keyby = compare_vars]\n",
    "\n",
    "# Convert to factors\n",
    "orig_table <- orig_table %>% \n",
    "              dplyr::mutate(economic_activity = as.factor(economic_activity),\n",
    "                            hours_worked_per_week = as.factor(hours_worked_per_week))\n",
    "\n",
    "orig_table\n",
    "```"
   ]
  },
  {
   "cell_type": "markdown",
   "metadata": {},
   "source": [
    "```r\n",
    "# Frequency table of compare_vars in synthetic data with relationships\n",
    "synth2_table <- as.data.table(synthetic_census_teaching_data_2$syn)[, .(synth2_count = .N), keyby = compare_vars]\n",
    "\n",
    "synth2_table\n",
    "\n",
    "# Convert economic_activity in synth2_table to a factor\n",
    "synth2_table <- synth2_table %>% \n",
    "                dplyr::mutate(economic_activity = as.factor(economic_activity),\n",
    "                              hours_worked_per_week = as.factor(hours_worked_per_week))\n",
    "```"
   ]
  },
  {
   "cell_type": "markdown",
   "metadata": {},
   "source": [
    "```r\n",
    "# Frequency table of compare_vars in basic synthetic data\n",
    "synth1_table <- as.data.table(synthetic_census_teaching_data$syn)[, .(synth1_count = .N), keyby = compare_vars]\n",
    "\n",
    "synth1_table\n",
    "\n",
    "# Convert to factors\n",
    "synth1_table <- synth1_table %>% \n",
    "              dplyr::mutate(economic_activity = as.factor(economic_activity),\n",
    "                            hours_worked_per_week = as.factor(hours_worked_per_week))\n",
    "\n",
    "```"
   ]
  },
  {
   "cell_type": "markdown",
   "metadata": {},
   "source": [
    "```r\n",
    "# Combine counts from both datasets for comparisons\n",
    "comparison2_table <- merge(orig_table, synth2_table, all = TRUE)\n",
    "comparison1_table <- merge(orig_table, synth1_table, all = TRUE)\n",
    "\n",
    "# Replace NA with 0\n",
    "comparison1_table <- comparison1_table %>% \n",
    "                     dplyr::mutate(orig_count = as.double(orig_count)) %>% \n",
    "                     dplyr::mutate(orig_count = if_else(condition = is.na(orig_count),\n",
    "                                                        true = 0, \n",
    "                                                        false = orig_count))\n",
    "\n",
    "\n",
    "# NAs occur if the combination is not present in one of the datasets, convert these to zero counts\n",
    "comparison2_table[is.na(orig_count), orig_count := 0]\n",
    "comparison2_table[is.na(synth2_count), synth2_count := 0]\n",
    "comparison1_table[is.na(orig_count), orig_count := 0]\n",
    "comparison1_table[is.na(synth1_count), synth1_count := 0]\n",
    "\n",
    "# Average absolute distance\n",
    "comparison2_table[, mean(abs(orig_count - synth2_count))]\n",
    "comparison1_table[, mean(abs(orig_count - synth1_count))]\n",
    "\n",
    "# Average percentage difference\n",
    "comparison2_table[, 100 * mean((abs(orig_count - synth2_count) / orig_count))]\n",
    "comparison1_table[, 100 * mean((abs(orig_count - synth1_count) / orig_count))]\n",
    "```"
   ]
  },
  {
   "cell_type": "markdown",
   "metadata": {},
   "source": [
    "\n",
    "\n",
    "This guide provides a concise overview of synthesizing census teaching data with relationships between multiple variables using the `synthpop` package in R. For more detailed information, refer to the [synthpop documentation](https://www.synthpop.org.uk/get-started.html)."
   ]
  },
  {
   "cell_type": "markdown",
   "metadata": {},
   "source": [
    "### References\n",
    "\n",
    "* [Synthetic data at ONS](https://www.ons.gov.uk/methodology/methodologicalpublications/generalmethodology/onsworkingpaperseries/onsmethodologyworkingpaperseriesnumber16syntheticdatapilot)\n",
    "* [`synthpop` (Nowok, Raab, and Dibben 2016)](https://www.synthpop.org.uk/get-started.html)\n",
    "* [Synthetic data in R: Generating synthetic data with high utility using synthpop (Thom Volker, Raoul Schram, Erik-Jan van Kesteren)](https://thomvolker.github.io/osf_synthetic/osf_synthetic_workshop.html)\n",
    "* [Synthetic Data in Python](../ancillary-topics/synthetic_data_python)"
   ]
  },
  {
   "cell_type": "markdown",
   "metadata": {},
   "source": [
    "### Acknowledgments\n",
    "  \n",
    "Special thanks to Iain Dove for sharing his knowledge of the `Synthetic data, a useful tool for ONS`, and to Wil Roberts, Elisha Mercado and Vicky Pickering for inspiring this tip!"
   ]
  }
 ],
 "metadata": {
  "kernelspec": {
   "display_name": "Python 3 (ipykernel)",
   "language": "python",
   "name": "python3"
  }
 },
 "nbformat": 4,
 "nbformat_minor": 4
}
