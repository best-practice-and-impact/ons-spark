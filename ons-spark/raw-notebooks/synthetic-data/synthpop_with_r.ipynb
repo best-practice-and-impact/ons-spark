{
 "cells": [
  {
   "cell_type": "markdown",
   "metadata": {},
   "source": [
    "# Generating Synthetic Data in `R`"
   ]
  },
  {
   "cell_type": "markdown",
   "metadata": {},
   "source": [
    "## 1. What is synthetic data?\n",
    "\n",
    "According to the US Census Bureau, “Synthetic data are microdata records created to improve data utility while preventing disclosure of confidential respondent information. Synthetic data is created by statistically modelling original data and then using those models to generate new data values that reproduce the original data’s statistical properties. Users are unable to identify the information of the entities that provided the original data.”​\n",
    "\n",
    "There are many situations in ONS where the generation of synthetic data could be used to improve outputs. These are listed in [Synthetic data at ONS](https://www.ons.gov.uk/methodology/methodologicalpublications/generalmethodology/onsworkingpaperseries/onsmethodologyworkingpaperseriesnumber16syntheticdatapilot) and they include:\n",
    "\n",
    "* provision of microdata to users\n",
    "* testing systems\n",
    "* developing systems or methods in non-secure environments\n",
    "* obtaining non-disclosive data from data suppliers\n",
    "* teaching – a useful way to promote the use of ONS data sources\n",
    "\n",
    "** Methods for Generating Synthetic Data in `R`**\n",
    "\n",
    "We will look at two methods for generating synthetic data:\n",
    "\n",
    "1. Writing your own code\n",
    "2. Using the `synthpop` R package"
   ]
  },
  {
   "cell_type": "markdown",
   "metadata": {
    "vscode": {
     "languageId": "markdown"
    }
   },
   "source": [
    "## 2. Generating synthetic data in `R` from scratch"
   ]
  },
  {
   "cell_type": "markdown",
   "metadata": {},
   "source": [
    "### 2.1 Numerical Variables\n",
    "\n"
   ]
  },
  {
   "cell_type": "markdown",
   "metadata": {
    "vscode": {
     "languageId": "markdown"
    }
   },
   "source": [
    "In this section, we will generate synthetic numerical variables using different distributions in `R`. We will use the following distributions:\n",
    "\n",
    "1. Uniform Distribution\n",
    "2. Normal Distribution\n",
    "3. Binomial Distribution\n",
    "4. Poisson Distribution\n",
    "\n",
    "Below are the `R` codes to generate these variables."
   ]
  },
  {
   "cell_type": "markdown",
   "metadata": {},
   "source": [
    "**1. Uniform Distribution**: The uniform distribution generates data where each value within a specified range is equally likely. This is useful for simulating data with a consistent spread.\n",
    "\n",
    "`runif` generates data where each value within the specified range is equally likely."
   ]
  },
  {
   "cell_type": "markdown",
   "metadata": {},
   "source": [
    "\n",
    "```r\n",
    "# Create data from scratch\n",
    "# Creates a uniform distribution of data\n",
    "\n",
    "uniform_dist <- runif(n = 1000, # number of observations/rows\n",
    "                      min = 0,  # lower limit\n",
    "                      max = 1)  # upper limit\n",
    "\n",
    "# Example: Simulating random probabilities or proportions.\n",
    "# To explore the generated data:\n",
    "# hist(uniform_dist, main=\"Uniform Distribution Example\", xlab=\"Value\")\n",
    "# summary(uniform_dist)\n",
    "```"
   ]
  },
  {
   "cell_type": "markdown",
   "metadata": {
    "vscode": {
     "languageId": "r"
    }
   },
   "source": [
    "**2. Normal Distribution**: The normal distribution, or Gaussian distribution, is useful for simulating data that clusters around a mean. This is common in many natural phenomena.\n",
    "\n",
    "`rnorm` generates data that clusters around a specified mean, with a given standard deviation."
   ]
  },
  {
   "cell_type": "markdown",
   "metadata": {},
   "source": [
    "```r\n",
    "# Create data from scratch\n",
    "# Creates a normal distribution of data\n",
    "\n",
    "normal_dist <- rnorm(n = 1000,  # number of observations/rows\n",
    "                     mean = 50, # average\n",
    "                     sd = 4)    # standard deviation\n",
    "\n",
    "# Example: Simulating test scores or measurements.\n",
    "# To explore the generated data:\n",
    "# hist(normal_dist, main=\"Normal Distribution Example\", xlab=\"Value\")\n",
    "# summary(normal_dist)\n",
    "```"
   ]
  },
  {
   "cell_type": "markdown",
   "metadata": {},
   "source": [
    "**3. Poisson Distribution**: The Poisson distribution is used for count data, where you are counting the number of events in a fixed interval of time or space.\n",
    "\n",
    "`rpois` generates count data, useful for modeling the number of events in a fixed interval."
   ]
  },
  {
   "cell_type": "markdown",
   "metadata": {},
   "source": [
    "```r\n",
    "# Create data from scratch\n",
    "# Creates a poisson distribution of data\n",
    "\n",
    "poisson_dist <- rpois(n = 1000,  # number of observations/rows\n",
    "                      lambda = 4) # non negative mean\n",
    "\n",
    "# Example: Simulating the number of visits to a government website per day.\n",
    "# To explore the generated data:\n",
    "# hist(poisson_dist, main=\"Poisson Distribution Example\", xlab=\"Number of Events\")\n",
    "# summary(poisson_dist)\n",
    "```"
   ]
  },
  {
   "cell_type": "markdown",
   "metadata": {},
   "source": [
    "**4. Binomial Distribution**: The binomial distribution is useful for simulating the number of successes in a fixed number of trials, each with the same probability of success.\n",
    "\n",
    "`rbinom` generates data representing the number of successes in a fixed number of trials, each with the same probability of success."
   ]
  },
  {
   "cell_type": "markdown",
   "metadata": {},
   "source": [
    "```r\n",
    "# Create data from scratch\n",
    "# Creates a binomial distribution of data\n",
    "\n",
    "binomial_dist <- rbinom(n = 1000,  # number of observations/rows\n",
    "                        size = 20, # number of trials\n",
    "                        prob = 0.2) # probability of success of each trial\n",
    "\n",
    "# Example: Simulating the number of successful outcomes in a series of experiments.\n",
    "# To explore the generated data:\n",
    "# hist(binomial_dist, main=\"Binomial Distribution Example\", xlab=\"Number of Successes\")\n",
    "# summary(binomial_dist)\n",
    "```"
   ]
  },
  {
   "cell_type": "markdown",
   "metadata": {},
   "source": [
    "### 2.2 Character/factor variables"
   ]
  },
  {
   "cell_type": "markdown",
   "metadata": {},
   "source": [
    "In this section, we will generate synthetic character (factor) variables using random sampling in `R`. These variables are useful for simulating categorical data, such as demographic information."
   ]
  },
  {
   "cell_type": "markdown",
   "metadata": {},
   "source": [
    "**1. Random sampling from a vector**: Random sampling from a vector allows you to generate categorical data by randomly selecting elements from a specified set. This is useful for creating variables like gender, where each observation is randomly assigned a category."
   ]
  },
  {
   "cell_type": "markdown",
   "metadata": {},
   "source": [
    "```r\n",
    "# Set seed for reproducibility\n",
    "set.seed(123)\n",
    "\n",
    "# Random sampling from a vector\n",
    "\n",
    "gender <- sample(x = c(\"M\", \"F\"),  # elements to choose from\n",
    "              size = 1000,      # number of observations\n",
    "              replace = TRUE)   # sampling with replacement\n",
    "\n",
    "# Example: Simulating gender distribution in a population.\n",
    "# To explore the generated data:\n",
    "# table(gender)\n",
    "# prop.table(table(gender))\n",
    "```"
   ]
  },
  {
   "cell_type": "markdown",
   "metadata": {},
   "source": [
    "**2. Weighted sampling from a vector**: Weighted sampling allows you to generate categorical data with specified probabilities for each category. This is useful for creating variables like marital status, where each category has a different likelihood of being selected.\n",
    "\n"
   ]
  },
  {
   "cell_type": "markdown",
   "metadata": {},
   "source": [
    "```r\n",
    "# Set seed for reproducibility\n",
    "set.seed(456)\n",
    "\n",
    "# Weighted sampling from a vector, using a vector of probabilities\n",
    "\n",
    "marriage_status <- sample(x = c(\"Single\", \"Married\", \"Divorced\", \"Widowed\"),  # elements to choose from\n",
    "                          size = 1000,    # number of observations\n",
    "                          replace = TRUE, # sampling with replacement\n",
    "                          prob = c(0.35, 0.50, 0.10, 0.05))  # weights for obtaining the elements of the vector being sampled\n",
    "\n",
    "# Example: Simulating marital status distribution in a population.\n",
    "# To explore the generated data:\n",
    "# table(marriage_status)\n",
    "# prop.table(table(marriage_status))\n",
    "```"
   ]
  },
  {
   "cell_type": "markdown",
   "metadata": {},
   "source": [
    "### 2.3 Combining data into a synthetic dataset\n"
   ]
  },
  {
   "cell_type": "markdown",
   "metadata": {},
   "source": [
    "Now, we will combine the numerical and categorical data into a single synthetic dataset using the `data.table` package:"
   ]
  },
  {
   "cell_type": "markdown",
   "metadata": {},
   "source": [
    "```r\n",
    "# Load the data.table package\n",
    "library(data.table)\n",
    "\n",
    "# Combine the data into a synthetic dataset\n",
    "synthetic_data1 <- data.table(uniform_dist,\n",
    "                              normal_dist,\n",
    "                              poisson_dist,\n",
    "                              binomial_dist,\n",
    "                              gender,\n",
    "                              marriage_status)\n",
    "\n",
    "# Explore the synthetic dataset\n",
    "print(head(synthetic_data1))\n",
    "summary(synthetic_data1)\n",
    "str(synthetic_data1)\n",
    "```"
   ]
  },
  {
   "cell_type": "markdown",
   "metadata": {},
   "source": [
    "**Converting Character Variables to Factors**\n",
    "To ensure that the categorical variables are treated appropriately in analyses, we should convert them to factor variables:"
   ]
  },
  {
   "cell_type": "markdown",
   "metadata": {},
   "source": [
    "```r\n",
    "# Change gender and marriage_status to factor variables\n",
    "synthetic_data1$gender <- as.factor(synthetic_data1$gender)\n",
    "synthetic_data1$marriage_status <- as.factor(synthetic_data1$marriage_status)\n",
    "\n",
    "# Check the structure of the dataset again\n",
    "str(synthetic_data1)\n",
    "```"
   ]
  },
  {
   "cell_type": "markdown",
   "metadata": {},
   "source": [
    "This combined synthetic dataset can now be used for various analyses, simulations, and testing purposes. It provides a comprehensive representation of both numerical and categorical variables, making it suitable for a wide range of applications."
   ]
  },
  {
   "cell_type": "markdown",
   "metadata": {},
   "source": []
  },
  {
   "cell_type": "markdown",
   "metadata": {},
   "source": [
    "Explanation:\n",
    "\n",
    "1. Setting a Seed (`set.seed`):\n",
    "\n",
    "* `set.seed(123)`: Sets the seed for random number generation. The number `123` can be any integer. Using the same seed will produce the same sequence of random numbers each time the code is run.\n",
    "2. Random Sampling (`sample`):\n",
    "\n",
    "* `x`: The vector of elements to choose from.\n",
    "* `size`: The number of observations to generate.\n",
    "* `replace`: Whether sampling is with replacement (`TRUE`) or without replacement (`FALSE`).\n",
    "3. Weighted Sampling (`sample` with `prob`):\n",
    "\n",
    "* `prob`: A vector of probabilities corresponding to the likelihood of each element in x being selected. The probabilities must sum to 1.\n",
    "\n",
    "These snippets provide a starting point for generating synthetic categorical data using random and weighted sampling with reproducibility. You can adjust the parameters to fit the specific characteristics of the population you are modeling. For more detailed information on the `sample` function, refer to the R documentation."
   ]
  },
  {
   "cell_type": "markdown",
   "metadata": {},
   "source": []
  },
  {
   "cell_type": "markdown",
   "metadata": {
    "vscode": {
     "languageId": "markdown"
    }
   },
   "source": [
    "## Application of `synthpop` in R"
   ]
  },
  {
   "cell_type": "markdown",
   "metadata": {},
   "source": [
    "In the guidiance, we will work with the `R` package synthpop (Nowok, Raab, and Dibben 2016), which is one of the most advanced and dedicated packages in R to create synthetic data. Other alternatives to create synthetic data are, for example, the R-package mice (van Buuren and Groothuis-Oudshoorn 2011; see Volker and Vink 2021), or the stand-alone software IVEware (“IVEware: Imputation and Variance Estimation Software,” n.d.)."
   ]
  },
  {
   "cell_type": "markdown",
   "metadata": {
    "vscode": {
     "languageId": "markdown"
    }
   },
   "source": [
    "In this guide, we will work with the `R` package `synthpop` [(Nowok, Raab, and Dibben 2016)](https://www.synthpop.org.uk/get-started.html), which is one of the most advanced and dedicated packages in `R` for creating synthetic data. Other alternatives for creating synthetic data include the R-package `mice` (van Buuren and Groothuis-Oudshoorn 2011; see Volker and Vink 2021), or the stand-alone software IVEware (“IVEware: Imputation and Variance Estimation Software,” n.d.)."
   ]
  },
  {
   "cell_type": "markdown",
   "metadata": {},
   "source": [
    "## References\n",
    "\n",
    "1. [Synthetic data at ONS](https://www.ons.gov.uk/methodology/methodologicalpublications/generalmethodology/onsworkingpaperseries/onsmethodologyworkingpaperseriesnumber16syntheticdatapilot)\n",
    "2. [`synthpop` (Nowok, Raab, and Dibben 2016)](https://www.synthpop.org.uk/get-started.html)"
   ]
  }
 ],
 "metadata": {
  "kernelspec": {
   "display_name": ".venv",
   "language": "python",
   "name": "python3"
  },
  "language_info": {
   "codemirror_mode": {
    "name": "ipython",
    "version": 3
   },
   "file_extension": ".py",
   "mimetype": "text/x-python",
   "name": "python",
   "nbconvert_exporter": "python",
   "pygments_lexer": "ipython3",
   "version": "3.10.11"
  }
 },
 "nbformat": 4,
 "nbformat_minor": 2
}
