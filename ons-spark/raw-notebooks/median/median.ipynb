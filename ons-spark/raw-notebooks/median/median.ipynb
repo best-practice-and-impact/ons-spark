{
 "cells": [
  {
   "cell_type": "markdown",
   "metadata": {},
   "source": [
    "Median in Spark"
   ]
  },
  {
   "cell_type": "markdown",
   "metadata": {},
   "source": [
    "Set-up Spark session and read config"
   ]
  },
  {
   "cell_type": "code",
   "execution_count": 1,
   "metadata": {},
   "outputs": [],
   "source": [
    "from pyspark.sql import SparkSession, functions as F\n",
    "import yaml\n",
    "\n",
    "spark = (SparkSession.builder.master(\"local[2]\")\n",
    "         .appName(\"ons-spark\")\n",
    "         .getOrCreate())\n",
    "\n",
    "with open(\"../../../config.yaml\") as f:\n",
    "    config = yaml.safe_load(f)"
   ]
  },
  {
   "cell_type": "markdown",
   "metadata": {},
   "source": [
    "```r\n",
    "library(sparklyr)\n",
    "library(dplyr)\n",
    "\n",
    "sc <- sparklyr::spark_connect(\n",
    "  master = \"local[2]\",\n",
    "  app_name = \"ons-spark\",\n",
    "  config = sparklyr::spark_config(),\n",
    "  )\n",
    "\n",
    "config <- yaml::yaml.load_file(\"ons-spark/config.yaml\")\n",
    "```"
   ]
  },
  {
   "cell_type": "markdown",
   "metadata": {},
   "source": [
    "Read in animal rescue dataset"
   ]
  },
  {
   "cell_type": "code",
   "execution_count": 2,
   "metadata": {},
   "outputs": [
    {
     "name": "stdout",
     "output_type": "stream",
     "text": [
      "root\n",
      " |-- IncidentNumber: string (nullable = true)\n",
      " |-- DateTimeOfCall: string (nullable = true)\n",
      " |-- CalYear: integer (nullable = true)\n",
      " |-- FinYear: string (nullable = true)\n",
      " |-- TypeOfIncident: string (nullable = true)\n",
      " |-- PumpCount: double (nullable = true)\n",
      " |-- PumpHoursTotal: double (nullable = true)\n",
      " |-- HourlyNotionalCost(£): integer (nullable = true)\n",
      " |-- IncidentNotionalCost(£): double (nullable = true)\n",
      " |-- FinalDescription: string (nullable = true)\n",
      " |-- AnimalGroupParent: string (nullable = true)\n",
      " |-- OriginofCall: string (nullable = true)\n",
      " |-- PropertyType: string (nullable = true)\n",
      " |-- PropertyCategory: string (nullable = true)\n",
      " |-- SpecialServiceTypeCategory: string (nullable = true)\n",
      " |-- SpecialServiceType: string (nullable = true)\n",
      " |-- WardCode: string (nullable = true)\n",
      " |-- Ward: string (nullable = true)\n",
      " |-- BoroughCode: string (nullable = true)\n",
      " |-- Borough: string (nullable = true)\n",
      " |-- StnGroundName: string (nullable = true)\n",
      " |-- PostcodeDistrict: string (nullable = true)\n",
      " |-- Easting_m: double (nullable = true)\n",
      " |-- Northing_m: double (nullable = true)\n",
      " |-- Easting_rounded: integer (nullable = true)\n",
      " |-- Northing_rounded: integer (nullable = true)\n",
      "\n"
     ]
    }
   ],
   "source": [
    "rescue_df = spark.read.csv(config[\"rescue_path_csv\"], header = True, inferSchema = True)\n",
    "\n",
    "rescue_df.printSchema()"
   ]
  },
  {
   "cell_type": "markdown",
   "metadata": {},
   "source": [
    "```r\n",
    "rescue_df <- sparklyr::spark_read_csv(sc,\n",
    "                                     path = config$rescue_path_csv,\n",
    "                                     header = TRUE,\n",
    "                                     infer_schema = TRUE)\n",
    "                                     \n",
    "sparklyr::sdf_schema(rescue_df)\n",
    "```"
   ]
  },
  {
   "cell_type": "markdown",
   "metadata": {},
   "source": [
    "Close spark session"
   ]
  },
  {
   "cell_type": "code",
   "execution_count": 3,
   "metadata": {},
   "outputs": [],
   "source": [
    "spark.stop()"
   ]
  },
  {
   "cell_type": "markdown",
   "metadata": {},
   "source": [
    "```r\n",
    "sparklyr::spark_disconnect(sc)\n",
    "```"
   ]
  }
 ],
 "metadata": {
  "kernelspec": {
   "display_name": "Python 3",
   "language": "python",
   "name": "python3"
  },
  "language_info": {
   "codemirror_mode": {
    "name": "ipython",
    "version": 3
   },
   "file_extension": ".py",
   "mimetype": "text/x-python",
   "name": "python",
   "nbconvert_exporter": "python",
   "pygments_lexer": "ipython3",
   "version": "3.6.8"
  }
 },
 "nbformat": 4,
 "nbformat_minor": 2
}
