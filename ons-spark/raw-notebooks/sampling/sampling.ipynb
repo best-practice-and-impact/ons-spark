{
 "cells": [
  {
   "cell_type": "markdown",
   "id": "8a96c63f",
   "metadata": {},
   "source": [
    "## Sampling: an overview\n",
    "\n",
    "Sampling is something that you may want to do during development or initial analysis of data, as with a smaller amount of data your code will run faster and requires less memory to process. \n",
    "\n",
    "There are many different ways that a dataframe can be sampled, the two main types covered in this page are:\n",
    "1) **simple random sampling**: [`.sample()`](https://spark.apache.org/docs/latest/api/python/reference/pyspark.sql/api/pyspark.sql.DataFrame.sample.html) in Pyspark and [`sdf_sample()`](https://spark.rstudio.com/packages/sparklyr/latest/reference/sdf_sample.html) in SparklyR and\n",
    "2) **stratified sampling**: [`.sampleBy()`](https://spark.apache.org/docs/latest/api/python/reference/pyspark.sql/api/pyspark.sql.DataFrame.sampleBy.html) in Pyspark. There is currently no way to do stratified sampling in SparklyR when using version 2.4.0 (spark vesion > 3.0.0 is required).\n",
    "\n",
    "Although, these two methods are the focus of this page there are numerous methods that can be used for sampling that will not be covered here, such as systematic sampling and cluster sampling. \n",
    "\n",
    "Both `.sample()` and `.sampleBy()` in Pyspark use the same base functions for sampling with and without replacement. For sampling without replacement PySpark implements a uniform sampling method using random number generation. A row will be added to the sample if the randomly generated number is smaller than the fraction input and each row has an equal probability of being sampled. Whereas for sampling with replacement numbers are generated from a Poisson sample. A link to the alogirithm breakdown can be found [here](https://github.com/apache/spark/blob/master/python/pyspark/rddsampler.py).\n",
    "\n",
    "It is important to note that sampling in Spark returns an approximate fraction of the data, rather than an exact one. The reason for this is explained in the [sample](#sampling-sample-and-sdf_sample) section.\n",
    "\n",
    "#### Creating spark session and loading data\n",
    "First, set up the Spark session, read the Animal Rescue data:"
   ]
  },
  {
   "cell_type": "code",
   "execution_count": 3,
   "id": "c82e0509",
   "metadata": {},
   "outputs": [],
   "source": [
    "import os\n",
    "import yaml\n",
    "from pyspark.sql import SparkSession, functions as F\n",
    "\n",
    "spark = SparkSession.builder.master(\"local[2]\").appName(\"sampling\").getOrCreate()\n",
    "\n",
    "with open(\"../../../config.yaml\") as f:\n",
    "    config = yaml.safe_load(f)\n",
    "    \n",
    "rescue_path = config[\"rescue_path_csv\"]\n",
    "# rescue_path = \"../../data/animal_rescue.csv\"\n",
    "rescue = spark.read.csv(rescue_path, header=True, inferSchema=True)\n",
    "rescue = rescue.withColumnRenamed('AnimalGroupParent','animal_type')\n"
   ]
  },
  {
   "cell_type": "markdown",
   "id": "d4ca7e13",
   "metadata": {},
   "source": [
    "```r\n",
    "library(sparklyr)\n",
    "\n",
    "default_config <- sparklyr::spark_config()\n",
    "\n",
    "sc <- sparklyr::spark_connect(\n",
    "    master = \"local[2]\",\n",
    "    app_name = \"sampling\",\n",
    "    config = default_config)\n",
    "\n",
    "config <- yaml::yaml.load_file(\"ons-spark/config.yaml\")\n",
    "\n",
    "rescue <- sparklyr::spark_read_csv(sc, config$rescue_path_csv, header=TRUE, infer_schema=TRUE)\n",
    "```"
   ]
  },
  {
   "cell_type": "markdown",
   "id": "6002c3fc",
   "metadata": {},
   "source": [
    "To fully test how Spark sampling functions are impacted by partitions we will also make use of a skewed dataframe."
   ]
  },
  {
   "cell_type": "code",
   "execution_count": 4,
   "id": "734e8e19",
   "metadata": {},
   "outputs": [
    {
     "data": {
      "text/plain": [
       "200"
      ]
     },
     "execution_count": 4,
     "metadata": {},
     "output_type": "execute_result"
    }
   ],
   "source": [
    "skewed_df = spark.range(1e6).withColumn(\"skew_col\",F.when(F.col('id') < 100, 'A')\n",
    "                                        .when(F.col('id') < 1000, 'B')\n",
    "                                        .when(F.col('id') < 10000, 'C')\n",
    "                                        .when(F.col('id') < 100000, 'D')\n",
    "                                        .otherwise('E')\n",
    "                                        )\n",
    "\n",
    "skewed_df = skewed_df.repartition('skew_col')\n",
    "\n",
    "skewed_df.rdd.getNumPartitions()"
   ]
  },
  {
   "cell_type": "markdown",
   "id": "e21f3a70",
   "metadata": {},
   "source": [
    "```r\n",
    "skewed_df <- sparklyr::sdf_seq(sc,from = 1, to = 1e6) %>%\n",
    "          sparklyr::mutate(skew_col = case_when(\n",
    "          id <= 100 ~ 'A',\n",
    "          id <= 1000 ~ 'B',\n",
    "          id <= 10000 ~ 'C',\n",
    "          id <= 100000 ~ 'D',\n",
    "          .default = 'E'))\n",
    "\n",
    "skewed_df <- skewed_df %>% sparklyr::sdf_repartition(partition_by = 'skew_col')\n",
    "\n",
    "```"
   ]
  },
  {
   "cell_type": "markdown",
   "id": "f88acaf8",
   "metadata": {},
   "source": [
    "### Sampling: `.sample()` and `sdf_sample()`\n",
    "\n",
    "By using `.sample()` in Pyspark and `sdf_sample()` in SparklyR you take a sampled subset of the original dataframe by setting a `seed`, a `fraction` and whether replacement is required. For the latter argument, in PySpark you use `withReplacement =`, if this is not set then the default answer is `False`, on the other hand in SparklyR you use `replacement =` and if not set the default answer = `True`. For both functions, `seed` is an optional argument which defaults to a random seed. The `fraction` however is compulsory and must be a value betwen 0.0 and 1.0; so, if we want to obtain a 20% sample we would use `fraction = 0.2`. \n",
    "\n",
    "For these two functions it is advised to specify the arguments explicitly. One reason being that in Pyspark `fraction` must come after `withReplacement` whereas when you use `sdf_sample()` in SparklyR `fraction` must be listed first. If you use both languages it is easy to make this mistake.\n",
    "\n",
    "From the [PySpark documentation](https://spark.apache.org/docs/3.1.2/api/python/reference/api/pyspark.sql.DataFrame.sample.html), we see that a uniform sampling method is used for `.sample()`. Here each each row is equally likely to be sampled. \n",
    "We should check that this is indeed occuring for an evenly distrubuted dataframe across a number of partitions (`rescue`) and a skewed dataset (`skew_df`). As both `.sample` and `sdf_sample()` implement uniform sampling, an *approximate* sample is returned, so you will get either slightly more or less than the specified fraction you originally input.\n",
    "\n",
    "#### Sampling without replacement\n",
    "\n",
    "We will perform checks on the `.sample()` function to determine how this will impact our skewed distribution. We will also check how the partitions impact the end distribution.\n",
    "\n",
    "First we will compare the distrubution of our skewed dataset before our sampling."
   ]
  },
  {
   "cell_type": "code",
   "execution_count": 5,
   "id": "a4f809a0",
   "metadata": {},
   "outputs": [
    {
     "name": "stdout",
     "output_type": "stream",
     "text": [
      "Total rows in original DF: 5898\n",
      "Total rows in sampled DF: 600\n",
      "Fraction of rows sampled 0.1017293997965412\n"
     ]
    }
   ],
   "source": [
    "rescue_sample = rescue.sample(withReplacement=False, fraction=0.1)\n",
    "print('Total rows in original DF:',rescue.count())\n",
    "print('Total rows in sampled DF:',rescue_sample.count())\n",
    "print('Fraction of rows sampled',rescue_sample.count()/rescue.count())"
   ]
  },
  {
   "cell_type": "markdown",
   "id": "7c888a3e",
   "metadata": {},
   "source": [
    "```r\n",
    "rescue_sample <- rescue %>% sparklyr::sdf_sample(fraction=0.1, replacement=FALSE)\n",
    "rescue_sample %>% sparklyr::sdf_nrow()\n",
    "\n",
    "print(paste0(\"Total rows in original DF: \", sparklyr::sdf_nrow(rescue)))\n",
    "print(paste0(\"Total rows in sampled DF: \", sparklyr::sdf_nrow(rescue_sample)))\n",
    "print(paste0(\"Fraction of rows sampled: \", sparklyr::sdf_nrow(rescue_sample)/sparklyr::sdf_nrow(rescue)))\n",
    "\n",
    "```"
   ]
  },
  {
   "cell_type": "markdown",
   "id": "d4d53926",
   "metadata": {},
   "source": [
    "You can also set a seed, in a similar way to how random numbers generators work. This enables replication, which is useful in Spark given that the DataFrame will otherwise be re-sampled every time an action is called."
   ]
  },
  {
   "cell_type": "code",
   "execution_count": 6,
   "id": "a8b9b7be",
   "metadata": {},
   "outputs": [
    {
     "name": "stdout",
     "output_type": "stream",
     "text": [
      "Seed 1 count: 593\n",
      "Seed 2 count: 593\n"
     ]
    }
   ],
   "source": [
    "rescue_sample_seed_1 = rescue.sample(withReplacement=None,\n",
    "                      fraction=0.1,\n",
    "                      seed=99)\n",
    "\n",
    "rescue_sample_seed_2 = rescue.sample(withReplacement=None,\n",
    "                      fraction=0.1,\n",
    "                      seed=99)\n",
    "\n",
    "print(f\"Seed 1 count: {rescue_sample_seed_1.count()}\")\n",
    "print(f\"Seed 2 count: {rescue_sample_seed_2.count()}\")"
   ]
  },
  {
   "cell_type": "markdown",
   "id": "e125cd2a",
   "metadata": {},
   "source": [
    "```r\n",
    "\n",
    "rescue_sample_seed_1 <- rescue %>% sparklyr::sdf_sample(fraction=0.1, seed=99)\n",
    "rescue_sample_seed_2 <- rescue %>% sparklyr::sdf_sample(fraction=0.1, seed=99)\n",
    "\n",
    "print(paste0(\"Seed 1 count: \", rescue_sample_seed_1 %>% sparklyr::sdf_nrow()))\n",
    "print(paste0(\"Seed 2 count: \", rescue_sample_seed_2 %>% sparklyr::sdf_nrow()))\n",
    "```"
   ]
  },
  {
   "cell_type": "markdown",
   "id": "9393c102",
   "metadata": {},
   "source": [
    "We can see that both samples have returned the same number of rows due to the identical seed.\n",
    "\n",
    "Another way of replicating results is with [persisting](https://best-practice-and-impact.github.io/ons-spark/spark-concepts/cache.html#persist). [Caching](https://best-practice-and-impact.github.io/ons-spark/spark-concepts/cache.html) or [checkpointing](https://best-practice-and-impact.github.io/ons-spark/spark-concepts/checkpoint-staging.html#checkpoint) the DataFrame will avoid recalculation of the DF within the same Spark session. Writing out the DF to a Hive table or parquet enables it to be used in subsequent Spark sessions. See the chapter on persisting for more detail.\n",
    "\n",
    "#### Does `.sample()` preserve the distribution, regardless of partitions?\n",
    "\n",
    "We also wish to perform checks on the `.sample()` function to determine how this will be impacted when the original dataframe has a large skew across partitions. \n",
    "Additionally we will verify that the original distribution is preserved when sampling without replacement.\n",
    "First we group the data by `skew_col` and caclulate how much of the dataframe each column represents."
   ]
  },
  {
   "cell_type": "code",
   "execution_count": 7,
   "id": "81c6c94e",
   "metadata": {},
   "outputs": [
    {
     "name": "stdout",
     "output_type": "stream",
     "text": [
      "+--------+---------+-----------------------+\n",
      "|skew_col|row_count|percentage_of_dataframe|\n",
      "+--------+---------+-----------------------+\n",
      "|       A|      100|                   0.01|\n",
      "|       B|      900|                   0.09|\n",
      "|       C|     9000|     0.8999999999999999|\n",
      "|       D|    90000|                    9.0|\n",
      "|       E|   900000|                   90.0|\n",
      "+--------+---------+-----------------------+\n",
      "\n"
     ]
    }
   ],
   "source": [
    "(skewed_df.groupBy('skew_col')\n",
    "    .agg(F.count('skew_col').alias('row_count'))\n",
    "    .withColumn('percentage_of_dataframe',F.col('row_count')/skewed_df.count()*100)\n",
    "    .sort('skew_col')\n",
    "    .show())"
   ]
  },
  {
   "cell_type": "markdown",
   "id": "50678132",
   "metadata": {},
   "source": [
    "```r\n",
    "n_rows <- skewed_df %>% sparklyr::sdf_nrow()\n",
    "skewed_df %>%\n",
    "        dplyr::group_by(skew_col) %>%\n",
    "        dplyr::count(skew_col,name = 'row_count') %>%\n",
    "        sparklyr::mutate(percentage_of_dataframe = row_count/n_rows*100) %>%\n",
    "        sdf_sort('skew_col')\n",
    "```"
   ]
  },
  {
   "cell_type": "markdown",
   "id": "4417ce60",
   "metadata": {},
   "source": [
    "As expected group `E` makes up 90% of the dataframe. \n",
    "Now we will sample 10% of the dataframe and assess the distribution of the sampled dataframe."
   ]
  },
  {
   "cell_type": "code",
   "execution_count": 8,
   "id": "2612383e",
   "metadata": {},
   "outputs": [
    {
     "name": "stdout",
     "output_type": "stream",
     "text": [
      "+--------+---------+-----------------------+\n",
      "|skew_col|row_count|percentage_of_dataframe|\n",
      "+--------+---------+-----------------------+\n",
      "|       A|       10|   0.010004702210038718|\n",
      "|       B|       94|    0.09404420077436394|\n",
      "|       C|      918|     0.9184316628815543|\n",
      "|       D|     9144|      9.148299700859404|\n",
      "|       E|    89787|      89.82921973327464|\n",
      "+--------+---------+-----------------------+\n",
      "\n"
     ]
    }
   ],
   "source": [
    "skewed_sample = skewed_df.sample(fraction= 0.1, withReplacement= False)\n",
    "\n",
    "(skewed_sample.groupBy('skew_col')\n",
    "    .agg(F.count('skew_col').alias('row_count'))\n",
    "    .withColumn('percentage_of_dataframe',F.col('row_count')/skewed_sample.count()*100)\n",
    "    .sort('skew_col')\n",
    "    .show())"
   ]
  },
  {
   "cell_type": "markdown",
   "id": "c6d30391",
   "metadata": {},
   "source": [
    "```r\n",
    "skewed_sample <- skewed_df %>% sparklyr::sdf_sample(fraction= 0.1, replacement= FALSE)\n",
    "\n",
    "n_rows_sample <- skewed_sample %>% sparklyr::sdf_nrow()\n",
    "\n",
    "skewed_sample %>%\n",
    "        dplyr::group_by(skew_col) %>%\n",
    "        dplyr::count(skew_col,name = 'row_count') %>%\n",
    "        sparklyr::mutate(percentage_of_dataframe = row_count/n_rows_sample*100) %>%\n",
    "        sdf_sort('skew_col')\n",
    "```"
   ]
  },
  {
   "cell_type": "markdown",
   "id": "bd0b6599",
   "metadata": {},
   "source": [
    "From the above example, it looks like the original distribution is preserved.\n",
    "We will now re-run the above sampling, but we first repartition our skewed dataframe. "
   ]
  },
  {
   "cell_type": "code",
   "execution_count": 9,
   "id": "cae450cf",
   "metadata": {},
   "outputs": [
    {
     "name": "stdout",
     "output_type": "stream",
     "text": [
      "+--------+---------+-----------------------+\n",
      "|skew_col|row_count|percentage_of_dataframe|\n",
      "+--------+---------+-----------------------+\n",
      "|       A|       11|     0.0110026406337521|\n",
      "|       B|       98|    0.09802352564615509|\n",
      "|       C|      866|     0.8662078898935746|\n",
      "|       D|     8941|       8.94314635512523|\n",
      "|       E|    90060|      90.08161958870129|\n",
      "+--------+---------+-----------------------+\n",
      "\n"
     ]
    }
   ],
   "source": [
    "equal_partitions_df = skewed_df.repartition(20)\n",
    "\n",
    "equal_partitions_sample = equal_partitions_df.sample(fraction=0.1, withReplacement=False)\n",
    "\n",
    "(equal_partitions_sample.groupBy('skew_col')\n",
    "    .agg(F.count('skew_col').alias('row_count'))\n",
    "    .withColumn('percentage_of_dataframe',F.col('row_count')/equal_partitions_sample.count()*100)\n",
    "    .sort('skew_col')\n",
    "    .show())"
   ]
  },
  {
   "cell_type": "markdown",
   "id": "a6355cc6",
   "metadata": {},
   "source": [
    "```r\n",
    "equal_partitions_df  <- skewed_df %>% sparklyr::sdf_repartition(20)\n",
    "\n",
    "equal_partitions_sample <- equal_partitions_df %>% sparklyr::sdf_sample(fraction= 0.1, replacement= FALSE)\n",
    "\n",
    "n_rows_sample_equal <- equal_partitions_sample %>% sparklyr::sdf_nrow()\n",
    "\n",
    "equal_partitions_sample %>%\n",
    "        dplyr::group_by(skew_col) %>%\n",
    "        dplyr::count(skew_col,name = 'row_count') %>%\n",
    "        sparklyr::mutate(percentage_of_dataframe = row_count/n_rows_sample_equal*100) %>%\n",
    "        sdf_sort('skew_col')\n",
    "```"
   ]
  },
  {
   "cell_type": "markdown",
   "id": "33bb0f92",
   "metadata": {},
   "source": [
    "From the above examples we can see that we get similar samples regardless of how the data is partitioned, where each row within the dataframe is equally likely to be added to the sample.\n",
    "Although one sample has been shown here, this has been tested using multiple random samples.\n",
    "\n",
    "#### Sampling with Replacement\n",
    "We have constructed a small example for sampling with replacement. Here we count the number of times the unique `IncidentNumber` occurs within the sampled dataframe.\n",
    "This will show how many times each `IncidentNumber` occurs within the sample, verifiying we are sampling with replacement as these rows have been sampled multiple times."
   ]
  },
  {
   "cell_type": "code",
   "execution_count": 10,
   "id": "a6fa7c87",
   "metadata": {},
   "outputs": [
    {
     "name": "stdout",
     "output_type": "stream",
     "text": [
      "+---------------+-----+\n",
      "| IncidentNumber|count|\n",
      "+---------------+-----+\n",
      "|       70935101|    2|\n",
      "|       15682091|    2|\n",
      "|133403-01102016|    2|\n",
      "|       40271121|    2|\n",
      "|       63575131|    2|\n",
      "+---------------+-----+\n",
      "only showing top 5 rows\n",
      "\n"
     ]
    }
   ],
   "source": [
    "replacement_sample = rescue.sample(fraction = 0.1, withReplacement = True, seed = 20)\n",
    "\n",
    "(replacement_sample.groupBy('IncidentNumber')\n",
    "                     .agg(F.count('IncidentNumber').alias('count'))\n",
    "                     .orderBy('count',ascending = False)\n",
    "                     .show(5))"
   ]
  },
  {
   "cell_type": "markdown",
   "id": "9050a437",
   "metadata": {},
   "source": [
    "```r\n",
    "replacement_sample = rescue %>% sparklyr::sdf_sample(fraction=0.1, replacement=TRUE, seed = 20)\n",
    "replacement_sample %>% sparklyr::sdf_nrow()\n",
    "\n",
    "replacement_sample %>%\n",
    "    dplyr::group_by(IncidentNumber) %>%\n",
    "    dplyr::count(IncidentNumber)%>%\n",
    "    dplyr::arrange(desc(n))\n",
    "```"
   ]
  },
  {
   "cell_type": "markdown",
   "id": "21c9e60b",
   "metadata": {},
   "source": [
    "The above examples show that a number of rows occur twice within the sample. While we have not presented the details here, sampling with replacement does still preserve the partitions and original distribution of the original dataframe as shown above for sampling without replacement.\n",
    "\n",
    "### Stratified samples: `.sampleBy()`\n",
    "\n",
    "A stratified sample can be taken with [`.sampleBy()`](https://spark.apache.org/docs/latest/api/python/reference/pyspark.sql/api/pyspark.sql.DataFrame.sampleby.html) in PySpark. This takes a column, `col`, to sample by, and a dictionary of weights, `fractions`.\n",
    "\n",
    "In common with other sampling methods this does not return an exact proportion and you can also optionally set a seed.\n",
    "\n",
    "Note that there is no native sparklyr implementation for stratified sampling, although there is a method for weighted sampling, [`sdf_weighted_sample()`](https://spark.rstudio.com/packages/sparklyr/latest/reference/sdf_weighted_sample.html).\n",
    "\n",
    "In PySpark, to return $5\\%$ of cats, $10\\%$ of dogs and $50\\%$ of hamsters:"
   ]
  },
  {
   "cell_type": "code",
   "execution_count": 11,
   "id": "129f5333",
   "metadata": {},
   "outputs": [
    {
     "name": "stdout",
     "output_type": "stream",
     "text": [
      "+-----------+---------+\n",
      "|animal_type|row_count|\n",
      "+-----------+---------+\n",
      "|        Cat|      146|\n",
      "|        Dog|       90|\n",
      "|    Hamster|        8|\n",
      "+-----------+---------+\n",
      "\n"
     ]
    }
   ],
   "source": [
    "weights = {\"Cat\": 0.05, \"Dog\": 0.1, \"Hamster\": 0.5}\n",
    "stratified_sample = rescue.sampleBy(\"animal_type\", fractions=weights)\n",
    "stratified_sample_count = (stratified_sample\n",
    "                           .groupBy(\"animal_type\")\n",
    "                           .agg(F.count(\"animal_type\").alias(\"row_count\"))\n",
    "                           .orderBy(\"animal_type\"))\n",
    "stratified_sample_count.show()"
   ]
  },
  {
   "cell_type": "markdown",
   "id": "9de7f8b9",
   "metadata": {},
   "source": [
    "We can quickly compare the number of rows for each animal to the expected to confirm that they are approximately equal:"
   ]
  },
  {
   "cell_type": "code",
   "execution_count": 12,
   "id": "43f9595c",
   "metadata": {},
   "outputs": [
    {
     "name": "stdout",
     "output_type": "stream",
     "text": [
      "+-----------+-----+------+-------------+---------+\n",
      "|animal_type|count|weight|expected_rows|row_count|\n",
      "+-----------+-----+------+-------------+---------+\n",
      "|        Cat| 2909|  0.05|        145.0|      146|\n",
      "|        Dog| 1008|   0.1|        101.0|       90|\n",
      "|    Hamster|   14|   0.5|          7.0|        8|\n",
      "+-----------+-----+------+-------------+---------+\n",
      "\n"
     ]
    }
   ],
   "source": [
    "weights_df = spark.createDataFrame(list(weights.items()), schema=[\"animal_type\", \"weight\"])\n",
    "\n",
    "(rescue\n",
    "    .groupBy(\"animal_type\").count()\n",
    "    .join(weights_df, on=\"animal_type\", how=\"inner\")\n",
    "    .withColumn(\"expected_rows\", F.round(F.col(\"count\") * F.col(\"weight\"), 0))\n",
    "    .join(stratified_sample_count, on=\"animal_type\", how=\"left\")\n",
    "    .orderBy(\"animal_type\")\n",
    "    .show()\n",
    ")"
   ]
  },
  {
   "cell_type": "markdown",
   "id": "1c64aff6",
   "metadata": {},
   "source": [
    "#### An example using the skewed dataset:\n",
    "\n",
    "Using `.sampleBy()` to sample a skewed dataset is perhaps better than using `.sample()` as you can specify the fractions of each strata within your sample to ensure that the strata in the sample are representative of the overall population. "
   ]
  },
  {
   "cell_type": "code",
   "execution_count": 14,
   "id": "0b48e92a",
   "metadata": {},
   "outputs": [
    {
     "name": "stdout",
     "output_type": "stream",
     "text": [
      "+--------+---------+-----------------------+\n",
      "|skew_col|row_count|percentage_of_dataframe|\n",
      "+--------+---------+-----------------------+\n",
      "|       A|       21|   0.007409602845287492|\n",
      "|       B|       84|    0.02963841138114997|\n",
      "|       C|     4506|     1.5898890676602593|\n",
      "|       D|     9105|       3.21259209077822|\n",
      "|       E|   269700|      95.16047082733509|\n",
      "+--------+---------+-----------------------+\n",
      "\n"
     ]
    }
   ],
   "source": [
    "sk_weights = {\"A\":0.2, \"B\": 0.1, \"C\": 0.5, \"D\":0.1, \"E\":0.3}\n",
    "stratified_sk_sample = skewed_df.sampleBy(\"skew_col\", fractions=sk_weights)\n",
    "\n",
    "(stratified_sk_sample\n",
    "    .groupBy('skew_col')\n",
    "    .agg(F.count('skew_col').alias('row_count'))\n",
    "    .withColumn('percentage_of_dataframe',F.col('row_count')/stratified_sk_sample.count()*100)\n",
    "    .sort('skew_col')\n",
    "    .show()\n",
    ")"
   ]
  },
  {
   "cell_type": "markdown",
   "id": "f830a0eb",
   "metadata": {},
   "source": [
    "**Conclusion**: the .sampleBy() function will produce similar results independant of partitions!"
   ]
  },
  {
   "cell_type": "markdown",
   "id": "aacbf6c7",
   "metadata": {},
   "source": [
    "### Information on alternate sampling methods\n",
    "\n",
    "### More details on sampling\n",
    "\n",
    "The following section gives more detail on sampling and how it is processed on the Spark cluster. It is not compulsory reading, but may be of interest to some Spark users.\n",
    "\n",
    "#### Returning an exact sample\n",
    "\n",
    "We have demonstrated above that `.sample()`/`sdf_sample()` return an approximate fraction, not an exact one. This is because every row is independently assigned a probability equal to the `fraction` of being included in the sample, e.g. with `fraction=0.2` every row has a $20\\%$ probability of being in the sample. The number of rows returned in the sample therefore follows the binomial distribution.\n",
    "\n",
    "The advantage of the sample being calculated in this way is that it is processed as a *narrow transformation*, which is more efficient than a *wide transformation*.\n",
    "\n",
    "To return an exact sample, one method is to calculate how many rows are required in the sample, create a new column of random numbers and sort by it, and use [`.limit()`](https://spark.apache.org/docs/latest/api/python/reference/pyspark.sql/api/pyspark.sql.DataFrame.limit.html) in PySpark or [`head()`](https://stat.ethz.ch/R-manual/R-devel/library/utils/html/head.html) in sparklyr. This requires an action and a wide transformation, and so will take longer to process than using `.sample()`."
   ]
  },
  {
   "cell_type": "code",
   "execution_count": 15,
   "id": "ca7fd820",
   "metadata": {},
   "outputs": [
    {
     "data": {
      "text/plain": [
       "590"
      ]
     },
     "execution_count": 15,
     "metadata": {},
     "output_type": "execute_result"
    }
   ],
   "source": [
    "fraction = 0.1\n",
    "row_count = round(rescue.count() * fraction)\n",
    "row_count"
   ]
  },
  {
   "cell_type": "markdown",
   "id": "b96fd2b2",
   "metadata": {},
   "source": [
    "```r\n",
    "fraction <- 0.1\n",
    "row_count <- round(sparklyr::sdf_nrow(rescue) * fraction)\n",
    "row_count\n",
    "```"
   ]
  },
  {
   "cell_type": "code",
   "execution_count": 16,
   "id": "9051de0b",
   "metadata": {},
   "outputs": [
    {
     "data": {
      "text/plain": [
       "590"
      ]
     },
     "execution_count": 16,
     "metadata": {},
     "output_type": "execute_result"
    }
   ],
   "source": [
    "rescue.withColumn(\"rand_no\", F.rand()).orderBy(\"rand_no\").limit(row_count).drop(\"rand_no\").count()"
   ]
  },
  {
   "cell_type": "markdown",
   "id": "ba9dec8c",
   "metadata": {},
   "source": [
    "```r\n",
    "\n",
    "rescue %>%\n",
    "    sparklyr::mutate(rand_no = rand()) %>%\n",
    "    dplyr::arrange(rand_no) %>%\n",
    "    head(row_count) %>%\n",
    "    sparklyr::select(rand_no) %>%\n",
    "    sparklyr::sdf_nrow()\n",
    "\n",
    "```"
   ]
  },
  {
   "cell_type": "markdown",
   "id": "12b65321",
   "metadata": {},
   "source": [
    "#### Partitioning\n",
    "\n",
    "Even though your sample DF will be smaller than the original DF the number of partitions will remain the same. For example, by default your original DF will have 200 partitions, but your sample DF may only be a 10 % fraction of the original DF and therefore does not need to be partitioned in 200 parts. Too many partitions can be expensive for Spark as it causes excessive overhead for managing smaller tasks; please see our page on [partitions](https://best-practice-and-impact.github.io/ons-spark/spark-concepts/partitions.html) for more information.\n",
    "\n",
    "To reduce the number of partitions in your sample you can use .coalesce() in PySpark or sdf_coalesce() in SparklyR. An example of reducing partitions to 20 in PySpark is given here: `df.sample(fraction=0.1).coalesce(20)`.\n",
    "\n",
    "#### Sampling consistently by filtering the data\n",
    "\n",
    "If the primary reason for using sampling is to process less data during development then an alternative is to filter the data and specify a condition which gives approximately the desired number of rows. This will give consistent results, which may or may not be desirable. For instance, in the Animal Rescue data we could use two years data:"
   ]
  },
  {
   "cell_type": "code",
   "execution_count": 17,
   "id": "fb1757cb",
   "metadata": {},
   "outputs": [
    {
     "data": {
      "text/plain": [
       "1142"
      ]
     },
     "execution_count": 17,
     "metadata": {},
     "output_type": "execute_result"
    }
   ],
   "source": [
    "rescue.filter(F.col(\"CalYear\").isin(2012, 2017)).count()"
   ]
  },
  {
   "cell_type": "markdown",
   "id": "d9f25385",
   "metadata": {},
   "source": [
    "```r\n",
    "rescue %>%\n",
    "    sparklyr::filter(CalYear == 2012 | CalYear == 2017) %>%\n",
    "    sparklyr::sdf_nrow()\n",
    "```"
   ]
  },
  {
   "cell_type": "markdown",
   "id": "8518062b",
   "metadata": {},
   "source": [
    "The disadvantage of this method is that you may have data quality issues in the original DF that will not be encountered, whereas these may be discovered with `.sample()`. Using unit testing and test driven development can mitigate the risk of these issues.\n",
    "\n",
    "\n",
    "#### Splitting a DF: `.randomSplit()` and `sdf_random_split()`\n",
    "\n",
    "Every row in the DF will be allocated to one of the split DFs. In common with the other sampling methods the exact size of each split may vary. An optional seed can also be set.\n",
    "\n",
    "For instance, to split the animal rescue data into three DFs with a weighting of $50\\%$, $40\\%$ and $10\\%$ in PySpark:"
   ]
  },
  {
   "cell_type": "code",
   "execution_count": 18,
   "id": "78681f9c",
   "metadata": {},
   "outputs": [
    {
     "name": "stdout",
     "output_type": "stream",
     "text": [
      "Split1: 2941\n",
      "Split2: 2367\n",
      "Split3: 590\n"
     ]
    }
   ],
   "source": [
    "split1, split2, split3 = rescue.randomSplit([0.5, 0.4, 0.1])\n",
    "\n",
    "print(f\"Split1: {split1.count()}\")\n",
    "print(f\"Split2: {split2.count()}\")\n",
    "print(f\"Split3: {split3.count()}\")"
   ]
  },
  {
   "cell_type": "markdown",
   "id": "659004d2",
   "metadata": {},
   "source": [
    "```r\n",
    "splits <- rescue %>% sparklyr::sdf_random_split(\n",
    "    split1 = 0.5,\n",
    "    split2 = 0.4,\n",
    "    split3 = 0.1)\n",
    "\n",
    "print(paste0(\"Split1: \", sparklyr::sdf_nrow(splits$split1)))\n",
    "print(paste0(\"Split2: \", sparklyr::sdf_nrow(splits$split2)))\n",
    "print(paste0(\"Split3: \", sparklyr::sdf_nrow(splits$split3)))\n",
    "```"
   ]
  },
  {
   "cell_type": "markdown",
   "id": "9cf89cef",
   "metadata": {},
   "source": [
    "Check that the count of the splits equals the total row count:"
   ]
  },
  {
   "cell_type": "code",
   "execution_count": 19,
   "id": "b4970c5f",
   "metadata": {},
   "outputs": [
    {
     "name": "stdout",
     "output_type": "stream",
     "text": [
      "DF count: 5898\n",
      "Split count total: 5898\n"
     ]
    }
   ],
   "source": [
    "print(f\"DF count: {rescue.count()}\")\n",
    "print(f\"Split count total: {split1.count() + split2.count() + split3.count()}\")"
   ]
  },
  {
   "cell_type": "markdown",
   "id": "03f6ee24",
   "metadata": {},
   "source": [
    "```r\n",
    "print(paste0(\"DF count: \", sparklyr::sdf_nrow(rescue)))\n",
    "print(paste0(\"Split count total: \",\n",
    "             sparklyr::sdf_nrow(splits$split1) +\n",
    "             sparklyr::sdf_nrow(splits$split2) +\n",
    "             sparklyr::sdf_nrow(splits$split3)))\n",
    "```"
   ]
  },
  {
   "cell_type": "markdown",
   "id": "e29a65fa",
   "metadata": {},
   "source": [
    "#### Splitting via `monotonically_increasing_id()` or `sdf_with_unique_id()`\n",
    "Finally we will cover an alternate method of splitting a dataframe by using the `monotonically_increasing_id()` Pyspark function or `sdf_with_unique_id()` SparklyR function.\n",
    "This will add a unique id number to each row which is larger than the previous id. \n",
    "Within a partition, rows will be numbered sequentially starting at 0 for the first row in the first partition, with large increases in row id occuring between partitions."
   ]
  },
  {
   "cell_type": "code",
   "execution_count": 20,
   "id": "3a4f0052",
   "metadata": {},
   "outputs": [
    {
     "name": "stdout",
     "output_type": "stream",
     "text": [
      "1966 1966 1966\n"
     ]
    }
   ],
   "source": [
    "rescue_id = rescue.repartition(20)\n",
    "\n",
    "rescue_id = (rescue_id\n",
    "             .withColumn('row_id', F.monotonically_increasing_id())\n",
    "             .withColumn('group_number', F.col('row_id')%3)\n",
    ")\n",
    "\n",
    "rescue_subsample_1 = rescue_id.filter(F.col('group_number') == 0)\n",
    "rescue_subsample_2 = rescue_id.filter(F.col('group_number') == 1)\n",
    "rescue_subsample_3 = rescue_id.filter(F.col('group_number') == 2)\n",
    "\n",
    "print(rescue_subsample_1.count(),\n",
    "    rescue_subsample_2.count(),\n",
    "    rescue_subsample_3.count())\n"
   ]
  },
  {
   "cell_type": "markdown",
   "id": "5b332f46",
   "metadata": {},
   "source": [
    "```r\n",
    "rescue_id <- rescue %>% sparklyr::sdf_repartition(20)\n",
    "\n",
    "rescue_id <- rescue_id %>%\n",
    "                  sparklyr::sdf_with_unique_id(id = \"id\") %>%\n",
    "                  sparklyr::mutate(group_number = id%%3)\n",
    "\n",
    "rescue_subsample_1 <- rescue_id %>% filter(group_number == 0)\n",
    "rescue_subsample_2 <- rescue_id %>% filter(group_number == 1)\n",
    "rescue_subsample_3 <- rescue_id %>% filter(group_number == 2)\n",
    "\n",
    "cat(rescue_subsample_1 %>% sparklyr::sdf_nrow(),\n",
    "rescue_subsample_2 %>% sparklyr::sdf_nrow(),\n",
    "rescue_subsample_3 %>% sparklyr::sdf_nrow())\n",
    "```"
   ]
  },
  {
   "cell_type": "markdown",
   "id": "5f25be03",
   "metadata": {},
   "source": [
    "### Further Resources\n",
    "\n",
    "Spark at the ONS Articles:\n",
    "- [Persisting in Spark](https://best-practice-and-impact.github.io/ons-spark/spark-concepts/persistence.html)\n",
    "- [Caching](https://best-practice-and-impact.github.io/ons-spark/spark-concepts/cache.html)\n",
    "- [Checkpoint](https://best-practice-and-impact.github.io/ons-spark/spark-concepts/checkpoint-staging.html#checkpoint)\n",
    "- [Partitions](https://best-practice-and-impact.github.io/ons-spark/spark-concepts/partitions.html)\n",
    "\n",
    "PySpark Documentation:\n",
    "- [`.sample()`](https://spark.apache.org/docs/latest/api/python/reference/pyspark.sql/api/pyspark.sql.DataFrame.sample.html)\n",
    "- [`.limit()`](https://spark.apache.org/docs/latest/api/python/reference/pyspark.sql/api/pyspark.sql.DataFrame.limit.html)\n",
    "- [`.coalesce()`](https://spark.apache.org/docs/latest/api/python/reference/pyspark.sql/api/pyspark.sql.DataFrame.coalesce.html)\n",
    "- [`.randomSplit()`](https://spark.apache.org/docs/latest/api/python/reference/pyspark.sql/api/pyspark.sql.DataFrame.randomSplit.html)\n",
    "- [`.sampleBy()`](https://spark.apache.org/docs/latest/api/python/reference/pyspark.sql/api/pyspark.sql.DataFrame.sampleBy.html)\n",
    "- [`.monotonically_increasing_id()`](https://spark.apache.org/docs/latest/api/python/reference/pyspark.sql/api/pyspark.sql.functions.monotonically_increasing_id.html)\n",
    "\n",
    "sparklyr Documentation:\n",
    "- [`sdf_sample()`](https://spark.rstudio.com/packages/sparklyr/latest/reference/sdf_sample.html)\n",
    "- [`sdf_coalesce()`](https://spark.rstudio.com/packages/sparklyr/latest/reference/sdf_coalesce.html)\n",
    "- [`sdf_random_split()`](https://spark.rstudio.com/packages/sparklyr/latest/reference/sdf_random_split.html)\n",
    "- [`sdf_weighted_sample()`](https://spark.rstudio.com/packages/sparklyr/latest/reference/sdf_weighted_sample.html)\n",
    "- [`sdf_with_unique_id()`](https://spark.rstudio.com/packages/sparklyr/latest/reference/sdf_with_unique_id.html#sdf_with_unique_id)\n",
    "\n",
    "R Documentation:\n",
    "- [`head()`](https://stat.ethz.ch/R-manual/R-devel/library/utils/html/head.html)"
   ]
  }
 ],
 "metadata": {
  "kernelspec": {
   "display_name": "Python 3",
   "language": "python",
   "name": "python3"
  },
  "language_info": {
   "codemirror_mode": {
    "name": "ipython",
    "version": 3
   },
   "file_extension": ".py",
   "mimetype": "text/x-python",
   "name": "python",
   "nbconvert_exporter": "python",
   "pygments_lexer": "ipython3",
   "version": "3.6.8"
  }
 },
 "nbformat": 4,
 "nbformat_minor": 5
}
