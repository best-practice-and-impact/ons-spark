{
 "cells": [
  {
   "cell_type": "markdown",
   "id": "8a96c63f",
   "metadata": {},
   "source": [
    "## Sampling: an overview\n",
    "\n",
    "Sampling is something that you may want to do during development or initial analysis of data, as with a smaller amount of data your code will run faster and requires less memory to process. \n",
    "\n",
    "There are many different ways that a dataframe can be sampled, the two main types covered in this page are:\n",
    "1) **simple random sampling**: [`.sample()`](https://spark.apache.org/docs/latest/api/python/reference/pyspark.sql/api/pyspark.sql.DataFrame.sample.html) in Pyspark and [`sdf_sample()`](https://spark.rstudio.com/packages/sparklyr/latest/reference/sdf_sample.html) in SparklyR and\n",
    "2) **stratified sampling**: [`.sampleBy()`](https://spark.apache.org/docs/latest/api/python/reference/pyspark.sql/api/pyspark.sql.DataFrame.sampleBy.html) in Pyspark and XXX in SparklyR (Don't belive the alternate method will work in the current spark version. must have spark > 3.0.0).\n",
    "\n",
    "Although, these two methods are the focus of this page there are numerous methods that can be used for sampling that will not be covered here, such as systematic sampling and cluster sampling. \n",
    "\n",
    "*insert a diagram to give a simple overview of what these sampling methods are OR do this under the individual headings instead*\n",
    "\n",
    "Both `.sample()` and `.sampleBy()` in Pyspark use the same base functions for sampling with and without replacement. For sampling without replacement spark implements a uniform sampling method using random number generation. A row will be added to the sample if the randomly generated number is smaller than the fraction input and each row has an equal probability of being sampled. Whereas for sampling with replacement numbers are generated from a Poisson sample (check details on this). A link to the alogirithm breakdown can be found [here](https://github.com/apache/spark/blob/master/python/pyspark/rddsampler.py).\n",
    "\n",
    "It is important to note that sampling in Spark returns an approximate fraction of the data, rather than an exact one. The reason for this is explained in the [sample](#sampling-sample-and-sdf_sample) section.\n",
    "\n",
    "#### Creating spark session and loading data\n",
    "First, set up the Spark session, read the Animal Rescue data:"
   ]
  },
  {
   "cell_type": "code",
   "execution_count": 1,
   "id": "c82e0509",
   "metadata": {},
   "outputs": [
    {
     "data": {
      "text/plain": [
       "5898"
      ]
     },
     "execution_count": 1,
     "metadata": {},
     "output_type": "execute_result"
    }
   ],
   "source": [
    "import os\n",
    "import yaml\n",
    "from pyspark.sql import SparkSession, functions as F\n",
    "\n",
    "spark = SparkSession.builder.master(\"local[2]\").appName(\"sampling\").getOrCreate()\n",
    "\n",
    "with open(\"../../../config.yaml\") as f:\n",
    "    config = yaml.safe_load(f)\n",
    "    \n",
    "rescue_path = config[\"rescue_path\"]\n",
    "rescue = spark.read.parquet(rescue_path)\n"
   ]
  },
  {
   "cell_type": "markdown",
   "id": "d4ca7e13",
   "metadata": {},
   "source": [
    "```r\n",
    "library(sparklyr)\n",
    "\n",
    "default_config <- sparklyr::spark_config()\n",
    "\n",
    "sc <- sparklyr::spark_connect(\n",
    "    master = \"local[2]\",\n",
    "    app_name = \"sampling\",\n",
    "    config = default_config)\n",
    "\n",
    "config <- yaml::yaml.load_file(\"ons-spark/config.yaml\")\n",
    "\n",
    "rescue <- sparklyr::spark_read_parquet(sc, config$rescue_path)\n",
    "\n",
    "```"
   ]
  },
  {
   "cell_type": "markdown",
   "id": "6002c3fc",
   "metadata": {},
   "source": [
    "To fully test how spark sampling functions are impacted by partitions we will also make use of a skewed dataframe."
   ]
  },
  {
   "cell_type": "code",
   "execution_count": 2,
   "id": "734e8e19",
   "metadata": {},
   "outputs": [],
   "source": [
    "skewed_df = spark.range(1e6).withColumn(\"skew_col\",F.when(F.col('id') < 100, 'A')\n",
    "                                        .when(F.col('id') < 1000, 'B')\n",
    "                                        .when(F.col('id') < 10000, 'C')\n",
    "                                        .when(F.col('id') < 100000, 'D')\n",
    "                                        .otherwise('E')\n",
    "                                        )\n",
    "\n",
    "skewed_df = skewed_df.repartition('skew_col')"
   ]
  },
  {
   "cell_type": "markdown",
   "id": "e21f3a70",
   "metadata": {},
   "source": [
    "```r\n",
    "skewed_df <- sparklyr::sdf_seq(sc,from = 1, to = 1e6) %>%\n",
    "          sparklyr::mutate(skew_col = case_when(\n",
    "          id <= 100 ~ 'A',\n",
    "          id <= 1000 ~ 'B',\n",
    "          id <= 10000 ~ 'C',\n",
    "          id <= 100000 ~ 'D',\n",
    "          .default = 'E'))\n",
    "\n",
    "```"
   ]
  },
  {
   "cell_type": "markdown",
   "id": "f88acaf8",
   "metadata": {},
   "source": [
    "### Sampling: `.sample()` and `sdf_sample()`\n",
    "\n",
    "#### Sampling without repacement\n",
    "\n",
    "First we will sample our dataframes without replacement. From the [PySpark documentation](https://spark.apache.org/docs/3.1.2/api/python/reference/api/pyspark.sql.DataFrame.sample.html), we see that a uniform sampling method is used, where each row is equally likely to be sampled. \n",
    "We should check that this is indeed occuring for an evenly distrubuted dataframe across a number of partitions (`rescue`) and a skewed dataset (`skew_df`).\n",
    "To use `.sample()`, we need to specify a `fraction`, which is a value betwen 0 and 1. \n",
    "So if we want to obtain a 20% sample we would use `fraction = 0.2`. \n",
    "As `.sample` and `sdf_sample()` implements uniform sampling, an *approximate* sample is returned, so you will get either slightly more or less than the specified fraction you original input.\n",
    "\n",
    "For `.sample()` and `sdf_sample()` it is advised to specify the arguments explicitly. \n",
    "One reason is that `fraction` is a compulsory argument, but in PySpark is after `withReplacement`. \n",
    "Another reason is that in sparklyr the arguments are in a different order, with fraction listed first; if you use both languages it is easy to make a mistake.\n",
    "Finally a key difference is that by default `.sample()` samples without replacement while `sdf_sample()` samples with replacement which could cause confusion when switching between the languages."
   ]
  },
  {
   "cell_type": "code",
   "execution_count": 2,
   "id": "a4f809a0",
   "metadata": {},
   "outputs": [
    {
     "data": {
      "text/plain": [
       "588"
      ]
     },
     "execution_count": 2,
     "metadata": {},
     "output_type": "execute_result"
    }
   ],
   "source": [
    "rescue_sample = rescue.sample(withReplacement=False, fraction=0.1)\n",
    "print('Total rows in original df:',rescue.count())\n",
    "print('Total rows in sampled df:',rescue_sample.count())\n",
    "print('Fraction of rows sampled',rescue_sample.count()/rescue.count())"
   ]
  },
  {
   "cell_type": "markdown",
   "id": "7c888a3e",
   "metadata": {},
   "source": [
    "```r\n",
    "rescue_sample <- rescue %>% sparklyr::sdf_sample(fraction=0.1, replacement=FALSE)\n",
    "rescue_sample %>% sparklyr::sdf_nrow()\n",
    "\n",
    "print(paste0(\"Total rows in original df: \", sparklyr::sdf_nrow(rescue)))\n",
    "print(paste0(\"Total rows in sampled df: \", sparklyr::sdf_nrow(rescue_sample)))\n",
    "print(paste0(\"Fraction of rows sampled: \", sparklyr::sdf_nrow(rescue_sample)/sparklyr::sdf_nrow(rescue)))\n",
    "\n",
    "```"
   ]
  },
  {
   "cell_type": "markdown",
   "id": "d4d53926",
   "metadata": {},
   "source": [
    "You can also set a seed, in a similar way to how random numbers generators work. This enables replication, which is useful in Spark given that the DataFrame will be otherwise be re-sampled every time an action is called."
   ]
  },
  {
   "cell_type": "code",
   "execution_count": 3,
   "id": "a8b9b7be",
   "metadata": {},
   "outputs": [
    {
     "name": "stdout",
     "output_type": "stream",
     "text": [
      "Seed 1 count: 589\n",
      "Seed 2 count: 589\n"
     ]
    }
   ],
   "source": [
    "rescue_sample_seed_1 = rescue.sample(withReplacement=None,\n",
    "                      fraction=0.1,\n",
    "                      seed=99)\n",
    "\n",
    "rescue_sample_seed_2 = rescue.sample(withReplacement=None,\n",
    "                      fraction=0.1,\n",
    "                      seed=99)\n",
    "\n",
    "print(f\"Seed 1 count: {rescue_sample_seed_1.count()}\")\n",
    "print(f\"Seed 2 count: {rescue_sample_seed_1.count()}\")"
   ]
  },
  {
   "cell_type": "markdown",
   "id": "e125cd2a",
   "metadata": {},
   "source": [
    "```r\n",
    "\n",
    "rescue_sample_seed_1 <- rescue %>% sparklyr::sdf_sample(fraction=0.1, seed=99)\n",
    "rescue_sample_seed_2 <- rescue %>% sparklyr::sdf_sample(fraction=0.1, seed=99)\n",
    "\n",
    "print(paste0(\"Seed 1 count: \", rescue_sample_seed_1 %>% sparklyr::sdf_nrow()))\n",
    "print(paste0(\"Seed 2 count: \", rescue_sample_seed_2 %>% sparklyr::sdf_nrow()))\n",
    "```"
   ]
  },
  {
   "cell_type": "markdown",
   "id": "9393c102",
   "metadata": {},
   "source": [
    "We can see that both samples have returned the same number of rows due to the identical seed.\n",
    "\n",
    "Another way of replicating results is with [persisting](../spark-concepts/persistence). [Caching](../spark-concepts/cache) or [checkpointing](../raw-notebooks/checkpoint-staging/checkpoint-staging) the DataFrame will avoid recalculation of the DF within the same Spark session. Writing out the DF to a Hive table or parquet enables it to be used in subsequent Spark sessions. See the chapter on persisting for more detail.\n",
    "\n",
    "### More details on sampling\n",
    "\n",
    "The following section gives more detail on sampling and how it is processed on the Spark cluster. is not compulsory reading, but may be of interest to some Spark users.\n",
    "\n",
    "#### Returning an exact sample\n",
    "\n",
    "We have demonstrated above that `.sample()`/`sdf_sample()` return an approximate fraction, not an exact one. This is because every row is independently assigned a probability equal to `fraction` of being included in the sample, e.g. with `fraction=0.2` every row has a $20\\%$ probability of being in the sample. The number of rows returned in the sample therefore follows the binomial distribution.\n",
    "\n",
    "The advantage of the sample being calculated in this way is that it is processed as a *narrow transformation*, which is more efficient than a *wide transformation*.\n",
    "\n",
    "To return an exact sample, one method is to calculate how many rows are required in the sample, create a new column of random numbers and sort by it, and use [`.limit()`](https://spark.apache.org/docs/latest/api/python/reference/pyspark.sql/api/pyspark.sql.DataFrame.limit.html) in PySpark or [`head()`](https://stat.ethz.ch/R-manual/R-devel/library/utils/html/head.html) in sparklyr. This requires an action and a wide transformation, and so will take longer to process than using `.sample()`."
   ]
  },
  {
   "cell_type": "code",
   "execution_count": 4,
   "id": "ca7fd820",
   "metadata": {},
   "outputs": [
    {
     "data": {
      "text/plain": [
       "590"
      ]
     },
     "execution_count": 4,
     "metadata": {},
     "output_type": "execute_result"
    }
   ],
   "source": [
    "fraction = 0.1\n",
    "row_count = round(rescue.count() * fraction)\n",
    "row_count"
   ]
  },
  {
   "cell_type": "markdown",
   "id": "b96fd2b2",
   "metadata": {},
   "source": [
    "```r\n",
    "fraction <- 0.1\n",
    "row_count <- round(sparklyr::sdf_nrow(rescue) * fraction)\n",
    "row_count\n",
    "```"
   ]
  },
  {
   "cell_type": "code",
   "execution_count": 5,
   "id": "9051de0b",
   "metadata": {},
   "outputs": [
    {
     "data": {
      "text/plain": [
       "590"
      ]
     },
     "execution_count": 5,
     "metadata": {},
     "output_type": "execute_result"
    }
   ],
   "source": [
    "rescue.withColumn(\"rand_no\", F.rand()).orderBy(\"rand_no\").limit(row_count).drop(\"rand_no\").count()"
   ]
  },
  {
   "cell_type": "markdown",
   "id": "ba9dec8c",
   "metadata": {},
   "source": []
  },
  {
   "cell_type": "markdown",
   "id": "12b65321",
   "metadata": {},
   "source": [
    "#### Partitioning\n",
    "\n",
    "The number of partitions will remain the same when sampling, even though the DataFrame will be smaller. If you are taking a small fraction of the data then your DataFrame may have too many partitions. You can use [`.coalesce()`](https://spark.apache.org/docs/latest/api/python/reference/pyspark.sql/api/pyspark.sql.DataFrame.coalesce.html) in PySpark or [`sdf_coalesce()`](https://spark.rstudio.com/packages/sparklyr/latest/reference/sdf_coalesce.html) in sparklyr to reduce the number of partitions, e.g. if your original DF had $200$ partitions and you take a $10\\%$ sample, you can reduce the number of partitions to $20$ with `df.sample(fraction=0.1).coalesce(20)`.\n",
    "\n",
    "#### Sampling consistently by filtering the data\n",
    "\n",
    "If the primary reason for using sampling is to process less data during development then an alternative is to filter the data and specify a condition which gives approximately the desired number of rows. This will give consistent results, which may or may not be desirable. For instance, in the Animal Rescue data we could use two years data:"
   ]
  },
  {
   "cell_type": "code",
   "execution_count": 6,
   "id": "fb1757cb",
   "metadata": {},
   "outputs": [
    {
     "data": {
      "text/plain": [
       "1142"
      ]
     },
     "execution_count": 6,
     "metadata": {},
     "output_type": "execute_result"
    }
   ],
   "source": [
    "rescue.filter(F.col(\"cal_year\").isin(2012, 2017)).count()"
   ]
  },
  {
   "cell_type": "markdown",
   "id": "d9f25385",
   "metadata": {},
   "source": [
    "```r\n",
    "rescue %>%\n",
    "    sparklyr::filter(cal_year == 2012 | cal_year == 2017) %>%\n",
    "    sparklyr::sdf_nrow()\n",
    "```"
   ]
  },
  {
   "cell_type": "markdown",
   "id": "8518062b",
   "metadata": {},
   "source": [
    "The disadvantage of this method is that you may have data quality issues in the original DF that will not be encountered, whereas these may be discovered with `.sample()`. Using unit testing and test driven development can mitigate the risk of these issues.\n",
    "\n",
    "### Other sampling functions\n",
    "\n",
    "This section briefly discusses similar functions to `.sample()` and `sdf_sample()`.\n",
    "\n",
    "#### Splitting a DF: `.randomSplit()` and `sdf_random_split()`\n",
    "\n",
    "\n",
    "Every row in the DF will be allocated to one of the split DFs. In common with the other sampling methods the exact size of each split may vary. An optional seed can also be set.\n",
    "\n",
    "For instance, to split the animal rescue data into three DFs with a weighting of $50\\%$, $40\\%$ and $10\\%$ in PySpark:"
   ]
  },
  {
   "cell_type": "code",
   "execution_count": 7,
   "id": "78681f9c",
   "metadata": {},
   "outputs": [
    {
     "name": "stdout",
     "output_type": "stream",
     "text": [
      "Split1: 2970\n",
      "Split2: 2328\n",
      "Split3: 600\n"
     ]
    }
   ],
   "source": [
    "split1, split2, split3 = rescue.randomSplit([0.5, 0.4, 0.1])\n",
    "\n",
    "print(f\"Split1: {split1.count()}\")\n",
    "print(f\"Split2: {split2.count()}\")\n",
    "print(f\"Split3: {split3.count()}\")"
   ]
  },
  {
   "cell_type": "markdown",
   "id": "659004d2",
   "metadata": {},
   "source": [
    "```r\n",
    "splits <- rescue %>% sparklyr::sdf_random_split(\n",
    "    split1 = 0.5,\n",
    "    split2 = 0.4,\n",
    "    split3 = 0.1)\n",
    "\n",
    "print(paste0(\"Split1: \", sparklyr::sdf_nrow(splits$split1)))\n",
    "print(paste0(\"Split2: \", sparklyr::sdf_nrow(splits$split2)))\n",
    "print(paste0(\"Split3: \", sparklyr::sdf_nrow(splits$split3)))\n",
    "```"
   ]
  },
  {
   "cell_type": "markdown",
   "id": "9cf89cef",
   "metadata": {},
   "source": [
    "Check that the count of the splits equals the total row count:"
   ]
  },
  {
   "cell_type": "code",
   "execution_count": 8,
   "id": "b4970c5f",
   "metadata": {},
   "outputs": [
    {
     "name": "stdout",
     "output_type": "stream",
     "text": [
      "DF count: 5898\n",
      "Split count total: 5898\n"
     ]
    }
   ],
   "source": [
    "print(f\"DF count: {rescue.count()}\")\n",
    "print(f\"Split count total: {split1.count() + split2.count() + split3.count()}\")"
   ]
  },
  {
   "cell_type": "markdown",
   "id": "03f6ee24",
   "metadata": {},
   "source": [
    "```r\n",
    "print(paste0(\"DF count: \", sparklyr::sdf_nrow(rescue)))\n",
    "print(paste0(\"Split count total: \",\n",
    "             sparklyr::sdf_nrow(splits$split1) +\n",
    "             sparklyr::sdf_nrow(splits$split2) +\n",
    "             sparklyr::sdf_nrow(splits$split3)))\n",
    "```"
   ]
  },
  {
   "cell_type": "markdown",
   "id": "f06c3933",
   "metadata": {},
   "source": [
    "#### Stratified samples: `.sampleBy()`\n",
    "\n",
    "A stratified sample can be taken with [`.sampleBy()`](https://spark.apache.org/docs/latest/api/python/reference/pyspark.sql/api/pyspark.sql.DataFrame.sampleby.html) in PySpark. This takes a column, `col`, to sample by, and a dictionary of weights, `fractions`.\n",
    "\n",
    "In common with other sampling methods this does not return an exact proportion and you can also optionally set a seed.\n",
    "\n",
    "Note that there is no native sparklyr implementation for stratified sampling, although there is a method for weighted sampling, [`sdf_weighted_sample()`](https://spark.rstudio.com/packages/sparklyr/latest/reference/sdf_weighted_sample.html).\n",
    "\n",
    "In PySpark, to return $5\\%$ of cats, $10\\%$ of dogs and $50\\%$ of hamsters:"
   ]
  },
  {
   "cell_type": "code",
   "execution_count": 9,
   "id": "129f5333",
   "metadata": {},
   "outputs": [
    {
     "name": "stdout",
     "output_type": "stream",
     "text": [
      "+------------+---------+\n",
      "|animal_group|row_count|\n",
      "+------------+---------+\n",
      "|         Cat|      129|\n",
      "|         Dog|       86|\n",
      "|     Hamster|        9|\n",
      "+------------+---------+\n",
      "\n"
     ]
    }
   ],
   "source": [
    "weights = {\"Cat\": 0.05, \"Dog\": 0.1, \"Hamster\": 0.5}\n",
    "stratified_sample = rescue.sampleBy(\"animal_group\", fractions=weights)\n",
    "stratified_sample_count = (stratified_sample\n",
    "                           .groupBy(\"animal_group\")\n",
    "                           .agg(F.count(\"animal_group\").alias(\"row_count\"))\n",
    "                           .orderBy(\"animal_group\"))\n",
    "stratified_sample_count.show()"
   ]
  },
  {
   "cell_type": "markdown",
   "id": "a0f11d44",
   "metadata": {},
   "source": [
    "We can quickly compare the number of rows for each animal to the expected to confirm that they are approximately equal:"
   ]
  },
  {
   "cell_type": "code",
   "execution_count": 10,
   "id": "d39a0721",
   "metadata": {},
   "outputs": [
    {
     "name": "stdout",
     "output_type": "stream",
     "text": [
      "+------------+-----+------+-------------+---------+\n",
      "|animal_group|count|weight|expected_rows|row_count|\n",
      "+------------+-----+------+-------------+---------+\n",
      "|         Cat| 2909|  0.05|        145.0|      129|\n",
      "|         Dog| 1008|   0.1|        101.0|       86|\n",
      "|     Hamster|   14|   0.5|          7.0|        9|\n",
      "+------------+-----+------+-------------+---------+\n",
      "\n"
     ]
    }
   ],
   "source": [
    "weights_df = spark.createDataFrame(list(weights.items()), schema=[\"animal_group\", \"weight\"])\n",
    "\n",
    "(rescue\n",
    "    .groupBy(\"animal_group\").count()\n",
    "    .join(weights_df, on=\"animal_group\", how=\"inner\")\n",
    "    .withColumn(\"expected_rows\", F.round(F.col(\"count\") * F.col(\"weight\"), 0))\n",
    "    .join(stratified_sample_count, on=\"animal_group\", how=\"left\")\n",
    "    .orderBy(\"animal_group\")\n",
    "    .show()\n",
    ")"
   ]
  },
  {
   "cell_type": "markdown",
   "id": "5f25be03",
   "metadata": {},
   "source": [
    "### Further Resources\n",
    "\n",
    "Spark at the ONS Articles:\n",
    "- [Persisting in Spark](../spark-concepts/persistence)\n",
    "- [Caching](../spark-concepts/cache)\n",
    "- [Checkpoint](../raw-notebooks/checkpoint-staging/checkpoint-staging)\n",
    "\n",
    "PySpark Documentation:\n",
    "- [`.sample()`](https://spark.apache.org/docs/latest/api/python/reference/pyspark.sql/api/pyspark.sql.DataFrame.sample.html)\n",
    "- [`.limit()`](https://spark.apache.org/docs/latest/api/python/reference/pyspark.sql/api/pyspark.sql.DataFrame.limit.html)\n",
    "- [`.coalesce()`](https://spark.apache.org/docs/latest/api/python/reference/pyspark.sql/api/pyspark.sql.DataFrame.coalesce.html)\n",
    "- [`.randomSplit()`](https://spark.apache.org/docs/latest/api/python/reference/pyspark.sql/api/pyspark.sql.DataFrame.randomSplit.html)\n",
    "- [`.sampleBy()`](https://spark.apache.org/docs/latest/api/python/reference/pyspark.sql/api/pyspark.sql.DataFrame.sampleBy.html)\n",
    "\n",
    "sparklyr Documentation:\n",
    "- [`sdf_sample()`](https://spark.rstudio.com/packages/sparklyr/latest/reference/sdf_sample.html)\n",
    "- [`sdf_coalesce()`](https://spark.rstudio.com/packages/sparklyr/latest/reference/sdf_coalesce.html)\n",
    "- [`sdf_random_split()`](https://spark.rstudio.com/packages/sparklyr/latest/reference/sdf_random_split.html)\n",
    "- [`sdf_weighted_sample()`](https://spark.rstudio.com/packages/sparklyr/latest/reference/sdf_weighted_sample.html)\n",
    "\n",
    "R Documentation:\n",
    "- [`head()`](https://stat.ethz.ch/R-manual/R-devel/library/utils/html/head.html)"
   ]
  }
 ],
 "metadata": {
  "kernelspec": {
   "display_name": "Python 3",
   "language": "python",
   "name": "python3"
  },
  "language_info": {
   "codemirror_mode": {
    "name": "ipython",
    "version": 3
   },
   "file_extension": ".py",
   "mimetype": "text/x-python",
   "name": "python",
   "nbconvert_exporter": "python",
   "pygments_lexer": "ipython3",
   "version": "3.6.8"
  }
 },
 "nbformat": 4,
 "nbformat_minor": 5
}
