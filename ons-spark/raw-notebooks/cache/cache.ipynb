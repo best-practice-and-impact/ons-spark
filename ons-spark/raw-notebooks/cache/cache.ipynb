{
 "cells": [
  {
   "cell_type": "markdown",
   "metadata": {},
   "source": [
    "## Caching\n",
    "\n",
    "Caching Spark DataFrames can be useful for two reasons:\n",
    "\n",
    "1. To estimate the size of a DataFrame and its partitions in memory\n",
    "2. Improve Spark performance by breaking the lineage of a DataFrame\n",
    "\n",
    "In this article we will firstly introduce caching to estimate the size of a DataFrame then see an example of where caching is useful to remove repeated runs of an execution plan.\n",
    "\n",
    "For a more detailed discussion on persistence in Spark please see the [Persisting](../spark-concepts/persistence) article.\n",
    "\n",
    "### How big is my DataFrame?\n",
    "\n",
    "A simple use of persistence in Spark is to find out how much memory is used to store a DataFrame. This is a tricky subject because the amount of memory or disk space a data set uses depends on many factors, including:\n",
    "\n",
    "1. whether the data are on disk (in storage) or in memory (being used)\n",
    "2. format (e.g. csv or parquet on disk, pandas or Spark DataFrame in memory)\n",
    "3. data types\n",
    "4. type of serialisation (compression)\n",
    "\n",
    "Most of this list is beyond the scope of this article, but it's useful to know that these factors effect the exact size of a data set.\n",
    "\n",
    "As usual we'll start with some imports and creating a Spark session."
   ]
  },
  {
   "cell_type": "code",
   "execution_count": 1,
   "metadata": {},
   "outputs": [],
   "source": [
    "from pyspark.sql import SparkSession, functions as F\n",
    "import yaml\n",
    "\n",
    "spark = (SparkSession.builder.master(\"local[2]\")\n",
    "         .appName(\"cache\")\n",
    "         .getOrCreate())"
   ]
  },
  {
   "cell_type": "markdown",
   "metadata": {},
   "source": [
    "```r\n",
    "library(sparklyr)\n",
    "library(dplyr)\n",
    "\n",
    "sc <- sparklyr::spark_connect(\n",
    "    master = \"local[2]\",\n",
    "    app_name = \"cache\",\n",
    "    config = sparklyr::spark_config())\n",
    "```"
   ]
  },
  {
   "cell_type": "markdown",
   "metadata": {},
   "source": [
    "Next we need some data. Here we're using a small amount of data because we're running a local session which has very limited resource. \n",
    "\n",
    "Note that [`.cache()`](https://spark.apache.org/docs/latest/api/python/reference/api/pyspark.sql.DataFrame.cache.html) in PySpark is a transformation, so to initiate moving the data into memory we need an action, hence the [`.count()`](https://spark.apache.org/docs/latest/api/python/reference/api/pyspark.sql.DataFrame.count.html).\n",
    "\n",
    "In sparklyr there is a `force=TRUE` argument in the [`tbl_cache()`](https://spark.rstudio.com/packages/sparklyr/latest/reference/tbl_cache.html) function meaning there is no need to pipe this into a row count. Also note that the name of the DataFrame will appear in the Spark UI, which is a nice feature in sparklyr. To do the same in PySpark we would need to register the DataFrame as a temporary table and give it a name."
   ]
  },
  {
   "cell_type": "code",
   "execution_count": 2,
   "metadata": {},
   "outputs": [
    {
     "data": {
      "text/plain": [
       "2297"
      ]
     },
     "execution_count": 2,
     "metadata": {},
     "output_type": "execute_result"
    }
   ],
   "source": [
    "with open(\"../../../config.yaml\") as f:\n",
    "    config = yaml.safe_load(f)\n",
    "\n",
    "population = spark.read.parquet(config['population_path'])\n",
    "\n",
    "population.cache().count()"
   ]
  },
  {
   "cell_type": "markdown",
   "metadata": {},
   "source": [
    "```r\n",
    "config <- yaml::yaml.load_file(\"ons-spark/config.yaml\")\n",
    "\n",
    "population <- sparklyr::spark_read_parquet(\n",
    "    sc,\n",
    "    path=config$population_path,\n",
    "    name=\"population\")\n",
    "\n",
    "sparklyr::tbl_cache(sc, \"population\", force=TRUE)\n",
    "```"
   ]
  },
  {
   "cell_type": "markdown",
   "metadata": {},
   "source": [
    "Now we can take a look in the [Spark UI](../spark-concepts/spark-application-and-ui), which is reached using the URL http://localhost:4040/jobs/. Note this address is used for a local Spark session, for more information on how to navigate to the Spark UI see the [documentation on monitoring](https://spark.apache.org/docs/latest/monitoring.html).\n",
    "\n",
    "Within the Spark UI, if you were to head over to the *Storage* tab you would see an RDD stored in memory, in two partitions and using 35.7 KB of executor memory. More on RDDs in the [Shuffling](../spark-concepts/shuffling.html#a-quick-note-on-rdds) article.\n",
    "\n",
    "```{figure} ../images/cache_memory.png\n",
    "---\n",
    "width: 100%\n",
    "name: CacheMemory\n",
    "alt: Storage page from the Spark UI showing cached DataFrame in memory\n",
    "---\n",
    "DataFrame cached in memory\n",
    "```\n",
    "\n",
    "You can also click on the RDD name to get more information, such as how many executors are being used and the size of each partition.\n",
    "\n",
    "```{figure} ../images/cache_memory_partitions.png\n",
    "---\n",
    "width: 100%\n",
    "name: CacheDetails\n",
    "alt: Further details of the cache in the Spark UI including partition sizes\n",
    "---\n",
    "Cache details\n",
    "```\n",
    "\n",
    "### Persist\n",
    "\n",
    "There is another function that can be used to persist DataFrames, [`.persist()`](https://spark.apache.org/docs/latest/api/python/reference/api/pyspark.sql.DataFrame.persist.html)/[`sdf_persist()`](https://spark.rstudio.com/packages/sparklyr/latest/reference/sdf_persist.html) in PySpark/sparklyr. This is a general form of `.cache()`/`tbl_cache()`. It is similar to doing a cache but we are able to specify where to store the data, e.g. use memory but allow spill over to executor disk if the executor memory is full. `.persist()`/`sdf_persist()` takes a `StorageLevel` argument to specify where to cache the data. Options for storage levels are:  \n",
    "\n",
    "- `MEMORY_ONLY`\n",
    "- `MEMORY_AND_DISK`  \n",
    "- `MEMORY_ONLY_SER`   \n",
    "- `MEMORY_AND_DISK_SER`   \n",
    "- `DISK_ONLY`  \n",
    "- `OFF_HEAP`   \n",
    "\n",
    "Using the `MEMORY_ONLY` option is equivalent to `.cache()`/`tbl_cache()`. More information on storage levels can be found in the [Apache Spark documentation](https://spark.apache.org/docs/latest/rdd-programming-guide.html#rdd-persistence). The only detail we will add here is that `DISK` in this instance refers to the executor disk and not the file system.\n",
    "\n",
    "There's an example below to see how this is used, first we will unpersist the previous DataFrame so that we don't fill our cache memory with unused data. Note this time in sparklyr we need to add a row count."
   ]
  },
  {
   "cell_type": "code",
   "execution_count": 4,
   "metadata": {},
   "outputs": [
    {
     "data": {
      "text/plain": [
       "DataFrame[postcode_district: string, population: bigint]"
      ]
     },
     "execution_count": 4,
     "metadata": {},
     "output_type": "execute_result"
    }
   ],
   "source": [
    "population.unpersist()"
   ]
  },
  {
   "cell_type": "markdown",
   "metadata": {},
   "source": [
    "```r\n",
    "sparklyr::tbl_uncache(sc, \"population\")\n",
    "```"
   ]
  },
  {
   "cell_type": "code",
   "execution_count": 5,
   "metadata": {},
   "outputs": [
    {
     "data": {
      "text/plain": [
       "2297"
      ]
     },
     "execution_count": 5,
     "metadata": {},
     "output_type": "execute_result"
    }
   ],
   "source": [
    "from pyspark import StorageLevel\n",
    "population.persist(StorageLevel.DISK_ONLY).count()"
   ]
  },
  {
   "cell_type": "markdown",
   "metadata": {},
   "source": [
    "```r\n",
    "sparklyr::sdf_persist(population, storage.level = \"DISK_ONLY\", name = \"population\") %>%\n",
    "    sparklyr::sdf_nrow()\n",
    "```"
   ]
  },
  {
   "cell_type": "markdown",
   "metadata": {},
   "source": [
    "Before we move on, head back to the Spark UI and have a look at how much space the `population` DataFrame uses on disk.\n",
    "\n",
    "```{figure} ../images/cache_disk.png\n",
    "---\n",
    "width: 100%\n",
    "name: CacheDisk\n",
    "alt: Storage page from the Spark UI showing cached DataFrame on disk\n",
    "---\n",
    "DataFrame cached on disk\n",
    "```\n",
    "\n",
    "Is this what you expected? Why is this number different to persisting in memory? Because there is some compression involved in data written on disk.\n",
    "\n",
    "[Databricks](https://databricks.com/), a company founded by the creators of Apache Spark, suggest the use cases for `.persist()`/`sdf_persist()` are rare. The are often cases where you might want to persist using `cache()`/`tbl_cache()`, write to disk, use [`.checkpoint()`](https://spark.apache.org/docs/latest/api/python/reference/api/pyspark.sql.DataFrame.checkpoint.html)/[`sdf_checkpoint()`](https://spark.rstudio.com/packages/sparklyr/latest/reference/sdf_checkpoint.html) or staging tables, but the options that `.persist()`/`sdf_persist()` present are not as useful. For a more detailed discussion about these options see the [Persisting](../spark-concepts/persistence) article."
   ]
  },
  {
   "cell_type": "code",
   "execution_count": 6,
   "metadata": {},
   "outputs": [
    {
     "data": {
      "text/plain": [
       "DataFrame[postcode_district: string, population: bigint]"
      ]
     },
     "execution_count": 6,
     "metadata": {},
     "output_type": "execute_result"
    }
   ],
   "source": [
    "population.unpersist()"
   ]
  },
  {
   "cell_type": "markdown",
   "metadata": {},
   "source": [
    "```r\n",
    "sparklyr::tbl_uncache(sc, \"population\")\n",
    "```"
   ]
  },
  {
   "cell_type": "markdown",
   "metadata": {},
   "source": [
    "### Using cache for more efficient coding\n",
    "\n",
    "Let's take a look at caching to speed up some processing. The scenario is that we want to read in some data and apply some cleaning and preprocessing. Then using this *cleansed* DataFrame we want to produce three tables as outputs for a publication.\n",
    "\n",
    "The data we will use are the animal rescue data set collected by the London Fire Brigade.\n",
    "\n",
    "#### Preparing the data"
   ]
  },
  {
   "cell_type": "code",
   "execution_count": 7,
   "metadata": {},
   "outputs": [],
   "source": [
    "rescue = spark.read.csv(\n",
    "    config['rescue_path_csv'], \n",
    "    header=True, inferSchema=True, \n",
    ")"
   ]
  },
  {
   "cell_type": "markdown",
   "metadata": {},
   "source": [
    "```r\n",
    "rescue <- sparklyr::spark_read_csv(sc, config$rescue_path_csv, header=TRUE, infer_schema=TRUE) \n",
    "```"
   ]
  },
  {
   "cell_type": "markdown",
   "metadata": {},
   "source": [
    "The DataFrame is read into a single partition, which is fine because it's a small amount of data. However, we'll repartition to later demonstrate a feature of Spark."
   ]
  },
  {
   "cell_type": "code",
   "execution_count": 8,
   "metadata": {},
   "outputs": [],
   "source": [
    "rescue = rescue.repartition(2)\n",
    "\n",
    "rescue = rescue.drop(\n",
    "    'WardCode', \n",
    "    'BoroughCode', \n",
    "    'Easting_m', \n",
    "    'Northing_m', \n",
    "    'Easting_rounded', \n",
    "    'Northing_rounded'\n",
    ")\n",
    "\n",
    "\n",
    "rescue = (rescue\n",
    "          .withColumnRenamed(\"PumpCount\", \"EngineCount\")\n",
    "          .withColumnRenamed(\"FinalDescription\", \"Description\")\n",
    "          .withColumnRenamed(\"HourlyNotionalCost(£)\", \"HourlyCost\")\n",
    "          .withColumnRenamed(\"IncidentNotionalCost(£)\", \"TotalCost\")\n",
    "          .withColumnRenamed(\"OriginofCall\", \"OriginOfCall\")\n",
    "          .withColumnRenamed(\"PumpHoursTotal\", \"JobHours\")\n",
    "          .withColumnRenamed(\"AnimalGroupParent\", \"AnimalGroup\")\n",
    ")\n",
    "\n",
    "\n",
    "rescue = rescue.withColumn(\n",
    "    \"DateTimeOfCall\", F.to_date(rescue.DateTimeOfCall, \"dd/MM/yyyy\")\n",
    ")\n",
    "\n",
    "\n",
    "rescue = rescue.withColumn(\n",
    "    \"IncidentDuration\", \n",
    "    rescue.JobHours / rescue.EngineCount\n",
    ")\n",
    "\n",
    "\n",
    "rescue = rescue.na.drop(subset=[\"TotalCost\", \"IncidentDuration\"])"
   ]
  },
  {
   "cell_type": "markdown",
   "metadata": {},
   "source": [
    "```r\n",
    "rescue <- rescue %>% sparklyr::sdf_repartition(2)\n",
    "\n",
    "rescue <- rescue %>% sparklyr::select(\n",
    "     - WardCode, \n",
    "     - BoroughCode, \n",
    "     - Easting_m, \n",
    "     - Northing_m, \n",
    "     - Easting_rounded, \n",
    "     - Northing_rounded\n",
    ")\n",
    "\n",
    "\n",
    "rescue <- rescue %>% dplyr::rename(\n",
    "    EngineCount = PumpCount,\n",
    "    Description = FinalDescription,\n",
    "    HourlyCost = HourlyNotionalCostGBP,\n",
    "    TotalCost = IncidentNotionalCostGBP,\n",
    "    OriginOfCall = OriginofCall,\n",
    "    JobHours = PumpHoursTotal,\n",
    "    AnimalGroup = AnimalGroupParent\n",
    ")\n",
    "\n",
    "\n",
    "rescue <- rescue %>% sparklyr::mutate(\n",
    "    DateTimeOfCall = to_date(DateTimeOfCall, \"dd/MM/yyyy\")) \n",
    "\n",
    "\n",
    "\n",
    "rescue <- rescue %>% \n",
    "    sparklyr::mutate(IncidentDuration = JobHours / EngineCount)\n",
    "\n",
    "\n",
    "rescue <- rescue  %>% \n",
    "      sparklyr::filter(!is.na(TotalCost) | !is.na(IncidentDuration))\n",
    "```"
   ]
  },
  {
   "cell_type": "markdown",
   "metadata": {},
   "source": [
    "Note that the above cells executed very quickly. Remember this is because they're all transformations, which means Spark hasn't executed the code yet; take a look at the Spark UI if you need convincing. So far Spark has created an execution plan but is waiting for an action to implement the plan.\n",
    "\n",
    "#### Analysis\n",
    "\n",
    "Now we have our cleansed DataFrame we can go on to produce some tables for our article on animal rescue costs for the London Fire Brigade. Here we will put the code into functions because we will rerun these snippets of code multiple times in this notebook."
   ]
  },
  {
   "cell_type": "code",
   "execution_count": 9,
   "metadata": {},
   "outputs": [],
   "source": [
    "def get_top_10_incidents(sdf):\n",
    "    return (sdf\n",
    "        .select(\"CalYear\", \"PostcodeDistrict\", \"AnimalGroup\", \"IncidentDuration\", \"TotalCost\")\n",
    "        .sort(\"TotalCost\", ascending=False)\n",
    "        .limit(10)\n",
    "    )\n",
    "\n",
    "def get_mean_cost_by_animal(sdf):\n",
    "    return (sdf\n",
    "        .groupBy(\"AnimalGroup\")\n",
    "        .agg(F.mean(\"TotalCost\").alias('MeanCost'))\n",
    "        .sort(\"MeanCost\", ascending=False)\n",
    "        .limit(10)\n",
    "    )\n",
    "\n",
    "def get_summary_cost_by_animal(sdf):\n",
    "    return (sdf.filter(\n",
    "                rescue.AnimalGroup.isin(\n",
    "                    \"Goat\", \n",
    "                    \"Bull\", \n",
    "                    \"Fish\", \n",
    "                    \"Horse\")\n",
    "            )\n",
    "            .groupBy(\"AnimalGroup\")\n",
    "            .agg(\n",
    "                F.min('TotalCost').alias('Min'), \n",
    "                F.avg('TotalCost').alias('Mean'), \n",
    "                F.max('TotalCost').alias('Max'), \n",
    "                F.count('TotalCost').alias('Count'))\n",
    "            .sort(\"Mean\", ascending=False)\n",
    "    )"
   ]
  },
  {
   "cell_type": "markdown",
   "metadata": {},
   "source": [
    "```r\n",
    "get_top_10_incidents <- function(sdf) {\n",
    "        sdf %>% \n",
    "            sparklyr::select(CalYear, PostcodeDistrict, AnimalGroup, IncidentDuration, TotalCost) %>%\n",
    "            dplyr::arrange(dplyr::desc(TotalCost)) %>%\n",
    "            head(10)\n",
    "}\n",
    "\n",
    "\n",
    "get_mean_cost_by_animal <- function(sdf) {\n",
    "    sdf %>%\n",
    "        dplyr::group_by(AnimalGroup) %>%\n",
    "        dplyr::summarise(MeanCost = mean(TotalCost)) %>%\n",
    "        dplyr::arrange(desc(MeanCost)) %>%\n",
    "        head(10)\n",
    "}\n",
    "\n",
    "\n",
    "get_summary_cost_by_animal <- function(sdf) {\n",
    "    sdf %>%\n",
    "        sparklyr::filter(AnimalGroup %in% c(\n",
    "            \"Goat\", \n",
    "            \"Bull\", \n",
    "            \"Fish\", \n",
    "            \"Horse\")) %>%\n",
    "        dplyr::group_by(AnimalGroup) %>%\n",
    "        dplyr::summarise(\n",
    "            Min = min(TotalCost),\n",
    "            Mean = avg(TotalCost),\n",
    "            Max = max(TotalCost),\n",
    "            Count = n()) %>%\n",
    "        dplyr::arrange(desc(Mean))\n",
    "    }\n",
    "```"
   ]
  },
  {
   "cell_type": "markdown",
   "metadata": {},
   "source": [
    "Next we will call the above functions and show the results"
   ]
  },
  {
   "cell_type": "code",
   "execution_count": 12,
   "metadata": {
    "scrolled": true
   },
   "outputs": [
    {
     "name": "stdout",
     "output_type": "stream",
     "text": [
      "+-------+----------------+---------------------+----------------+---------+\n",
      "|CalYear|PostcodeDistrict|AnimalGroup          |IncidentDuration|TotalCost|\n",
      "+-------+----------------+---------------------+----------------+---------+\n",
      "|2016   |NW5             |Cat                  |4.0             |3912.0   |\n",
      "|2013   |E4              |Horse                |6.0             |3480.0   |\n",
      "|2015   |TN14            |Horse                |5.0             |2980.0   |\n",
      "|2018   |UB4             |Horse                |4.0             |2664.0   |\n",
      "|2014   |TW4             |Cat                  |4.5             |2655.0   |\n",
      "|2011   |E17             |Horse                |3.0             |2340.0   |\n",
      "|2011   |E14             |Deer                 |3.0             |2340.0   |\n",
      "|2011   |E17             |Horse                |3.0             |2340.0   |\n",
      "|2018   |TN16            |Unknown - Wild Animal|3.5             |2296.0   |\n",
      "|2017   |N19             |Cat                  |3.5             |2282.0   |\n",
      "+-------+----------------+---------------------+----------------+---------+\n",
      "\n"
     ]
    }
   ],
   "source": [
    "top_10_incidents = get_top_10_incidents(rescue)\n",
    "top_10_incidents.show(truncate=False)"
   ]
  },
  {
   "cell_type": "markdown",
   "metadata": {},
   "source": [
    "```r\n",
    "top_10_incidents <- get_top_10_incidents(rescue)\n",
    "\n",
    "top_10_incidents %>%\n",
    "    sparklyr::collect() %>%\n",
    "    print()\n",
    "```"
   ]
  },
  {
   "cell_type": "code",
   "execution_count": 13,
   "metadata": {},
   "outputs": [
    {
     "name": "stdout",
     "output_type": "stream",
     "text": [
      "+------------------------------------------------+------------------+\n",
      "|AnimalGroup                                     |MeanCost          |\n",
      "+------------------------------------------------+------------------+\n",
      "|Goat                                            |1180.0            |\n",
      "|Bull                                            |780.0             |\n",
      "|Fish                                            |780.0             |\n",
      "|Horse                                           |747.4350649350649 |\n",
      "|Unknown - Animal rescue from water - Farm animal|709.6666666666666 |\n",
      "|Cow                                             |624.1666666666666 |\n",
      "|Hedgehog                                        |520.0             |\n",
      "|Lamb                                            |520.0             |\n",
      "|Deer                                            |423.8829787234043 |\n",
      "|Unknown - Wild Animal                           |390.03636363636366|\n",
      "+------------------------------------------------+------------------+\n",
      "\n"
     ]
    }
   ],
   "source": [
    "mean_cost_by_animal = get_mean_cost_by_animal(rescue)\n",
    "mean_cost_by_animal.show(truncate=False)"
   ]
  },
  {
   "cell_type": "markdown",
   "metadata": {},
   "source": [
    "```r\n",
    "mean_cost_by_animal <- get_mean_cost_by_animal(rescue)\n",
    "mean_cost_by_animal %>%\n",
    "    sparklyr::collect() %>%\n",
    "    print()\n",
    "```"
   ]
  },
  {
   "cell_type": "code",
   "execution_count": 14,
   "metadata": {},
   "outputs": [
    {
     "name": "stdout",
     "output_type": "stream",
     "text": [
      "+-----------+------+-----------------+------+-----+\n",
      "|AnimalGroup|   Min|             Mean|   Max|Count|\n",
      "+-----------+------+-----------------+------+-----+\n",
      "|       Goat|1180.0|           1180.0|1180.0|    1|\n",
      "|       Bull| 780.0|            780.0| 780.0|    1|\n",
      "|       Fish| 260.0|            780.0|1300.0|    2|\n",
      "|      Horse| 255.0|747.4350649350649|3480.0|  154|\n",
      "+-----------+------+-----------------+------+-----+\n",
      "\n"
     ]
    }
   ],
   "source": [
    "summary_cost_by_animal = get_summary_cost_by_animal(rescue)\n",
    "summary_cost_by_animal.show()"
   ]
  },
  {
   "cell_type": "markdown",
   "metadata": {},
   "source": [
    "```r\n",
    "summary_cost_by_animal <- get_summary_cost_by_animal(rescue)\n",
    "summary_cost_by_animal %>%\n",
    "    sparklyr::collect() %>%\n",
    "    print()\n",
    "```"
   ]
  },
  {
   "cell_type": "markdown",
   "metadata": {},
   "source": [
    "Great- we have our tables. Let's take a look at the individual steps Spark carried out to create our outputs.\n",
    "\n",
    "### Investigate the Spark UI\n",
    "\n",
    "Go into the [Spark UI](../spark-concepts/spark-application-and-ui) and look at the *SQL* tab which lists the queries that are created from our PySpark code. Alternatively, we could use the *Jobs* tab, but the *SQL* tab has more detailed information for our needs here. \n",
    "\n",
    "Click on the query with a description that starts with 'csv' and look at the DAG diagram. DAG stands for Directed Acyclic Graph and is often used to describe a process.\n",
    "\n",
    "```{figure} ../images/cache_file_scan.png\n",
    "---\n",
    "width: 100%\n",
    "name: FileScan\n",
    "alt: SQL DAG in the Spark UI for inferring a schema from a csv file\n",
    "---\n",
    "File scan to infer DataFrame schema\n",
    "```\n",
    "\n",
    "This query is glancing at the `animal_rescue.csv` file to get the schema so that following transformations can be validated before being added to the execution plan (it does this because we asked Spark to infer the schema). Doing this for large files can take several minutes, so for large data sets use parquet files or Hive tables, which store the schema for you.\n",
    "\n",
    "The next three queries (highlighted below) are the functions we have called above. Look at the DAG for each query by clicking on the descriptions, what are your observations?\n",
    "\n",
    "```{figure} ../images/cache_sql_no_persist.png\n",
    "---\n",
    "width: 100%\n",
    "name: AnalysisNoCache\n",
    "alt: SQL page of Spark UI showing execution time for analysis without using cache\n",
    "---\n",
    "Analysis duration without cache\n",
    "```\n",
    "\n",
    "**Observations**\n",
    "- Spark has changed the order of our transformations. We'll look at this later.\n",
    "- It's difficult to make sense of some boxes.\n",
    "- Every single one starts with reading in the data (Scan csv).\n",
    "\n",
    "The last point above means that Spark is reading in the file at the beginning of the job, and assuming there are no skipped stages, Spark is repeating the cleaning process for each output table.\n",
    "\n",
    "\n",
    "#### Using a cache\n",
    "\n",
    "What we need to do is to persist the `rescue` DataFrame so when we start our analysis functions Spark will use the cleansed and persisted DataFrame as the starting point.\n",
    "\n",
    "Let's cache the `rescue` DataFrame."
   ]
  },
  {
   "cell_type": "code",
   "execution_count": 15,
   "metadata": {},
   "outputs": [
    {
     "data": {
      "text/plain": [
       "5860"
      ]
     },
     "execution_count": 15,
     "metadata": {},
     "output_type": "execute_result"
    }
   ],
   "source": [
    "rescue.cache().count()"
   ]
  },
  {
   "cell_type": "markdown",
   "metadata": {},
   "source": [
    "```r\n",
    "rescue <- sparklyr::sdf_register(rescue, \"rescue\")\n",
    "sparklyr::tbl_cache(sc, \"rescue\", force=TRUE)\n",
    "```"
   ]
  },
  {
   "cell_type": "code",
   "execution_count": 19,
   "metadata": {},
   "outputs": [
    {
     "name": "stdout",
     "output_type": "stream",
     "text": [
      "+-------+----------------+--------------------+----------------+---------+\n",
      "|CalYear|PostcodeDistrict|         AnimalGroup|IncidentDuration|TotalCost|\n",
      "+-------+----------------+--------------------+----------------+---------+\n",
      "|   2016|             NW5|                 Cat|             4.0|   3912.0|\n",
      "|   2013|              E4|               Horse|             6.0|   3480.0|\n",
      "|   2015|            TN14|               Horse|             5.0|   2980.0|\n",
      "|   2018|             UB4|               Horse|             4.0|   2664.0|\n",
      "|   2014|             TW4|                 Cat|             4.5|   2655.0|\n",
      "|   2011|             E14|                Deer|             3.0|   2340.0|\n",
      "|   2011|             E17|               Horse|             3.0|   2340.0|\n",
      "|   2011|             E17|               Horse|             3.0|   2340.0|\n",
      "|   2018|            TN16|Unknown - Wild An...|             3.5|   2296.0|\n",
      "|   2017|             N19|                 Cat|             3.5|   2282.0|\n",
      "+-------+----------------+--------------------+----------------+---------+\n",
      "\n"
     ]
    }
   ],
   "source": [
    "get_top_10_incidents(rescue).show()"
   ]
  },
  {
   "cell_type": "markdown",
   "metadata": {},
   "source": [
    "```r\n",
    "get_top_10_incidents(rescue) %>%\n",
    "    sparklyr::collect() %>%\n",
    "    print()\n",
    "```"
   ]
  },
  {
   "cell_type": "code",
   "execution_count": 20,
   "metadata": {},
   "outputs": [
    {
     "name": "stdout",
     "output_type": "stream",
     "text": [
      "+--------------------+------------------+\n",
      "|         AnimalGroup|          MeanCost|\n",
      "+--------------------+------------------+\n",
      "|                Goat|            1180.0|\n",
      "|                Bull|             780.0|\n",
      "|                Fish|             780.0|\n",
      "|               Horse| 747.4350649350649|\n",
      "|Unknown - Animal ...| 709.6666666666666|\n",
      "|                 Cow| 624.1666666666666|\n",
      "|            Hedgehog|             520.0|\n",
      "|                Lamb|             520.0|\n",
      "|                Deer| 423.8829787234043|\n",
      "|Unknown - Wild An...|390.03636363636366|\n",
      "+--------------------+------------------+\n",
      "\n"
     ]
    }
   ],
   "source": [
    "get_mean_cost_by_animal(rescue).show()"
   ]
  },
  {
   "cell_type": "markdown",
   "metadata": {},
   "source": [
    "```r\n",
    "get_mean_cost_by_animal(rescue) %>%\n",
    "    sparklyr::collect() %>%\n",
    "    print()\n",
    "```"
   ]
  },
  {
   "cell_type": "code",
   "execution_count": 21,
   "metadata": {},
   "outputs": [
    {
     "name": "stdout",
     "output_type": "stream",
     "text": [
      "+-----------+------+-----------------+------+-----+\n",
      "|AnimalGroup|   Min|             Mean|   Max|Count|\n",
      "+-----------+------+-----------------+------+-----+\n",
      "|       Goat|1180.0|           1180.0|1180.0|    1|\n",
      "|       Fish| 260.0|            780.0|1300.0|    2|\n",
      "|       Bull| 780.0|            780.0| 780.0|    1|\n",
      "|      Horse| 255.0|747.4350649350649|3480.0|  154|\n",
      "+-----------+------+-----------------+------+-----+\n",
      "\n"
     ]
    }
   ],
   "source": [
    "get_summary_cost_by_animal(rescue).show()"
   ]
  },
  {
   "cell_type": "markdown",
   "metadata": {},
   "source": [
    "```r\n",
    "get_summary_cost_by_animal(rescue) %>%\n",
    "    sparklyr::collect() %>%\n",
    "    print()\n",
    "```"
   ]
  },
  {
   "cell_type": "markdown",
   "metadata": {},
   "source": [
    "Look at the Spark UI. Below is the DAG for the latest query.\n",
    "\n",
    "```{figure} ../images/cache_dag_in_memory.png\n",
    "---\n",
    "width: 50%\n",
    "name: DAGWithCache\n",
    "alt: SQL DAG in Spark UI showing shortened process by making use of cached DataFrame\n",
    "---\n",
    "SQL DAG using cached DataFrame\n",
    "```\n",
    "\n",
    "This time Spark didn't read in the data from disk and apply the cleaning, we have broken the lineage. We know this because the DAG starts with a *InMemoryTableScan*, i.e. the cache. Note that this diagram consists of fewer stages than we had previously. Another sign of cached data being used is the presence of *Skipped Stages* on the Jobs page. \n",
    "\n",
    "The important point here is that we were doing repeated computations on a DataFrame, i.e. aggregations on the cleansed data. When this happens it may well be more efficient to persist the data before the repeated calculations. We should check this for our case.\n",
    "\n",
    "There are many factors that contribute towards the time taken for each query that make benchmarking in Spark complex. When running the source notebook, sometimes the processing will be faster after the cache, but sometimes it will be slower. If we run the last three code cells above once more and look at the times we see that the processing after the cache was generally quicker. \n",
    "\n",
    "Each function is labelled in the image below. The first run was without caching, the second was with caching and the third was a second run with cached data. \n",
    "\n",
    "```{figure} ../images/cache_sql_compare.png\n",
    "---\n",
    "width: 100%\n",
    "name: AnalysisWithCache\n",
    "alt: SQL page of Spark UI showing improved execution time for analysis with cache\n",
    "---\n",
    "Processing time without and with cache\n",
    "```\n",
    "\n",
    "### Further Resources\n",
    "\n",
    "Spark at the ONS Articles:\n",
    "- [Persisting](../spark-concepts/persistence)\n",
    "- [Shuffling](../spark-concepts/shuffling):\n",
    "    - [A Quick Note on RDDs](../spark-concepts/shuffling.html#a-quick-note-on-rdds)\n",
    "- [Spark Application and UI](../spark-concepts/spark-application-and-ui)\n",
    "\n",
    "PySpark Documentation:\n",
    "- [`.count()`](https://spark.apache.org/docs/latest/api/python/reference/api/pyspark.sql.DataFrame.count.html)\n",
    "- [`.cache()`](https://spark.apache.org/docs/latest/api/python/reference/api/pyspark.sql.DataFrame.cache.html)\n",
    "- [`.persist()`](https://spark.apache.org/docs/latest/api/python/reference/api/pyspark.sql.DataFrame.persist.html)\n",
    "- [`.checkpoint()`](https://spark.apache.org/docs/latest/api/python/reference/api/pyspark.sql.DataFrame.checkpoint.html)\n",
    "\n",
    "sparklyr and tidyverse Documentation:\n",
    "- [`tbl_cache()`](https://spark.rstudio.com/packages/sparklyr/latest/reference/tbl_cache.html)\n",
    "- [`sdf_persist()`](https://spark.rstudio.com/packages/sparklyr/latest/reference/sdf_persist.html)\n",
    "- [`sdf_checkpoint()`](https://spark.rstudio.com/packages/sparklyr/latest/reference/sdf_checkpoint.html)\n",
    "\n",
    "Spark Documentation:\n",
    "- [Monitoring and Instrumentation](https://spark.apache.org/docs/latest/monitoring.html)\n",
    "- [RDD Persistence](https://spark.apache.org/docs/latest/rdd-programming-guide.html#rdd-persistence)\n",
    "\n",
    "Other Links:\n",
    "- [Databricks](https://databricks.com/)"
   ]
  }
 ],
 "metadata": {
  "kernelspec": {
   "display_name": "Python 3",
   "language": "python",
   "name": "python3"
  },
  "language_info": {
   "codemirror_mode": {
    "name": "ipython",
    "version": 3
   },
   "file_extension": ".py",
   "mimetype": "text/x-python",
   "name": "python",
   "nbconvert_exporter": "python",
   "pygments_lexer": "ipython3",
   "version": "3.6.8"
  }
 },
 "nbformat": 4,
 "nbformat_minor": 4
}
