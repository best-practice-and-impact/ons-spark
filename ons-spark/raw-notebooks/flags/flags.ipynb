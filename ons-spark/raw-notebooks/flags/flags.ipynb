{
 "cells": [
  {
   "cell_type": "markdown",
   "metadata": {},
   "source": [
    "# Flags in Spark\n",
    "\n",
    "A flag is... \n",
    "\n",
    "Our example will show how you can create a flag for age differences greater than a threshold wihtin a given group. \n",
    "\n",
    "## Creating an age-difference flag\n",
    "\n",
    "Given an `id` column and an `age` column we want to create a flag (0 or 1) to indicate whether the age difference between the two eldest entries within a given `id` is greater than a specified threshold value. \n",
    "\n",
    "It is likely that there are *many* ways of doing this. Below is one method using the functions available from `pyspark.sql` and some dummy data. \n",
    "\n",
    "As is good practice, first import the packages you will be using and start your Spark session:"
   ]
  },
  {
   "cell_type": "code",
   "execution_count": 1,
   "metadata": {},
   "outputs": [],
   "source": [
    "import pyspark.sql.functions as F\n",
    "from pyspark.sql import SparkSession, Window"
   ]
  },
  {
   "cell_type": "code",
   "execution_count": 2,
   "metadata": {},
   "outputs": [],
   "source": [
    "spark = SparkSession.builder.appName(\"troubleshooting\").getOrCreate()"
   ]
  },
  {
   "cell_type": "markdown",
   "metadata": {},
   "source": [
    "### Creating your dummy data\n",
    "\n",
    "The dataframe `df` will have an `id` column from 0 to 4. To create multiple `id` entries we will do a `.CrossJoin` with the numbers from 0 to 2 and then drop the latter column. To find more information on cross joins please refer to the [page on cross joins](#../spark-functions/cross-joins). Finally, we will add an `age` column with random numbers from 1 to 10. "
   ]
  },
  {
   "cell_type": "code",
   "execution_count": 3,
   "metadata": {},
   "outputs": [
    {
     "name": "stdout",
     "output_type": "stream",
     "text": [
      "+---+---+\n",
      "| id|age|\n",
      "+---+---+\n",
      "|  0|  7|\n",
      "|  0|  9|\n",
      "|  0| 10|\n",
      "|  1|  9|\n",
      "|  1|  5|\n",
      "|  1|  6|\n",
      "|  2|  4|\n",
      "|  2|  3|\n",
      "|  2| 10|\n",
      "|  3|  1|\n",
      "|  3|  4|\n",
      "|  3| 10|\n",
      "|  4|  8|\n",
      "|  4|  7|\n",
      "|  4|  3|\n",
      "+---+---+\n",
      "\n"
     ]
    }
   ],
   "source": [
    "df = (\n",
    "    spark.range(5)\n",
    "    .crossJoin(\n",
    "        spark.range(3)\n",
    "        .withColumnRenamed(\"id\",\"drop\")\n",
    "    ).drop(\"drop\")\n",
    "    .withColumn(\"age\", F.ceil(F.rand(seed=42)*10))\n",
    ")\n",
    "\n",
    "df.show()"
   ]
  },
  {
   "cell_type": "markdown",
   "metadata": {},
   "source": [
    "### Creating your columns \n",
    "\n",
    "There will be more than one way to get the desired result. Note that the method outlined here spells out the process in detail; please feel free to combine some of the steps (without sacrificing code readbility of course!).\n",
    "\n",
    "Now that we have dummy data we want to create a `window` over `id` that is ordered by `age` in descending order. We then want to create the following columns:\n",
    "\n",
    "- `age_lag` showing the next highest age within an id\n",
    "- `age_diff` obvious enough\n",
    "- `age_order` numbered oldest to youngest\n",
    "- `top_two_age_diff` returns the age difference between two oldest entries within an id, 0 for other rows\n",
    "- `age_diff_flag` flag to tell us if the age difference is greater than some threshold, 5 chosen here\n",
    "\n",
    "The two columns at the end are intermediary, therefore these could be dropped if no longer needed, using `.drop`."
   ]
  },
  {
   "cell_type": "code",
   "execution_count": 4,
   "metadata": {},
   "outputs": [
    {
     "name": "stdout",
     "output_type": "stream",
     "text": [
      "+---+---+-------+--------+---------+----------------+-------------+\n",
      "| id|age|age_lag|age_diff|age_order|top_two_age_diff|age_diff_flag|\n",
      "+---+---+-------+--------+---------+----------------+-------------+\n",
      "|  0| 10|      9|       1|        1|               1|            0|\n",
      "|  0|  9|      7|       2|        2|               0|            0|\n",
      "|  0|  7|   null|    null|        3|               0|            0|\n",
      "|  1|  9|      6|       3|        1|               3|            0|\n",
      "|  1|  6|      5|       1|        2|               0|            0|\n",
      "|  1|  5|   null|    null|        3|               0|            0|\n",
      "|  3| 10|      4|       6|        1|               6|            1|\n",
      "|  3|  4|      1|       3|        2|               0|            0|\n",
      "|  3|  1|   null|    null|        3|               0|            0|\n",
      "|  2| 10|      4|       6|        1|               6|            1|\n",
      "|  2|  4|      3|       1|        2|               0|            0|\n",
      "|  2|  3|   null|    null|        3|               0|            0|\n",
      "|  4|  8|      7|       1|        1|               1|            0|\n",
      "|  4|  7|      3|       4|        2|               0|            0|\n",
      "|  4|  3|   null|    null|        3|               0|            0|\n",
      "+---+---+-------+--------+---------+----------------+-------------+\n",
      "\n"
     ]
    }
   ],
   "source": [
    "order_window = Window.partitionBy(\"id\").orderBy(F.desc(\"age\"))\n",
    "\n",
    "df = df.withColumn(\"age_lag\", F.lag(F.col(\"age\"), -1).over(order_window))\n",
    "df = df.withColumn(\"age_diff\", F.col(\"age\") - F.col(\"age_lag\"))\n",
    "df = df.withColumn(\"age_order\", F.row_number().over(order_window))\n",
    "df = df.withColumn(\"top_two_age_diff\", F.when((F.col(\"age_order\") == 1), F.col(\"age_diff\")).otherwise(0))\n",
    "df = df.withColumn(\"age_diff_flag\", F.when(F.col(\"top_two_age_diff\") > 5, 1).otherwise(0))\n",
    "\n",
    "df.show()"
   ]
  },
  {
   "cell_type": "code",
   "execution_count": null,
   "metadata": {},
   "outputs": [],
   "source": []
  }
 ],
 "metadata": {
  "kernelspec": {
   "display_name": "Python 3",
   "language": "python",
   "name": "python3"
  },
  "language_info": {
   "codemirror_mode": {
    "name": "ipython",
    "version": 3
   },
   "file_extension": ".py",
   "mimetype": "text/x-python",
   "name": "python",
   "nbconvert_exporter": "python",
   "pygments_lexer": "ipython3",
   "version": "3.6.8"
  }
 },
 "nbformat": 4,
 "nbformat_minor": 2
}
