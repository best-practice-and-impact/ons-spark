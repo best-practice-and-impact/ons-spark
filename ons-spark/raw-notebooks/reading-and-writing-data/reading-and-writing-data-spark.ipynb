{
 "cells": [
  {
   "cell_type": "markdown",
   "metadata": {},
   "source": [
    "# Reading and Writing Data in Spark\n",
    "This chapter will go into more detail about the various file formats available to use with Spark, and how Spark interacts with these file formats. [Introduction to PySpark](../pyspark-intro/pyspark-intro) and [Introduction to SparklyR](../sparklyr-intro) briefly covered CSV files and Parquet files and some basic differences between them.\n",
    "\n",
    "This chapter will provide more detail on parquet files, CSV files, ORC files and Avro files, the differences between them and how to read and write data using these formats.\n",
    "\n",
    "Let's start by setting up a Spark session and reading in the config file."
   ]
  },
  {
   "cell_type": "code",
   "execution_count": 4,
   "metadata": {},
   "outputs": [],
   "source": [
    "from pyspark.sql import SparkSession, functions as F\n",
    "import yaml\n",
    "\n",
    "spark = (SparkSession.builder.master(\"local[2]\")\n",
    "         .appName(\"reading-data\")\n",
    "         .getOrCreate())\n",
    "\n",
    "with open(\"../../../config.yaml\") as f:\n",
    "    config = yaml.safe_load(f)"
   ]
  },
  {
   "cell_type": "markdown",
   "metadata": {},
   "source": [
    "```r\n",
    "library(sparklyr)\n",
    "library(dplyr)\n",
    "\n",
    "sc <- sparklyr::spark_connect(\n",
    "  master = \"local[2]\",\n",
    "  app_name = \"ons-spark\",\n",
    "  config = list(default = list(spark.submit.deployMode = \"cluster\")),\n",
    "  )\n",
    "\n",
    "config <- yaml::yaml.load_file(\"ons-spark/config.yaml\")\n",
    "```"
   ]
  },
  {
   "cell_type": "markdown",
   "metadata": {},
   "source": [
    "## CSV files\n",
    "### Reading in a CSV file\n",
    "To read in a CSV file, you can use [`spark.read.csv()`](https://spark.apache.org/docs/latest/sql-data-sources-csv.html) with PySpark or [`spark_read_csv()`](https://rdrr.io/cran/sparklyr/man/spark_read_csv.html) with SparklyR as demonstrated below."
   ]
  },
  {
   "cell_type": "code",
   "execution_count": 5,
   "metadata": {},
   "outputs": [],
   "source": [
    "animal_rescue = spark.read.csv(config[\"rescue_path_csv\"], header = True, inferSchema = True)"
   ]
  },
  {
   "cell_type": "markdown",
   "metadata": {},
   "source": [
    "```r\n",
    "rescue_df <- sparklyr::spark_read_csv(sc,\n",
    "                                     path = config$rescue_path_csv,\n",
    "                                     header = TRUE,\n",
    "                                     infer_schema = TRUE)\n",
    "```"
   ]
  },
  {
   "cell_type": "markdown",
   "metadata": {},
   "source": [
    "It's important to note the two arguments we have provided to the [`spark.read.csv()`](https://spark.apache.org/docs/latest/sql-data-sources-csv.html) function, `header` and `inferSchema`.\n",
    "\n",
    "By setting `header` to True, we're saying that we want the top row to be used as the column names. If we did not set this argument to True, then the top rows will be treated as the first row of data, and columns will be given a default name of `_c1`, `_c2`, `_c3` and so on.\n",
    "\n",
    "`inferSchema` is very important - a disadvantage of using a CSV file is that they are not associated with a schema in the same way parquet files are. By setting `inferSchema` to True, we're allowing the PySpark API to attempt to work out the schemas based on the contents of each column. If this were set to False, then each column would be set to a string datatype by default.\n",
    "\n",
    "Note that `inferSchema` may not always give the result you're expecting - we can see this in the DateTimeOfCall column in the below code. We may want this as a timestamp type, but it has been read in as a string. "
   ]
  },
  {
   "cell_type": "code",
   "execution_count": 6,
   "metadata": {},
   "outputs": [
    {
     "name": "stdout",
     "output_type": "stream",
     "text": [
      "root\n",
      " |-- IncidentNumber: string (nullable = true)\n",
      " |-- DateTimeOfCall: string (nullable = true)\n",
      " |-- CalYear: integer (nullable = true)\n",
      " |-- FinYear: string (nullable = true)\n",
      " |-- TypeOfIncident: string (nullable = true)\n",
      " |-- PumpCount: double (nullable = true)\n",
      " |-- PumpHoursTotal: double (nullable = true)\n",
      " |-- HourlyNotionalCost(£): integer (nullable = true)\n",
      " |-- IncidentNotionalCost(£): double (nullable = true)\n",
      " |-- FinalDescription: string (nullable = true)\n",
      " |-- AnimalGroupParent: string (nullable = true)\n",
      " |-- OriginofCall: string (nullable = true)\n",
      " |-- PropertyType: string (nullable = true)\n",
      " |-- PropertyCategory: string (nullable = true)\n",
      " |-- SpecialServiceTypeCategory: string (nullable = true)\n",
      " |-- SpecialServiceType: string (nullable = true)\n",
      " |-- WardCode: string (nullable = true)\n",
      " |-- Ward: string (nullable = true)\n",
      " |-- BoroughCode: string (nullable = true)\n",
      " |-- Borough: string (nullable = true)\n",
      " |-- StnGroundName: string (nullable = true)\n",
      " |-- PostcodeDistrict: string (nullable = true)\n",
      " |-- Easting_m: double (nullable = true)\n",
      " |-- Northing_m: double (nullable = true)\n",
      " |-- Easting_rounded: integer (nullable = true)\n",
      " |-- Northing_rounded: integer (nullable = true)\n",
      "\n"
     ]
    }
   ],
   "source": [
    "animal_rescue.printSchema()"
   ]
  },
  {
   "cell_type": "markdown",
   "metadata": {},
   "source": [
    "```r\n",
    "sparklyr::sdf_schema(rescue_df)\n",
    "```"
   ]
  },
  {
   "cell_type": "markdown",
   "metadata": {},
   "source": [
    "To correct this, we can either cast the column as a date type or we can provide a schema when reading it in. "
   ]
  },
  {
   "cell_type": "code",
   "execution_count": 7,
   "metadata": {},
   "outputs": [
    {
     "name": "stdout",
     "output_type": "stream",
     "text": [
      "root\n",
      " |-- IncidentNumber: string (nullable = true)\n",
      " |-- DateTimeOfCall: timestamp (nullable = true)\n",
      " |-- CalYear: integer (nullable = true)\n",
      " |-- TypeOfIncident: string (nullable = true)\n",
      "\n"
     ]
    }
   ],
   "source": [
    "from pyspark.sql.types import StructType, StructField, StringType, IntegerType, DoubleType, TimestampType\n",
    "\n",
    "custom_schema = StructType([\n",
    "    StructField(\"IncidentNumber\", StringType(), True),\n",
    "    StructField(\"DateTimeOfCall\", TimestampType(), True),\n",
    "    StructField(\"CalYear\", IntegerType(), True),\n",
    "    StructField(\"TypeOfIncident\", StringType(), True),])\n",
    "\n",
    "animal_rescue_with_schema = spark.read.csv(path = config[\"rescue_path_csv\"], header = True, schema = custom_schema)\n",
    "animal_rescue_with_schema.printSchema()"
   ]
  },
  {
   "cell_type": "markdown",
   "metadata": {},
   "source": [
    "```r\n",
    "custom_schema = list(IncidentNumber = \"character\",\n",
    "                     DateTimeOfCall = \"date\",\n",
    "                     CalYear = \"integer\",\n",
    "                     TypeOfIncident = \"character\")\n",
    "\n",
    "rescue_df <- sparklyr::spark_read_csv(sc,\n",
    "                                     path = config$rescue_path_csv,\n",
    "                                     header = TRUE,\n",
    "                                     infer_schema = FALSE,\n",
    "                                     columns = custom_schema)\n",
    "\n",
    "sparklyr::sdf_schema(rescue_df)\n",
    "```"
   ]
  },
  {
   "cell_type": "markdown",
   "metadata": {},
   "source": [
    "We can see that DateTimeOfCall has now been read in correctly as a timestamp type. Also, providing a schema will improve the efficiency of the operation. This is because, in order to infer a schema, Spark needs to scan the dataset. A column could contain, for example, an integer for the first 1000 rows and a string for the 1001th row - in which case it would be inferred as a string, but this wouldn't be obvious from the first 1000 rows. Needing to sample the data in each column can be quite memory intensive. Providing a schema means that Spark no longer has to sample the data before reading it in. \n",
    "\n",
    "Generally, if you're using a small dataset it is fine to use infer schema - however if you're reading in a large dataset, it may take considerably longer to read in and this will be repeated after every action (see [Persisting in Spark](../spark-concepts/persistence) to understand why this is the case), potentially increasing your execution time even further. "
   ]
  },
  {
   "cell_type": "markdown",
   "metadata": {},
   "source": [
    "### Writing out CSV files\n",
    "To write a Spark dataframe to a CSV file, you can use the [`.write.csv()`](https://sparkbyexamples.com/pyspark/pyspark-write-dataframe-to-csv-file/) method in PySpark, or [`spark_write_csv()`](https://rdrr.io/cran/sparklyr/man/spark_write_csv.html) in SparklyR, as demonstrated below:"
   ]
  },
  {
   "cell_type": "code",
   "execution_count": 8,
   "metadata": {},
   "outputs": [],
   "source": [
    "animal_rescue.write.csv(config[\"temp_outputs\"] + \"animal_rescue.csv\", header = True, mode = \"overwrite\")"
   ]
  },
  {
   "cell_type": "markdown",
   "metadata": {},
   "source": [
    "```r\n",
    "sparklyr::spark_write_csv(rescue_df,\n",
    "                         paste0(config$temp_outputs, \"animal_rescue_r.csv\"),\n",
    "                         header = TRUE,\n",
    "                         mode = 'overwrite')\n",
    "\n",
    "```"
   ]
  },
  {
   "cell_type": "markdown",
   "metadata": {},
   "source": [
    "Note that as mentioned above, we need to specify `header = True` for Spark to treat the top row as column names.\n",
    "\n",
    "To overwrite an existing file, you can specify `mode = overwrite`. Other writing modes include `append` which appends the data to the pre-existing file file, `ignore` which ignores the write operation if the file already exists or `error` - this is the default and will error if the file already exists."
   ]
  },
  {
   "cell_type": "markdown",
   "metadata": {},
   "source": [
    "## Parquet files\n",
    "### Reading in a parquet file\n",
    "To read in a parquet file in PySpark, you can use [`spark.read.parquet()`](https://spark.apache.org/docs/latest/sql-data-sources-parquet.html) as demonstrated below. For SparklyR, you would use the [`spark_read_parquet()`](https://www.rdocumentation.org/packages/sparklyr/versions/1.8.3/topics/spark_read_parquet) method. "
   ]
  },
  {
   "cell_type": "code",
   "execution_count": 9,
   "metadata": {},
   "outputs": [],
   "source": [
    "animal_rescue = spark.read.parquet(config[\"rescue_path\"])"
   ]
  },
  {
   "cell_type": "markdown",
   "metadata": {},
   "source": [
    "```r\n",
    "rescue_df <- sparklyr::spark_read_parquet(sc, path = config$rescue_path)\n",
    "```"
   ]
  },
  {
   "cell_type": "markdown",
   "metadata": {},
   "source": [
    "As you can see, we didn't have to provide a schema or use the inferSchema argument - this is because parquet files already have a schema associated with them, which is stored in the metadata. \n",
    "\n",
    "### Writing out parquet files\n",
    "\n",
    "To write out a Spark dataframe as a parquet file, you can use [`.write.parquet()`](https://sparkbyexamples.com/pyspark/pyspark-read-and-write-parquet-file/) in PySpark or [`spark_write_parquet()`](https://rdrr.io/cran/sparklyr/man/spark_write_parquet.html) in SparklyR."
   ]
  },
  {
   "cell_type": "code",
   "execution_count": 10,
   "metadata": {},
   "outputs": [],
   "source": [
    "animal_rescue.write.parquet(config[\"temp_outputs\"] + \"animal_rescue.parquet\", mode = \"overwrite\")"
   ]
  },
  {
   "cell_type": "markdown",
   "metadata": {},
   "source": [
    "```r\n",
    "sparklyr::spark_write_parquet(rescue_df, paste0(config$temp_outputs, \"animal_rescue_r.parquet\"), mode = 'overwrite')\n",
    "```"
   ]
  },
  {
   "cell_type": "markdown",
   "metadata": {},
   "source": [
    "There is no need to specify the `header` argument as with CSV files when saving out or reading in a parquet file - because of the metadata associated with parquet files, Spark knows whether something is a column header or not. As with CSV files, you can specify alternative modes for saving out the data including `append` and `ignore`. "
   ]
  },
  {
   "cell_type": "markdown",
   "metadata": {},
   "source": [
    "As well as having a schema associated with them, there are other benefits of working with parquet files instead of CSV files. These include:\n",
    "\n",
    "* Column-based format - parquet files are organised by columns, rather than by row. This allows for better compression and more efficient use of storage space, as columns typically contain similar data types and repeating values. Additionally, when accessing only specific columns, Spark can skip reading in unnecessary data and only read in the columns of interest.\n",
    "* Predicate pushdown - parquet supports predicate pushdowns, this means if you read in the full dataset and then filter, the filter clause will be \"pushed down\" to where the data is stored, meaning it can be filtered before it is read in, reducing the amount of memory used to process the data.\n",
    "* Compression - parquet has built-in compression methods to reduce the required storage space.\n",
    "* Complex data types - parquet files support complex data types such as nested data."
   ]
  },
  {
   "cell_type": "markdown",
   "metadata": {},
   "source": [
    "## Optimised Row Columnar (ORC) files\n",
    "\n",
    "### Reading in ORC files\n",
    "To read in an ORC file, using PySpark, you can use [`spark.read.orc()`](https://sparkbyexamples.com/spark/spark-read-orc-file-into-dataframe/). Using SparklyR, you would use [`spark_read_orc()`](https://rdrr.io/cran/sparklyr/man/spark_read_orc.html)"
   ]
  },
  {
   "cell_type": "code",
   "execution_count": 11,
   "metadata": {},
   "outputs": [],
   "source": [
    "animal_rescue = spark.read.orc(config[\"rescue_path_orc\"])"
   ]
  },
  {
   "cell_type": "markdown",
   "metadata": {},
   "source": [
    "```r\n",
    "rescue_df <- sparklyr::spark_read_orc(sc, path = config$rescue_path_orc)\n",
    "```"
   ]
  },
  {
   "cell_type": "markdown",
   "metadata": {},
   "source": [
    "### Writing out ORC files\n",
    "To write out an ORC file, you can use [`dataframe.write.orc()`](https://sparkbyexamples.com/spark/spark-read-orc-file-into-dataframe/) in PySpark or [`spark_write_orc()`](https://rdrr.io/cran/sparklyr/man/spark_write_orc.html) in SparklyR."
   ]
  },
  {
   "cell_type": "code",
   "execution_count": 12,
   "metadata": {},
   "outputs": [],
   "source": [
    "animal_rescue.write.orc(config[\"temp_outputs\"] + \"animal_rescue.orc\", mode = \"overwrite\")"
   ]
  },
  {
   "cell_type": "markdown",
   "metadata": {},
   "source": [
    "```r\n",
    "sparklyr::spark_write_orc(rescue_df, paste0(config$temp_outputs, \"animal_rescue_r.orc\"), mode = 'overwrite')\n",
    "```"
   ]
  },
  {
   "cell_type": "markdown",
   "metadata": {},
   "source": [
    "Again, there is no need to use `inferSchema` or specify a `header` argument, as with a CSV file."
   ]
  },
  {
   "cell_type": "markdown",
   "metadata": {},
   "source": [
    "An ORC file shares a lot of the same benefits that a parquet file has over a CSV, including:\n",
    "* The schema is stored with the file, meaning we don't have to specify a schema\n",
    "* Column-based formatting\n",
    "* Predicate pushdown support\n",
    "* Built-in compression\n",
    "* Support of complex data types"
   ]
  },
  {
   "cell_type": "markdown",
   "metadata": {},
   "source": [
    "## Avro files\n",
    "\n",
    "### Reading in Avro files\n",
    "To read in an Avro file using PySpark, you can use [`spark.read.format(\"avro\")`](https://sparkbyexamples.com/spark/read-write-avro-file-spark-dataframe/).\n",
    "\n",
    "Please note: the Avro section for SparklyR is still under construction."
   ]
  },
  {
   "cell_type": "code",
   "execution_count": 13,
   "metadata": {},
   "outputs": [],
   "source": [
    "animal_rescue = spark.read.format(\"avro\").load(config[\"rescue_path_avro\"])"
   ]
  },
  {
   "cell_type": "markdown",
   "metadata": {},
   "source": [
    "Note that unlike other methods, Spark doesn't have a built in `spark.read.avro()` method so we need to use a slightly different method to read this in, by first specifying the format as \"avro\" and then using `.load()` to read in the file. Note that this method would also work for other formats, such as `spark.read.format(\"parquet\").load(...)` but is slightly more verbose than the other methods demonstrated. \n",
    "\n",
    "### Writing out Avro files\n",
    "To write out an Avro file, you can use [`dataframe.write.format(\"avro\").save()`](https://sparkbyexamples.com/spark/read-write-avro-file-spark-dataframe/). Note that like the method to read in Avro files, we need to specify the format and then use `save` to specify that we want to save this out."
   ]
  },
  {
   "cell_type": "code",
   "execution_count": 14,
   "metadata": {},
   "outputs": [],
   "source": [
    "animal_rescue.write.mode(\"overwrite\").format(\"avro\").save(config[\"temp_outputs\"] + \"animal_rescue.avro\")"
   ]
  },
  {
   "cell_type": "markdown",
   "metadata": {},
   "source": [
    "Also note that for this method, we pass in the mode as `write.mode(\"overwrite\")`. "
   ]
  },
  {
   "cell_type": "markdown",
   "metadata": {},
   "source": [
    "While an Avro file has many of the benefits associated with parquet and ORC files, such as being associated with a schema and having built-in compression methods, there is one key difference:\n",
    "An Avro file is row-based, not column-based.\n",
    "\n",
    "See the section on \"Which file type should you use?\" for a discussion on row-based formats vs column-based formats."
   ]
  },
  {
   "cell_type": "markdown",
   "metadata": {},
   "source": [
    "## Hive tables\n",
    "\n",
    "### Reading in Hive tables\n",
    "To read in a Hive table, we can use one of the following approaches:"
   ]
  },
  {
   "cell_type": "code",
   "execution_count": 15,
   "metadata": {},
   "outputs": [],
   "source": [
    "#using spark.sql\n",
    "animal_rescue = spark.sql(\"SELECT * FROM train_tmp.animal_rescue\")\n",
    "\n",
    "#using spark.read.table\n",
    "animal_rescue = spark.read.table(\"train_tmp.animal_rescue\")"
   ]
  },
  {
   "cell_type": "markdown",
   "metadata": {},
   "source": [
    "```r\n",
    "rescue_df <- sparklyr::sdf_sql(sc, \"SELECT * FROM train_tmp.animal_rescue\")\n",
    "```"
   ]
  },
  {
   "cell_type": "markdown",
   "metadata": {},
   "source": [
    "Both of the PySpark methods achieve the same thing - you can use the SQL approach if you want to combine it with additional queries or if you're more familiar with SQL syntax but the spark.read.table approach will achieve the same end result.\n",
    "\n",
    "One thing to note is that we first specify the database name and then the name of the table. This is because Hive tables are stored within databases. This isn't necessary if you're already in the correct database - you can specify which database you're working in by using [`spark.sql(\"USE database_name\")`](https://spark.apache.org/docs/3.0.0-preview/sql-ref-syntax-qry-select-usedb.html), so we could also read in the dataset using this code:"
   ]
  },
  {
   "cell_type": "code",
   "execution_count": 16,
   "metadata": {},
   "outputs": [],
   "source": [
    "spark.sql(\"USE train_tmp\")\n",
    "animal_rescue = spark.read.table(\"animal_rescue\")"
   ]
  },
  {
   "cell_type": "markdown",
   "metadata": {},
   "source": [
    "### Writing out a Hive table\n",
    "To write out a Hive table, we can use [`dataframe.write.mode('overwrite').saveAsTable()`](https://sparkbyexamples.com/python/pyspark-save-dataframe-to-hive-table/) or [`spark_write_table`](https://rdrr.io/cran/sparklyr/man/spark_write_table.html) in SparklyR. "
   ]
  },
  {
   "cell_type": "code",
   "execution_count": 17,
   "metadata": {},
   "outputs": [],
   "source": [
    "animal_rescue.write.mode('overwrite').saveAsTable(\"train_tmp.animal_rescue_temp\")"
   ]
  },
  {
   "cell_type": "markdown",
   "metadata": {},
   "source": [
    "```r\n",
    "sparklyr::spark_write_table(rescue_df, name = \"train_tmp.animal_rescue_temp\", mode = 'overwrite')\n",
    "```"
   ]
  },
  {
   "cell_type": "markdown",
   "metadata": {},
   "source": [
    "Again, notice that the output format is database.table_name, although, as mentioned above, we don't need to include the database name if we have ensured we're working in the correct database using `spark.sql(\"USE database_name)` first."
   ]
  },
  {
   "cell_type": "markdown",
   "metadata": {},
   "source": [
    "In many ways, Hive tables have a lot of the same benefits that a parquet file has, such as the storing of schemas and supporting predicate pushdowns. In fact, a Hive table may consist of parquet files - a parquet file is often the default underlying file structure Spark uses when saving out a Hive table. A Hive table can consist of any of the underlying data formats we've discussed in this chapter. The key difference with a Hive table compared to the other data formats is that a Hive table tends to store more detailed metadata.\n"
   ]
  },
  {
   "cell_type": "markdown",
   "metadata": {},
   "source": [
    "## So, which file format should I use?\n",
    "There are a number of factors to consider when deciding which file format to use.\n",
    "\n",
    "### Do I need my data to be human-readable?\n",
    "\n",
    "Of the file formats discussed in this chapter, only CSV files are human-readable. This means that if you need to look at the data yourself, i.e. for quality assurance purposes, you would need to ensure that your data is in a CSV file. However, CSV files are generally less efficient to read in than other file formats such as parquet or ORC files, particularly if you only require a subset of the available columns.\n",
    "\n",
    "It's also important to note that Spark is a big data solution, so if you're only working with only a small amount of data that needs to be manually examined by a human, it may be worth reconsidering whether Spark is needed at all - it could be a good idea to read [when to use Spark](../spark-overview/when-to-use-spark.md).\n",
    "\n",
    "### Row-based vs columnar-based formats\n",
    "Generally, both row-based and columnar-based formats are fine to use with Spark. The benefits of choosing one or the other are highly dependent on downstream processing and would likely result in relatively small improvements in processing speed. For a more in-depth discussion on which types of downstream processing would be more suited to a row-based or a columnar-based file format, [this article](https://www.snowflake.com/trending/avro-vs-parquet) may be useful.\n",
    "\n",
    "\n",
    "### Do you work primarily with databases/SQL?\n",
    "If you're primarily working with databases/tables within databases and SQL, it may be a good idea to use a Hive table. You can use any format as the underlying data format within a Hive table - so it may be worthwhile reviewing the data formats presented in this chapter to decide which format would be most appropriate for your use case."
   ]
  },
  {
   "cell_type": "markdown",
   "metadata": {},
   "source": [
    "## Further resources\n",
    "[Generic Load/Save Functions - Spark 3.4.1 Documentation](https://spark.apache.org/docs/3.2.0/sql-data-sources-load-save-functions.html)\n",
    "\n",
    "[CSV Files - Spark 3.4.1 Documentation](https://spark.apache.org/docs/latest/sql-data-sources-csv.html)\n",
    "\n",
    "[Parquet Files - Spark 3.4.1 Documentation](https://spark.apache.org/docs/latest/sql-data-sources-parquet.html)\n",
    "\n",
    "[ORC Files - Spark 3.4.1 Documentation](https://spark.apache.org/docs/latest/sql-data-sources-orc.html)\n",
    "\n",
    "[Hive Tables - Spark 3.4.1 Documentation](https://spark.apache.org/docs/latest/sql-data-sources-hive-tables.html)\n",
    "\n",
    "[Avro Files - Spark 3.4.1 Documentation](https://spark.apache.org/docs/latest/sql-data-sources-avro.html)\n"
   ]
  }
 ],
 "metadata": {
  "kernelspec": {
   "display_name": "Python 3",
   "language": "python",
   "name": "python3"
  },
  "language_info": {
   "codemirror_mode": {
    "name": "ipython",
    "version": 3
   },
   "file_extension": ".py",
   "mimetype": "text/x-python",
   "name": "python",
   "nbconvert_exporter": "python",
   "pygments_lexer": "ipython3",
   "version": "3.6.8"
  }
 },
 "nbformat": 4,
 "nbformat_minor": 2
}
