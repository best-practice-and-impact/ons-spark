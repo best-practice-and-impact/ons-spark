{
 "cells": [
  {
   "cell_type": "markdown",
   "metadata": {},
   "source": [
    "## Shuffling\n",
    "\n",
    "This article introduces the concept of a *shuffle*, also referred to as an *exchange*. Shuffles occur when processing *wide transformations* such as joins and aggregations. Shuffles can be a bottleneck when processing, so it is good to understand when they occur and how to make them more efficient or minimise their use.\n",
    "\n",
    "It covers both the theory of shuffles and practical implementations. Several topics are explored in more detail elsewhere and is recommended to read this alongside the [Spark Application and UI](../spark-concepts/spark-application-and-ui), [Partitions](../spark-concepts/partitions), [Optimising Joins](../spark-concepts/join-concepts) and [Persisting](../spark-concepts/persistence) articles. Some practical suggestions to improve the efficiency of shuffles include [broadcast joins](../spark-concepts/join-concepts.html#broadcast-join), [salted joins](../spark-concepts/salted-joins) and [window functions](../spark-functions/window-functions).\n",
    "\n",
    "### Shuffling Concepts\n",
    "\n",
    "First, we will explain a few of the key concepts of shuffles, before moving on to some examples.\n",
    "\n",
    "#### What is a shuffle?\n",
    "\n",
    "Shuffles in Spark occur when data are moved between different partitions. This is a simultaneous read and write operation and has to be fully processed before parallel processing can resume.\n",
    "\n",
    "To fully understand this, we need to explore what we mean by *partitions*, and what *transformations* cause data to be moved between them.\n",
    "\n",
    "#### What is a partition?\n",
    "\n",
    "Partitions are just separate chunks of data. Whereas a pandas or base R DataFrame will be stored as one object in the driver memory, a Spark DataFrame will be distributed over many different partitions on the Spark cluster. These partitions are processed in parallel wherever possible. This structure is one of the reasons that Spark is so powerful for handling large data. The Partitions article explores this topic in more detail.\n",
    "\n",
    "In the diagram below, the solid boxes represent partitions and the arrows are transformations. If the data stays on the same partition that is referred to as as *narrow transformation*. Shuffles occur between the stages, where the data moves between partitions; this happens when a *wide transformation* is processed.\n",
    "\n",
    "```{figure} ../images/application_and_ui.png\n",
    "---\n",
    "width: 100%\n",
    "name: SparkApplication\n",
    "alt: Diagram showing wide and narrow transformations\n",
    "---\n",
    "Spark application\n",
    "```\n",
    "\n",
    "This is covered in more detail in the [Spark Application and UI](../spark-concepts/spark-application-and-ui) article.\n",
    "\n",
    "#### What transformations cause a shuffle?\n",
    "\n",
    "*A shuffle takes place when the value of one row depends on another in a different partition*, as the partitions of the DataFrame cannot then be processed in parallel. All the previous operations need to have been completed on every partition before a shuffle can take place, and then the shuffle needs to finish before anything else can happen. A good example is sorting, since the data will need to move between partitions to be in the specified order. A few examples of *wide transformations*:\n",
    "- Grouping\n",
    "- Aggregating\n",
    "- Sorting\n",
    "- Joining\n",
    "- Repartitioning\n",
    "\n",
    "#### A quick note on RDDs\n",
    "\n",
    "Although in PySpark and sparklyr we work with DataFrames, they are actually stored in memory as a [Resilient Distributed Dataset (RDD)](https://spark.apache.org/docs/latest/rdd-programming-guide.html) and this is what you will see in the Spark UI.\n",
    "\n",
    "In PySpark, a DataFrame is effectively an API built on top of the RDD, allowing it to be manipulated in a more user-friendly manner than the native RDD syntax. We can access RDD specific functionality with `df.rdd`; an example of this is [`df.rdd.getNumPartitions()`](https://spark.apache.org/docs/latest/api/python/reference/api/pyspark.RDD.getNumPartitions.html) to get the number of partitions of the DataFrame.\n",
    "\n",
    "In sparklyr we simply have `tbl_spark` objects rather than two APIs, e.g. to get the number of partitions use [`sdf_num_partitions()`](https://spark.rstudio.com/packages/sparklyr/latest/reference/sdf_num_partitions.html) on your sparklyr DataFrame.\n",
    "\n",
    "From a practical perspective when coding, do not worry too much about RDDs, the concept of a shuffle works exactly the same way on a DataFrame.\n",
    "\n",
    "### Examples\n",
    "\n",
    "To demonstrate shuffles we will run some Spark code, and see data being transferred between partitions.\n",
    "\n",
    "#### Example 1: One Shuffle\n",
    "\n",
    "Start with a small example to demonstrate the concept of shuffling and what actually happens to the data and partitions. First, create a Spark session. We are setting the number of partitions returned from a shuffled DataFrame to be just `2` with the `spark.sql.shuffle.partitions` option (the default is `200`).\n",
    "\n",
    "Note that in sparklyr with a local session `spark.sql.local.partitions` needs to be set; if running on a Spark cluster you can ignore this setting."
   ]
  },
  {
   "cell_type": "code",
   "execution_count": 1,
   "metadata": {},
   "outputs": [],
   "source": [
    "import os\n",
    "from pyspark.sql import SparkSession, functions as F\n",
    "\n",
    "spark = (\n",
    "    SparkSession.builder.master(\"local[2]\")\n",
    "    .appName(\"shuffling\")\n",
    "    # Set number of partitions after a shuffle to 2\n",
    "    .config(\"spark.sql.shuffle.partitions\", 2)\n",
    "    .getOrCreate()\n",
    ")"
   ]
  },
  {
   "cell_type": "markdown",
   "metadata": {},
   "source": [
    "```r\n",
    "library(sparklyr)\n",
    "library(dplyr)\n",
    "\n",
    "shuffle_config <- sparklyr::spark_config()\n",
    "# Set number of partitions after a shuffle to 2\n",
    "shuffle_config$spark.sql.shuffle.partitions <- 2\n",
    "# Set number of local partitions to 2\n",
    "shuffle_config$spark.sql.local.partitions <- 2\n",
    "\n",
    "sc <- sparklyr::spark_connect(\n",
    "    master = \"local[2]\",\n",
    "    app_name = \"shuffling\",\n",
    "    config = shuffle_config)\n",
    "```"
   ]
  },
  {
   "cell_type": "markdown",
   "metadata": {},
   "source": [
    "As we will be using random numbers in this example we set the seed, so that that repeated runs of the code will not change the results."
   ]
  },
  {
   "cell_type": "code",
   "execution_count": 2,
   "metadata": {},
   "outputs": [],
   "source": [
    "seed_no = 999"
   ]
  },
  {
   "cell_type": "markdown",
   "metadata": {},
   "source": [
    "```r\n",
    "seed_no <- 999L\n",
    "```"
   ]
  },
  {
   "cell_type": "markdown",
   "metadata": {},
   "source": [
    "For this example, create a DataFrame with one column, `id`, 20 rows and two partitions using [`spark.range()`](https://spark.apache.org/docs/latest/api/python/reference/api/pyspark.sql.SparkSession.range.html)/[`sdf_seq()`](https://spark.rstudio.com/packages/sparklyr/latest/reference/sdf_seq.html).\n",
    "\n",
    "Now look at the DF:"
   ]
  },
  {
   "cell_type": "code",
   "execution_count": 3,
   "metadata": {},
   "outputs": [
    {
     "name": "stdout",
     "output_type": "stream",
     "text": [
      "+---+\n",
      "| id|\n",
      "+---+\n",
      "|  0|\n",
      "|  1|\n",
      "|  2|\n",
      "|  3|\n",
      "|  4|\n",
      "|  5|\n",
      "|  6|\n",
      "|  7|\n",
      "|  8|\n",
      "|  9|\n",
      "| 10|\n",
      "| 11|\n",
      "| 12|\n",
      "| 13|\n",
      "| 14|\n",
      "| 15|\n",
      "| 16|\n",
      "| 17|\n",
      "| 18|\n",
      "| 19|\n",
      "+---+\n",
      "\n"
     ]
    }
   ],
   "source": [
    "example_1 = spark.range(20, numPartitions=2)\n",
    "example_1.show()"
   ]
  },
  {
   "cell_type": "markdown",
   "metadata": {},
   "source": [
    "```r\n",
    "example_1 <- sparklyr::sdf_seq(sc, 0, 19, repartition=2)\n",
    "\n",
    "example_1 %>%\n",
    "    sparklyr::collect() %>%\n",
    "    print()\n",
    "```"
   ]
  },
  {
   "cell_type": "markdown",
   "metadata": {},
   "source": [
    "In order to print out the DataFrame we have to transfer the data back to the driver as one object, so we cannot see the partitioning. Indeed when we write our code we often do not pay attention to how the DataFrame might be distributed in memory.\n",
    "\n",
    "To see how it is partitioned in Spark add another column using [`F.spark_partition_id()`](https://spark.apache.org/docs/latest/api/python/reference/api/pyspark.sql.functions.spark_partition_id.html)/[`spark_partition_id()`](https://spark.apache.org/docs/latest/api/sql/index.html#spark_partition_id). In PySpark this is from the `functions` module; in sparklyr this is Spark function called inside `mutate`."
   ]
  },
  {
   "cell_type": "code",
   "execution_count": 4,
   "metadata": {},
   "outputs": [
    {
     "name": "stdout",
     "output_type": "stream",
     "text": [
      "+---+------------+\n",
      "| id|partition_id|\n",
      "+---+------------+\n",
      "|  0|           0|\n",
      "|  1|           0|\n",
      "|  2|           0|\n",
      "|  3|           0|\n",
      "|  4|           0|\n",
      "|  5|           0|\n",
      "|  6|           0|\n",
      "|  7|           0|\n",
      "|  8|           0|\n",
      "|  9|           0|\n",
      "| 10|           1|\n",
      "| 11|           1|\n",
      "| 12|           1|\n",
      "| 13|           1|\n",
      "| 14|           1|\n",
      "| 15|           1|\n",
      "| 16|           1|\n",
      "| 17|           1|\n",
      "| 18|           1|\n",
      "| 19|           1|\n",
      "+---+------------+\n",
      "\n"
     ]
    }
   ],
   "source": [
    "example_1 = example_1.withColumn(\"partition_id\", F.spark_partition_id())\n",
    "example_1.show()"
   ]
  },
  {
   "cell_type": "markdown",
   "metadata": {},
   "source": [
    "```r\n",
    "example_1 <- example_1 %>%\n",
    "    sparklyr::mutate(partition_id = spark_partition_id())\n",
    "\n",
    "example_1 %>%\n",
    "    sparklyr::collect() %>%\n",
    "    print()\n",
    "```"
   ]
  },
  {
   "cell_type": "markdown",
   "metadata": {},
   "source": [
    "We can see that this DataFrame has two partitions: `id` from `0` to `9` are in partition `0`, and `10` to `19` in partition `1`.\n",
    "\n",
    "Try a transformation on this DataFrame: adding a column of random numbers, `rand1`, between `1` and `10` with - [`F.rand()`](https://spark.apache.org/docs/latest/api/python/reference/api/pyspark.sql.functions.rand.html)/[`rand()`](https://spark.apache.org/docs/latest/api/sql/index.html#rand) and [`F.ceil()`](https://spark.apache.org/docs/latest/api/python/reference/api/pyspark.sql.functions.ceil.html)/[`ceil()`](https://spark.apache.org/docs/latest/api/sql/index.html#ceil) (which rounds numbers up to the nearest integer), then recalculate the `partition_id`:"
   ]
  },
  {
   "cell_type": "code",
   "execution_count": 5,
   "metadata": {},
   "outputs": [
    {
     "name": "stdout",
     "output_type": "stream",
     "text": [
      "+---+------------+-----+\n",
      "| id|partition_id|rand1|\n",
      "+---+------------+-----+\n",
      "|  0|           0|    9|\n",
      "|  1|           0|    4|\n",
      "|  2|           0|    4|\n",
      "|  3|           0|    8|\n",
      "|  4|           0|    6|\n",
      "|  5|           0|    2|\n",
      "|  6|           0|    2|\n",
      "|  7|           0|   10|\n",
      "|  8|           0|    4|\n",
      "|  9|           0|    3|\n",
      "| 10|           1|    1|\n",
      "| 11|           1|    4|\n",
      "| 12|           1|    9|\n",
      "| 13|           1|    6|\n",
      "| 14|           1|    4|\n",
      "| 15|           1|    9|\n",
      "| 16|           1|    1|\n",
      "| 17|           1|    6|\n",
      "| 18|           1|    9|\n",
      "| 19|           1|    8|\n",
      "+---+------------+-----+\n",
      "\n"
     ]
    }
   ],
   "source": [
    "example_1 = (example_1\n",
    "             .withColumn(\"rand1\", F.ceil(F.rand(seed_no) * 10))\n",
    "             .withColumn(\"partition_id\", F.spark_partition_id()))\n",
    "\n",
    "example_1.show()"
   ]
  },
  {
   "cell_type": "markdown",
   "metadata": {},
   "source": [
    "```r\n",
    "example_1 <- example_1 %>%\n",
    "    sparklyr::mutate(\n",
    "        rand1 = ceil(rand(seed_no) * 10),\n",
    "        partition_id = spark_partition_id())\n",
    "\n",
    "example_1 %>%\n",
    "    sparklyr::collect() %>%\n",
    "    print()\n",
    "```"
   ]
  },
  {
   "cell_type": "markdown",
   "metadata": {},
   "source": [
    "Comparing this to the previous output, we see that the `partition_id` has not changed. Why? This is because the data did not need to be shuffled between the partitions, as the creation of a column of random numbers is a *narrow transformation*. This calculation can be done independently on each row and so all partitions can be processed in parallel.\n",
    "\n",
    "Now try sorting the data by `rand1` in ascending order. Sorting will cause a shuffle, as the data needs to be moved between partitions to get it in the correct order. Then create a column for the `partition_id` after the sort, called `partition_id_new`."
   ]
  },
  {
   "cell_type": "code",
   "execution_count": 6,
   "metadata": {},
   "outputs": [
    {
     "name": "stdout",
     "output_type": "stream",
     "text": [
      "+---+------------+-----+----------------+\n",
      "| id|partition_id|rand1|partition_id_new|\n",
      "+---+------------+-----+----------------+\n",
      "| 10|           1|    1|               0|\n",
      "| 16|           1|    1|               0|\n",
      "|  5|           0|    2|               0|\n",
      "|  6|           0|    2|               0|\n",
      "|  9|           0|    3|               0|\n",
      "|  1|           0|    4|               0|\n",
      "|  2|           0|    4|               0|\n",
      "|  8|           0|    4|               0|\n",
      "| 11|           1|    4|               0|\n",
      "| 14|           1|    4|               0|\n",
      "|  4|           0|    6|               1|\n",
      "| 13|           1|    6|               1|\n",
      "| 17|           1|    6|               1|\n",
      "|  3|           0|    8|               1|\n",
      "| 19|           1|    8|               1|\n",
      "|  0|           0|    9|               1|\n",
      "| 12|           1|    9|               1|\n",
      "| 15|           1|    9|               1|\n",
      "| 18|           1|    9|               1|\n",
      "|  7|           0|   10|               1|\n",
      "+---+------------+-----+----------------+\n",
      "\n"
     ]
    }
   ],
   "source": [
    "example_1 = (example_1\n",
    "             .orderBy(\"rand1\")\n",
    "             .withColumn(\"partition_id_new\", F.spark_partition_id()))\n",
    "\n",
    "example_1.show()"
   ]
  },
  {
   "cell_type": "markdown",
   "metadata": {},
   "source": [
    "```r\n",
    "example_1 <- example_1 %>%\n",
    "    sparklyr::sdf_sort(\"rand1\") %>%\n",
    "    sparklyr::mutate(partition_id_new = spark_partition_id())\n",
    "\n",
    "example_1 %>%\n",
    "    sparklyr::collect() %>%\n",
    "    print()\n",
    "```"
   ]
  },
  {
   "cell_type": "markdown",
   "metadata": {
    "tags": []
   },
   "source": [
    "We can see that some data has moved between the partitions. Specifically, any row where `partition_id` $ \\neq$ `partition_id_new`. Note that not all the data has changed partitions; some are already on the correct partition prior to the sorting.\n",
    "\n",
    "As we specified `spark.sql.shuffle.partitions` to be  `2` in the config, the shuffle has returned two partitions. In practical usage you will almost never only use two partitions, but this principle applies regardless of the size of the DF or number of partitions.\n",
    "\n",
    "Another way to see when a shuffle has occurred is to check the Spark UI, where a shuffle is referred to as an **Exchange**. This is covered in more detail in the [Spark Application and UI](../spark-concepts/spark-application-and-ui) article. In a local Spark session, the URL is http://localhost:4040/.\n",
    "\n",
    "There are different visualisations available in the Spark UI; here we will choose SQL. There should be four completed queries, which relate to the four actions we have called to this point in the Spark session.\n",
    "\n",
    "```{figure} ../images/shuffling_example1_ui_list.png\n",
    "---\n",
    "width: 60%\n",
    "name: CompletedSQLQueries\n",
    "alt: List of completed SQL queries in Spark UI\n",
    "---\n",
    "Completed SQL queries\n",
    "```\n",
    "\n",
    "Clicking on the link where `ID` is `3` displays the plan:\n",
    "\n",
    "```{figure} ../images/shuffling_example1_sql_ui.png\n",
    "---\n",
    "width: 50%\n",
    "name: ExchangeExample\n",
    "alt: Spark UI showing an exchange when DF is sorted\n",
    "---\n",
    "Exchange in Spark UI representing a shuffle\n",
    "```\n",
    "\n",
    "We can see from this that the shuffle occurred when we sorted the DataFrame by `rand1`, as represented by **Exchange** in the diagram.\n",
    "\n",
    "#### Example 2: Lots of shuffles\n",
    "\n",
    "The previous example just had one shuffle on a tiny DF; this one has several shuffles on a larger DF, although still small by Spark standards. We will close the existing Spark session and start a new one, as the previous session had `spark.sql.shuffle.partitions` set to `2`; here, we want `100`. Be careful when closing and starting Spark sessions as existing values will be used if not explicitly defined in the new configuration.\n",
    "\n",
    "Note that this only takes effect once we have shuffled the DataFrame, for more information on how newly created DataFrames are partitioned please refer to the Partitions article.\n",
    "\n",
    "By default, Spark will try and use the broadcast method for joins. We want to ensure that we demonstrate the behaviour of the regular join (sort merge join) and so are deactivating automatic broadcast joins in the configuration by setting `spark.sql.autoBroadcastJoinThreshold` to `-1`."
   ]
  },
  {
   "cell_type": "code",
   "execution_count": 8,
   "metadata": {},
   "outputs": [],
   "source": [
    "spark.stop()\n",
    "\n",
    "spark = (\n",
    "    SparkSession.builder.master(\"local[2]\")\n",
    "    .appName(\"shuffling\")\n",
    "    # Set number of partitions after a shuffle to 100\n",
    "    .config(\"spark.sql.shuffle.partitions\", 100)\n",
    "    # Disable broadcast join by default\n",
    "    .config(\"spark.sql.autoBroadcastJoinThreshold\", -1)\n",
    "    .getOrCreate()\n",
    ")"
   ]
  },
  {
   "cell_type": "markdown",
   "metadata": {},
   "source": [
    "```r\n",
    "sparklyr::spark_disconnect(sc)\n",
    "\n",
    "shuffle_config <- sparklyr::spark_config()\n",
    "# Set number of partitions after a shuffle to 100\n",
    "shuffle_config$spark.sql.shuffle.partitions <- 100\n",
    "# Set number of local partitions to 100\n",
    "shuffle_config$spark.sql.local.partitions <- 100\n",
    "# Disable broadcast join by default\n",
    "shuffle_config$spark.sql.autoBroadcastJoinThreshold <- -1\n",
    "\n",
    "sc <- sparklyr::spark_connect(\n",
    "    master = \"local[2]\",\n",
    "    app_name = \"shuffling\",\n",
    "    config = shuffle_config)\n",
    "```"
   ]
  },
  {
   "cell_type": "markdown",
   "metadata": {},
   "source": [
    "Here we create two DataFrames of $100,000$ rows and add a random number between `1` to `10 `for each called `rand1` and `rand2` respectively, using the same method as previously."
   ]
  },
  {
   "cell_type": "code",
   "execution_count": 9,
   "metadata": {},
   "outputs": [],
   "source": [
    "# Create two DataFrames\n",
    "example_2A = spark.range(10**5).withColumn(\"rand1\", F.ceil(F.rand(seed_no) * 10))\n",
    "example_2B = spark.range(10**5).withColumn(\"rand2\", F.ceil(F.rand(seed_no + 1) * 10))"
   ]
  },
  {
   "cell_type": "markdown",
   "metadata": {},
   "source": [
    "```r\n",
    "example_2A <- sparklyr::sdf_seq(sc, 0, 10**5 - 1) %>%\n",
    "    sparklyr::mutate(rand1 = ceil(rand(seed_no) * 10))\n",
    "           \n",
    "example_2B <- sparklyr::sdf_seq(sc, 0, 10**5 - 1) %>%\n",
    "    sparklyr::mutate(rand2 = ceil(rand(seed_no + 1L) * 10))\n",
    "```"
   ]
  },
  {
   "cell_type": "markdown",
   "metadata": {},
   "source": [
    "We now want to perform some transformations which involve a shuffle. Let's create a new DataFrame, `joined_df`, by joining `example_2B` to `example_2A`. We then group by `rand1` and `rand2`, then sort by `rand1` and `rand2`."
   ]
  },
  {
   "cell_type": "code",
   "execution_count": 10,
   "metadata": {},
   "outputs": [],
   "source": [
    "joined_df = (example_2A.\n",
    "             join(example_2B, on=\"id\", how=\"left\")\n",
    "             .groupBy(\"rand1\", \"rand2\")\n",
    "             .agg(F.count(F.col(\"id\")).alias(\"row_count\"))\n",
    "             .orderBy(\"rand1\", \"rand2\"))"
   ]
  },
  {
   "cell_type": "markdown",
   "metadata": {},
   "source": [
    "```r\n",
    "joined_df <- example_2A %>%\n",
    "    sparklyr::left_join(example_2B, by=\"id\") %>%\n",
    "    dplyr::group_by(rand1, rand2) %>%\n",
    "    dplyr::summarise(row_count = n()) %>%\n",
    "    sparklyr::sdf_sort(c(\"rand1\", \"rand2\"))\n",
    "```"
   ]
  },
  {
   "cell_type": "markdown",
   "metadata": {},
   "source": [
    "For the action, we are calling a `collect`-style operation (`.toPandas()`/`collect()`) rather than `.show(n)` (PySpark) or `head(n) %>% collect()` (sparklyr). The reason is `.show(n)`/`head(n)` will only do the minimum required to return `n` rows, whereas `.toPandas()`/`collect()` causes all the data to be collected to the driver from the Spark cluster, forcing a full calculation.\n",
    "\n",
    "Then sanity check the result, by getting the row count and the top and bottom 5 rows:"
   ]
  },
  {
   "cell_type": "code",
   "execution_count": 11,
   "metadata": {},
   "outputs": [
    {
     "name": "stdout",
     "output_type": "stream",
     "text": [
      "Row count:  100\n",
      "\n",
      "Top 5 rows:\n",
      "    rand1  rand2  row_count\n",
      "0      1      1        969\n",
      "1      1      2        988\n",
      "2      1      3       1023\n",
      "3      1      4       1033\n",
      "4      1      5        976\n",
      "\n",
      "Bottom 5 rows:\n",
      "     rand1  rand2  row_count\n",
      "95     10      6        963\n",
      "96     10      7       1004\n",
      "97     10      8       1023\n",
      "98     10      9        989\n",
      "99     10     10        959\n"
     ]
    }
   ],
   "source": [
    "collected_df = joined_df.toPandas()\n",
    "\n",
    "print(\"Row count: \", collected_df.shape[0])\n",
    "print(\"\\nTop 5 rows:\\n\", collected_df.head(5))\n",
    "print(\"\\nBottom 5 rows:\\n\", collected_df.tail(5))"
   ]
  },
  {
   "cell_type": "markdown",
   "metadata": {},
   "source": [
    "```r\n",
    "collected_df <- joined_df %>%\n",
    "    sparklyr::collect()\n",
    "\n",
    "print(\"Row count: \")\n",
    "print(nrow(collected_df))\n",
    "print(\"Top 5 rows:\")\n",
    "print(head(collected_df, 5))\n",
    "print(\"Bottom 5 rows:\")\n",
    "print(tail(collected_df, 5))\n",
    "```"
   ]
  },
  {
   "cell_type": "markdown",
   "metadata": {},
   "source": [
    "The result is as expected.\n",
    "\n",
    "Rather than try and print out the `partition_id` like we did in the first example, here the Spark UI is much more informative:"
   ]
  },
  {
   "cell_type": "markdown",
   "metadata": {},
   "source": [
    "```{figure} ../images/shuffling_example2_sql_ui.png\n",
    "---\n",
    "width: 100%\n",
    "name: MultipleExchanges\n",
    "alt: Spark UI showing exchanges when a DF is joined, grouped and sorted\n",
    "---\n",
    "Multiple exchanges\n",
    "```\n",
    "\n",
    "We can visually see where a shuffle takes place, in this case, on both DataFrames prior to the join, then when grouping, and finally one more when sorting at the end.\n",
    "\n",
    "A quick note on the shuffles prior to the join: Spark uses sort merge join, which requires a shuffle of the DataFrames before performing the join, hence the initial **Exchange** and **Sort** in the diagram. The other joining algorithm is the broadcast join, briefly covered later and in full in the Join Concepts article.\n",
    "\n",
    "### Optimising and Avoiding Shuffles\n",
    "\n",
    "Now we have seen some examples of shuffles, let us explain properly why we generally want to minimise unnecessary use of them.\n",
    "\n",
    "The shuffle itself is an expensive operation, by which we mean it takes a long time to run compared to most other operations. In addition, when the data are being shuffled, all prior operations have to complete first. This is why the steps in the Spark UI are referred to as *stages*; all the processing in one stage has to be completed before the next one can start.\n",
    "\n",
    "As such shuffles can cause bottlenecks in our code and slow it down.\n",
    "\n",
    "It is very unlikely that you will be able to avoid using shuffles completely. Grouping, aggregations, joining and ordering are almost essential when writing Spark codes. So the important thing is to *understand* shuffles and use them sensibly, rather than being afraid of them!\n",
    "\n",
    "#### Minimise actions and caching\n",
    "\n",
    "Remember how Spark works: it is a set of transformations, which are triggered by an action. The action will process the entire Spark plan. You could have written your code very efficiently to minimise the number of shuffles, but if you are calling repeated actions then these shuffles will also be repeated.\n",
    "\n",
    "During development you may have actions to preview the data (e.g. `.show()`/`glimpse()`) or to get the row count (`.count()`/`sdf_nrow()`) at interim parts of the code, to understand how your DataFrame is changing and to help debug the code. Before repeatedly running analysis or releasing production code you will want to eliminate any of these superfluous actions.\n",
    "\n",
    "You can make careful use of persisting in these situations, such as [caching](../spark-concepts/cache), [checkpointing or using staging tables](../raw-notebooks/checkpoint-staging/checkpoint-staging); see the [persisting](../spark-concepts/persistence) article for more detail.\n",
    "\n",
    "In addition, Spark does have some efficiencies in the way repeated actions are handled but in general, try and minimise the number of actions that you call if they are not needed.\n",
    "\n",
    "#### Converting to pandas or base R DF\n",
    "\n",
    "If your DataFrame is small, you can discard the concept of distributed computing and shuffling entirely by converting it into a pandas or base R DataFrame and process it in the driver memory rather than in Spark. Operations which would normally trigger a shuffle in Spark will be instead processed in the driver memory.\n",
    "\n",
    "Converting PySpark DataFrames to pandas is very easy as they have a [`.toPandas()`](https://spark.apache.org/docs/latest/api/python/reference/api/pyspark.sql.DataFrame.toPandas.html) method. In sparklyr, use [`sparklyr::collect()`](https://dplyr.tidyverse.org/reference/compute.html); this will convert to the standard dplyr-style tibble, which are mostly interchangeable with base R DFs.\n",
    "\n",
    "In PySpark you can even skip Spark entirely by reading in from HDFS to pandas with [Pydoop](../ancillary-topics/pydoop).\n",
    "\n",
    "Be careful; if your DF is large, there may not be enough driver memory to process it and you will get an error. Choosing between Spark and pandas/base R is something that should be done at the start of a project and should be carefully considered; if you choose to use the driver memory and find that there is insufficient capacity then you will have to re-write your code in Spark, which is often not a trivial task. See the [When To Use Spark](../spark-overview/when-to-use-spark) article for more information.\n",
    "\n",
    "#### Reduce size of DataFrame\n",
    "\n",
    "The larger the DataFrame that is supplied to Spark the longer the Spark job will take. If it is possible to reduce the size of the DataFrame then most operations on the DF should be more efficient, including shuffling. An example could be moving a filter operation to earlier in the code. Note that Spark does have some optimisation in terms of orders of operations, but where possible try and work with smaller DFs if possible.\n",
    "\n",
    "#### Use a broadcast join\n",
    "\n",
    "As we saw in the second example, a join will cause a shuffle on the DataFrames to be joined. We saw that this was referred to as a [**SortMergeJoin**](../spark-concepts/join-concepts.html#sort-merge-join) in the visualised plan. There is however another type of join: the [broadcast join](../spark-concepts/join-concepts.html#broadcast-join). A broadcast join can be used when one of your DataFrames in the join is small; a copy is created on each partition. This can then be processed separately on each partition in parallel, avoiding the need for a full shuffle.\n",
    "\n",
    "Broadcast joins are one of the easiest ways to improve the efficiency of your code, as you just have to wrap the second DF in [`F.broadcast()`](https://spark.apache.org/docs/latest/api/python/reference/api/pyspark.sql.functions.broadcast.html) in PySpark or [`sdf_broadcast()`](https://spark.rstudio.com/packages/sparklyr/latest/reference/sdf_broadcast.html)\n",
    " in sparklyr.\n",
    "\n",
    "The [Optimising Joins](../spark-concepts/join-concepts) article has full details; this is an example of the Spark UI from that article, showing that there are fewer shuffles involved when broadcasting:\n",
    "\n",
    "```{figure} ../images/broadcast_join_ui.png\n",
    "---\n",
    "width: 100%\n",
    "name: BroadcastExchange\n",
    "alt: Spark UI for broadcast join, showing a broadcast exchange\n",
    "---\n",
    "Boradcast exchange\n",
    "```\n",
    "\n",
    "#### Replace joins with conditional statements\n",
    "\n",
    "If you are joining a tiny DataFrame of only a few rows, a shuffle can potentially be avoided entirely be re-writing the join as a set of conditional statements with [`F.when()`](https://spark.apache.org/docs/latest/api/python/reference/api/pyspark.sql.functions.when.html) in PySpark or [`case_when()`](https://dplyr.tidyverse.org/reference/case_when.html)\n",
    " in sparklyr; although this method can be more prone to errors when coding and harder to maintain. See the [Optimising Joins: Replacing a join with a narrow transformation](../spark-concepts/join-concepts.html#replacing-a-join-with-a-narrow-transformation) section for more information.\n",
    "\n",
    "#### Avoiding unnecessary sorting\n",
    "\n",
    "There can be the temptation to put a lot of [`.orderBy()`](https://spark.apache.org/docs/latest/api/python/reference/api/pyspark.sql.DataFrame.orderBy.html)/[`sdf_sort()`](https://spark.rstudio.com/packages/sparklyr/latest/reference/sdf_sort.html) statements in your code when developing, especially if you are previewing the data at various points (e.g. with `show(n)`/`head(n) %>% collect()`). Remember that our Spark DataFrames are distributed into partitions and so the concept of order is different to when we have these stored as one object (e.g. a pandas or R DataFrame) in the driver memory. Generally the order of the rows in the DataFrame should not matter; you can often just sort the data once right at the end of the code before writing out the results if the order of the output is important.\n",
    "\n",
    "This does come with a caveat in that Spark sometimes can be cleverer than we expect, due to the *catalyst optimizer*. As we know, the Spark plan is only triggered when an action is called, such as `.show()`, `collect()` etc. Spark will sometimes however detect unnecessary sorting and optimise the plan. We can demonstrate this by sorting our DataFrame several times, then looking at the UI.\n",
    "\n",
    "In sparklyr, `sdf_sort()` can only sort ascending, so a temporary column of negative values is created, then dropped at the end. [`arrange()`](https://dplyr.tidyverse.org/reference/arrange.html) can sort descending, although this is only triggered if collected immediately or used in conjunction with `head()`.\n",
    "\n",
    "Note that the code below is being re-assigned on each line rather than being chained; this is to demonstrate that it is not the chaining which causes Spark to optimise the code."
   ]
  },
  {
   "cell_type": "code",
   "execution_count": 13,
   "metadata": {},
   "outputs": [
    {
     "name": "stdout",
     "output_type": "stream",
     "text": [
      "Row count:  100000\n",
      "\n",
      "Top 5 rows:\n",
      "    id  rand1\n",
      "0   7     10\n",
      "1  19     10\n",
      "2  21     10\n",
      "3  24     10\n",
      "4  58     10\n",
      "\n",
      "Bottom 5 rows:\n",
      "           id  rand1\n",
      "99995  99930      1\n",
      "99996  99936      1\n",
      "99997  99947      1\n",
      "99998  99963      1\n",
      "99999  99975      1\n"
     ]
    }
   ],
   "source": [
    "unsorted_df = spark.range(10 ** 5).withColumn(\"rand1\", F.ceil(F.rand(seed_no) * 10))\n",
    "\n",
    "sorted_df = unsorted_df.orderBy(\"rand1\", ascending=True)\n",
    "sorted_df = sorted_df.orderBy(\"rand1\", ascending=False)\n",
    "sorted_df = sorted_df.orderBy(\"rand1\", ascending=True)\n",
    "sorted_df = sorted_df.orderBy(\"rand1\", ascending=False)\n",
    "sorted_collected_df = sorted_df.toPandas()\n",
    "\n",
    "print(\"Row count: \", sorted_collected_df.shape[0])\n",
    "print(\"\\nTop 5 rows:\\n\", sorted_collected_df.head(5))\n",
    "print(\"\\nBottom 5 rows:\\n\", sorted_collected_df.tail(5))"
   ]
  },
  {
   "cell_type": "markdown",
   "metadata": {},
   "source": [
    "```r\n",
    "unsorted_df <- sparklyr::sdf_seq(sc, 0, 10**5 - 1) %>%\n",
    "    sparklyr::mutate(rand1 = ceil(rand(seed_no) * 10),\n",
    "                     # Create temporary column for sorting descending\n",
    "                     rand2 = rand1 * -1)\n",
    "\n",
    "sorted_df <- unsorted_df %>% sparklyr::sdf_sort(\"rand1\")\n",
    "sorted_df <- sorted_df %>% sparklyr::sdf_sort(\"rand2\")\n",
    "sorted_df <- sorted_df %>% sparklyr::sdf_sort(\"rand1\")\n",
    "sorted_df <- sorted_df %>% sparklyr::sdf_sort(\"rand2\") %>%\n",
    "    # Remove temporary column used to sort descending\n",
    "    sparklyr::select(-rand2)\n",
    "\n",
    "sorted_collected_df <- sorted_df %>%\n",
    "    sparklyr::collect()\n",
    "\n",
    "print(\"Row count: \")\n",
    "print(nrow(sorted_collected_df))\n",
    "print(\"Top 5 rows:\")\n",
    "print(head(sorted_collected_df, 5))\n",
    "print(\"Bottom 5 rows:\")\n",
    "print(tail(sorted_collected_df, 5))\n",
    "```"
   ]
  },
  {
   "cell_type": "markdown",
   "metadata": {},
   "source": [
    "```{figure} ../images/shuffling_catalyst_ui.png\n",
    "---\n",
    "width: 50%\n",
    "name: MultipleSortsSingleExchange\n",
    "alt: Spark UI showing one exchange for multiple DF sorting operations\n",
    "---\n",
    "Multiple sorts in single exchange\n",
    "```\n",
    "\n",
    "On the plan, we only have one exchange, but we gave it four operations which should cause a shuffle. What has happened is that Spark has optimised the plan to only include one shuffle. This is a feature of Spark called the *catalyst optimizer* and is explained further in the [Persisting](../spark-concepts/persistence) article.\n",
    "\n",
    "We can demonstrate this by looking at the full plan with [`.explain(True)`](https://spark.apache.org/docs/latest/api/python/reference/api/pyspark.sql.DataFrame.explain.html)\n",
    " in PySpark and with [`invoke(\"queryExecution\")`](https://spark.rstudio.com/packages/sparklyr/latest/reference/invoke.html) in sparklyr:"
   ]
  },
  {
   "cell_type": "code",
   "execution_count": 15,
   "metadata": {},
   "outputs": [
    {
     "name": "stdout",
     "output_type": "stream",
     "text": [
      "== Parsed Logical Plan ==\n",
      "'Sort ['rand1 DESC NULLS LAST], true\n",
      "+- Sort [rand1#77L ASC NULLS FIRST], true\n",
      "   +- Sort [rand1#77L DESC NULLS LAST], true\n",
      "      +- Sort [rand1#77L ASC NULLS FIRST], true\n",
      "         +- Project [id#75L, CEIL((rand(999) * cast(10 as double))) AS rand1#77L]\n",
      "            +- Range (0, 100000, step=1, splits=Some(2))\n",
      "\n",
      "== Analyzed Logical Plan ==\n",
      "id: bigint, rand1: bigint\n",
      "Sort [rand1#77L DESC NULLS LAST], true\n",
      "+- Sort [rand1#77L ASC NULLS FIRST], true\n",
      "   +- Sort [rand1#77L DESC NULLS LAST], true\n",
      "      +- Sort [rand1#77L ASC NULLS FIRST], true\n",
      "         +- Project [id#75L, CEIL((rand(999) * cast(10 as double))) AS rand1#77L]\n",
      "            +- Range (0, 100000, step=1, splits=Some(2))\n",
      "\n",
      "== Optimized Logical Plan ==\n",
      "Sort [rand1#77L DESC NULLS LAST], true\n",
      "+- Project [id#75L, CEIL((rand(999) * 10.0)) AS rand1#77L]\n",
      "   +- Range (0, 100000, step=1, splits=Some(2))\n",
      "\n",
      "== Physical Plan ==\n",
      "*(2) Sort [rand1#77L DESC NULLS LAST], true, 0\n",
      "+- Exchange rangepartitioning(rand1#77L DESC NULLS LAST, 100)\n",
      "   +- *(1) Project [id#75L, CEIL((rand(999) * 10.0)) AS rand1#77L]\n",
      "      +- *(1) Range (0, 100000, step=1, splits=2)\n"
     ]
    }
   ],
   "source": [
    "sorted_df.explain(True)"
   ]
  },
  {
   "cell_type": "markdown",
   "metadata": {},
   "source": [
    "```r\n",
    "sorted_df %>%\n",
    "    sparklyr::spark_dataframe() %>%\n",
    "    sparklyr::invoke(\"queryExecution\")\n",
    "```"
   ]
  },
  {
   "cell_type": "markdown",
   "metadata": {},
   "source": [
    "The key output here is the difference between the **Parsed** and **Analyzed Logical Plans**, and the **Optimized Logical Plan**. We can see in the first two that all our sorting operations are present, but in the **Optimized**, only the final sort is. Hence we only have one shuffle.\n",
    "\n",
    "#### Use Window functions\n",
    "\n",
    "One way to reduce the number of shuffles is to ensure that you are using window functions where possible. One example is deriving a new column which depends on the total of a group. One way is to create a new DataFrame with the group totals, then join that back to the original DataFrame, then use this in the calculation. This will involve shuffles for the grouping/aggregation and the join, whereas a window function will only need one.\n",
    "\n",
    "Another benefit is that the code is neater and easier to read with a window function. See the article on [Window Functions](../spark-functions/window-functions) for more information.\n",
    "\n",
    "#### Other things matter too!\n",
    "\n",
    "A final word on avoiding shuffles: do not let this distract you from everything else that you need to consider when writing good code! While it is important to understand shuffles and to try and implement the methods above where you can, it is better to have code which works, then optimise it afterwards. Also remember that with code there is a never a *final* version: provided it is well written, appropriately commented and has good unit tests, you or a colleague can always re-visit it to optimise it at a later date.\n",
    "\n",
    "Some shuffles can actually be relatively quick, depending on factors including the total size of the DataFrame, the number of partitions, and how it is partitioned. It can be worth checking the Spark UI to see exactly how much time your shuffle is taking.\n",
    "\n",
    "Although removing or optimising shuffles is one of the most obvious ways to improve the efficiency of your code, when looking at ways to improve the performance of your code make sure you look at other elements too.\n",
    "\n",
    "### Good Shuffles\n",
    "\n",
    "We've seen how shuffles take time to process and can cause a bottleneck in performance. However, this is not always the case.\n",
    "\n",
    "Sometimes shuffling our data into more logical partitions can actually cause performance to increase. For instance, if our data are skewed so that one partition contains significantly more data than another, the parallelism will not be as efficient as it could be. By shuffling the data into partitions of similar sizes, the efficiency will actually increase. An example is using a salted join to reduce skew when joining DataFrames.\n",
    "\n",
    "You can also change the number of partitions. By default, this is `200`, but repartitioning into a greater or smaller number depending on your data and what you are doing with it can help performance. Note that when repartitioning a DataFrame, [`.repartition()`](https://spark.apache.org/docs/latest/api/python/reference/api/pyspark.sql.DataFrame.repartition.html)/[`sdf_repartition()`](https://spark.rstudio.com/packages/sparklyr/latest/reference/sdf_repartition.html) will cause a full shuffle into roughly equal partition sizes, whereas [`.coalesce()`](https://spark.apache.org/docs/latest/api/python/reference/api/pyspark.sql.DataFrame.coalesce.html)/[`sdf_coalesce()`](https://spark.rstudio.com/packages/sparklyr/latest/reference/sdf_coalesce.html)  will essentially combine partitions (and so they may vary in size), so the data will still move but be processed more efficiently. This topic is explored more in the [Partitions](../spark-concepts/partitions) article.\n",
    "\n",
    "### Summary\n",
    "\n",
    "In this article we have demonstrated:\n",
    "- What a shuffle is and why they are essential in a distributed environment\n",
    "- When they occur\n",
    "- Why they can be a bottleneck on performance\n",
    "- How to optimise and minimise them in your code\n",
    "- Why they can sometimes be beneficial\n",
    "\n",
    "### Further Resources\n",
    "\n",
    "Spark at the ONS Articles:\n",
    "- [Spark Application and UI](../spark-concepts/spark-application-and-ui)\n",
    "- [Partitions](../spark-concepts/partitions)\n",
    "- [Optimising Joins](../spark-concepts/join-concepts)\n",
    "\t- [Broadcast Join](../spark-concepts/join-concepts.html#broadcast-join)\n",
    "    - [Sort Merge Join](../spark-concepts/join-concepts.html#sort-merge-join)\n",
    "    - [Replacing a join with a narrow transformation](../spark-concepts/join-concepts.html#replacing-a-join-with-a-narrow-transformation)\n",
    "- [Persisting](../spark-concepts/persistence)\n",
    "- [Salted Joins](../spark-concepts/salted-joins)\n",
    "- [Window Functions in Spark](../spark-functions/window-functions)\n",
    "- [Caching](../spark-concepts/cache)\n",
    "- [Checkpoint and Staging Tables](../raw-notebooks/checkpoint-staging/checkpoint-staging)\n",
    "- [Pydoop](../ancillary-topics/pydoop)\n",
    "- [When To Use Spark](../spark-overview/when-to-use-spark)\n",
    "\n",
    "PySpark Documentation:\n",
    "- [`.rdd.getNumPartitions()`](https://spark.apache.org/docs/latest/api/python/reference/api/pyspark.RDD.getNumPartitions.html) \n",
    "- [`spark.range()`](https://spark.apache.org/docs/latest/api/python/reference/api/pyspark.sql.SparkSession.range.html)\n",
    "- [`F.spark_partition_id()`](https://spark.apache.org/docs/latest/api/python/reference/api/pyspark.sql.functions.spark_partition_id.html)\n",
    "- [`F.rand()`](https://spark.apache.org/docs/latest/api/python/reference/api/pyspark.sql.functions.rand.html)\n",
    "- [`F.ceil()`](https://spark.apache.org/docs/latest/api/python/reference/api/pyspark.sql.functions.ceil.html)\n",
    "- [`.toPandas()`](https://spark.apache.org/docs/latest/api/python/reference/api/pyspark.sql.DataFrame.toPandas.html)\n",
    "- [`F.broadcast()`](https://spark.apache.org/docs/latest/api/python/reference/api/pyspark.sql.functions.broadcast.html)\n",
    "- [`F.when()`](https://spark.apache.org/docs/latest/api/python/reference/api/pyspark.sql.functions.when.html)\n",
    "- [`.orderBy()`](https://spark.apache.org/docs/latest/api/python/reference/api/pyspark.sql.DataFrame.orderBy.html)\n",
    "- [`.explain()`](https://spark.apache.org/docs/latest/api/python/reference/api/pyspark.sql.DataFrame.explain.html)\n",
    "- [`.repartition()`](https://spark.apache.org/docs/latest/api/python/reference/api/pyspark.sql.DataFrame.repartition.html)\n",
    "- [`.coalesce()`](https://spark.apache.org/docs/latest/api/python/reference/api/pyspark.sql.DataFrame.coalesce.html)\n",
    "\n",
    "sparklyr and tidyverse Documentation:\n",
    "- [`sdf_num_partitions()`](https://spark.rstudio.com/packages/sparklyr/latest/reference/sdf_num_partitions.html)\n",
    "- [`sdf_seq()`](https://spark.rstudio.com/packages/sparklyr/latest/reference/sdf_seq.html)\n",
    "- [`collect()`](https://dplyr.tidyverse.org/reference/compute.html)\n",
    "- [`sdf_broadcast()`](https://spark.rstudio.com/packages/sparklyr/latest/reference/sdf_broadcast.html)\n",
    "- [`case_when()`](https://dplyr.tidyverse.org/reference/case_when.html)\n",
    "- [`sdf_sort()`](https://spark.rstudio.com/packages/sparklyr/latest/reference/sdf_sort.html)\n",
    "- [`arrange()`](https://dplyr.tidyverse.org/reference/arrange.html)\n",
    "- [`invoke()`](https://spark.rstudio.com/packages/sparklyr/latest/reference/invoke.html) \n",
    "- [`sdf_repartition()`](https://spark.rstudio.com/packages/sparklyr/latest/reference/sdf_repartition.html)\n",
    "- [`sdf_coalesce()`](https://spark.rstudio.com/packages/sparklyr/latest/reference/sdf_coalesce.html) \n",
    "\n",
    "Spark SQL Documentation:\n",
    "- [`spark_partition_id`](https://spark.apache.org/docs/latest/api/sql/index.html#spark_partition_id)\n",
    "- [`rand`](https://spark.apache.org/docs/latest/api/sql/index.html#rand)\n",
    "- [`ceil`](https://spark.apache.org/docs/latest/api/sql/index.html#ceil)\n",
    "\n",
    "Spark documentation:\n",
    "- [RDD Programming Guide](https://spark.apache.org/docs/latest/rdd-programming-guide.html)\n",
    "- [Performance tuning](https://spark.apache.org/docs/latest/sql-performance-tuning.html): details of `spark.sql.shuffle.partitions` and `spark.sql.autoBroadcastJoinThreshold`\n",
    "\n",
    "Other Links:\n",
    "- [QA of Code for Analysis and Research](https://best-practice-and-impact.github.io/qa-of-code-guidance/intro.html)"
   ]
  }
 ],
 "metadata": {
  "kernelspec": {
   "display_name": "Python 3",
   "language": "python",
   "name": "python3"
  },
  "language_info": {
   "codemirror_mode": {
    "name": "ipython",
    "version": 3
   },
   "file_extension": ".py",
   "mimetype": "text/x-python",
   "name": "python",
   "nbconvert_exporter": "python",
   "pygments_lexer": "ipython3",
   "version": "3.6.8"
  }
 },
 "nbformat": 4,
 "nbformat_minor": 4
}
