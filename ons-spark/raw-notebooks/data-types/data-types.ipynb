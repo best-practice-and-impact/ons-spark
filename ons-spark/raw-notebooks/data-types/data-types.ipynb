{
 "cells": [
  {
   "cell_type": "markdown",
   "id": "32429308",
   "metadata": {},
   "source": [
    "## Data Types in Spark\n",
    "\n",
    "Unlike some languages data types are not explicitly declared in Python or R by default. Instead, the data type is inferred when a value is assigned to a variable. Spark works in a similar way; data types often *can* be explicitly declared but in the absence of this they are inferred. We can have give greater control over the data types by supplying a *schema*, or explicitly casting one data type to another.\n",
    "\n",
    "Data types are important in Spark and it is worth familiarising yourself with those that are most frequently used.\n",
    "\n",
    "This article gives an overview of the most common data types and shows how to use schemas and cast a column from one data type to another.\n",
    "\n",
    "*Data types* in this article refers specifically to the data types of the *columns* of the DataFrame; PySpark and sparklyr DataFrames are of course themselves Python and R objects respectively.\n",
    "\n",
    "### Importing Data Types\n",
    "\n",
    "In PySpark, data types are in the [`pyspark.sql.types`](https://spark.apache.org/docs/latest/sql-ref-datatypes.html) module. The documentation uses the `import *` style; we prefer to [import only the data types needed](../ancillary-topics/module-imports), e.g. from `pyspark.sql.types import IntegerType`.\n",
    "\n",
    "In R, there is no need to import data types, as they can be handled with base R (e.g. [`as.numeric()`](https://stat.ethz.ch/R-manual/R-devel/library/base/html/numeric.html) or a Spark function e.g. [`bigint()`](https://spark.apache.org/docs/latest/api/sql/index.html#bigint)."
   ]
  },
  {
   "cell_type": "code",
   "execution_count": 1,
   "id": "33d33f71",
   "metadata": {},
   "outputs": [],
   "source": [
    "# Structural types\n",
    "from pyspark.sql.types import StructType, StructField\n",
    "\n",
    "# String type\n",
    "from pyspark.sql.types import StringType\n",
    "\n",
    "# Numeric types\n",
    "from pyspark.sql.types import IntegerType, DecimalType, DoubleType\n",
    "\n",
    "# Date types\n",
    "from pyspark.sql.types import DateType, TimestampType"
   ]
  },
  {
   "cell_type": "markdown",
   "id": "04fddae6",
   "metadata": {},
   "source": [
    "In order to run our examples, we also need to start a Spark session:"
   ]
  },
  {
   "cell_type": "code",
   "execution_count": 2,
   "id": "77d0d5b3",
   "metadata": {},
   "outputs": [],
   "source": [
    "from pyspark.sql import SparkSession, functions as F\n",
    "import yaml\n",
    "\n",
    "with open(\"../../../config.yaml\") as f:\n",
    "    config = yaml.safe_load(f)\n",
    "\n",
    "spark = (SparkSession.builder.master(\"local[2]\")\n",
    "         .appName(\"data-types\")\n",
    "         .getOrCreate())"
   ]
  },
  {
   "cell_type": "markdown",
   "id": "86adfcb0",
   "metadata": {},
   "source": [
    "```r\n",
    "library(sparklyr)\n",
    "library(dplyr)\n",
    "\n",
    "options(pillar.max_dec_width = 14)\n",
    "\n",
    "sc <- sparklyr::spark_connect(\n",
    "    master = \"local[2]\",\n",
    "    app_name = \"data-types\",\n",
    "    config = sparklyr::spark_config())\n",
    "\n",
    "config <- yaml::yaml.load_file(\"ons-spark/config.yaml\")\n",
    "```"
   ]
  },
  {
   "cell_type": "markdown",
   "id": "ca8cd072",
   "metadata": {},
   "source": [
    "### Common Data Types\n",
    "\n",
    "The [documentation](https://spark.apache.org/docs/latest/sql-ref-datatypes.html) explains all the data types available in Spark. Here we focus on a few common ones and their practical usage, e.g. when you might choose one data type over another.\n",
    "\n",
    "There are more data types used in PySpark than sparklyr, due to the way that the code is complied in the Spark cluster. Also note that although *factors* are common in R they do not exist in sparklyr as they cannot be mapped to a Spark data type.\n",
    "\n",
    "#### Numeric types\n",
    "\n",
    "The choice of numeric type depends on two factors:\n",
    "- Is the column all whole numbers, or does it contain decimals?\n",
    "- How large are the values?\n",
    "\n",
    "Note that there are more available data types in PySpark than sparklyr, so be careful if you use both languages.\n",
    "\n",
    "````{tabs}\n",
    "```{tab} Python Explanation\n",
    "\n",
    "If the column only contains integers, then `IntegerType` or `LongType` will be the most suitable. `IntegerType` has a maximum range of approximately $\\pm 2.1 \\times 10^9$, so if there is any possibility of the values exceeding this, use `LongType`.\n",
    "\n",
    "For decimals, you can use often use `DoubleType`. For larger numbers or those with a lot of decimal places, `DecimalType` gives greater precision as you can specify the `precision` and `scale`, e.g. `precision=5` and `scale=2` has values between $\\pm 999.99$.\n",
    "\n",
    "The types given by [`.printSchema()`](https://spark.apache.org/docs/latest/api/python/reference/api/pyspark.sql.DataFrame.printSchema.html) are simpler than the full Spark type name, e.g. `IntegerType` is `integer`.\n",
    "\n",
    "As a quick example, we can see what happens when a value is too long for `IntegerType`, and also see that the `DecimalType` has a fixed width to the right of the decimal point:\n",
    "```\n",
    "\n",
    "```{tab} R Explanation\n",
    "\n",
    "If the column only contains integers, then `IntegerType` may be the most suitable. `IntegerType` has a maximum range of approximately $\\pm 2.1 \\times 10^9$, so if there is any possibility of the values exceeding this, use `DoubleType`. Note that `LongType` does not exist in sparklyr; instead, `DoubleType` is used.\n",
    "\n",
    "`DoubleType` is also used for decimals; there is no `DecimalType` in sparklyr.\n",
    "\n",
    "The types given by [`glimpse()`](https://pillar.r-lib.org/reference/glimpse.html) are abbreviated, e.g. `IntegerType` is `<int>`. You can see the automatic conversion of data types in the example below:\n",
    "```\n",
    "````"
   ]
  },
  {
   "cell_type": "code",
   "execution_count": 3,
   "id": "9174ee9c",
   "metadata": {},
   "outputs": [
    {
     "name": "stdout",
     "output_type": "stream",
     "text": [
      "root\n",
      " |-- really_big_number_long: long (nullable = false)\n",
      " |-- really_big_number_int: integer (nullable = false)\n",
      " |-- small_number: double (nullable = true)\n",
      " |-- small_number_decimal: decimal(5,2) (nullable = true)\n",
      "\n",
      "+----------------------+---------------------+------------+--------------------+\n",
      "|really_big_number_long|really_big_number_int|small_number|small_number_decimal|\n",
      "+----------------------+---------------------+------------+--------------------+\n",
      "|                     0|                    0|       99.98|               99.98|\n",
      "|            1000000000|           1000000000|       99.99|               99.99|\n",
      "|            2000000000|           2000000000|       100.0|              100.00|\n",
      "|            3000000000|          -1294967296|      100.01|              100.01|\n",
      "|            4000000000|           -294967296|      100.02|              100.02|\n",
      "+----------------------+---------------------+------------+--------------------+\n",
      "\n"
     ]
    }
   ],
   "source": [
    "numeric_df = (spark.range(5)\n",
    "              .withColumn(\"really_big_number_long\", F.col(\"id\") * 10**9)\n",
    "              .withColumn(\"really_big_number_int\", F.col(\"really_big_number_long\").cast(IntegerType()))\n",
    "              .withColumn(\"small_number\", (F.col(\"id\") + 9998) / 100)\n",
    "              .withColumn(\"small_number_decimal\", F.col(\"small_number\").cast(DecimalType(5,2)))\n",
    "              .drop(\"id\"))\n",
    "\n",
    "numeric_df.printSchema()\n",
    "numeric_df.show()"
   ]
  },
  {
   "cell_type": "markdown",
   "id": "7cc82818",
   "metadata": {},
   "source": [
    "```r\n",
    "numeric_df <- sparklyr::sdf_seq(sc, 0, 4) %>%\n",
    "    sparklyr::mutate(\n",
    "        really_big_number_double = id * 10**9,\n",
    "        small_number_double = id / 10)\n",
    "\n",
    "pillar::glimpse(numeric_df)\n",
    "print(numeric_df)\n",
    "```"
   ]
  },
  {
   "cell_type": "markdown",
   "id": "4cc82a53",
   "metadata": {},
   "source": [
    "#### String types\n",
    "\n",
    "`StringType` is the default for character values, and can contain any string. One relatively common scenario that you may encounter is numeric values being stored as strings. See the section on Casting for information on changing data types.\n",
    "\n",
    "In Spark 3, the fixed character width `CharType` and maximum character width `VarcharType` exist, but not in `pyspark.sql.types`; you will have to use DDL notation for these.\n",
    "\n",
    "#### Datetime types\n",
    "\n",
    "The two datetime types are `DateType` and `TimestampType`. `DateType` is easier to read, but is not always supported when writing out data as a Hive table, so `TimestampType` is preferred for storage. See the section on Casting for details of how to convert between the two.\n",
    "\n",
    "Note that there are differences in how dates are handled in Spark 3 and Spark 2.4. See the [DataBricks blog](https://databricks.com/blog/2020/07/22/a-comprehensive-look-at-dates-and-timestamps-in-apache-spark-3-0.html) for more details.\n",
    "\n",
    "The defaults when creating a DataFrame in PySpark and sparklyr are also different, as can be seen from the examples:"
   ]
  },
  {
   "cell_type": "code",
   "execution_count": 4,
   "id": "aca2c752",
   "metadata": {},
   "outputs": [
    {
     "name": "stdout",
     "output_type": "stream",
     "text": [
      "+----------+-------------------+------------+\n",
      "|month_name|  example_timestamp|example_date|\n",
      "+----------+-------------------+------------+\n",
      "|     March|2022-03-01 00:00:00|  2022-03-01|\n",
      "|     April|2022-04-01 00:00:00|  2022-04-01|\n",
      "|       May|2022-05-01 00:00:00|  2022-05-01|\n",
      "+----------+-------------------+------------+\n",
      "\n",
      "root\n",
      " |-- month_name: string (nullable = true)\n",
      " |-- example_timestamp: timestamp (nullable = true)\n",
      " |-- example_date: date (nullable = true)\n",
      "\n"
     ]
    }
   ],
   "source": [
    "from datetime import datetime\n",
    "\n",
    "dates = (spark\n",
    "         .createDataFrame([\n",
    "             [\"March\", datetime(2022, 3, 1)],\n",
    "             [\"April\", datetime(2022, 4, 1)],\n",
    "             [\"May\", datetime(2022, 5, 1)]],\n",
    "             [\"month_name\", \"example_timestamp\"])\n",
    "         .withColumn(\"example_date\",\n",
    "                     F.col(\"example_timestamp\").cast(DateType())))\n",
    "\n",
    "dates.show()\n",
    "dates.printSchema()"
   ]
  },
  {
   "cell_type": "markdown",
   "id": "e25ae555",
   "metadata": {},
   "source": [
    "```r\n",
    "dates <- sparklyr::sdf_copy_to(sc, data.frame(\n",
    "        \"month_name\" = c(\"March\", \"April\", \"May\"),\n",
    "        \"example_date\" = lubridate::ymd(\n",
    "            c(\"2022-03-01\", \"2022-04-01\", \"2022-05-01\")))) %>%\n",
    "    sparklyr::mutate(example_timestamp = to_timestamp(example_date))\n",
    "\n",
    "pillar::glimpse(dates)\n",
    "print(dates)\n",
    "```"
   ]
  },
  {
   "cell_type": "markdown",
   "id": "02c99a06",
   "metadata": {},
   "source": [
    "#### Other types\n",
    "\n",
    "Other common types are `BooleanType`; although this is boolean remember that it can also contain null values in addition to `True` and `False`.\n",
    "\n",
    "For arrays, use `ArrayType`. For more details on arrays, see the [Arrays in PySpark](../spark-functions/arrays.md) article.\n",
    "\n",
    "### Schemas\n",
    "\n",
    "The *schema* refers to the structure of the data, in the example of a Spark DataFrame, the column names and data types.\n",
    "\n",
    "When reading parquet files or Hive tables with Spark the schema is already defined. For instance, We can read the Animal Rescue parquet file and then preview the data types:"
   ]
  },
  {
   "cell_type": "code",
   "execution_count": 5,
   "id": "508a40cb",
   "metadata": {},
   "outputs": [
    {
     "name": "stdout",
     "output_type": "stream",
     "text": [
      "root\n",
      " |-- incident_number: string (nullable = true)\n",
      " |-- date_time_of_call: string (nullable = true)\n",
      " |-- cal_year: integer (nullable = true)\n",
      " |-- fin_year: string (nullable = true)\n",
      "\n"
     ]
    }
   ],
   "source": [
    "rescue_path_parquet = config[\"rescue_path\"]\n",
    "rescue_from_parquet = (spark.read.parquet(rescue_path_parquet)\n",
    "                       .select(\"incident_number\", \"date_time_of_call\", \"cal_year\", \"fin_year\"))\n",
    "\n",
    "rescue_from_parquet.printSchema()"
   ]
  },
  {
   "cell_type": "markdown",
   "id": "1cfcc0e8",
   "metadata": {},
   "source": [
    "```r\n",
    "rescue_from_parquet <- sparklyr::spark_read_parquet(sc, config$rescue_path) %>%\n",
    "    sparklyr::select(incident_number, date_time_of_call, cal_year, fin_year)\n",
    "\n",
    "pillar::glimpse(rescue_from_parquet)\n",
    "```"
   ]
  },
  {
   "cell_type": "markdown",
   "id": "08ea3982",
   "metadata": {},
   "source": [
    "CSV files (and other text storage formats) do not have any schema attached to them. There are two options for determining the data types in a DataFrame when the source data is a CSV file: use `inferSchema`/`infer_schema`, or supply a schema directly with the `schema`/`columns` option when reading the data in.\n",
    "\n",
    "Inferring the schema means that Spark will scan the CSV file when reading in and try and automatically determine the data types. This may sometimes not be the exact data type that you want. Scanning the file in this way is also relatively slow, which is one of the reasons why parquet files are a better storage choice for Spark than CSVs."
   ]
  },
  {
   "cell_type": "code",
   "execution_count": 6,
   "id": "82a27e27",
   "metadata": {},
   "outputs": [
    {
     "name": "stdout",
     "output_type": "stream",
     "text": [
      "root\n",
      " |-- IncidentNumber: string (nullable = true)\n",
      " |-- DateTimeOfCall: string (nullable = true)\n",
      " |-- CalYear: integer (nullable = true)\n",
      " |-- FinYear: string (nullable = true)\n",
      "\n"
     ]
    }
   ],
   "source": [
    "rescue_path_csv = config[\"rescue_path_csv\"]\n",
    "rescue_from_csv = (spark.read.csv(rescue_path_csv, header=True, inferSchema=True)\n",
    "                   .select(\"IncidentNumber\", \"DateTimeOfCall\", \"CalYear\", \"FinYear\"))\n",
    "\n",
    "rescue_from_csv.printSchema()"
   ]
  },
  {
   "cell_type": "markdown",
   "id": "0fe2853d",
   "metadata": {},
   "source": [
    "```r\n",
    "rescue_from_csv <- sparklyr::spark_read_csv(sc, config$rescue_path_csv, header=TRUE, infer_schema=TRUE) %>%\n",
    "    sparklyr::select(IncidentNumber, DateTimeOfCall, CalYear, FinYear)\n",
    "    \n",
    "pillar::glimpse(rescue_from_csv)\n",
    "```"
   ]
  },
  {
   "cell_type": "markdown",
   "id": "b090ca49",
   "metadata": {},
   "source": [
    "The alternative is to use the `schema`/`columns` argument to supply a schema directly. This is done with a list of the column names and types. You can also use DDL notation if using PySpark.\n",
    "\n",
    "In PySpark, supply a list of `StructField` wrapped in `StructType` to `schema`. A `StructField` consists of a column name and type. The types need to be imported from `pyspark.sql.types` and end with brackets, e.g. `StructField(\"incident_number\", StringType())`. \n",
    "\n",
    "In sparklyr, use a standard named R list as an input to `columns`, with data types entered as strings.\n",
    "\n",
    "Note that we are not supplying an entry for every column in the raw data here, just the first four columns."
   ]
  },
  {
   "cell_type": "code",
   "execution_count": 7,
   "id": "a78aeb47",
   "metadata": {},
   "outputs": [
    {
     "name": "stdout",
     "output_type": "stream",
     "text": [
      "root\n",
      " |-- incident_number: string (nullable = true)\n",
      " |-- date_time_of_call: string (nullable = true)\n",
      " |-- cal_year: integer (nullable = true)\n",
      " |-- fin_year: string (nullable = true)\n",
      "\n"
     ]
    }
   ],
   "source": [
    "from pyspark.sql.types import StructType, StructField, StringType, IntegerType\n",
    "\n",
    "rescue_schema = StructType([\n",
    "    StructField(\"incident_number\", StringType()),\n",
    "    StructField(\"date_time_of_call\", StringType()),\n",
    "    StructField(\"cal_year\", IntegerType()),\n",
    "    StructField(\"fin_year\", StringType())\n",
    "])\n",
    "\n",
    "rescue_from_csv_schema = spark.read.csv(rescue_path_csv, schema=rescue_schema, inferSchema=False)\n",
    "rescue_from_csv_schema.printSchema()"
   ]
  },
  {
   "cell_type": "markdown",
   "id": "682a824b",
   "metadata": {},
   "source": [
    "```r\n",
    "rescue_schema <- list(\n",
    "    incident_number = \"character\",\n",
    "    date_time_of_call = \"character\",\n",
    "    cal_year = \"integer\",\n",
    "    fin_year = \"character\"\n",
    ")\n",
    "\n",
    "rescue_from_csv_schema <- sparklyr::spark_read_csv(sc,\n",
    "                                                   config$rescue_path_csv,\n",
    "                                                   columns=rescue_schema,\n",
    "                                                   infer_schema=FALSE)\n",
    "\n",
    "pillar::glimpse(rescue_from_csv_schema)\n",
    "```"
   ]
  },
  {
   "cell_type": "markdown",
   "id": "d33b5a58",
   "metadata": {},
   "source": [
    "In PySpark, using Data Definition Language (DDL) to define a schema is generally quicker and easier. You may be familiar with DDL when creating database tables with SQL. Just use the names of the columns followed by their data type and then separated with commas. For ease of reading it is better to use a multi-line string and put each entry on a new line. Remember that multi-line strings in Python need to be opened and closed with `\"\"\"`."
   ]
  },
  {
   "cell_type": "code",
   "execution_count": 8,
   "id": "9c9a116f",
   "metadata": {},
   "outputs": [
    {
     "name": "stdout",
     "output_type": "stream",
     "text": [
      "root\n",
      " |-- incident_number: string (nullable = true)\n",
      " |-- date_time_of_call: string (nullable = true)\n",
      " |-- cal_year: integer (nullable = true)\n",
      " |-- fin_year: string (nullable = true)\n",
      "\n"
     ]
    }
   ],
   "source": [
    "rescue_schema_ddl = \"\"\"\n",
    "    `incident_number` string,\n",
    "    `date_time_of_call` string,\n",
    "    `cal_year` int,\n",
    "    `fin_year` string\n",
    "\"\"\"\n",
    "\n",
    "rescue_from_csv_ddl = spark.read.csv(rescue_path_csv, schema=rescue_schema_ddl)\n",
    "rescue_from_csv_ddl.printSchema()"
   ]
  },
  {
   "cell_type": "markdown",
   "id": "20e4534c",
   "metadata": {},
   "source": [
    "### *Casting*: Changing Data Types\n",
    "\n",
    "The process of changing data types is referred to as *casting*. For instance, if a string column contains numbers you may want to cast this as an integer.\n",
    "\n",
    "In PySpark, use the column methods [`.cast()`](https://spark.apache.org/docs/latest/api/python/reference/api/pyspark.sql.Column.cast.html) or [`.astype()`](https://spark.apache.org/docs/latest/api/python/reference/api/pyspark.sql.Column.astype.html). These methods are identical and just aliases of each other. It is good to be consistent within your project as to which one you use.\n",
    "\n",
    "In sparklyr, casting can be done with either base R methods (when available), e.g. [`as.double()`](https://stat.ethz.ch/R-manual/R-devel/library/base/html/double.html), or [Spark functions](../sparklyr-intro/sparklyr-functions), e.g. [`double()`](https://spark.apache.org/docs/latest/api/sql/index.html#double), [`to_timestamp()`](https://spark.apache.org/docs/latest/api/sql/index.html#to_timestamp). Spark functions are preferred as they are easier for Spark to compile.\n",
    "\n",
    "Be careful when casting an existing column as this can make the code harder to read and amend. Instead you may want to create a new column to hold the casted value."
   ]
  },
  {
   "cell_type": "code",
   "execution_count": 9,
   "id": "37deca1b",
   "metadata": {},
   "outputs": [
    {
     "name": "stdout",
     "output_type": "stream",
     "text": [
      "root\n",
      " |-- id: long (nullable = false)\n",
      " |-- id_double: double (nullable = false)\n",
      "\n",
      "+---+---------+\n",
      "| id|id_double|\n",
      "+---+---------+\n",
      "|  0|      0.0|\n",
      "|  1|      1.0|\n",
      "|  2|      2.0|\n",
      "|  3|      3.0|\n",
      "|  4|      4.0|\n",
      "+---+---------+\n",
      "\n"
     ]
    }
   ],
   "source": [
    "casted_df = (spark.range(5)\n",
    "             .withColumn(\"id_double\",\n",
    "                         F.col(\"id\").cast(DoubleType())))\n",
    "casted_df.printSchema()\n",
    "casted_df.show()"
   ]
  },
  {
   "cell_type": "markdown",
   "id": "3747d1e2",
   "metadata": {},
   "source": [
    "```r\n",
    "casted_df <- sparklyr::sdf_seq(sc, 0, 4) %>%\n",
    "    sparklyr::mutate(id_double = double(id))\n",
    "\n",
    "pillar::glimpse(casted_df)\n",
    "print(casted_df)\n",
    "```"
   ]
  },
  {
   "cell_type": "markdown",
   "id": "49ed2267",
   "metadata": {},
   "source": [
    "### Further Resources\n",
    "\n",
    "Spark at the ONS links:\n",
    "- [Avoiding Module Import Conflicts](../ancillary-topics/module-imports)\n",
    "- [Arrays in PySpark](../spark-functions/arrays.md)\n",
    "- [Using Spark Functions in sparklyr](../sparklyr-intro/sparklyr-functions)\n",
    "\n",
    "PySpark Documentation:\n",
    "- [`.printSchema()`](https://spark.apache.org/docs/latest/api/python/reference/api/pyspark.sql.DataFrame.printSchema.html)\n",
    "- [`pyspark.sql.types`](https://spark.apache.org/docs/latest/sql-ref-datatypes.html)\n",
    "- [`.cast()`](https://spark.apache.org/docs/latest/api/python/reference/api/pyspark.sql.Column.cast.html)\n",
    "- [`.astype()`](https://spark.apache.org/docs/latest/api/python/reference/api/pyspark.sql.Column.astype.html)\n",
    "\n",
    "sparklyr and tidyverse Documentation:\n",
    "- [`glimpse()`](https://pillar.r-lib.org/reference/glimpse.html)\n",
    "\n",
    "Base R Documentation:\n",
    "- [`as.numeric()`](https://stat.ethz.ch/R-manual/R-devel/library/base/html/numeric.html)\n",
    "- [`as.double()`](https://stat.ethz.ch/R-manual/R-devel/library/base/html/double.html)\n",
    "\n",
    "[Spark SQL Functions](../sparklyr-intro/sparklyr-functions) Documentation:\n",
    "- [`bigint()`](https://spark.apache.org/docs/latest/api/sql/index.html#bigint)\n",
    "- [`double()`](https://spark.apache.org/docs/latest/api/sql/index.html#double)\n",
    "- [`to_timestamp()`](https://spark.apache.org/docs/latest/api/sql/index.html#to_timestamp)\n",
    "\n",
    "sparklyr Source Code:\n",
    "- [dbi_spark_connection.R](https://github.com/sparklyr/sparklyr/blob/eb3e795447887908d9e795512ad08eeeb32eede5/R/dbi_spark_connection.R#L38): shows data type mapping in sparklyr\n",
    "\n",
    "Other links:\n",
    "- [DataBricks blog: A Comprehensive Look at Dates and Timestamps in Apache Spark™ 3.0](https://databricks.com/blog/2020/07/22/a-comprehensive-look-at-dates-and-timestamps-in-apache-spark-3-0.html)\n",
    "\n",
    "#### Acknowledgments\n",
    "\n",
    "Thanks to Diogo Marques for assistance with the differences between dates in Spark 2.4 and 3."
   ]
  }
 ],
 "metadata": {
  "kernelspec": {
   "display_name": "Python 3",
   "language": "python",
   "name": "python3"
  },
  "language_info": {
   "codemirror_mode": {
    "name": "ipython",
    "version": 3
   },
   "file_extension": ".py",
   "mimetype": "text/x-python",
   "name": "python",
   "nbconvert_exporter": "python",
   "pygments_lexer": "ipython3",
   "version": "3.6.8"
  }
 },
 "nbformat": 4,
 "nbformat_minor": 5
}
