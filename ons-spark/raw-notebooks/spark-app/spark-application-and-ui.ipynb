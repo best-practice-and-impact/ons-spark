{
 "cells": [
  {
   "cell_type": "markdown",
   "metadata": {},
   "source": [
    "## Spark Application and UI\n",
    "\n",
    "This article introduces the structure of a Spark application and how the structure relates to the various pages within the application monitoring interface, the Spark UI. \n",
    "\n",
    "The Spark UI is used to monitor the status and resource consumption of your Spark cluster and is the main tool for troubleshooting slow Spark code. \n",
    "\n",
    "Understanding the structure of a Spark application helps to understand how Spark works so you can begin to think differently as you code to get the most out of Spark.\n",
    "\n",
    "### Spark Application Overview\n",
    "A Spark application has an underlining structure and learning about this structure will help us:\n",
    "1. understand the difference between a narrow transformation, wide transformation and an action \n",
    "2. navigate around the Spark UI\n",
    "\n",
    "Below is a diagram of the Spark application hierarchy:\n",
    "\n",
    "- **Application** - a set of jobs managed by a single driver, e.g. on a Cloudera platform that is the CDSW session. An application is created when we connect to Spark with a [`SparkSession`](https://spark.apache.org/docs/latest/api/python/reference/api/pyspark.sql.SparkSession.html) in PySpark or [`spark_connect()`](https://spark.rstudio.com/packages/sparklyr/latest/reference/spark-connections.html) in sparklyr.\n",
    "- **Job** - a set of stages executed as a result of an *action*, e.g. [`.count()`](https://spark.apache.org/docs/latest/api/python/reference/api/pyspark.sql.DataFrame.count.html)/[`sdf_nrow()`](https://spark.rstudio.com/packages/sparklyr/latest/reference/sdf_dim.html). A job might consist of a number of *transformations*, but a job always finishes with an *action*.\n",
    "- **Stage** - a set of tasks that can be executed in parallel. Similar to how *actions* define a job boundary, a stage boundary is introduced by a *wide* transformation, such as [`.groupBy()`](https://spark.apache.org/docs/latest/api/python/reference/api/pyspark.sql.DataFrame.groupBy.html)/[`group_by()`](https://dplyr.tidyverse.org/reference/group_by.html) or [`.join()`](https://spark.apache.org/docs/latest/api/python/reference/api/pyspark.sql.DataFrame.join.html)/[`left_join()`](https://spark.rstudio.com/packages/sparklyr/latest/reference/join.tbl_spark.html). A stage might consist of many *narrow* transformations, but a stage always finishes with a *wide* transformation or action.\n",
    "- **Task** - an individual unit of work assigned to a single core on an executor.\n",
    "\n",
    "```{figure} ../images/spark_app_diagram.png\n",
    "---\n",
    "width: 100%\n",
    "name: SparkApplication\n",
    "alt: Diagram representing Spark application showing partitioned DataFrame going through narrow and wide operations\n",
    "---\n",
    "Spark application\n",
    "```\n",
    "\n",
    "Note that Jobs, Stages and Tasks are numbered starting from zero.\n",
    "\n",
    "Now look more closely at the DataFrame. On the left there is a Spark DataFrame which is split up into four sections, called *partitions*. Spark puts our data into partitions automatically so we don't have to decide how or when to do it. More details on exactly how Spark does this are in the [Partitions Article](../spark-concepts/partitions).\n",
    "\n",
    "The first operation to be applied to this DataFrame is a *narrow* transformation, e.g. adding two columns to create a new column. The second operation is again a narrow transformation. These two operations can be run in parallel, because each child partition has only one parent, indicated by the golden arrows.\n",
    "\n",
    "Then we hit a stage boundary, which means the third operation is a *wide* transformation, e.g. aggregating the data or joining with another DataFrame. This is a wide operation because each child partition has multiple parent partitions. This is also an example of *shuffling* the data, which means to move data between partitions, more on shuffling in the [Shuffling Article](../spark-concepts/shuffling).\n",
    "\n",
    "Finally in the diagram above there is another narrow operation on the aggregated DataFrame before we run into an *action*, e.g. writing the data to HDFS or a simple count of the rows. \n",
    "\n",
    "As we execute the wide and narrow transformations nothing happens to the data at this point in time, Spark just builds up a plan of what to do with the DataFrame. This plan is a called the execution plan and is a set of instructions of how to transform the data from one state to another. More on the execution plan in the [Persisting Article](../spark-concepts/persistence). An action initiates the execution plan and so this is when the DataFrame is processed. All the previous transformations, along with the action, are put into Spark *jobs* and deployed on the Spark cluster. \n",
    "\n",
    "### Investigate the Spark UI\n",
    "\n",
    "We will create an application and execute some code to create jobs. Then we can drill down from Job to Stage to Task and investigate their performance. In most cases this is where we look first when trying to diagnose a slow Spark application.\n",
    "\n",
    "#### Create an application\n",
    "\n",
    "The first step is to create an application. Once we create a Spark application we can look at the Spark UI. If we stop the Spark session using [`spark.stop()`](https://spark.apache.org/docs/latest/api/python/reference/api/pyspark.sql.SparkSession.stop.html)/[`spark_disconnect()`](https://spark.rstudio.com/packages/sparklyr/latest/reference/spark-connections.html) or disconnect from the notebook, the Spark UI for our application can no longer be accessed.\n",
    "\n",
    "Let's start with the necessary imports and create an application. "
   ]
  },
  {
   "cell_type": "code",
   "execution_count": 1,
   "metadata": {},
   "outputs": [],
   "source": [
    "import os, IPython\n",
    "import yaml\n",
    "from pyspark.sql import SparkSession, functions as F\n",
    "\n",
    "spark = SparkSession.builder.master(\"local[2]\").appName(\"spark-app-ui\").getOrCreate()"
   ]
  },
  {
   "cell_type": "markdown",
   "metadata": {},
   "source": [
    "```r\n",
    "library(sparklyr)\n",
    "\n",
    "default_config <- sparklyr::spark_config()\n",
    "\n",
    "sc <- sparklyr::spark_connect(\n",
    "    master = \"local[2]\",\n",
    "    app_name = \"spark-app-ui\",\n",
    "    config = default_config)\n",
    "```"
   ]
  },
  {
   "cell_type": "markdown",
   "metadata": {},
   "source": [
    "We can then look at the Spark UI using the URL  http://localhost:4040/jobs/. Note this address is used for a local Spark session, for more information on how to navigate to the Spark UI see the [documentation on monitoring](https://spark.apache.org/docs/latest/monitoring.html).\n",
    "\n",
    "If you are running the source notebook and follow the above link you will see something similar to the screenshot below, with the application name on the top right and various tabs along the top. \n",
    "\n",
    "There is a lot of useful information in the Spark UI, but in this article we will only concentrate on the *Jobs* and *Stages* tabs. Note that we haven't executed any *Jobs* yet, so there isn't much to see at the moment.\n",
    "\n",
    "```{figure} ../images/spark_app_empty_ui.png\n",
    "---\n",
    "width: 100%\n",
    "name: EmptyUI\n",
    "alt: Empty Spark UI page\n",
    "---\n",
    "Empty Spark UI page\n",
    "```\n",
    "\n",
    "Let's import the animal rescue data and find out the number of partitions in which our `rescue` DataFrame is processed. The number of partitions will be useful later when we're investigating our application's tasks."
   ]
  },
  {
   "cell_type": "code",
   "execution_count": 2,
   "metadata": {},
   "outputs": [
    {
     "name": "stdout",
     "output_type": "stream",
     "text": [
      "Number of partitions:  2\n"
     ]
    }
   ],
   "source": [
    "with open(\"../../../config.yaml\") as f:\n",
    "    config = yaml.safe_load(f)\n",
    "    \n",
    "rescue_path = config[\"rescue_path\"]\n",
    "rescue = spark.read.parquet(rescue_path)\n",
    "\n",
    "print(\"Number of partitions: \",rescue.rdd.getNumPartitions())"
   ]
  },
  {
   "cell_type": "markdown",
   "metadata": {},
   "source": [
    "```r\n",
    "config <- yaml::yaml.load_file(\"ons-spark/config.yaml\")\n",
    "\n",
    "rescue <- sparklyr::spark_read_parquet(sc, config$rescue_path)\n",
    "\n",
    "print(paste0(\"Number of partitions: \", sparklyr::sdf_num_partitions(rescue)))\n",
    "```"
   ]
  },
  {
   "cell_type": "markdown",
   "metadata": {},
   "source": [
    "Next we'll carry out some basic processes to see how this translates into jobs, stages and tasks in the Spark UI. We will  group the incident costs by creating a new column called `cost_group` containing three groups `small`, `medium` and `large`."
   ]
  },
  {
   "cell_type": "code",
   "execution_count": 3,
   "metadata": {},
   "outputs": [
    {
     "name": "stdout",
     "output_type": "stream",
     "text": [
      "+------------+----------------------------------------------------------------+----------+----------+\n",
      "|animal_group|                                                     description|total_cost|cost_group|\n",
      "+------------+----------------------------------------------------------------+----------+----------+\n",
      "|         Cat|                                         CAT TRAPPED IN BASEMENT|     290.0|     small|\n",
      "|       Horse|                                           HORSE TRAPPED IN GATE|     590.0|    medium|\n",
      "|        Bird|PIGEON WITH WING IMAPLED ON SHARP IMPLEMENT  UNDER A BRIDGE NEAR|     326.0|    medium|\n",
      "|         Cat|                          ASSIST RSPCA WITH CAT STUCK ON CHIMNEY|     295.0|     small|\n",
      "|         Dog|                                       DOG FALLEN INTO THE CANAL|     260.0|     small|\n",
      "|        Deer|                                          DEER STUCK IN RAILINGS|     520.0|    medium|\n",
      "|        Deer|                                           DEER TRAPPED IN FENCE|     260.0|     small|\n",
      "+------------+----------------------------------------------------------------+----------+----------+\n",
      "only showing top 7 rows\n",
      "\n"
     ]
    }
   ],
   "source": [
    "rescue = (\n",
    "    rescue.withColumn(\"cost_group\",\n",
    "                      F.when(F.col(\"total_cost\")<300, \"small\")\n",
    "                      .when((F.col(\"total_cost\")>=300) & (F.col(\"total_cost\")<900), \"medium\")\n",
    "                      .when(F.col(\"total_cost\")>=1000, \"large\")\n",
    "                      .otherwise(None)\n",
    "                     )\n",
    ")\n",
    "\n",
    "rescue.select(\"animal_group\", \"description\", \"total_cost\", \"cost_group\").show(7, truncate=80)"
   ]
  },
  {
   "cell_type": "markdown",
   "metadata": {},
   "source": [
    "```r\n",
    "rescue <- rescue %>% sparklyr::mutate(\n",
    "    cost_group=dplyr::case_when(total_cost<300 ~ \"small\",\n",
    "                                total_cost>=300 & total_cost<900 ~ \"medium\",\n",
    "                                total_cost>=900 ~ \"large\",\n",
    "                                TRUE ~ NULL)\n",
    ")\n",
    "\n",
    "\n",
    "rescue %>% \n",
    "    sparklyr::select(\"animal_group\", \"description\", \"total_cost\", \"cost_group\") %>%\n",
    "    head(7) %>%\n",
    "    sparklyr::collect()\n",
    "```"
   ]
  },
  {
   "cell_type": "markdown",
   "metadata": {},
   "source": [
    "To produce the above output Spark didn't need to process all of the partitions, there are enough rows on one partition to create the output so Spark only processed one partition. If we want Spark to process all of the partitions we need to call an action that involves all rows of the DataFrame, such as getting the row count."
   ]
  },
  {
   "cell_type": "code",
   "execution_count": 4,
   "metadata": {},
   "outputs": [
    {
     "data": {
      "text/plain": [
       "5898"
      ]
     },
     "execution_count": 4,
     "metadata": {},
     "output_type": "execute_result"
    }
   ],
   "source": [
    "rescue.count()"
   ]
  },
  {
   "cell_type": "markdown",
   "metadata": {},
   "source": [
    "```r\n",
    "rescue %>% sparklyr::sdf_nrow()\n",
    "```"
   ]
  },
  {
   "cell_type": "markdown",
   "metadata": {},
   "source": [
    "### Jobs page\n",
    "Now that we've created some jobs let's have a quick look at the application's *Event timeline*. For those who are running this as a notebook:\n",
    "\n",
    "1. Go into the Spark UI\n",
    "2. Make sure you're on the Jobs tab\n",
    "3. Open the *Event timeline* collapsible section using the blue arrow to see something similar to the below image.\n",
    "\n",
    "Note the images in this article were created using PySpark, the Spark UI will look slightly different when using sparklyr, but not very different.\n",
    "\n",
    "In the top section of the timeline you will see the executors being added and removed by the *dynamic allocation* feature of Spark. The `SparkSession` used in this case was a local session, so we will only see the driver here. The jobs are shown in the bottom section of the timeline. Hover over a job in the timeline and the corresponding job in the *Completed Jobs* table below will be highlighted.\n",
    "\n",
    "*Tip:* You can tick the *Enable Zooming* button to zoom in and out of different sections of the timeline\n",
    "\n",
    "```{figure} ../images/spark_app_event_timeline.png\n",
    "---\n",
    "width: 100%\n",
    "name: AppEventTimeline\n",
    "alt: Event timeline within Spark UI showing executors being assigned and jobs being deployed\n",
    "---\n",
    "An application's Event Timeline\n",
    "```\n",
    "\n",
    "Let's look at the *Completed Jobs* table. The description gives us a clue as to the action that initiated that job. The first job, *Job Id* 0, was to interact with HDFS, so it has the description `parquet at NativeMethodAccessorImpl.java:0`. Remember that executing transformations creates an execution plan, so Spark needs to know the DataFrame's schema, i.e. column names and types, to validate our PySpark/sparklyr code. Reading from disk will always create a job, usually consisting of just one stage as shown in the *Stages* column.\n",
    "\n",
    "The second job was initiated by [`.show()`](https://spark.apache.org/docs/latest/api/python/reference/api/pyspark.sql.DataFrame.show.html)/[`collect()`](https://dplyr.tidyverse.org/reference/compute.html), again it consists of one stage, which itself had one task as shown in the *Tasks* column. As mentioned in the previous section, Spark only needed to process one partition to produce the output so we therefore have one task in this job. \n",
    "\n",
    "The third job was the `.count()`/`sdf_nrow()`. The job contains two stages, which themselves consist of 3 tasks. Let's get more information on these stages and tasks. Within the *Completed Jobs* table click on the link in the *Description* column for the latest job that says `count at NativeMethodAccessorImpl.java:0`. \n",
    "\n",
    "Now we are on the *Job Details* page which show information about the job's stages. The first stage had two tasks, one task to count the rows in each partition. The second stage had one task, which was to send the result to the driver for us to see. On this page you will see another type of diagram called a Directed Acyclic Graph or DAG, by opening the *DAG Vizualisation* collapsible section.\n",
    "\n",
    "The DAG shows the two stages. Here are some rough definitions of the terms inside the boxes\n",
    "1. *WholeStageCodegen*- this is Spark creating an optimised version of our code\n",
    "2. *Exchange* - another word for *shuffling* data, i.e. data is being moved between partitions\n",
    "3. *mapPartitionsInternal* - bringing information from multiple partitions together\n",
    "\n",
    "There are more informative DAG diagrams on the SQL tab, which are explored in the [Optimising Joins](../spark-concepts/join-concepts) and [Persisting](../spark-concepts/persistence) articles. \n",
    "\n",
    "```{figure} ../images/spark_app_stages.png\n",
    "---\n",
    "width: 100%\n",
    "name: JobDetails\n",
    "alt: Job details page in Spark UI showing DAG diagram and table of the job's stages\n",
    "---\n",
    "Job details page\n",
    "```\n",
    "\n",
    "### Stages page\n",
    "\n",
    "From the *Completed Stages* table on the *Job Details* page, when we click on the link in the *Description* column for the stage consisting of two tasks (*Stage Id* 2 in the example above), we get to the *Stage Details*. \n",
    "\n",
    "This page contains lots of detailed information about the individual tasks and it's one of the more useful places to look for troubleshooting sluggish applications. We will just concentrate on two sections within this page, the *Event timeline* (for tasks) and the *Summary Metrics*.\n",
    "\n",
    "#### Task Event timeline\n",
    "\n",
    "Opening the *Event timeline* collapsible menu will show a timeline like in the below image. This timeline has a single row, which means one executor (i.e. the driver in our case because we're running a local session) was used to complete these tasks. This executor has two cores, we know this because the *Executor Computing Time* (shown in green) of the two task are overlapping. If there was just one core available to the driver the two tasks would not run in parallel.\n",
    "\n",
    "```{figure} ../images/spark_app_task_timeline.png\n",
    "---\n",
    "width: 100%\n",
    "name: TaskEventTimeline\n",
    "alt: Task event timeline in Spark UI showing parallel processing of tasks\n",
    "---\n",
    "Task Event timeline\n",
    "```\n",
    "\n",
    "The colours also indicate what was going on while the task was being completed. In general- green is good, and is an indication that there is no need to spend time optimising the processing. Delays often occur when lots of data are moved around, because the process can involve some or all of the below:\n",
    "1. serialising data - preparing the data to be moved to disk\n",
    "2. shuffle write - writing data to disk to be read by a shuffle somewhere else\n",
    "3. shuffle read - reading a shuffle from disk onto an executor or driver\n",
    "4. deserialisation - preparing the data to be read in memory\n",
    "\n",
    "Sometimes when processing many small partitions more time is spent on moving small amounts of data around than useful processing time. This task event timeline will show evidence of this problem in the form of non-green colours. We'll see this in action later.\n",
    "\n",
    "#### Summary Metrics\n",
    "\n",
    "Summary information about the tasks within a stage are given in the Summary Metrics table. Select the *(De)select All* option to view more metrics.\n",
    "\n",
    "This is a useful indication of the distribution of times taken for various components of task processing. It might not be the most useful part of the UI to look at with only two tasks, so we will revisit this later.\n",
    "\n",
    "```{figure} ../images/spark_app_task_metrics.png\n",
    "---\n",
    "width: 100%\n",
    "name: TaskMetrics\n",
    "alt: Task metrics table in the Spark UI\n",
    "---\n",
    "Task metrics table\n",
    "```\n",
    "\n",
    "We won't discuss *GC time*, or garbage collection time, in this article. This is a topic that is covered in [a separate article](../spark-concepts/garbage-collection).\n",
    "\n",
    "### More information\n",
    "\n",
    "#### Documentation\n",
    "\n",
    "There are tens of blogs available online that introduce some feature in the Spark UI, but most are not particularly useful and are generally rehashes of other blogs. \n",
    "\n",
    "Finally, since its release of version 3.0.0, Spark's online documentation contains information about the [Spark web UI](https://spark.apache.org/docs/latest/web-ui.html). Note however that this is a later version of Spark than what is currently used in DAP at the ONS. Therefore there will be some small differences between what you see in your application's UI and that documented in the above link. \n",
    "\n",
    "The documentation runs through the different pages of the Spark UI with screenshots and a brief description of the various elements. It's a good place to start and useful for finding definitions. For example, if you want to know what *Scheduler delay* means, search for this term on the docs page and you will find \n",
    "\n",
    ">**Scheduler delay** is the time the task waits to be scheduled for execution\n",
    "\n",
    "#### Moving data outside Spark\n",
    "\n",
    "Note that in our case using the Data Access Platform (DAP) we could call the *driver* here *CDSW session*, but we'll use driver to be consistent with other material in this book.\n",
    "\n",
    "What can the Spark UI tell us about the processing of Pandas/R DataFrames? Let's investigate by \n",
    "1. aggregate the `rescue` DataFrame\n",
    "2. use [`.toPandas()`](https://spark.apache.org/docs/latest/api/python/reference/api/pyspark.sql.DataFrame.toPandas.html)/`collect()` to move the data to the driver\n",
    "3. make a plot of the aggregated data\n",
    "4. check the Spark UI\n",
    "\n",
    "First step is to aggregate the data, we'll find the count of incidents in each `cost_group`. We will distinguish between the Spark and Pandas/R DataFrames using `_spark` or `_pandas`/`_r` as suffixes respectively."
   ]
  },
  {
   "cell_type": "code",
   "execution_count": 5,
   "metadata": {},
   "outputs": [
    {
     "data": {
      "text/html": [
       "<div>\n",
       "<style scoped>\n",
       "    .dataframe tbody tr th:only-of-type {\n",
       "        vertical-align: middle;\n",
       "    }\n",
       "\n",
       "    .dataframe tbody tr th {\n",
       "        vertical-align: top;\n",
       "    }\n",
       "\n",
       "    .dataframe thead th {\n",
       "        text-align: right;\n",
       "    }\n",
       "</style>\n",
       "<table border=\"1\" class=\"dataframe\">\n",
       "  <thead>\n",
       "    <tr style=\"text-align: right;\">\n",
       "      <th></th>\n",
       "      <th>cost_group</th>\n",
       "      <th>count</th>\n",
       "    </tr>\n",
       "  </thead>\n",
       "  <tbody>\n",
       "    <tr>\n",
       "      <th>0</th>\n",
       "      <td>None</td>\n",
       "      <td>82</td>\n",
       "    </tr>\n",
       "    <tr>\n",
       "      <th>1</th>\n",
       "      <td>medium</td>\n",
       "      <td>2045</td>\n",
       "    </tr>\n",
       "    <tr>\n",
       "      <th>2</th>\n",
       "      <td>small</td>\n",
       "      <td>3691</td>\n",
       "    </tr>\n",
       "    <tr>\n",
       "      <th>3</th>\n",
       "      <td>large</td>\n",
       "      <td>80</td>\n",
       "    </tr>\n",
       "  </tbody>\n",
       "</table>\n",
       "</div>"
      ],
      "text/plain": [
       "  cost_group  count\n",
       "0       None     82\n",
       "1     medium   2045\n",
       "2      small   3691\n",
       "3      large     80"
      ]
     },
     "execution_count": 5,
     "metadata": {},
     "output_type": "execute_result"
    }
   ],
   "source": [
    "aggregated_spark = rescue.groupBy(\"cost_group\").agg(F.count(\"incident_number\").alias(\"count\"))\n",
    "\n",
    "aggregated_pandas = aggregated_spark.toPandas()\n",
    "\n",
    "aggregated_pandas"
   ]
  },
  {
   "cell_type": "markdown",
   "metadata": {},
   "source": [
    "```r\n",
    "aggregated_spark <- rescue %>% \n",
    "    dplyr::group_by(cost_group) %>%\n",
    "    dplyr::summarise(count=n())\n",
    "\n",
    "aggregated_r <- aggregated_spark %>% sparklyr::collect()\n",
    "\n",
    "aggregated_r\n",
    "```"
   ]
  },
  {
   "cell_type": "code",
   "execution_count": 6,
   "metadata": {},
   "outputs": [
    {
     "data": {
      "text/plain": [
       "<matplotlib.axes._subplots.AxesSubplot at 0x7fc7dd4c2a58>"
      ]
     },
     "execution_count": 6,
     "metadata": {},
     "output_type": "execute_result"
    }
   ],
   "source": [
    "aggregated_pandas_plot = (\n",
    "    aggregated_pandas.fillna(\"missing\")\n",
    "    .set_index(\"cost_group\")\n",
    "    .loc[[\"large\", \"medium\", \"small\", \"missing\"]]\n",
    ")\n",
    "\n",
    "aggregated_pandas_plot.plot(kind=\"bar\")"
   ]
  },
  {
   "cell_type": "markdown",
   "metadata": {},
   "source": [
    "```r\n",
    "aggregated_r_plot <- aggregated_r %>% dplyr::arrange(desc(cost_group))\n",
    "\n",
    "ggplot2::ggplot(aggregated_r_plot, ggplot2::aes(cost_group, count)) +\n",
    "    ggplot2::geom_bar(stat=\"identity\")\n",
    "```"
   ]
  },
  {
   "cell_type": "markdown",
   "metadata": {},
   "source": [
    "```{figure} ../images/spark_app_incident_cost_chart.png\n",
    "---\n",
    "width: 100%\n",
    "name: IncidentCostChart\n",
    "alt: Simple bar chart of animal rescue incident cost by cost group chart\n",
    "---\n",
    "Animal rescue incident cost by cost group\n",
    "```\n",
    "\n",
    "Now we have our chart, let's see how that translates to tasks in the Spark UI.\n",
    "\n",
    "There is a job for `.toPandas()`/`collect()`, but nothing after that for the plot. Why? \n",
    "\n",
    "The plotting was done in Pandas/R and so Spark was not involved at all. We therefore don't expect the Spark UI to show anything that represents those processes.\n",
    "\n",
    "### Improving performance\n",
    "\n",
    "Finally, let's take a look at the stages and tasks for the latest job in the Spark UI and have and see an example of identifying a performance issue, how to solving it, and finding evidence of improvement.\n",
    "\n",
    "The `.toPandas()`/`collect()` job has two stages because the `.groupBy()`[`.agg()`](https://spark.apache.org/docs/latest/api/python/reference/api/pyspark.sql.DataFrame.agg.html)/`group_by() %>% `[`summarise()`](https://dplyr.tidyverse.org/reference/summarise.html) command is a wide transformation. In the first stage the data is read in, a new column added and then the dataset is aggregated. This stage has 2 tasks because the `rescue` DataFrame has 2 partitions. The second stage in this job moves the data from the cluster to the CDSW session. This stage has 200 tasks, because `aggregated_spark` has 200 partitions, more on why this is the case in the [Partitions](../spark-concepts/partitions). A screenshot of the *Stage details* for these tasks is below.\n",
    "\n",
    "```{figure} ../images/spark_app_200_tasks.png\n",
    "---\n",
    "width: 100%\n",
    "name: TaskInfo200\n",
    "alt: Task information, such as processing time and scheduling time, showing relatively poor performance due to over-partitioning a small DataFrame\n",
    "---\n",
    "Task information showing relatively poor performance\n",
    "```\n",
    "\n",
    "As we're running in local mode with 2 cores (or threads), the processing of these 200 tasks took place on the driver. The tasks seem to show relatively poor performance, which is indicated by the non-green colours in the timeline. Also by comparing the *Duration* (useful processing time) metrics with that of *Scheduler Delay* and *Task Deserialization Time* in the *Summary Metrics* table. Would we get better performance if the `aggregated_spark` DataFrame had fewer partitions? Let's try to improve the performance by reducing the number of partitions from 200 to 2 with [`.coalesce()`](https://spark.apache.org/docs/latest/api/python/reference/api/pyspark.sql.DataFrame.coalesce.html)/[`sdf_coalesce()`](https://spark.rstudio.com/packages/sparklyr/latest/reference/sdf_coalesce.html):"
   ]
  },
  {
   "cell_type": "code",
   "execution_count": 7,
   "metadata": {},
   "outputs": [],
   "source": [
    "aggregated_spark = rescue.groupBy(\"cost_group\").agg(F.count(\"incident_number\").alias(\"count\")).coalesce(2)\n",
    "aggregated_pandas = aggregated_spark.toPandas()"
   ]
  },
  {
   "cell_type": "markdown",
   "metadata": {},
   "source": [
    "```r\n",
    "aggregated_spark <- rescue %>% \n",
    "    dplyr::group_by(cost_group) %>%\n",
    "    dplyr::summarise(count=n()) %>%\n",
    "    sparklyr::sdf_coalesce(2)\n",
    "\n",
    "                                    \n",
    "aggregated_r <- aggregated_spark %>% \n",
    "    sparklyr::collect()\n",
    "```"
   ]
  },
  {
   "cell_type": "markdown",
   "metadata": {},
   "source": [
    "Now navigate to the details of the latter stage of the latest job within the UI and you will see something similar to the screenshot below. Of course, the all important metric to compare is the time taken to complete the stage. Previously, using 200 partitions the stage time was 0.6 seconds, using 2 partitions the stage time was 0.3 seconds. Looking at this page we can see why.\n",
    "\n",
    "```{figure} ../images/spark_app_2_tasks.png\n",
    "---\n",
    "width: 100%\n",
    "name: TaskInfo2\n",
    "alt: Task timeline for processing fewer (but larger) partitions and hence fewer tasks, showing improved performance\n",
    "---\n",
    "Task information showing improved performance\n",
    "```\n",
    "\n",
    "Note that a 0.3s improvement is nothing to brag about, but a x2 processing speed isn't bad.\n",
    "\n",
    "Again, the processing took place on the driver with 2 cores, but this time there was one task per core. There's much more green visible in this timeline and comparing *Scheduler Delay* and *Task Deserialization Time* with *Duration* in the *Summary Metrics* tells a very different story.\n",
    "\n",
    "The important point is that we are processing a small amount of data and therefore should reduce the partitioning. With 200 partitions a lot of time was spent scheduling tasks and (de)serializing data. By putting our small DataFrame into fewer partitions we spent more time on useful processing and decreased the overall processing time.\n",
    "\n",
    "### Summary\n",
    "\n",
    "**Spark application hierarchy**\n",
    "\n",
    "    - Application \n",
    "        - Job \n",
    "            - Stage \n",
    "                - Task\n",
    "\n",
    "\n",
    "**Use the Spark UI to**\n",
    "- debug slow or crashing applications\n",
    "- investigate what Spark is doing \"under the hood\"\n",
    "\n",
    "\n",
    "**Tips**\n",
    "- Look out for task colours, green is generally good\n",
    "- Use online documentation for more information about the UI\n",
    "- Lots of small partitions is an inefficient strategy to process data\n",
    "- Matching up the executed code with the job number in the UI is difficult, the description starts with the action used to initiate that job. You can also customise the job description to track jobs easier. See the article on [Set Spark Job Description](../spark-functions/job-description) for more information.\n",
    "\n",
    "### Further Resources\n",
    "\n",
    "Spark at the ONS Articles:\n",
    "- [Partitions](../spark-concepts/partitions)\n",
    "- [Shuffling](../spark-concepts/shuffling)\n",
    "- [Persisting](../spark-concepts/persistence)\n",
    "- [Optimising Joins](../spark-concepts/join-concepts)\n",
    "- [Garbage Collection](../spark-concepts/garbage-collection)\n",
    "- [Set Spark Job Description](../spark-functions/job-description) \n",
    "\n",
    "PySpark Documentation:\n",
    "- [`SparkSession`](https://spark.apache.org/docs/latest/api/python/reference/api/pyspark.sql.SparkSession.html)\n",
    "- [`.count()`](https://spark.apache.org/docs/latest/api/python/reference/api/pyspark.sql.DataFrame.count.html)\n",
    "- [`.groupBy()`](https://spark.apache.org/docs/latest/api/python/reference/api/pyspark.sql.DataFrame.groupBy.html)\n",
    "- [`.join()`](https://spark.apache.org/docs/latest/api/python/reference/api/pyspark.sql.DataFrame.join.html)\n",
    "- [`spark.stop()`](https://spark.apache.org/docs/latest/api/python/reference/api/pyspark.sql.SparkSession.stop.html)\n",
    "- [`.show()`](https://spark.apache.org/docs/latest/api/python/reference/api/pyspark.sql.DataFrame.show.html)\n",
    "- [`.toPandas()`](https://spark.apache.org/docs/latest/api/python/reference/api/pyspark.sql.DataFrame.toPandas.html)\n",
    "- [`.agg()`](https://spark.apache.org/docs/latest/api/python/reference/api/pyspark.sql.DataFrame.agg.html)\n",
    "- [`.coalesce()`](https://spark.apache.org/docs/latest/api/python/reference/api/pyspark.sql.DataFrame.coalesce.html)\n",
    "\n",
    "sparklyr and tidyverse Documentation:\n",
    "- [`spark_connect()` and `spark_disconnect()`](https://spark.rstudio.com/packages/sparklyr/latest/reference/spark-connections.html)\n",
    "- [`group_by()`](https://dplyr.tidyverse.org/reference/group_by.html)\n",
    "- [`left_join()`](https://spark.rstudio.com/packages/sparklyr/latest/reference/join.tbl_spark.html)\n",
    "- [`sdf_nrow()`](https://spark.rstudio.com/packages/sparklyr/latest/reference/sdf_dim.html)\n",
    "- [`collect()`](https://dplyr.tidyverse.org/reference/compute.html)\n",
    "- [`summarise()`](https://dplyr.tidyverse.org/reference/summarise.html)\n",
    "- [`sdf_coalesce()`](https://spark.rstudio.com/packages/sparklyr/latest/reference/sdf_coalesce.html)\n",
    "\n",
    "Spark documentation:\n",
    "- [Monitoring and Instrumentation](https://spark.apache.org/docs/latest/monitoring.html)\n",
    "- [Spark Web UI](https://spark.apache.org/docs/latest/web-ui.html)"
   ]
  }
 ],
 "metadata": {
  "kernelspec": {
   "display_name": "Python 3",
   "language": "python",
   "name": "python3"
  },
  "language_info": {
   "codemirror_mode": {
    "name": "ipython",
    "version": 3
   },
   "file_extension": ".py",
   "mimetype": "text/x-python",
   "name": "python",
   "nbconvert_exporter": "python",
   "pygments_lexer": "ipython3",
   "version": "3.6.8"
  }
 },
 "nbformat": 4,
 "nbformat_minor": 4
}
