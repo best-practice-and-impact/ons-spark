{
 "cells": [
  {
   "cell_type": "markdown",
   "metadata": {},
   "source": [
    "## Date functions\n",
    "\n",
    "Handling dates is tricky in most programming languages, and Spark is no exception. This article gives examples of a few date functions, including interval, which is not well documented in PySpark. This page was written in December and so we have decided to make our examples festive! Note that this is far from exhaustive; see the links in Further Resources for more information which explain dates in more detail. To demonstrate the date functions we first need to start a Spark session and read in the Animal Rescue data:\n",
    "\n"
   ]
  },
  {
   "cell_type": "code",
   "execution_count": 1,
   "metadata": {},
   "outputs": [
    {
     "data": {
      "text/html": [
       "<div>\n",
       "<style scoped>\n",
       "    .dataframe tbody tr th:only-of-type {\n",
       "        vertical-align: middle;\n",
       "    }\n",
       "\n",
       "    .dataframe tbody tr th {\n",
       "        vertical-align: top;\n",
       "    }\n",
       "\n",
       "    .dataframe thead th {\n",
       "        text-align: right;\n",
       "    }\n",
       "</style>\n",
       "<table border=\"1\" class=\"dataframe\">\n",
       "  <thead>\n",
       "    <tr style=\"text-align: right;\">\n",
       "      <th></th>\n",
       "      <th>incident_number</th>\n",
       "      <th>date_time_of_call</th>\n",
       "    </tr>\n",
       "  </thead>\n",
       "  <tbody>\n",
       "    <tr>\n",
       "      <th>0</th>\n",
       "      <td>139091</td>\n",
       "      <td>01/01/2009 03:01</td>\n",
       "    </tr>\n",
       "    <tr>\n",
       "      <th>1</th>\n",
       "      <td>275091</td>\n",
       "      <td>01/01/2009 08:51</td>\n",
       "    </tr>\n",
       "    <tr>\n",
       "      <th>2</th>\n",
       "      <td>2075091</td>\n",
       "      <td>04/01/2009 10:07</td>\n",
       "    </tr>\n",
       "    <tr>\n",
       "      <th>3</th>\n",
       "      <td>2872091</td>\n",
       "      <td>05/01/2009 12:27</td>\n",
       "    </tr>\n",
       "    <tr>\n",
       "      <th>4</th>\n",
       "      <td>3553091</td>\n",
       "      <td>06/01/2009 15:23</td>\n",
       "    </tr>\n",
       "  </tbody>\n",
       "</table>\n",
       "</div>"
      ],
      "text/plain": [
       "  incident_number date_time_of_call\n",
       "0          139091  01/01/2009 03:01\n",
       "1          275091  01/01/2009 08:51\n",
       "2         2075091  04/01/2009 10:07\n",
       "3         2872091  05/01/2009 12:27\n",
       "4         3553091  06/01/2009 15:23"
      ]
     },
     "execution_count": 1,
     "metadata": {},
     "output_type": "execute_result"
    }
   ],
   "source": [
    "from pyspark.sql import SparkSession, functions as F\n",
    "\n",
    "spark = SparkSession.builder.master(\"local[2]\").appName(\"date-functions\").getOrCreate()\n",
    "\n",
    "rescue = (spark.read.csv(\"/training/animal_rescue.csv\", header=True, inferSchema=True)\n",
    "          .withColumnRenamed(\"IncidentNumber\", \"incident_number\")\n",
    "          .withColumnRenamed(\"DateTimeOfCall\", \"date_time_of_call\")\n",
    "          .select(\"incident_number\", \"date_time_of_call\"))\n",
    "\n",
    "rescue.limit(5).toPandas()"
   ]
  },
  {
   "cell_type": "markdown",
   "metadata": {},
   "source": [
    "```r \n",
    "\n",
    "library(sparklyr)\n",
    "library(dplyr)\n",
    "\n",
    "default_config <- sparklyr::spark_config()\n",
    "\n",
    "sc <- sparklyr::spark_connect(\n",
    "    master = \"local[2]\",\n",
    "    app_name = \"date-functions\",\n",
    "    config = default_config)\n",
    "\n",
    "rescue <- sparklyr::spark_read_csv(\n",
    "    sc,\n",
    "    path=\"/training/animal_rescue.csv\", \n",
    "    header=TRUE,\n",
    "    infer_schema=TRUE) %>%\n",
    "    rename(\n",
    "        incident_number = IncidentNumber,\n",
    "        date_time_of_call = DateTimeOfCall,\n",
    "       )  %>%\n",
    "    select(incident_number, date_time_of_call)\n",
    "\n",
    "rescue\n",
    "```"
   ]
  },
  {
   "cell_type": "markdown",
   "metadata": {},
   "source": [
    "The `date_time_of_call` column contains dates and times, but is actually a string. From the R output we can check that under the column name the data type is `char`,\n",
    "which stands for `character`  and is used for storing string or character values in a variable. To get the same insights in `PySpark` we need to print the schema:\n"
   ]
  },
  {
   "cell_type": "code",
   "execution_count": 2,
   "metadata": {},
   "outputs": [
    {
     "name": "stdout",
     "output_type": "stream",
     "text": [
      "root\n",
      " |-- incident_number: string (nullable = true)\n",
      " |-- date_time_of_call: string (nullable = true)\n",
      "\n"
     ]
    }
   ],
   "source": [
    "rescue.printSchema()\n"
   ]
  },
  {
   "cell_type": "markdown",
   "metadata": {},
   "source": [
    "### Convert string to date with `to_date()`\n",
    "\n",
    "Before using any date functions we want to change the `date_time_of_call` column to a `date` type, omitting the time, using [`F.to_date()`](https://spark.apache.org/docs/2.4.0/api/python/pyspark.sql.html#pyspark.sql.functions.to_date).\n",
    "\n",
    " This has two arguments, the name of the column and the date format, `dd/MM/yyyy` in this example:\n"
   ]
  },
  {
   "cell_type": "code",
   "execution_count": 3,
   "metadata": {},
   "outputs": [
    {
     "data": {
      "text/html": [
       "<div>\n",
       "<style scoped>\n",
       "    .dataframe tbody tr th:only-of-type {\n",
       "        vertical-align: middle;\n",
       "    }\n",
       "\n",
       "    .dataframe tbody tr th {\n",
       "        vertical-align: top;\n",
       "    }\n",
       "\n",
       "    .dataframe thead th {\n",
       "        text-align: right;\n",
       "    }\n",
       "</style>\n",
       "<table border=\"1\" class=\"dataframe\">\n",
       "  <thead>\n",
       "    <tr style=\"text-align: right;\">\n",
       "      <th></th>\n",
       "      <th>incident_number</th>\n",
       "      <th>date_of_call</th>\n",
       "    </tr>\n",
       "  </thead>\n",
       "  <tbody>\n",
       "    <tr>\n",
       "      <th>0</th>\n",
       "      <td>139091</td>\n",
       "      <td>2009-01-01</td>\n",
       "    </tr>\n",
       "    <tr>\n",
       "      <th>1</th>\n",
       "      <td>275091</td>\n",
       "      <td>2009-01-01</td>\n",
       "    </tr>\n",
       "    <tr>\n",
       "      <th>2</th>\n",
       "      <td>2075091</td>\n",
       "      <td>2009-01-04</td>\n",
       "    </tr>\n",
       "    <tr>\n",
       "      <th>3</th>\n",
       "      <td>2872091</td>\n",
       "      <td>2009-01-05</td>\n",
       "    </tr>\n",
       "    <tr>\n",
       "      <th>4</th>\n",
       "      <td>3553091</td>\n",
       "      <td>2009-01-06</td>\n",
       "    </tr>\n",
       "  </tbody>\n",
       "</table>\n",
       "</div>"
      ],
      "text/plain": [
       "  incident_number date_of_call\n",
       "0          139091   2009-01-01\n",
       "1          275091   2009-01-01\n",
       "2         2075091   2009-01-04\n",
       "3         2872091   2009-01-05\n",
       "4         3553091   2009-01-06"
      ]
     },
     "execution_count": 3,
     "metadata": {},
     "output_type": "execute_result"
    }
   ],
   "source": [
    "rescue = rescue.withColumn(\"date_of_call\", F.to_date(\"date_time_of_call\", \"dd/MM/yyyy\")).drop(\"date_time_of_call\")\n",
    "rescue.limit(5).toPandas()"
   ]
  },
  {
   "cell_type": "markdown",
   "metadata": {},
   "source": [
    "```r \n",
    "rescue <- rescue %>% mutate(date_of_call = to_date(date_time_of_call, \"dd/MM/yyyy\"))  %>% \n",
    "      select(-c(date_time_of_call))\n",
    "\n",
    "print(rescue, n = 5)\n",
    "```"
   ]
  },
  {
   "cell_type": "markdown",
   "metadata": {},
   "source": [
    "From the R output we can confirm that indeed `date_of_call` column is a `date` data type. For `PySpark` we must print the schema to confirm that.\n"
   ]
  },
  {
   "cell_type": "code",
   "execution_count": 4,
   "metadata": {},
   "outputs": [
    {
     "name": "stdout",
     "output_type": "stream",
     "text": [
      "root\n",
      " |-- incident_number: string (nullable = true)\n",
      " |-- date_of_call: date (nullable = true)\n",
      "\n"
     ]
    }
   ],
   "source": [
    "rescue.printSchema()\n"
   ]
  },
  {
   "cell_type": "markdown",
   "metadata": {},
   "source": [
    "### Format dates with `F.date_format()`\n"
   ]
  },
  {
   "cell_type": "code",
   "execution_count": 5,
   "metadata": {},
   "outputs": [
    {
     "data": {
      "text/html": [
       "<div>\n",
       "<style scoped>\n",
       "    .dataframe tbody tr th:only-of-type {\n",
       "        vertical-align: middle;\n",
       "    }\n",
       "\n",
       "    .dataframe tbody tr th {\n",
       "        vertical-align: top;\n",
       "    }\n",
       "\n",
       "    .dataframe thead th {\n",
       "        text-align: right;\n",
       "    }\n",
       "</style>\n",
       "<table border=\"1\" class=\"dataframe\">\n",
       "  <thead>\n",
       "    <tr style=\"text-align: right;\">\n",
       "      <th></th>\n",
       "      <th>incident_number</th>\n",
       "      <th>date_of_call</th>\n",
       "      <th>call_month_day</th>\n",
       "    </tr>\n",
       "  </thead>\n",
       "  <tbody>\n",
       "    <tr>\n",
       "      <th>0</th>\n",
       "      <td>139091</td>\n",
       "      <td>2009-01-01</td>\n",
       "      <td>Jan-01</td>\n",
       "    </tr>\n",
       "    <tr>\n",
       "      <th>1</th>\n",
       "      <td>275091</td>\n",
       "      <td>2009-01-01</td>\n",
       "      <td>Jan-01</td>\n",
       "    </tr>\n",
       "    <tr>\n",
       "      <th>2</th>\n",
       "      <td>2075091</td>\n",
       "      <td>2009-01-04</td>\n",
       "      <td>Jan-04</td>\n",
       "    </tr>\n",
       "    <tr>\n",
       "      <th>3</th>\n",
       "      <td>2872091</td>\n",
       "      <td>2009-01-05</td>\n",
       "      <td>Jan-05</td>\n",
       "    </tr>\n",
       "    <tr>\n",
       "      <th>4</th>\n",
       "      <td>3553091</td>\n",
       "      <td>2009-01-06</td>\n",
       "      <td>Jan-06</td>\n",
       "    </tr>\n",
       "  </tbody>\n",
       "</table>\n",
       "</div>"
      ],
      "text/plain": [
       "  incident_number date_of_call call_month_day\n",
       "0          139091   2009-01-01         Jan-01\n",
       "1          275091   2009-01-01         Jan-01\n",
       "2         2075091   2009-01-04         Jan-04\n",
       "3         2872091   2009-01-05         Jan-05\n",
       "4         3553091   2009-01-06         Jan-06"
      ]
     },
     "execution_count": 5,
     "metadata": {},
     "output_type": "execute_result"
    }
   ],
   "source": [
    "rescue = rescue.withColumn(\"call_month_day\", F.date_format(\"date_of_call\", \"MMM-dd\"))\n",
    "\n",
    "rescue.limit(5).toPandas()"
   ]
  },
  {
   "cell_type": "markdown",
   "metadata": {},
   "source": [
    "```r\n",
    "rescue <- rescue %>%\n",
    "  mutate(call_month_day = date_format(date_of_call, \"MMM-dd\"))\n",
    "\n",
    "print(rescue, n = 5)\n",
    "```"
   ]
  },
  {
   "cell_type": "markdown",
   "metadata": {},
   "source": [
    "If only one component of the date is required then there are specific functions: `F.year()`, `F.month()` and `F.dayofmonth()`; in theory these should be more efficient than `F.date_format()`, although less elegant to write if being combined. For `sparklyr` we can achieve the same result by applying `year()`, `month()`, `dayofmonth()` with `mutate()`.\n",
    " Now create a new DataFrame containing some festive days:"
   ]
  },
  {
   "cell_type": "code",
   "execution_count": 6,
   "metadata": {},
   "outputs": [
    {
     "data": {
      "text/html": [
       "<div>\n",
       "<style scoped>\n",
       "    .dataframe tbody tr th:only-of-type {\n",
       "        vertical-align: middle;\n",
       "    }\n",
       "\n",
       "    .dataframe tbody tr th {\n",
       "        vertical-align: top;\n",
       "    }\n",
       "\n",
       "    .dataframe thead th {\n",
       "        text-align: right;\n",
       "    }\n",
       "</style>\n",
       "<table border=\"1\" class=\"dataframe\">\n",
       "  <thead>\n",
       "    <tr style=\"text-align: right;\">\n",
       "      <th></th>\n",
       "      <th>month_day</th>\n",
       "      <th>festive_day</th>\n",
       "    </tr>\n",
       "  </thead>\n",
       "  <tbody>\n",
       "    <tr>\n",
       "      <th>0</th>\n",
       "      <td>Dec-24</td>\n",
       "      <td>Christmas Eve</td>\n",
       "    </tr>\n",
       "    <tr>\n",
       "      <th>1</th>\n",
       "      <td>Dec-25</td>\n",
       "      <td>Christmas Day</td>\n",
       "    </tr>\n",
       "    <tr>\n",
       "      <th>2</th>\n",
       "      <td>Dec-26</td>\n",
       "      <td>Boxing Day</td>\n",
       "    </tr>\n",
       "    <tr>\n",
       "      <th>3</th>\n",
       "      <td>Jan-01</td>\n",
       "      <td>New Years Day</td>\n",
       "    </tr>\n",
       "  </tbody>\n",
       "</table>\n",
       "</div>"
      ],
      "text/plain": [
       "  month_day    festive_day\n",
       "0    Dec-24  Christmas Eve\n",
       "1    Dec-25  Christmas Day\n",
       "2    Dec-26     Boxing Day\n",
       "3    Jan-01  New Years Day"
      ]
     },
     "execution_count": 6,
     "metadata": {},
     "output_type": "execute_result"
    }
   ],
   "source": [
    "festive_days = spark.createDataFrame([\n",
    "    [\"Dec-24\", \"Christmas Eve\"],\n",
    "    [\"Dec-25\", \"Christmas Day\"],\n",
    "    [\"Dec-26\", \"Boxing Day\"],\n",
    "    [\"Jan-01\", \"New Years Day\"]],\n",
    "    [\"month_day\", \"festive_day\"])\n",
    "\n",
    "festive_days.toPandas()"
   ]
  },
  {
   "cell_type": "markdown",
   "metadata": {},
   "source": [
    "```r\n",
    "\n",
    "festive_days <- data.frame(\n",
    "  \"month_day\" = c(\"Dec-24\",\"Dec-25\",\"Dec-26\",\"Jan-01\"),\n",
    "  \"festive_day\" =c(\"Christmas Eve\",\"Christmas Day\",\"Boxing Day\",\"New Years Day\"))\n",
    "\n",
    "festive_days <- copy_to(sc,festive_days)\n",
    "\n",
    "festive_days\n",
    "```"
   ]
  },
  {
   "cell_type": "markdown",
   "metadata": {},
   "source": [
    "Use an inner join to return a list of rescue incidents on these festive days:\n"
   ]
  },
  {
   "cell_type": "code",
   "execution_count": 7,
   "metadata": {},
   "outputs": [
    {
     "data": {
      "text/html": [
       "<div>\n",
       "<style scoped>\n",
       "    .dataframe tbody tr th:only-of-type {\n",
       "        vertical-align: middle;\n",
       "    }\n",
       "\n",
       "    .dataframe tbody tr th {\n",
       "        vertical-align: top;\n",
       "    }\n",
       "\n",
       "    .dataframe thead th {\n",
       "        text-align: right;\n",
       "    }\n",
       "</style>\n",
       "<table border=\"1\" class=\"dataframe\">\n",
       "  <thead>\n",
       "    <tr style=\"text-align: right;\">\n",
       "      <th></th>\n",
       "      <th>incident_number</th>\n",
       "      <th>date_of_call</th>\n",
       "      <th>festive_day</th>\n",
       "    </tr>\n",
       "  </thead>\n",
       "  <tbody>\n",
       "    <tr>\n",
       "      <th>0</th>\n",
       "      <td>179370-24122018</td>\n",
       "      <td>2018-12-24</td>\n",
       "      <td>Christmas Eve</td>\n",
       "    </tr>\n",
       "    <tr>\n",
       "      <th>1</th>\n",
       "      <td>179212-24122018</td>\n",
       "      <td>2018-12-24</td>\n",
       "      <td>Christmas Eve</td>\n",
       "    </tr>\n",
       "    <tr>\n",
       "      <th>2</th>\n",
       "      <td>173626-24122016</td>\n",
       "      <td>2016-12-24</td>\n",
       "      <td>Christmas Eve</td>\n",
       "    </tr>\n",
       "    <tr>\n",
       "      <th>3</th>\n",
       "      <td>171323141</td>\n",
       "      <td>2014-12-24</td>\n",
       "      <td>Christmas Eve</td>\n",
       "    </tr>\n",
       "    <tr>\n",
       "      <th>4</th>\n",
       "      <td>171286141</td>\n",
       "      <td>2014-12-24</td>\n",
       "      <td>Christmas Eve</td>\n",
       "    </tr>\n",
       "  </tbody>\n",
       "</table>\n",
       "</div>"
      ],
      "text/plain": [
       "   incident_number date_of_call    festive_day\n",
       "0  179370-24122018   2018-12-24  Christmas Eve\n",
       "1  179212-24122018   2018-12-24  Christmas Eve\n",
       "2  173626-24122016   2016-12-24  Christmas Eve\n",
       "3        171323141   2014-12-24  Christmas Eve\n",
       "4        171286141   2014-12-24  Christmas Eve"
      ]
     },
     "execution_count": 7,
     "metadata": {},
     "output_type": "execute_result"
    }
   ],
   "source": [
    "festive_rescues = (rescue\n",
    "                   .join(festive_days, on=rescue.call_month_day == festive_days.month_day, how=\"inner\")\n",
    "                   .drop(\"call_month_day\", \"month_day\"))\n",
    "\n",
    "festive_rescues.limit(5).toPandas()"
   ]
  },
  {
   "cell_type": "markdown",
   "metadata": {},
   "source": [
    "```r\n",
    "festive_rescues <- inner_join(rescue, festive_days,by = c(\"call_month_day\" = \"month_day\"))  %>% \n",
    "  select(-c(call_month_day,call_month_day))\n",
    "\n",
    "print(festive_rescues, n = 5 )\n",
    "\n",
    "```"
   ]
  },
  {
   "cell_type": "markdown",
   "metadata": {},
   "source": [
    "We can now get the number of animal rescue incidents on each festive day:\n"
   ]
  },
  {
   "cell_type": "code",
   "execution_count": 8,
   "metadata": {},
   "outputs": [
    {
     "data": {
      "text/html": [
       "<div>\n",
       "<style scoped>\n",
       "    .dataframe tbody tr th:only-of-type {\n",
       "        vertical-align: middle;\n",
       "    }\n",
       "\n",
       "    .dataframe tbody tr th {\n",
       "        vertical-align: top;\n",
       "    }\n",
       "\n",
       "    .dataframe thead th {\n",
       "        text-align: right;\n",
       "    }\n",
       "</style>\n",
       "<table border=\"1\" class=\"dataframe\">\n",
       "  <thead>\n",
       "    <tr style=\"text-align: right;\">\n",
       "      <th></th>\n",
       "      <th>date_of_call</th>\n",
       "      <th>festive_day</th>\n",
       "      <th>count</th>\n",
       "    </tr>\n",
       "  </thead>\n",
       "  <tbody>\n",
       "    <tr>\n",
       "      <th>0</th>\n",
       "      <td>2009-01-01</td>\n",
       "      <td>New Years Day</td>\n",
       "      <td>2</td>\n",
       "    </tr>\n",
       "    <tr>\n",
       "      <th>1</th>\n",
       "      <td>2009-12-24</td>\n",
       "      <td>Christmas Eve</td>\n",
       "      <td>1</td>\n",
       "    </tr>\n",
       "    <tr>\n",
       "      <th>2</th>\n",
       "      <td>2009-12-25</td>\n",
       "      <td>Christmas Day</td>\n",
       "      <td>1</td>\n",
       "    </tr>\n",
       "    <tr>\n",
       "      <th>3</th>\n",
       "      <td>2009-12-26</td>\n",
       "      <td>Boxing Day</td>\n",
       "      <td>2</td>\n",
       "    </tr>\n",
       "    <tr>\n",
       "      <th>4</th>\n",
       "      <td>2010-01-01</td>\n",
       "      <td>New Years Day</td>\n",
       "      <td>2</td>\n",
       "    </tr>\n",
       "    <tr>\n",
       "      <th>5</th>\n",
       "      <td>2010-12-24</td>\n",
       "      <td>Christmas Eve</td>\n",
       "      <td>3</td>\n",
       "    </tr>\n",
       "    <tr>\n",
       "      <th>6</th>\n",
       "      <td>2010-12-25</td>\n",
       "      <td>Christmas Day</td>\n",
       "      <td>1</td>\n",
       "    </tr>\n",
       "    <tr>\n",
       "      <th>7</th>\n",
       "      <td>2010-12-26</td>\n",
       "      <td>Boxing Day</td>\n",
       "      <td>3</td>\n",
       "    </tr>\n",
       "    <tr>\n",
       "      <th>8</th>\n",
       "      <td>2011-01-01</td>\n",
       "      <td>New Years Day</td>\n",
       "      <td>2</td>\n",
       "    </tr>\n",
       "    <tr>\n",
       "      <th>9</th>\n",
       "      <td>2011-12-24</td>\n",
       "      <td>Christmas Eve</td>\n",
       "      <td>2</td>\n",
       "    </tr>\n",
       "  </tbody>\n",
       "</table>\n",
       "</div>"
      ],
      "text/plain": [
       "  date_of_call    festive_day  count\n",
       "0   2009-01-01  New Years Day      2\n",
       "1   2009-12-24  Christmas Eve      1\n",
       "2   2009-12-25  Christmas Day      1\n",
       "3   2009-12-26     Boxing Day      2\n",
       "4   2010-01-01  New Years Day      2\n",
       "5   2010-12-24  Christmas Eve      3\n",
       "6   2010-12-25  Christmas Day      1\n",
       "7   2010-12-26     Boxing Day      3\n",
       "8   2011-01-01  New Years Day      2\n",
       "9   2011-12-24  Christmas Eve      2"
      ]
     },
     "execution_count": 8,
     "metadata": {},
     "output_type": "execute_result"
    }
   ],
   "source": [
    "festive_rescues.groupBy(\"date_of_call\", \"festive_day\").count().orderBy(\"date_of_call\").limit(10).toPandas()"
   ]
  },
  {
   "cell_type": "markdown",
   "metadata": {},
   "source": [
    "```r \n",
    "festive_rescues %>% \n",
    "  group_by(date_of_call,festive_day) %>%\n",
    "  summarize(count = n()) %>% \n",
    "  arrange(date_of_call) %>%\n",
    "  print(n = 10)\n",
    "```"
   ]
  },
  {
   "cell_type": "markdown",
   "metadata": {},
   "source": [
    "### Add and subtract dates with `interval`\n",
    "\n",
    "The `interval` function adds or subtracts days, months and years to a date. Despite being a very useful function it is unfortunately poorly documented within PySpark. `interval` is not contained in the PySpark functions module, and needs to be wrapped in [`F.expr()`](https://spark.apache.org/docs/2.4.0/api/python/pyspark.sql.html#pyspark.sql.functions.expr). The most common format is:\n",
    "\n",
    "`F.expr(\"column_name + interval y years m months d days\")`\n",
    "\n",
    "We can apply the same expression in sparklyr by leveraging the [`sql()`](https://dplyr.tidyverse.org/reference/sql.html#:~:text=These%20functions%20are%20critical%20when,and%20return%20an%20sql%20object.) function.\n",
    "\n",
    "The PySpark functions module contains `F.date_add()`, `F.date_sub()` and `F.add_months()`. These functions are not the easiest to remember as they are inconsistently named, and there is no function for adding years; you can create your own by multiplying `F.add_months()` by `12`. `interval` is easier to use and a better choice in most circumstances.\n",
    "\n",
    "For instance, if we assume that a report has to be produced for each animal rescue incident within a year and three months, then we can use `interval 1 year 3 months`. The singular `year` is used here rather than `years`; both work correctly regardless of the integer value used.\n"
   ]
  },
  {
   "cell_type": "code",
   "execution_count": 9,
   "metadata": {},
   "outputs": [
    {
     "data": {
      "text/html": [
       "<div>\n",
       "<style scoped>\n",
       "    .dataframe tbody tr th:only-of-type {\n",
       "        vertical-align: middle;\n",
       "    }\n",
       "\n",
       "    .dataframe tbody tr th {\n",
       "        vertical-align: top;\n",
       "    }\n",
       "\n",
       "    .dataframe thead th {\n",
       "        text-align: right;\n",
       "    }\n",
       "</style>\n",
       "<table border=\"1\" class=\"dataframe\">\n",
       "  <thead>\n",
       "    <tr style=\"text-align: right;\">\n",
       "      <th></th>\n",
       "      <th>incident_number</th>\n",
       "      <th>date_of_call</th>\n",
       "      <th>festive_day</th>\n",
       "      <th>report_date</th>\n",
       "    </tr>\n",
       "  </thead>\n",
       "  <tbody>\n",
       "    <tr>\n",
       "      <th>0</th>\n",
       "      <td>179370-24122018</td>\n",
       "      <td>2018-12-24</td>\n",
       "      <td>Christmas Eve</td>\n",
       "      <td>2020-03-24</td>\n",
       "    </tr>\n",
       "    <tr>\n",
       "      <th>1</th>\n",
       "      <td>179212-24122018</td>\n",
       "      <td>2018-12-24</td>\n",
       "      <td>Christmas Eve</td>\n",
       "      <td>2020-03-24</td>\n",
       "    </tr>\n",
       "    <tr>\n",
       "      <th>2</th>\n",
       "      <td>173626-24122016</td>\n",
       "      <td>2016-12-24</td>\n",
       "      <td>Christmas Eve</td>\n",
       "      <td>2018-03-24</td>\n",
       "    </tr>\n",
       "    <tr>\n",
       "      <th>3</th>\n",
       "      <td>171323141</td>\n",
       "      <td>2014-12-24</td>\n",
       "      <td>Christmas Eve</td>\n",
       "      <td>2016-03-24</td>\n",
       "    </tr>\n",
       "    <tr>\n",
       "      <th>4</th>\n",
       "      <td>171286141</td>\n",
       "      <td>2014-12-24</td>\n",
       "      <td>Christmas Eve</td>\n",
       "      <td>2016-03-24</td>\n",
       "    </tr>\n",
       "  </tbody>\n",
       "</table>\n",
       "</div>"
      ],
      "text/plain": [
       "   incident_number date_of_call    festive_day report_date\n",
       "0  179370-24122018   2018-12-24  Christmas Eve  2020-03-24\n",
       "1  179212-24122018   2018-12-24  Christmas Eve  2020-03-24\n",
       "2  173626-24122016   2016-12-24  Christmas Eve  2018-03-24\n",
       "3        171323141   2014-12-24  Christmas Eve  2016-03-24\n",
       "4        171286141   2014-12-24  Christmas Eve  2016-03-24"
      ]
     },
     "execution_count": 9,
     "metadata": {},
     "output_type": "execute_result"
    }
   ],
   "source": [
    "festive_rescues.withColumn(\"report_date\", F.expr(\"date_of_call + interval 1 year 3 months\")).limit(5).toPandas()"
   ]
  },
  {
   "cell_type": "markdown",
   "metadata": {},
   "source": [
    "```r\n",
    "rescue %>%\n",
    "  mutate(report_date = sql(\"date_of_call + interval 1 year 3 months\")) %>%\n",
    "  print(n = 5)\n",
    "```"
   ]
  },
  {
   "cell_type": "markdown",
   "metadata": {},
   "source": [
    "You can also use negative numbers with interval. As a festive example, in some Orthodox churches in central and eastern Europe Christmas is celebrated 13 days later than in Britain, with Christmas Day on the 7th of January. To calculate how many animals were rescued on the Orthodox festive days without redefining the festive_days DataFrame we can use - interval with 13 days, then join festive days. We do not need to specify months or years as we are only using days. Boxing Day is also being filtered out as it is not widely celebrated outside of the Commonwealth."
   ]
  },
  {
   "cell_type": "code",
   "execution_count": 10,
   "metadata": {},
   "outputs": [
    {
     "data": {
      "text/html": [
       "<div>\n",
       "<style scoped>\n",
       "    .dataframe tbody tr th:only-of-type {\n",
       "        vertical-align: middle;\n",
       "    }\n",
       "\n",
       "    .dataframe tbody tr th {\n",
       "        vertical-align: top;\n",
       "    }\n",
       "\n",
       "    .dataframe thead th {\n",
       "        text-align: right;\n",
       "    }\n",
       "</style>\n",
       "<table border=\"1\" class=\"dataframe\">\n",
       "  <thead>\n",
       "    <tr style=\"text-align: right;\">\n",
       "      <th></th>\n",
       "      <th>incident_number</th>\n",
       "      <th>date_of_call</th>\n",
       "      <th>call_month_day</th>\n",
       "      <th>adjusted_date</th>\n",
       "    </tr>\n",
       "  </thead>\n",
       "  <tbody>\n",
       "    <tr>\n",
       "      <th>0</th>\n",
       "      <td>139091</td>\n",
       "      <td>2009-01-01</td>\n",
       "      <td>Jan-01</td>\n",
       "      <td>2008-12-19</td>\n",
       "    </tr>\n",
       "    <tr>\n",
       "      <th>1</th>\n",
       "      <td>275091</td>\n",
       "      <td>2009-01-01</td>\n",
       "      <td>Jan-01</td>\n",
       "      <td>2008-12-19</td>\n",
       "    </tr>\n",
       "    <tr>\n",
       "      <th>2</th>\n",
       "      <td>2075091</td>\n",
       "      <td>2009-01-04</td>\n",
       "      <td>Jan-04</td>\n",
       "      <td>2008-12-22</td>\n",
       "    </tr>\n",
       "    <tr>\n",
       "      <th>3</th>\n",
       "      <td>2872091</td>\n",
       "      <td>2009-01-05</td>\n",
       "      <td>Jan-05</td>\n",
       "      <td>2008-12-23</td>\n",
       "    </tr>\n",
       "    <tr>\n",
       "      <th>4</th>\n",
       "      <td>3553091</td>\n",
       "      <td>2009-01-06</td>\n",
       "      <td>Jan-06</td>\n",
       "      <td>2008-12-24</td>\n",
       "    </tr>\n",
       "  </tbody>\n",
       "</table>\n",
       "</div>"
      ],
      "text/plain": [
       "  incident_number date_of_call call_month_day adjusted_date\n",
       "0          139091   2009-01-01         Jan-01    2008-12-19\n",
       "1          275091   2009-01-01         Jan-01    2008-12-19\n",
       "2         2075091   2009-01-04         Jan-04    2008-12-22\n",
       "3         2872091   2009-01-05         Jan-05    2008-12-23\n",
       "4         3553091   2009-01-06         Jan-06    2008-12-24"
      ]
     },
     "execution_count": 10,
     "metadata": {},
     "output_type": "execute_result"
    }
   ],
   "source": [
    "rescue = rescue.withColumn(\"adjusted_date\", F.expr(\"date_of_call - interval 13 days\"))\n",
    "rescue.limit(5).toPandas()"
   ]
  },
  {
   "cell_type": "markdown",
   "metadata": {},
   "source": [
    "```r\n",
    "rescue <- rescue %>%\n",
    "  mutate(adjusted_date = sql(\"date_of_call - interval 13 days\"))\n",
    "  \n",
    "print(rescue, n = 5 )\n",
    "```"
   ]
  },
  {
   "cell_type": "code",
   "execution_count": 11,
   "metadata": {},
   "outputs": [
    {
     "data": {
      "text/html": [
       "<div>\n",
       "<style scoped>\n",
       "    .dataframe tbody tr th:only-of-type {\n",
       "        vertical-align: middle;\n",
       "    }\n",
       "\n",
       "    .dataframe tbody tr th {\n",
       "        vertical-align: top;\n",
       "    }\n",
       "\n",
       "    .dataframe thead th {\n",
       "        text-align: right;\n",
       "    }\n",
       "</style>\n",
       "<table border=\"1\" class=\"dataframe\">\n",
       "  <thead>\n",
       "    <tr style=\"text-align: right;\">\n",
       "      <th></th>\n",
       "      <th>incident_number</th>\n",
       "      <th>date_of_call</th>\n",
       "      <th>orthodox_festive_day</th>\n",
       "    </tr>\n",
       "  </thead>\n",
       "  <tbody>\n",
       "    <tr>\n",
       "      <th>0</th>\n",
       "      <td>002638-06012019</td>\n",
       "      <td>2019-01-06</td>\n",
       "      <td>Christmas Eve</td>\n",
       "    </tr>\n",
       "    <tr>\n",
       "      <th>1</th>\n",
       "      <td>002419-06012019</td>\n",
       "      <td>2019-01-06</td>\n",
       "      <td>Christmas Eve</td>\n",
       "    </tr>\n",
       "    <tr>\n",
       "      <th>2</th>\n",
       "      <td>002369-06012018</td>\n",
       "      <td>2018-01-06</td>\n",
       "      <td>Christmas Eve</td>\n",
       "    </tr>\n",
       "    <tr>\n",
       "      <th>3</th>\n",
       "      <td>002204-06012018</td>\n",
       "      <td>2018-01-06</td>\n",
       "      <td>Christmas Eve</td>\n",
       "    </tr>\n",
       "    <tr>\n",
       "      <th>4</th>\n",
       "      <td>001927-06012016</td>\n",
       "      <td>2016-01-06</td>\n",
       "      <td>Christmas Eve</td>\n",
       "    </tr>\n",
       "  </tbody>\n",
       "</table>\n",
       "</div>"
      ],
      "text/plain": [
       "   incident_number date_of_call orthodox_festive_day\n",
       "0  002638-06012019   2019-01-06        Christmas Eve\n",
       "1  002419-06012019   2019-01-06        Christmas Eve\n",
       "2  002369-06012018   2018-01-06        Christmas Eve\n",
       "3  002204-06012018   2018-01-06        Christmas Eve\n",
       "4  001927-06012016   2016-01-06        Christmas Eve"
      ]
     },
     "execution_count": 11,
     "metadata": {},
     "output_type": "execute_result"
    }
   ],
   "source": [
    "rescue = rescue.withColumn(\"adjusted_month_day\", F.date_format(\"adjusted_date\", \"MMM-dd\"))\n",
    "\n",
    "orthodox_festive_rescues = (rescue\n",
    "                   .join(festive_days, on=rescue.adjusted_month_day == festive_days.month_day, how=\"inner\")\n",
    "                   .withColumnRenamed(\"festive_day\", \"orthodox_festive_day\")\n",
    "                   .filter(F.col(\"orthodox_festive_day\") != \"Boxing Day\")\n",
    "                   .drop(\"call_month_day\", \"month_day\", \"adjusted_date\", \"adjusted_month_day\"))\n",
    "\n",
    "orthodox_festive_rescues.limit(5).toPandas()"
   ]
  },
  {
   "cell_type": "markdown",
   "metadata": {},
   "source": [
    "```r\n",
    "rescue <- rescue %>%\n",
    "  mutate(adjusted_month_day = date_format(adjusted_date, \"MMM-dd\"))\n",
    "\n",
    "orthodox_festive_rescues <- inner_join(rescue, festive_days,by = c(\"adjusted_month_day\" = \"month_day\"))  %>% \n",
    "  dplyr::rename(orthodox_festive_day = festive_day)  %>%\n",
    "  filter(orthodox_festive_day != \"Boxing Day\") %>%\n",
    "  select(incident_number ,date_of_call ,orthodox_festive_day)\n",
    "    \n",
    "print(orthodox_festive_rescues, n = 5)\n",
    "```"
   ]
  },
  {
   "cell_type": "markdown",
   "metadata": {},
   "source": [
    "As before, we can get the counts:"
   ]
  },
  {
   "cell_type": "code",
   "execution_count": 12,
   "metadata": {},
   "outputs": [
    {
     "data": {
      "text/html": [
       "<div>\n",
       "<style scoped>\n",
       "    .dataframe tbody tr th:only-of-type {\n",
       "        vertical-align: middle;\n",
       "    }\n",
       "\n",
       "    .dataframe tbody tr th {\n",
       "        vertical-align: top;\n",
       "    }\n",
       "\n",
       "    .dataframe thead th {\n",
       "        text-align: right;\n",
       "    }\n",
       "</style>\n",
       "<table border=\"1\" class=\"dataframe\">\n",
       "  <thead>\n",
       "    <tr style=\"text-align: right;\">\n",
       "      <th></th>\n",
       "      <th>date_of_call</th>\n",
       "      <th>orthodox_festive_day</th>\n",
       "      <th>count</th>\n",
       "    </tr>\n",
       "  </thead>\n",
       "  <tbody>\n",
       "    <tr>\n",
       "      <th>0</th>\n",
       "      <td>2009-01-06</td>\n",
       "      <td>Christmas Eve</td>\n",
       "      <td>2</td>\n",
       "    </tr>\n",
       "    <tr>\n",
       "      <th>1</th>\n",
       "      <td>2009-01-07</td>\n",
       "      <td>Christmas Day</td>\n",
       "      <td>4</td>\n",
       "    </tr>\n",
       "    <tr>\n",
       "      <th>2</th>\n",
       "      <td>2009-01-14</td>\n",
       "      <td>New Years Day</td>\n",
       "      <td>1</td>\n",
       "    </tr>\n",
       "    <tr>\n",
       "      <th>3</th>\n",
       "      <td>2010-01-06</td>\n",
       "      <td>Christmas Eve</td>\n",
       "      <td>2</td>\n",
       "    </tr>\n",
       "    <tr>\n",
       "      <th>4</th>\n",
       "      <td>2010-01-07</td>\n",
       "      <td>Christmas Day</td>\n",
       "      <td>2</td>\n",
       "    </tr>\n",
       "    <tr>\n",
       "      <th>5</th>\n",
       "      <td>2010-01-14</td>\n",
       "      <td>New Years Day</td>\n",
       "      <td>2</td>\n",
       "    </tr>\n",
       "    <tr>\n",
       "      <th>6</th>\n",
       "      <td>2011-01-06</td>\n",
       "      <td>Christmas Eve</td>\n",
       "      <td>1</td>\n",
       "    </tr>\n",
       "    <tr>\n",
       "      <th>7</th>\n",
       "      <td>2012-01-06</td>\n",
       "      <td>Christmas Eve</td>\n",
       "      <td>1</td>\n",
       "    </tr>\n",
       "    <tr>\n",
       "      <th>8</th>\n",
       "      <td>2012-01-07</td>\n",
       "      <td>Christmas Day</td>\n",
       "      <td>2</td>\n",
       "    </tr>\n",
       "    <tr>\n",
       "      <th>9</th>\n",
       "      <td>2012-01-14</td>\n",
       "      <td>New Years Day</td>\n",
       "      <td>1</td>\n",
       "    </tr>\n",
       "  </tbody>\n",
       "</table>\n",
       "</div>"
      ],
      "text/plain": [
       "  date_of_call orthodox_festive_day  count\n",
       "0   2009-01-06        Christmas Eve      2\n",
       "1   2009-01-07        Christmas Day      4\n",
       "2   2009-01-14        New Years Day      1\n",
       "3   2010-01-06        Christmas Eve      2\n",
       "4   2010-01-07        Christmas Day      2\n",
       "5   2010-01-14        New Years Day      2\n",
       "6   2011-01-06        Christmas Eve      1\n",
       "7   2012-01-06        Christmas Eve      1\n",
       "8   2012-01-07        Christmas Day      2\n",
       "9   2012-01-14        New Years Day      1"
      ]
     },
     "execution_count": 12,
     "metadata": {},
     "output_type": "execute_result"
    }
   ],
   "source": [
    "(orthodox_festive_rescues\n",
    "     .groupBy(\"date_of_call\", \"orthodox_festive_day\")\n",
    "     .count()\n",
    "     .orderBy(\"date_of_call\")\n",
    "     .limit(10)\n",
    "     .toPandas())"
   ]
  },
  {
   "cell_type": "markdown",
   "metadata": {},
   "source": [
    "```r\n",
    "orthodox_festive_rescues %>% \n",
    "  group_by(date_of_call,orthodox_festive_day) %>%\n",
    "  summarize(count = n()) %>% \n",
    "  arrange(date_of_call) %>%\n",
    "  print(n = 10)\n",
    "```"
   ]
  },
  {
   "cell_type": "markdown",
   "metadata": {},
   "source": [
    "### `interval` with times and weeks\n",
    "Weeks can be used; note that there is no native PySpark function for adding weeks. Time periods, e.g. hours, can also be used with interval, which may be useful when working with timestamps. As with any function, it is recommended to use unit tests when working with dates. The Pytest for PySpark repository gives some examples of how to unit test when working with PySpark.\n",
    "\n",
    "\n",
    "### Documentation:\n",
    "#### PySpark\n",
    "- [`F.date_format()`](https://spark.apache.org/docs/2.4.0/api/python/pyspark.sql.html#pyspark.sql.functions.date_format)\n",
    "- [`F.year()`](https://spark.apache.org/docs/2.4.0/api/python/pyspark.sql.html#pyspark.sql.functions.year)\n",
    "- [`F.month()`](https://spark.apache.org/docs/2.4.0/api/python/pyspark.sql.html#pyspark.sql.functions.month)\n",
    "- [`F.dayofmonth()`](https://spark.apache.org/docs/2.4.0/api/python/pyspark.sql.html#pyspark.sql.functions.dayofmonth)\n",
    "- [`F.expr()`](https://spark.apache.org/docs/2.4.0/api/python/pyspark.sql.html#pyspark.sql.functions.expr)\n",
    "- [`F.date_add()`](https://spark.apache.org/docs/2.4.0/api/python/pyspark.sql.html#pyspark.sql.functions.date_add)\n",
    "- [`F.date_sub()`](https://spark.apache.org/docs/2.4.0/api/python/pyspark.sql.html#pyspark.sql.functions.date_sub)\n",
    "- [`F.add_months()`](https://spark.apache.org/docs/2.4.0/api/python/pyspark.sql.html#pyspark.sql.functions.add_months)\n",
    "\n",
    "#### sparklyr\n",
    "\n",
    "- [`sql()`](https://dplyr.tidyverse.org/reference/sql.html#:~:text=These%20functions%20are%20critical%20when,and%20return%20an%20sql%20object.)\n",
    "- [sparklyr-functions](../sparklyr-intro/sparklyr-functions)\n",
    "\n",
    "### Other links:\n",
    "- [Yammer discussion of `interval`](https://www.yammer.com/ons.gov.uk/#/threads/show?threadId=934654814199808): Diogo Marques gives an explanation and examples of `interval`\n",
    "- [Java `SimpleDateFormat` class](https://docs.oracle.com/javase/7/docs/api/java/text/SimpleDateFormat.html): details of valid date formats for `F.to_date()` and `F.date_format()`- [`F.to_date()`](https://spark.apache.org/docs/2.4.0/api/python/pyspark.sql.html#pyspark.sql.functions.to_date)\n",
    "      \n",
    "### Acknowledgments\n",
    "  \n",
    "Special thanks to Diogo Marques for sharing his knowledge of the `interval` function, and to Vicky Pickering for inspiring this festive tip!"
   ]
  }
 ],
 "metadata": {
  "kernelspec": {
   "display_name": "Python 3",
   "language": "python",
   "name": "python3"
  },
  "language_info": {
   "codemirror_mode": {
    "name": "ipython",
    "version": 3
   },
   "file_extension": ".py",
   "mimetype": "text/x-python",
   "name": "python",
   "nbconvert_exporter": "python",
   "pygments_lexer": "ipython3",
   "version": "3.6.8"
  }
 },
 "nbformat": 4,
 "nbformat_minor": 2
}
