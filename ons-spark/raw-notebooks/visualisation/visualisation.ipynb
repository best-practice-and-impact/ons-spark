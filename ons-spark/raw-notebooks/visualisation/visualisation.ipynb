{
 "cells": [
  {
   "cell_type": "code",
   "execution_count": 1,
   "id": "cb490569",
   "metadata": {
    "tags": [
     "remove-cell"
    ]
   },
   "outputs": [],
   "source": [
    "# This hidden cell is used for local execution of the notebook file, it does not appear in the published book\n",
    "\n",
    "# Setup working directory\n",
    "import os, re\n",
    "\n",
    "dir_match = re.search(\n",
    "    r\".+ons-spark$\",\n",
    "    str(os.getcwd())\n",
    ")\n",
    "\n",
    "if not dir_match: os.chdir('../../..')\n",
    "\n",
    "# Setup Spark environment variables for local use\n",
    "import findspark\n",
    "findspark.init()"
   ]
  },
  {
   "cell_type": "markdown",
   "id": "30eb93fd",
   "metadata": {},
   "source": [
    "## Spark and Visualisation\n",
    "\n",
    "Visualising data with a graph or dashboard can be a useful way to show or discover trends that may not be obvious if just looking at the raw data. Visualisation can be useful throughout any coding project when working with data. At the start of a project graphs can assist in noticing patterns or outliers that you may not notice if just viewing the raw data. They can also help communicate interim and final results of analysis to stakeholders who aren't programmers. Visualisations are extensively used in official statistical publications produced by the ONS.\n",
    "\n",
    "Spark has an additional challenge when it comes to charts and dashboards: your data will often be large, and if your data will not fit on the driver it will not be able to be visualised using a chart. Good practice for data visualisation when using Spark is therefore to aggregate the data, ensuring it is small enough to fit on the driver, use [`.toPandas()`](https://spark.apache.org/docs/latest/api/python/reference/pyspark.sql/api/pyspark.sql.DataFrame.toPandas.html) if using PySpark or [`collect()`](https://dplyr.tidyverse.org/reference/compute.html) if using sparklyr, and then use the regular charting packages, e.g. [Matplotlib](https://matplotlib.org/) or [ggplot2](https://ggplot2.tidyverse.org/).\n",
    "\n",
    "Good resources on visualisation include the [ONS Style Guide: Presenting Data](https://style.ons.gov.uk/category/data-visualisation/). All ONS charts should follow this guidance and those producing work on behalf of other organisations can also use this guide as an authority too. The [GSS Style Guide: Introduction to data visualisation](https://gss.civilservice.gov.uk/policy-store/introduction-to-data-visualisation/) is another good resource and contains useful links to further assist in presenting data effectively.\n",
    "\n",
    "### An example: aggregating the Animal Rescue data by year\n",
    "\n",
    "First, read in the data with Spark and aggregate to the level required in the chart. In this example, we will get the number of animals rescued by year:"
   ]
  },
  {
   "cell_type": "code",
   "execution_count": 2,
   "id": "1fe46052",
   "metadata": {},
   "outputs": [],
   "source": [
    "import yaml\n",
    "from pyspark.sql import SparkSession, functions as F\n",
    "\n",
    "spark = SparkSession.builder.master(\"local\").appName(\"data-viz\").getOrCreate()\n",
    "\n",
    "with open(\"config.yaml\") as f:\n",
    "    config = yaml.safe_load(f)\n",
    "    \n",
    "rescue_path = config[\"rescue_path\"]\n",
    "rescue = (spark.read.parquet(rescue_path)\n",
    "          .groupBy(\"cal_year\")\n",
    "          .count()\n",
    "          .orderBy(\"cal_year\"))"
   ]
  },
  {
   "cell_type": "markdown",
   "id": "295dc232",
   "metadata": {},
   "source": [
    "```r\n",
    "library(sparklyr)\n",
    "library(dplyr)\n",
    "library(ggplot2)\n",
    "\n",
    "default_config <- sparklyr::spark_config()\n",
    "\n",
    "sc <- sparklyr::spark_connect(\n",
    "    master = \"local\",\n",
    "    app_name = \"data-viz\",\n",
    "    config = default_config)\n",
    "\n",
    "config <- yaml::yaml.load_file(\"config.yaml\")\n",
    "\n",
    "rescue <- sparklyr::spark_read_parquet(sc, config$rescue_path) %>%\n",
    "    dplyr::group_by(cal_year) %>%\n",
    "    dplyr::summarise(count = n()) %>%\n",
    "    dplyr::arrange(cal_year)\n",
    "```"
   ]
  },
  {
   "cell_type": "markdown",
   "id": "73a9933f",
   "metadata": {},
   "source": [
    "Now copy the data to to the driver, with `.toPandas()` if using Python or `collect()` if using R:"
   ]
  },
  {
   "cell_type": "code",
   "execution_count": 3,
   "id": "124d752e",
   "metadata": {},
   "outputs": [],
   "source": [
    "rescue_pd = rescue.toPandas()"
   ]
  },
  {
   "cell_type": "markdown",
   "id": "6bd556f4",
   "metadata": {},
   "source": [
    "```r\n",
    "rescue_tb <- rescue %>% sparklyr::collect()\n",
    "```"
   ]
  },
  {
   "cell_type": "markdown",
   "id": "86210e9e",
   "metadata": {},
   "source": [
    "There are several popular charting packages available for Python. Examples include [Matplotlib](https://matplotlib.org/) and [Plotly](https://plotly.com/python/). A pandas DataFrame can also be visualised directly with `.plot()`, which will often be the quickest and easiest way if using Spark. `.plot()` is just a wrapper for Matplotlib's `plt.plot()`."
   ]
  },
  {
   "cell_type": "code",
   "execution_count": 4,
   "id": "628919be",
   "metadata": {},
   "outputs": [
    {
     "data": {
      "text/plain": [
       "<Axes: xlabel='cal_year'>"
      ]
     },
     "execution_count": 4,
     "metadata": {},
     "output_type": "execute_result"
    },
    {
     "data": {
      "image/png": "[encoded data removed]",
      "text/plain": [
       "<Figure size 640x480 with 1 Axes>"
      ]
     },
     "metadata": {},
     "output_type": "display_data"
    }
   ],
   "source": [
    "%matplotlib inline\n",
    "rescue_pd.set_index(\"cal_year\", drop=True, inplace=True)\n",
    "rescue_pd.plot(kind=\"bar\")"
   ]
  },
  {
   "cell_type": "markdown",
   "id": "5dfa2b0d",
   "metadata": {},
   "source": [
    "```{figure} ../images/viz_1_python.png\n",
    "---\n",
    "width: 100%\n",
    "name: MatplotlibChart\n",
    "alt: Matplotlib chart of animal rescue incidents by calendar year\n",
    "---\n",
    "```\n",
    "\n",
    "Common R charting packages include [ggplot2](https://ggplot2.tidyverse.org/) and [Plotly](https://plotly.com/r/). Once the data is collected to the driver as a tibble these packages can be used normally.\n",
    "\n",
    "In this example, `cal_year` is discrete and so is converted to a factor before charting."
   ]
  },
  {
   "cell_type": "markdown",
   "id": "4b3121e6",
   "metadata": {},
   "source": [
    "```r\n",
    "ggplot2::ggplot(data=rescue_tb, ggplot2::aes(x=as.factor(cal_year), y=count)) +\n",
    "    ggplot2::geom_bar(stat=\"identity\") +\n",
    "    ggplot2::labs(x=\"cal_year\")\n",
    "```"
   ]
  },
  {
   "cell_type": "markdown",
   "id": "a674f0c3",
   "metadata": {},
   "source": [
    "```{figure} ../images/viz_2_r.png\n",
    "---\n",
    "width: 100%\n",
    "name: ggplot2Chart\n",
    "alt: ggplot2 chart of animal rescue incidents by calendar year\n",
    "---\n",
    "```\n",
    "\n",
    "You can pass a sparklyr DataFrame directly into [`ggplot()`](https://ggplot2.tidyverse.org/reference/ggplot.html), although this could lead to errors if the data are too large. It is better to aggregate the data first and `collect()`."
   ]
  },
  {
   "cell_type": "markdown",
   "id": "227e696d",
   "metadata": {},
   "source": [
    "```r\n",
    "ggplot2::ggplot(data=rescue, ggplot2::aes(x=as.factor(cal_year), y=count)) +\n",
    "    ggplot2::geom_bar(stat=\"identity\") +\n",
    "    ggplot2::labs(x=\"cal_year\")\n",
    "```"
   ]
  },
  {
   "cell_type": "markdown",
   "id": "be22656e",
   "metadata": {},
   "source": [
    "```{figure} ../images/viz_2_r.png\n",
    "---\n",
    "width: 100%\n",
    "name: ggplot2Chart\n",
    "alt: ggplot2 chart of animal rescue incidents by calendar year\n",
    "---\n",
    "```\n",
    "\n",
    "### Dashboards\n",
    "\n",
    "The principles for using [dashboards](https://style.ons.gov.uk/data-visualisation/dashboards/) with Spark are the same as for charts: aggregate the data first using Spark, then use these data to power the dashboard. In theory you could have a dashboard to power a Spark process which then returns an aggregated result, although this would likely have a negative impact on the user experience given the processing time and subsequent lag.\n",
    "\n",
    "Common dashboard applications include [Seaborn](https://seaborn.pydata.org/) and [Streamlit](https://streamlit.io/) for Python and [Shiny](https://shiny.rstudio.com/) for R.\n",
    "\n",
    "### Further Resources\n",
    "\n",
    "PySpark Documentation:\n",
    "- [`.toPandas()`](https://spark.apache.org/docs/latest/api/python/reference/pyspark.sql/api/pyspark.sql.DataFrame.toPandas.html)\n",
    "\n",
    "sparklyr and tidyverse Documentation:\n",
    "- [`collect()`](https://dplyr.tidyverse.org/reference/compute.html)\n",
    "- [`ggplot()`](https://ggplot2.tidyverse.org/reference/ggplot.html)\n",
    "\n",
    "Guidance on data visualisation:\n",
    "- [ONS Style Guide: Presenting Data](https://style.ons.gov.uk/category/data-visualisation/)\n",
    "- [ONS Style Guide: Dashboards](https://style.ons.gov.uk/data-visualisation/dashboards/)\n",
    "- [GSS Style Guide: Introduction to data visualisation](https://gss.civilservice.gov.uk/policy-store/introduction-to-data-visualisation/)\n",
    "\n",
    "Charting and dashboard packages:\n",
    "- [Matplotlib](https://matplotlib.org/)\n",
    "- [ggplot2](https://ggplot2.tidyverse.org/)\n",
    "- [Plotly: R](https://plotly.com/r/)\n",
    "- [Plotly: Python](https://plotly.com/python/)\n",
    "- [`pandas.DataFrame.plot`](https://pandas.pydata.org/docs/reference/api/pandas.DataFrame.plot.html)\n",
    "- [Seaborn](https://seaborn.pydata.org/) \n",
    "- [Streamlit](https://streamlit.io/)\n",
    "- [Shiny](https://shiny.rstudio.com/)"
   ]
  }
 ],
 "metadata": {
  "kernelspec": {
   "display_name": "Python 3",
   "language": "python",
   "name": "python3"
  },
  "language_info": {
   "codemirror_mode": {
    "name": "ipython",
    "version": 3
   },
   "file_extension": ".py",
   "mimetype": "text/x-python",
   "name": "python",
   "nbconvert_exporter": "python",
   "pygments_lexer": "ipython3",
   "version": "3.10.16"
  }
 },
 "nbformat": 4,
 "nbformat_minor": 5
}
