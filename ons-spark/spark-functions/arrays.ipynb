{
 "cells": [
  {
   "cell_type": "markdown",
   "metadata": {},
   "source": [
    "## Arrays Functions in PySpark\n",
    "\n",
    "PySpark DataFrames can contain array columns. You can think of a PySpark array column in a similar way to a Python list. Arrays can be useful if you have data of a variable length. They can be tricky to handle, so you may want to create new rows for each element in the array, or change them to a string.\n",
    "\n",
    "There are many functions for handling arrays. Here we will just demonstrate a few of them. For a full list, take a look at the [PySpark documentation](https://spark.apache.org/docs/latest/api/python/reference/api/pyspark.sql.functions.array.html).\n",
    "\n",
    "Note that since Spark 3.0, arrays are supported in sparklyr, although they are not covered in this article. The relevant [sparklyr functions](https://spark.rstudio.com/packages/sparklyr/latest/reference/) begin `hof_` (*higher order function*), e.g. [`hof_transform()`](https://spark.rstudio.com/packages/sparklyr/latest/reference/hof_transform.html)\n",
    "\n",
    "### Creating a DataFrame with arrays\n",
    "\n",
    "You will encounter arrays most frequently when reading in data. Spark can read parquet files that contain array columns. For this example, we will create a small DataFrame manually with an array column. To do this, simply create the DataFrame in the usual way, but supply a Python list for the column values to [`spark.createDataFrame()`](https://spark.apache.org/docs/latest/api/python/reference/api/pyspark.sql.SparkSession.createDataFrame.html). The lists do not have to have the same number of elements.\n",
    "\n",
    "If using a schema to create the DataFrame, import [`ArrayType()`](https://spark.apache.org/docs/latest/api/python/reference/api/pyspark.sql.types.ArrayType.html) or use `array<type>` if using [DDL notation](../spark-overview/data-types), which is `array<string>` in this example.\n",
    "\n",
    "The example used here will use champions of the Wimbledon tennis tournament. The score for a tennis match is often listed by individual sets, which can be displayed as an array. This array will be of variable length, as the match stops once someone wins two sets in women's matches and three in men's, meaning the array can vary between two and five elements. As the tournament was cancelled in 2020, these entries will be `null`."
   ]
  },
  {
   "cell_type": "code",
   "execution_count": 1,
   "metadata": {},
   "outputs": [
    {
     "name": "stdout",
     "output_type": "stream",
     "text": [
      "+---------------+-------------------+--------+----------+---------------------------+\n",
      "|tournament_year|event              |champion|runner_up |final_score                |\n",
      "+---------------+-------------------+--------+----------+---------------------------+\n",
      "|2017           |Gentlemen's Singles|Federer |Čilić     |[6-3, 6-1, 6-4]            |\n",
      "|2018           |Gentlemen's Singles|Djokovic|Anderson  |[6-2, 6-2, 7-6]            |\n",
      "|2019           |Gentlemen's Singles|Djokovic|Federer   |[7-6, 1-6, 7-6, 4-6, 13-12]|\n",
      "|2020           |Gentlemen's Singles|null    |null      |null                       |\n",
      "|2021           |Gentlemen's Singles|Djokovic|Berrettini|[6-7, 6-4, 6-4, 6-3]       |\n",
      "|2017           |Ladies' Singles    |Muguruza|V Williams|[7-5, 6-0]                 |\n",
      "|2018           |Ladies' Singles    |Kerber  |S Williams|[6-3, 6-3]                 |\n",
      "|2019           |Ladies' Singles    |Halep   |S Williams|[6-2, 6-2]                 |\n",
      "|2020           |Ladies' Singles    |null    |null      |null                       |\n",
      "|2021           |Ladies' Singles    |Barty   |Plíšková  |[6-3, 6-7, 6-3]            |\n",
      "+---------------+-------------------+--------+----------+---------------------------+\n",
      "\n"
     ]
    }
   ],
   "source": [
    "from pyspark.sql import SparkSession, functions as F\n",
    "    \n",
    "spark = (SparkSession.builder.master(\"local[2]\")\n",
    "         .appName(\"arrays\")\n",
    "         .getOrCreate())\n",
    "\n",
    "champions = spark.createDataFrame([\n",
    "    [2017, \"Gentlemen's Singles\", \"Federer\", \"Čilić\", [\"6-3\", \"6-1\", \"6-4\"]],\n",
    "    [2018, \"Gentlemen's Singles\", \"Djokovic\", \"Anderson\", [\"6-2\", \"6-2\", \"7-6\"]],\n",
    "    [2019, \"Gentlemen's Singles\", \"Djokovic\", \"Federer\", [\"7-6\", \"1-6\", \"7-6\", \"4-6\", \"13-12\"]],\n",
    "    [2020, \"Gentlemen's Singles\", None, None, None], #No tournament in 2020\n",
    "    [2021, \"Gentlemen's Singles\", \"Djokovic\", \"Berrettini\", [\"6-7\", \"6-4\", \"6-4\", \"6-3\"]],\n",
    "    [2017, \"Ladies' Singles\", \"Muguruza\", \"V Williams\", [\"7-5\", \"6-0\"]],\n",
    "    [2018, \"Ladies' Singles\", \"Kerber\", \"S Williams\", [\"6-3\", \"6-3\"]],\n",
    "    [2019, \"Ladies' Singles\", \"Halep\", \"S Williams\", [\"6-2\", \"6-2\"]],\n",
    "    [2020, \"Ladies' Singles\", None, None, None], #No tournament in 2020]\n",
    "    [2021, \"Ladies' Singles\", \"Barty\", \"Plíšková\", [\"6-3\", \"6-7\", \"6-3\"]],\n",
    "    ], [\"tournament_year\", \"event\", \"champion\", \"runner_up\", \"final_score\"])\n",
    "\n",
    "champions.show(truncate=False)"
   ]
  },
  {
   "cell_type": "markdown",
   "metadata": {},
   "source": [
    "Use [`.dtypes`](https://spark.apache.org/docs/latest/api/python/reference/api/pyspark.sql.DataFrame.dtypes.html) to confirm that `final_score` is a string array:"
   ]
  },
  {
   "cell_type": "code",
   "execution_count": 2,
   "metadata": {},
   "outputs": [
    {
     "data": {
      "text/plain": [
       "[('tournament_year', 'bigint'),\n",
       " ('event', 'string'),\n",
       " ('champion', 'string'),\n",
       " ('runner_up', 'string'),\n",
       " ('final_score', 'array<string>')]"
      ]
     },
     "execution_count": 2,
     "metadata": {},
     "output_type": "execute_result"
    }
   ],
   "source": [
    "champions.dtypes"
   ]
  },
  {
   "cell_type": "markdown",
   "metadata": {},
   "source": [
    "### Get length of array: `F.size()`\n",
    "\n",
    "[`F.size()`](https://spark.apache.org/docs/latest/api/python/reference/api/pyspark.sql.functions.size.html) returns the number of elements in the array. This returns `-1` for `null` values. In this example, we can see how many sets were played in each match:"
   ]
  },
  {
   "cell_type": "code",
   "execution_count": 3,
   "metadata": {},
   "outputs": [
    {
     "name": "stdout",
     "output_type": "stream",
     "text": [
      "+---------------+-------------------+--------+----------+---------------------------+----------+\n",
      "|tournament_year|event              |champion|runner_up |final_score                |total_sets|\n",
      "+---------------+-------------------+--------+----------+---------------------------+----------+\n",
      "|2017           |Gentlemen's Singles|Federer |Čilić     |[6-3, 6-1, 6-4]            |3         |\n",
      "|2018           |Gentlemen's Singles|Djokovic|Anderson  |[6-2, 6-2, 7-6]            |3         |\n",
      "|2019           |Gentlemen's Singles|Djokovic|Federer   |[7-6, 1-6, 7-6, 4-6, 13-12]|5         |\n",
      "|2020           |Gentlemen's Singles|null    |null      |null                       |-1        |\n",
      "|2021           |Gentlemen's Singles|Djokovic|Berrettini|[6-7, 6-4, 6-4, 6-3]       |4         |\n",
      "|2017           |Ladies' Singles    |Muguruza|V Williams|[7-5, 6-0]                 |2         |\n",
      "|2018           |Ladies' Singles    |Kerber  |S Williams|[6-3, 6-3]                 |2         |\n",
      "|2019           |Ladies' Singles    |Halep   |S Williams|[6-2, 6-2]                 |2         |\n",
      "|2020           |Ladies' Singles    |null    |null      |null                       |-1        |\n",
      "|2021           |Ladies' Singles    |Barty   |Plíšková  |[6-3, 6-7, 6-3]            |3         |\n",
      "+---------------+-------------------+--------+----------+---------------------------+----------+\n",
      "\n"
     ]
    }
   ],
   "source": [
    "champions_size = champions.withColumn(\"total_sets\", F.size(\"final_score\"))\n",
    "champions_size.show(truncate=False)"
   ]
  },
  {
   "cell_type": "markdown",
   "metadata": {},
   "source": [
    "### Convert array to string: `F.concat_ws()`\n",
    "\n",
    "You may be familiar with [`F.concat_ws()`](https://spark.apache.org/docs/latest/api/python/reference/api/pyspark.sql.functions.concat_ws.html) to concatenate string columns. It can also be used with arrays. `null` values will be mapped to an empty string.\n",
    "\n",
    "The first argument is the separator, followed by the columns to concatenate."
   ]
  },
  {
   "cell_type": "code",
   "execution_count": 4,
   "metadata": {},
   "outputs": [
    {
     "name": "stdout",
     "output_type": "stream",
     "text": [
      "+---------------+-------------------+---------------------+---------------------------+-------------------------+\n",
      "|tournament_year|event              |match                |final_score                |final_score_string       |\n",
      "+---------------+-------------------+---------------------+---------------------------+-------------------------+\n",
      "|2017           |Gentlemen's Singles|Federer v Čilić      |[6-3, 6-1, 6-4]            |6-3, 6-1, 6-4            |\n",
      "|2018           |Gentlemen's Singles|Djokovic v Anderson  |[6-2, 6-2, 7-6]            |6-2, 6-2, 7-6            |\n",
      "|2019           |Gentlemen's Singles|Djokovic v Federer   |[7-6, 1-6, 7-6, 4-6, 13-12]|7-6, 1-6, 7-6, 4-6, 13-12|\n",
      "|2020           |Gentlemen's Singles|                     |null                       |                         |\n",
      "|2021           |Gentlemen's Singles|Djokovic v Berrettini|[6-7, 6-4, 6-4, 6-3]       |6-7, 6-4, 6-4, 6-3       |\n",
      "|2017           |Ladies' Singles    |Muguruza v V Williams|[7-5, 6-0]                 |7-5, 6-0                 |\n",
      "|2018           |Ladies' Singles    |Kerber v S Williams  |[6-3, 6-3]                 |6-3, 6-3                 |\n",
      "|2019           |Ladies' Singles    |Halep v S Williams   |[6-2, 6-2]                 |6-2, 6-2                 |\n",
      "|2020           |Ladies' Singles    |                     |null                       |                         |\n",
      "|2021           |Ladies' Singles    |Barty v Plíšková     |[6-3, 6-7, 6-3]            |6-3, 6-7, 6-3            |\n",
      "+---------------+-------------------+---------------------+---------------------------+-------------------------+\n",
      "\n"
     ]
    }
   ],
   "source": [
    "champions_concat = (champions\n",
    "      # Traditional use of concat_ws: concatenate strings\n",
    "      .withColumn(\"match\", F.concat_ws(\" v \", \"champion\", \"runner_up\"))\n",
    "      # Can also use with arrays\n",
    "      .withColumn(\"final_score_string\", F.concat_ws(\", \", \"final_score\"))\n",
    "      .select(\"tournament_year\", \"event\", \"match\", \"final_score\", \"final_score_string\"))\n",
    "\n",
    "champions_concat.show(truncate=False)"
   ]
  },
  {
   "cell_type": "markdown",
   "metadata": {},
   "source": [
    "### Convert string to array: `F.split()`\n",
    "\n",
    "The opposite of `F.concat_ws()` is [`F.split()`](https://spark.apache.org/docs/latest/api/python/reference/api/pyspark.sql.functions.split.html). This example uses the separator `\", \"` (as above), but it can also handle regexes.\n",
    "\n",
    "Note that the empty strings (that were originally `null` values in the array column) have been mapped to empty arrays."
   ]
  },
  {
   "cell_type": "code",
   "execution_count": 5,
   "metadata": {},
   "outputs": [
    {
     "name": "stdout",
     "output_type": "stream",
     "text": [
      "+---------------+-------------------+---------------------+-------------------------+---------------------------+\n",
      "|tournament_year|event              |match                |final_score_string       |final_score_array          |\n",
      "+---------------+-------------------+---------------------+-------------------------+---------------------------+\n",
      "|2017           |Gentlemen's Singles|Federer v Čilić      |6-3, 6-1, 6-4            |[6-3, 6-1, 6-4]            |\n",
      "|2018           |Gentlemen's Singles|Djokovic v Anderson  |6-2, 6-2, 7-6            |[6-2, 6-2, 7-6]            |\n",
      "|2019           |Gentlemen's Singles|Djokovic v Federer   |7-6, 1-6, 7-6, 4-6, 13-12|[7-6, 1-6, 7-6, 4-6, 13-12]|\n",
      "|2020           |Gentlemen's Singles|                     |                         |[]                         |\n",
      "|2021           |Gentlemen's Singles|Djokovic v Berrettini|6-7, 6-4, 6-4, 6-3       |[6-7, 6-4, 6-4, 6-3]       |\n",
      "|2017           |Ladies' Singles    |Muguruza v V Williams|7-5, 6-0                 |[7-5, 6-0]                 |\n",
      "|2018           |Ladies' Singles    |Kerber v S Williams  |6-3, 6-3                 |[6-3, 6-3]                 |\n",
      "|2019           |Ladies' Singles    |Halep v S Williams   |6-2, 6-2                 |[6-2, 6-2]                 |\n",
      "|2020           |Ladies' Singles    |                     |                         |[]                         |\n",
      "|2021           |Ladies' Singles    |Barty v Plíšková     |6-3, 6-7, 6-3            |[6-3, 6-7, 6-3]            |\n",
      "+---------------+-------------------+---------------------+-------------------------+---------------------------+\n",
      "\n"
     ]
    }
   ],
   "source": [
    "champions_array = (champions_concat\n",
    "                   .withColumn(\"final_score_array\",\n",
    "                               F.split(\"final_score_string\", \", \")))\n",
    "\n",
    "champions_array.drop(\"final_score\").show(truncate=False)"
   ]
  },
  {
   "cell_type": "markdown",
   "metadata": {},
   "source": [
    "### Create a new row for each array element: `F.explode()` and `F.explode_outer()`\n",
    "\n",
    "[`F.explode()`](https://spark.apache.org/docs/latest/api/python/reference/api/pyspark.sql.functions.explode.html) is used to create a new row for each element in the array. It can be much easier to handle the data from the array in this format.\n",
    "\n",
    "In this example, `F.explode()` extracts the results of the individual sets, so the new column is called `set_score`."
   ]
  },
  {
   "cell_type": "code",
   "execution_count": 6,
   "metadata": {},
   "outputs": [
    {
     "name": "stdout",
     "output_type": "stream",
     "text": [
      "+---------------+-------------------+--------+----------+---------------------------+---------+\n",
      "|tournament_year|event              |champion|runner_up |final_score                |set_score|\n",
      "+---------------+-------------------+--------+----------+---------------------------+---------+\n",
      "|2017           |Gentlemen's Singles|Federer |Čilić     |[6-3, 6-1, 6-4]            |6-3      |\n",
      "|2017           |Gentlemen's Singles|Federer |Čilić     |[6-3, 6-1, 6-4]            |6-1      |\n",
      "|2017           |Gentlemen's Singles|Federer |Čilić     |[6-3, 6-1, 6-4]            |6-4      |\n",
      "|2018           |Gentlemen's Singles|Djokovic|Anderson  |[6-2, 6-2, 7-6]            |6-2      |\n",
      "|2018           |Gentlemen's Singles|Djokovic|Anderson  |[6-2, 6-2, 7-6]            |6-2      |\n",
      "|2018           |Gentlemen's Singles|Djokovic|Anderson  |[6-2, 6-2, 7-6]            |7-6      |\n",
      "|2019           |Gentlemen's Singles|Djokovic|Federer   |[7-6, 1-6, 7-6, 4-6, 13-12]|7-6      |\n",
      "|2019           |Gentlemen's Singles|Djokovic|Federer   |[7-6, 1-6, 7-6, 4-6, 13-12]|1-6      |\n",
      "|2019           |Gentlemen's Singles|Djokovic|Federer   |[7-6, 1-6, 7-6, 4-6, 13-12]|7-6      |\n",
      "|2019           |Gentlemen's Singles|Djokovic|Federer   |[7-6, 1-6, 7-6, 4-6, 13-12]|4-6      |\n",
      "|2019           |Gentlemen's Singles|Djokovic|Federer   |[7-6, 1-6, 7-6, 4-6, 13-12]|13-12    |\n",
      "|2021           |Gentlemen's Singles|Djokovic|Berrettini|[6-7, 6-4, 6-4, 6-3]       |6-7      |\n",
      "|2021           |Gentlemen's Singles|Djokovic|Berrettini|[6-7, 6-4, 6-4, 6-3]       |6-4      |\n",
      "|2021           |Gentlemen's Singles|Djokovic|Berrettini|[6-7, 6-4, 6-4, 6-3]       |6-4      |\n",
      "|2021           |Gentlemen's Singles|Djokovic|Berrettini|[6-7, 6-4, 6-4, 6-3]       |6-3      |\n",
      "|2017           |Ladies' Singles    |Muguruza|V Williams|[7-5, 6-0]                 |7-5      |\n",
      "|2017           |Ladies' Singles    |Muguruza|V Williams|[7-5, 6-0]                 |6-0      |\n",
      "|2018           |Ladies' Singles    |Kerber  |S Williams|[6-3, 6-3]                 |6-3      |\n",
      "|2018           |Ladies' Singles    |Kerber  |S Williams|[6-3, 6-3]                 |6-3      |\n",
      "|2019           |Ladies' Singles    |Halep   |S Williams|[6-2, 6-2]                 |6-2      |\n",
      "+---------------+-------------------+--------+----------+---------------------------+---------+\n",
      "only showing top 20 rows\n",
      "\n"
     ]
    }
   ],
   "source": [
    "champions_explode = champions.withColumn(\"set_score\",\n",
    "                                         F.explode(\"final_score\"))\n",
    "\n",
    "champions_explode.show(truncate=False)"
   ]
  },
  {
   "cell_type": "markdown",
   "metadata": {},
   "source": [
    "[`F.explode_outer()`](https://spark.apache.org/docs/latest/api/python/reference/api/pyspark.sql.functions.explode_outer.html) works in the same way, but retains `null` values:"
   ]
  },
  {
   "cell_type": "code",
   "execution_count": 7,
   "metadata": {},
   "outputs": [
    {
     "name": "stdout",
     "output_type": "stream",
     "text": [
      "+---------------+-------------------+--------+----------+---------------------------+---------+\n",
      "|tournament_year|event              |champion|runner_up |final_score                |set_score|\n",
      "+---------------+-------------------+--------+----------+---------------------------+---------+\n",
      "|2017           |Gentlemen's Singles|Federer |Čilić     |[6-3, 6-1, 6-4]            |6-3      |\n",
      "|2017           |Gentlemen's Singles|Federer |Čilić     |[6-3, 6-1, 6-4]            |6-1      |\n",
      "|2017           |Gentlemen's Singles|Federer |Čilić     |[6-3, 6-1, 6-4]            |6-4      |\n",
      "|2018           |Gentlemen's Singles|Djokovic|Anderson  |[6-2, 6-2, 7-6]            |6-2      |\n",
      "|2018           |Gentlemen's Singles|Djokovic|Anderson  |[6-2, 6-2, 7-6]            |6-2      |\n",
      "|2018           |Gentlemen's Singles|Djokovic|Anderson  |[6-2, 6-2, 7-6]            |7-6      |\n",
      "|2019           |Gentlemen's Singles|Djokovic|Federer   |[7-6, 1-6, 7-6, 4-6, 13-12]|7-6      |\n",
      "|2019           |Gentlemen's Singles|Djokovic|Federer   |[7-6, 1-6, 7-6, 4-6, 13-12]|1-6      |\n",
      "|2019           |Gentlemen's Singles|Djokovic|Federer   |[7-6, 1-6, 7-6, 4-6, 13-12]|7-6      |\n",
      "|2019           |Gentlemen's Singles|Djokovic|Federer   |[7-6, 1-6, 7-6, 4-6, 13-12]|4-6      |\n",
      "|2019           |Gentlemen's Singles|Djokovic|Federer   |[7-6, 1-6, 7-6, 4-6, 13-12]|13-12    |\n",
      "|2020           |Gentlemen's Singles|null    |null      |null                       |null     |\n",
      "|2021           |Gentlemen's Singles|Djokovic|Berrettini|[6-7, 6-4, 6-4, 6-3]       |6-7      |\n",
      "|2021           |Gentlemen's Singles|Djokovic|Berrettini|[6-7, 6-4, 6-4, 6-3]       |6-4      |\n",
      "|2021           |Gentlemen's Singles|Djokovic|Berrettini|[6-7, 6-4, 6-4, 6-3]       |6-4      |\n",
      "|2021           |Gentlemen's Singles|Djokovic|Berrettini|[6-7, 6-4, 6-4, 6-3]       |6-3      |\n",
      "|2017           |Ladies' Singles    |Muguruza|V Williams|[7-5, 6-0]                 |7-5      |\n",
      "|2017           |Ladies' Singles    |Muguruza|V Williams|[7-5, 6-0]                 |6-0      |\n",
      "|2018           |Ladies' Singles    |Kerber  |S Williams|[6-3, 6-3]                 |6-3      |\n",
      "|2018           |Ladies' Singles    |Kerber  |S Williams|[6-3, 6-3]                 |6-3      |\n",
      "+---------------+-------------------+--------+----------+---------------------------+---------+\n",
      "only showing top 20 rows\n",
      "\n"
     ]
    }
   ],
   "source": [
    "champions_explode_outer = champions.withColumn(\"set_score\",\n",
    "                                               F.explode_outer(\"final_score\"))\n",
    "\n",
    "champions_explode_outer.show(truncate=False)"
   ]
  },
  {
   "cell_type": "markdown",
   "metadata": {},
   "source": [
    "### Explode with position: `F.posexplode()` and `F.posexplode_outer()`\n",
    "\n",
    "[`F.posexplode()`](https://spark.apache.org/docs/latest/api/python/reference/api/pyspark.sql.functions.posexplode.html) returns two columns, the position of the element within the array as well as the element itself. In common with Python lists, this starts at zero.\n",
    "\n",
    "Note that you have to use [`.select()`](https://spark.apache.org/docs/latest/api/python/reference/api/pyspark.sql.DataFrame.select.html) with [`.alias()`](https://spark.apache.org/docs/latest/api/python/reference/api/pyspark.sql.Column.alias.html) rather than [`.withColumn()`](https://spark.apache.org/docs/latest/api/python/reference/api/pyspark.sql.DataFrame.withColumn.html), due to the function returning two columns. `.select(\"*\")` selects all the existing columns, similar to `SELECT *` in SQL."
   ]
  },
  {
   "cell_type": "code",
   "execution_count": 8,
   "metadata": {},
   "outputs": [
    {
     "name": "stdout",
     "output_type": "stream",
     "text": [
      "+---------------+-------------------+--------+----------+---------------------------+------+---------+\n",
      "|tournament_year|event              |champion|runner_up |final_score                |set_no|set_score|\n",
      "+---------------+-------------------+--------+----------+---------------------------+------+---------+\n",
      "|2017           |Gentlemen's Singles|Federer |Čilić     |[6-3, 6-1, 6-4]            |1     |6-3      |\n",
      "|2017           |Gentlemen's Singles|Federer |Čilić     |[6-3, 6-1, 6-4]            |2     |6-1      |\n",
      "|2017           |Gentlemen's Singles|Federer |Čilić     |[6-3, 6-1, 6-4]            |3     |6-4      |\n",
      "|2018           |Gentlemen's Singles|Djokovic|Anderson  |[6-2, 6-2, 7-6]            |1     |6-2      |\n",
      "|2018           |Gentlemen's Singles|Djokovic|Anderson  |[6-2, 6-2, 7-6]            |2     |6-2      |\n",
      "|2018           |Gentlemen's Singles|Djokovic|Anderson  |[6-2, 6-2, 7-6]            |3     |7-6      |\n",
      "|2019           |Gentlemen's Singles|Djokovic|Federer   |[7-6, 1-6, 7-6, 4-6, 13-12]|1     |7-6      |\n",
      "|2019           |Gentlemen's Singles|Djokovic|Federer   |[7-6, 1-6, 7-6, 4-6, 13-12]|2     |1-6      |\n",
      "|2019           |Gentlemen's Singles|Djokovic|Federer   |[7-6, 1-6, 7-6, 4-6, 13-12]|3     |7-6      |\n",
      "|2019           |Gentlemen's Singles|Djokovic|Federer   |[7-6, 1-6, 7-6, 4-6, 13-12]|4     |4-6      |\n",
      "|2019           |Gentlemen's Singles|Djokovic|Federer   |[7-6, 1-6, 7-6, 4-6, 13-12]|5     |13-12    |\n",
      "|2021           |Gentlemen's Singles|Djokovic|Berrettini|[6-7, 6-4, 6-4, 6-3]       |1     |6-7      |\n",
      "|2021           |Gentlemen's Singles|Djokovic|Berrettini|[6-7, 6-4, 6-4, 6-3]       |2     |6-4      |\n",
      "|2021           |Gentlemen's Singles|Djokovic|Berrettini|[6-7, 6-4, 6-4, 6-3]       |3     |6-4      |\n",
      "|2021           |Gentlemen's Singles|Djokovic|Berrettini|[6-7, 6-4, 6-4, 6-3]       |4     |6-3      |\n",
      "|2017           |Ladies' Singles    |Muguruza|V Williams|[7-5, 6-0]                 |1     |7-5      |\n",
      "|2017           |Ladies' Singles    |Muguruza|V Williams|[7-5, 6-0]                 |2     |6-0      |\n",
      "|2018           |Ladies' Singles    |Kerber  |S Williams|[6-3, 6-3]                 |1     |6-3      |\n",
      "|2018           |Ladies' Singles    |Kerber  |S Williams|[6-3, 6-3]                 |2     |6-3      |\n",
      "|2019           |Ladies' Singles    |Halep   |S Williams|[6-2, 6-2]                 |1     |6-2      |\n",
      "+---------------+-------------------+--------+----------+---------------------------+------+---------+\n",
      "only showing top 20 rows\n",
      "\n"
     ]
    }
   ],
   "source": [
    "champions_posexplode = (champions\n",
    "                        .select(\"*\",\n",
    "                                F.posexplode(\"final_score\").alias(\"set_no\", \"set_score\"))\n",
    "                        # Add 1 to set number, as index starts from 0\n",
    "                        .withColumn(\"set_no\", F.col(\"set_no\") + 1))\n",
    "\n",
    "champions_posexplode.show(truncate=False)"
   ]
  },
  {
   "cell_type": "markdown",
   "metadata": {},
   "source": [
    "Combine with [`.filter()`](https://spark.apache.org/docs/latest/api/python/reference/api/pyspark.sql.DataFrame.filter.html) to extract just the result of the first set:"
   ]
  },
  {
   "cell_type": "code",
   "execution_count": 9,
   "metadata": {},
   "outputs": [
    {
     "name": "stdout",
     "output_type": "stream",
     "text": [
      "+---------------+-------------------+--------+----------+---------------------------+------+---------+\n",
      "|tournament_year|event              |champion|runner_up |final_score                |set_no|set_score|\n",
      "+---------------+-------------------+--------+----------+---------------------------+------+---------+\n",
      "|2017           |Gentlemen's Singles|Federer |Čilić     |[6-3, 6-1, 6-4]            |1     |6-3      |\n",
      "|2018           |Gentlemen's Singles|Djokovic|Anderson  |[6-2, 6-2, 7-6]            |1     |6-2      |\n",
      "|2019           |Gentlemen's Singles|Djokovic|Federer   |[7-6, 1-6, 7-6, 4-6, 13-12]|1     |7-6      |\n",
      "|2021           |Gentlemen's Singles|Djokovic|Berrettini|[6-7, 6-4, 6-4, 6-3]       |1     |6-7      |\n",
      "|2017           |Ladies' Singles    |Muguruza|V Williams|[7-5, 6-0]                 |1     |7-5      |\n",
      "|2018           |Ladies' Singles    |Kerber  |S Williams|[6-3, 6-3]                 |1     |6-3      |\n",
      "|2019           |Ladies' Singles    |Halep   |S Williams|[6-2, 6-2]                 |1     |6-2      |\n",
      "|2021           |Ladies' Singles    |Barty   |Plíšková  |[6-3, 6-7, 6-3]            |1     |6-3      |\n",
      "+---------------+-------------------+--------+----------+---------------------------+------+---------+\n",
      "\n"
     ]
    }
   ],
   "source": [
    "champions_posexplode.filter(F.col(\"set_no\") == 1).show(truncate=False)"
   ]
  },
  {
   "cell_type": "markdown",
   "metadata": {},
   "source": [
    "Use [`F.posexplode_outer()`](https://spark.apache.org/docs/latest/api/python/reference/api/pyspark.sql.functions.posexplode_outer.html) to retain the `null` values:"
   ]
  },
  {
   "cell_type": "code",
   "execution_count": 10,
   "metadata": {},
   "outputs": [
    {
     "name": "stdout",
     "output_type": "stream",
     "text": [
      "+---------------+-------------------+--------+----------+---------------------------+------+---------+\n",
      "|tournament_year|event              |champion|runner_up |final_score                |set_no|set_score|\n",
      "+---------------+-------------------+--------+----------+---------------------------+------+---------+\n",
      "|2017           |Gentlemen's Singles|Federer |Čilić     |[6-3, 6-1, 6-4]            |1     |6-3      |\n",
      "|2017           |Gentlemen's Singles|Federer |Čilić     |[6-3, 6-1, 6-4]            |2     |6-1      |\n",
      "|2017           |Gentlemen's Singles|Federer |Čilić     |[6-3, 6-1, 6-4]            |3     |6-4      |\n",
      "|2018           |Gentlemen's Singles|Djokovic|Anderson  |[6-2, 6-2, 7-6]            |1     |6-2      |\n",
      "|2018           |Gentlemen's Singles|Djokovic|Anderson  |[6-2, 6-2, 7-6]            |2     |6-2      |\n",
      "|2018           |Gentlemen's Singles|Djokovic|Anderson  |[6-2, 6-2, 7-6]            |3     |7-6      |\n",
      "|2019           |Gentlemen's Singles|Djokovic|Federer   |[7-6, 1-6, 7-6, 4-6, 13-12]|1     |7-6      |\n",
      "|2019           |Gentlemen's Singles|Djokovic|Federer   |[7-6, 1-6, 7-6, 4-6, 13-12]|2     |1-6      |\n",
      "|2019           |Gentlemen's Singles|Djokovic|Federer   |[7-6, 1-6, 7-6, 4-6, 13-12]|3     |7-6      |\n",
      "|2019           |Gentlemen's Singles|Djokovic|Federer   |[7-6, 1-6, 7-6, 4-6, 13-12]|4     |4-6      |\n",
      "|2019           |Gentlemen's Singles|Djokovic|Federer   |[7-6, 1-6, 7-6, 4-6, 13-12]|5     |13-12    |\n",
      "|2020           |Gentlemen's Singles|null    |null      |null                       |null  |null     |\n",
      "|2021           |Gentlemen's Singles|Djokovic|Berrettini|[6-7, 6-4, 6-4, 6-3]       |1     |6-7      |\n",
      "|2021           |Gentlemen's Singles|Djokovic|Berrettini|[6-7, 6-4, 6-4, 6-3]       |2     |6-4      |\n",
      "|2021           |Gentlemen's Singles|Djokovic|Berrettini|[6-7, 6-4, 6-4, 6-3]       |3     |6-4      |\n",
      "|2021           |Gentlemen's Singles|Djokovic|Berrettini|[6-7, 6-4, 6-4, 6-3]       |4     |6-3      |\n",
      "|2017           |Ladies' Singles    |Muguruza|V Williams|[7-5, 6-0]                 |1     |7-5      |\n",
      "|2017           |Ladies' Singles    |Muguruza|V Williams|[7-5, 6-0]                 |2     |6-0      |\n",
      "|2018           |Ladies' Singles    |Kerber  |S Williams|[6-3, 6-3]                 |1     |6-3      |\n",
      "|2018           |Ladies' Singles    |Kerber  |S Williams|[6-3, 6-3]                 |2     |6-3      |\n",
      "+---------------+-------------------+--------+----------+---------------------------+------+---------+\n",
      "only showing top 20 rows\n",
      "\n"
     ]
    }
   ],
   "source": [
    "champions_posexplode_outer = (champions\n",
    "                              .select(\"*\",\n",
    "                                      F.posexplode_outer(\"final_score\").alias(\"set_no\", \"set_score\"))\n",
    "                              # Add 1 to set number, as index starts from 0\n",
    "                              .withColumn(\"set_no\", F.col(\"set_no\") + 1))\n",
    "\n",
    "champions_posexplode_outer.show(truncate=False)"
   ]
  },
  {
   "cell_type": "markdown",
   "metadata": {},
   "source": [
    "### Further Resources\n",
    "\n",
    "Spark at the ONS Articles:\n",
    "- [Data Types in Spark](../spark-overview/data-types)\n",
    "\n",
    "PySpark Documentation\n",
    "- [`F.array()`](https://spark.apache.org/docs/latest/api/python/reference/api/pyspark.sql.functions.array.html)\n",
    "- [`spark.createDataFrame()`](https://spark.apache.org/docs/latest/api/python/reference/api/pyspark.sql.SparkSession.createDataFrame.html)\n",
    "- [`ArrayType()`](https://spark.apache.org/docs/latest/api/python/reference/api/pyspark.sql.types.ArrayType.html)\n",
    "- [`.dtypes`](https://spark.apache.org/docs/latest/api/python/reference/api/pyspark.sql.DataFrame.dtypes.html)\n",
    "- [`F.size()`](https://spark.apache.org/docs/latest/api/python/reference/api/pyspark.sql.functions.size.html)\n",
    "- [`F.concat_ws()`](https://spark.apache.org/docs/latest/api/python/reference/api/pyspark.sql.functions.concat_ws.html)\n",
    "- [`F.split()`](https://spark.apache.org/docs/latest/api/python/reference/api/pyspark.sql.functions.split.html)\n",
    "- [`F.explode()`](https://spark.apache.org/docs/latest/api/python/reference/api/pyspark.sql.functions.explode.html)\n",
    "- [`F.explode_outer()`](https://spark.apache.org/docs/latest/api/python/reference/api/pyspark.sql.functions.explode_outer.html)\n",
    "- [`F.posexplode()`](https://spark.apache.org/docs/latest/api/python/reference/api/pyspark.sql.functions.posexplode.html)\n",
    "- [`.select()`](https://spark.apache.org/docs/latest/api/python/reference/api/pyspark.sql.DataFrame.select.html)\n",
    "- [`.alias()`](https://spark.apache.org/docs/latest/api/python/reference/api/pyspark.sql.Column.alias.html)\n",
    "- [`.withColumn()`](https://spark.apache.org/docs/latest/api/python/reference/api/pyspark.sql.DataFrame.withColumn.html)\n",
    "- [`.filter()`](https://spark.apache.org/docs/latest/api/python/reference/api/pyspark.sql.DataFrame.filter.html)\n",
    "- [`F.posexplode_outer()`](https://spark.apache.org/docs/latest/api/python/reference/api/pyspark.sql.functions.posexplode_outer.html)\n",
    "\n",
    "[sparklyr Documentation](https://spark.rstudio.com/packages/sparklyr/latest/reference/):\n",
    "- [`hof_transform()`](https://spark.rstudio.com/packages/sparklyr/latest/reference/hof_transform.html)\n",
    "\n",
    "### Acknowledgements\n",
    "\n",
    "Thanks to [Johannes Hechler](https://github.com/JohannesHechler) for his material on PySpark arrays."
   ]
  }
 ],
 "metadata": {
  "kernelspec": {
   "display_name": "Python 3",
   "language": "python",
   "name": "python3"
  },
  "language_info": {
   "codemirror_mode": {
    "name": "ipython",
    "version": 3
   },
   "file_extension": ".py",
   "mimetype": "text/x-python",
   "name": "python",
   "nbconvert_exporter": "python",
   "pygments_lexer": "ipython3",
   "version": "3.6.8"
  }
 },
 "nbformat": 4,
 "nbformat_minor": 2
}
