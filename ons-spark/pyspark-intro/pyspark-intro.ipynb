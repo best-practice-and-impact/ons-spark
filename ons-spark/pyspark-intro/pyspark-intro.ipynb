{
 "cells": [
  {
   "cell_type": "markdown",
   "metadata": {},
   "source": [
    "## Introduction to PySpark\n",
    "\n",
    "This article aims to give hands on experience in working with the DataFrame API in PySpark. You can download this article as a notebook and run the code yourself by clicking on the download button above and selecting `.ipynb`.\n",
    "\n",
    "We will not aim to cover all the PySpark DataFrame functionality or go into detail of how Spark works, but instead focus on practicality by performing some common operations on an example dataset. There are a handful of exercises that you can complete while reading this article.\n",
    "\n",
    "Prerequisites for this article are some basic knowledge of Python and pandas. If you are completely new to Python then it is recommended to complete an introductory course first; your organisation may have specific Python training. Other resources include the [Python Tutorial](https://docs.python.org/3/tutorial/) and [10 Minutes to pandas](https://pandas.pydata.org/pandas-docs/stable/user_guide/10min.html). If you are an R user, the [Introduction to sparklyr](../sparklyr-intro/sparklyr-intro) article follows similar format.\n",
    "\n",
    "### PySpark: a quick introduction\n",
    "\n",
    "Although this article focusses on practical usage to enable you to quickly use PySpark, you do need to understand some basic theory of Spark and distributed computing.\n",
    "\n",
    "Spark is a powerful tool used to process huge data in an efficient way. We can access Spark in Python with the PySpark package. Spark has DataFrames, consisting of rows and columns, similar to pandas. Many of the operations are also similar, if not identically named: e.g. you can select and add columns, filter rows, group and aggregate.\n",
    "\n",
    "The key difference between PySpark and pandas is where the DataFrame is processed:\n",
    "- pandas DataFrames are processed on the *driver*; this could be on a local machine using a desktop IDE such as Spyder or PyCharm, or on a server, e.g. in a dedicated Docker container (such as a CDSW session). The amount of data you can process is limited to the driver memory, so pandas is suitable for smaller data.\n",
    "- PySpark DataFrames are processed on the *Spark cluster*. This is a big pool of linked machines, called *nodes*. PySpark DataFrames are distributed into *partitions*, and are processed in parallel on the nodes in the Spark cluster. You can have much greater memory capacity with Spark and so is suitable for big data.\n",
    "\n",
    "The DataFrame is also processed differently:\n",
    "- In pandas, the DataFrame changes in memory at each point, e.g. you could create a DataFrame by reading from a CSV file, select some columns, filter the rows, add a column and then write the data out. With each operation, the DataFrame is physically changing in memory. This can be useful for debugging as it is easy to see intermediate outputs.\n",
    "- In PySpark, DataFrames are *lazily evaluated*. We give Spark a set of instructions, called *transformations*, which are only evaluated when necessary, for instance to get a row count or write out data to a file, referred to as an *action*. In the example above, the plan is triggered once the data are set to write out to a file.\n",
    "\n",
    "For more detail on how Spark works, you can refer to the articles in the Understanding and Optimising Spark chapter of this book. [Databricks: Learning Spark](https://pages.databricks.com/rs/094-YMS-629/images/LearningSpark2.0.pdf) is another useful resource.\n",
    "\n",
    "### The `pyspark` Package\n",
    "\n",
    "As with all coding scripts or notebooks the first thing we do is to import the relevant packages. When coding in PySpark there are two particular imports we need.\n",
    "\n",
    "Firstly we will import the [`SparkSession`](https://spark.apache.org/docs/latest/api/python/reference/pyspark.sql/api/pyspark.sql.SparkSession.html) class, which we will use to create a `SparkSession` object for processing data using Spark. \n",
    "\n",
    "The second is the [`pyspark.sql.functions`](https://spark.apache.org/docs/latest/api/python/reference/pyspark.sql/functions.html) module, which contain functions that can be applied to Spark DataFrames, or columns within the DataFrames. The standard method is to [import the `functions` module with the alias `F`](../ancillary-topics/module-imports), which means whenever we want to call a function from this module we write `F.function_name()`."
   ]
  },
  {
   "cell_type": "code",
   "execution_count": 14,
   "metadata": {},
   "outputs": [],
   "source": [
    "from pyspark.sql import SparkSession\n",
    "import pyspark.sql.functions as F"
   ]
  },
  {
   "cell_type": "markdown",
   "metadata": {},
   "source": [
    "We will also want to import the [`pandas`](https://pandas.pydata.org/) module as `pd` as it makes viewing data much easier and neater, and `yaml` for reading the config file, which contains the file path of the source data."
   ]
  },
  {
   "cell_type": "code",
   "execution_count": 15,
   "metadata": {},
   "outputs": [],
   "source": [
    "import pandas as pd\n",
    "\n",
    "\n",
    "import yaml\n",
    "\n",
    "with open(\"../../config.yaml\") as f:\n",
    "    config = yaml.safe_load(f)"
   ]
  },
  {
   "cell_type": "markdown",
   "metadata": {},
   "source": [
    "As `pyspark.sql.functions` is just a Python package, [`dir()`](https://docs.python.org/3/library/functions.html#dir) to list the functions and [`help()`](https://docs.python.org/3/library/functions.html#help) both work as normal, although the easiest way is to look at the [documentation](https://spark.apache.org/docs/latest/api/python/reference/pyspark.sql/functions.html). There are a lot of functions in this module and you will be very unlikely to use them all.\n",
    "\n",
    "### Create a Spark session: `SparkSession.builder`\n",
    "\n",
    "With our `SparkSession` class imported we now want to create a connection to the Spark cluster. We use [`SparkSession.builder`](https://spark.apache.org/docs/latest/api/python/reference/pyspark.sql/api/pyspark.sql.SparkSession.html#pyspark.sql.SparkSession.builder) and assign this to `spark`. `SparkSession.builder` has many options; see the [Guidance on Spark Sessions](../spark-overview/spark-session-guidance) and also [Example Spark Sessions](../spark-overview/example-spark-sessions) to get an idea of what sized session to use.\n",
    "\n",
    "For this article, we are using a tiny dataset by Spark standards, and so are using a *local* session. This also means that you can run this code without having access to a Spark cluster.\n",
    "\n",
    "Note that only one Spark session can be running at once. If a session already exists then a new one will not created, instead the connection to the existing session will be used, hence the [`.getOrCreate()`](https://spark.apache.org/docs/latest/api/python/reference/pyspark.sql/api/pyspark.sql.SparkSession.builder.getOrCreate.html) method."
   ]
  },
  {
   "cell_type": "code",
   "execution_count": 16,
   "metadata": {},
   "outputs": [],
   "source": [
    "spark = (SparkSession.builder.master(\"local[2]\")\n",
    "         .appName(\"pyspark-intro\")\n",
    "         .getOrCreate())\n",
    "\n",
    "sc = spark.sparkContext\n",
    "sc.setLogLevel(\"OFF\")"
   ]
  },
  {
   "cell_type": "markdown",
   "metadata": {},
   "source": [
    "### Reading data: `spark.read.csv()`\n",
    "\n",
    "For this article we will look at some open data on animal rescue incidents from the London Fire Brigade. The data are stored as a CSV, although the parquet file format is the most common when using Spark. The reason for using CSV in this article is because it is a familiar file format and allows you to adapt this code easily for your own sample data. See the article on [Reading Data in PySpark](../pyspark-intro/reading-data-pyspark) for more information.\n",
    "\n",
    "Often your data will be large and stored using Hadoop, on the Hadoop Distributed File System (HDFS). This example uses a local file, enabling us to get started quickly; see the article on [Data Storage](../spark-overview/data-storage) for more information.\n",
    "\n",
    "To read in from a CSV file, use [`spark.read.csv()`](https://spark.apache.org/docs/latest/api/python/reference/pyspark.sql/api/pyspark.sql.DataFrameReader.csv.html). The file path is stored in the config file as `rescue_path_csv`. Using `header=True` means that the DataFrame will use the column headers from the CSV as the column names. CSV files do not contain information about the [data types](../spark-overview/data-types), so use `inferSchema=True` which makes Spark scan the file to infer the data types."
   ]
  },
  {
   "cell_type": "code",
   "execution_count": 17,
   "metadata": {},
   "outputs": [],
   "source": [
    "rescue_path_csv = config[\"rescue_path_csv\"]\n",
    "\n",
    "rescue = spark.read.csv(rescue_path_csv, header=True, inferSchema=True)"
   ]
  },
  {
   "cell_type": "markdown",
   "metadata": {},
   "source": [
    "### Preview data: `.printSchema()`\n",
    "\n",
    "To view the column names and data types use [`.printSchema()`](https://spark.apache.org/docs/latest/api/python/reference/pyspark.sql/api/pyspark.sql.DataFrame.printSchema.html). This will not return any actual data."
   ]
  },
  {
   "cell_type": "code",
   "execution_count": 8,
   "metadata": {},
   "outputs": [
    {
     "name": "stdout",
     "output_type": "stream",
     "text": [
      "root\n",
      " |-- IncidentNumber: string (nullable = true)\n",
      " |-- DateTimeOfCall: string (nullable = true)\n",
      " |-- CalYear: integer (nullable = true)\n",
      " |-- FinYear: string (nullable = true)\n",
      " |-- TypeOfIncident: string (nullable = true)\n",
      " |-- PumpCount: double (nullable = true)\n",
      " |-- PumpHoursTotal: double (nullable = true)\n",
      " |-- HourlyNotionalCost(£): integer (nullable = true)\n",
      " |-- IncidentNotionalCost(£): double (nullable = true)\n",
      " |-- FinalDescription: string (nullable = true)\n",
      " |-- AnimalGroupParent: string (nullable = true)\n",
      " |-- OriginofCall: string (nullable = true)\n",
      " |-- PropertyType: string (nullable = true)\n",
      " |-- PropertyCategory: string (nullable = true)\n",
      " |-- SpecialServiceTypeCategory: string (nullable = true)\n",
      " |-- SpecialServiceType: string (nullable = true)\n",
      " |-- WardCode: string (nullable = true)\n",
      " |-- Ward: string (nullable = true)\n",
      " |-- BoroughCode: string (nullable = true)\n",
      " |-- Borough: string (nullable = true)\n",
      " |-- StnGroundName: string (nullable = true)\n",
      " |-- PostcodeDistrict: string (nullable = true)\n",
      " |-- Easting_m: double (nullable = true)\n",
      " |-- Northing_m: double (nullable = true)\n",
      " |-- Easting_rounded: integer (nullable = true)\n",
      " |-- Northing_rounded: integer (nullable = true)\n",
      "\n"
     ]
    }
   ],
   "source": [
    "rescue.printSchema()"
   ]
  },
  {
   "cell_type": "markdown",
   "metadata": {},
   "source": [
    "### Show data: `.show()`\n",
    "\n",
    "The [`.show()`](https://spark.apache.org/docs/latest/api/python/reference/pyspark.sql/api/pyspark.sql.DataFrame.show.html) function is an action that previews a DataFrame. `.show()` is an *action*, meaning that all previous *transformations* will be ran on the Spark cluster; often this will have many *transformations*, but here we only have one, reading in the data.\n",
    "\n",
    "By default `.show()` will display 20 rows and will truncate the columns to a fixed width.\n",
    "\n",
    "When there are many columns the output can be hard to read, e.g. although the output of `.show(3)` looks fine in this article, in the notebook version every row will appear over several lines:"
   ]
  },
  {
   "cell_type": "code",
   "execution_count": 9,
   "metadata": {},
   "outputs": [
    {
     "name": "stdout",
     "output_type": "stream",
     "text": [
      "+--------------+----------------+-------+-------+---------------+---------+--------------+---------------------+-----------------------+--------------------+-----------------+------------------+--------------------+-----------------+--------------------------+--------------------+---------+--------------------+-----------+-------+-------------+----------------+---------+----------+---------------+----------------+\n",
      "|IncidentNumber|  DateTimeOfCall|CalYear|FinYear| TypeOfIncident|PumpCount|PumpHoursTotal|HourlyNotionalCost(£)|IncidentNotionalCost(£)|    FinalDescription|AnimalGroupParent|      OriginofCall|        PropertyType| PropertyCategory|SpecialServiceTypeCategory|  SpecialServiceType| WardCode|                Ward|BoroughCode|Borough|StnGroundName|PostcodeDistrict|Easting_m|Northing_m|Easting_rounded|Northing_rounded|\n",
      "+--------------+----------------+-------+-------+---------------+---------+--------------+---------------------+-----------------------+--------------------+-----------------+------------------+--------------------+-----------------+--------------------------+--------------------+---------+--------------------+-----------+-------+-------------+----------------+---------+----------+---------------+----------------+\n",
      "|        139091|01/01/2009 03:01|   2009|2008/09|Special Service|      1.0|           2.0|                  255|                  510.0|DOG WITH JAW TRAP...|              Dog|Person (land line)|House - single oc...|         Dwelling|      Other animal assi...|Animal assistance...|E05011467|Crystal Palace & ...|  E09000008|Croydon|      Norbury|            SE19|     null|      null|         532350|          170050|\n",
      "|        275091|01/01/2009 08:51|   2009|2008/09|Special Service|      1.0|           1.0|                  255|                  255.0|ASSIST RSPCA WITH...|              Fox|Person (land line)|            Railings|Outdoor Structure|      Other animal assi...|Animal assistance...|E05000169|            Woodside|  E09000008|Croydon|     Woodside|            SE25| 534785.0|  167546.0|         534750|          167550|\n",
      "|       2075091|04/01/2009 10:07|   2009|2008/09|Special Service|      1.0|           1.0|                  255|                  255.0|DOG CAUGHT IN DRA...|              Dog|   Person (mobile)|      Pipe or drain |Outdoor Structure|      Animal rescue fro...|Animal rescue fro...|E05000558|  Carshalton Central|  E09000029| Sutton|   Wallington|             SM5| 528041.0|  164923.0|         528050|          164950|\n",
      "+--------------+----------------+-------+-------+---------------+---------+--------------+---------------------+-----------------------+--------------------+-----------------+------------------+--------------------+-----------------+--------------------------+--------------------+---------+--------------------+-----------+-------+-------------+----------------+---------+----------+---------------+----------------+\n",
      "only showing top 3 rows\n",
      "\n"
     ]
    }
   ],
   "source": [
    "rescue.show(3)"
   ]
  },
  {
   "cell_type": "markdown",
   "metadata": {},
   "source": [
    "### Convert to pandas: `.toPandas()`\n",
    "\n",
    "The returned results can look pretty ugly with `.show()` when you have a lot of columns, so often the best way to view the data is to convert to a pandas DataFrame. Be careful: the DataFrame is currently on the *Spark cluster* with lots of memory capacity, whereas pandas DataFrames are stored on the *driver*, which will have much less. Trying to use [`.toPandas()`](https://spark.apache.org/docs/latest/api/python/reference/pyspark.sql/api/pyspark.sql.DataFrame.toPandas.html) and a huge PySpark DF will not work. If converting to a pandas DF just to view the data, use [`.limit()`](https://spark.apache.org/docs/latest/api/python/reference/pyspark.sql/api/pyspark.sql.DataFrame.limit.html) to just bring back a small number of rows.\n",
    "\n",
    "`.toPandas()` is an *action* and will process the whole plan on the Spark cluster. In this example, it will read the CSV file, return three rows, and then convert the result to the driver as a pandas DF."
   ]
  },
  {
   "cell_type": "code",
   "execution_count": 22,
   "metadata": {},
   "outputs": [
    {
     "data": {
      "text/html": [
       "<style>div.output_scroll { height: 44em; }</style>"
      ],
      "text/plain": [
       "<IPython.core.display.HTML object>"
      ]
     },
     "metadata": {},
     "output_type": "display_data"
    },
    {
     "data": {
      "text/html": [
       "<div>\n",
       "<style scoped>\n",
       "    .dataframe tbody tr th:only-of-type {\n",
       "        vertical-align: middle;\n",
       "    }\n",
       "\n",
       "    .dataframe tbody tr th {\n",
       "        vertical-align: top;\n",
       "    }\n",
       "\n",
       "    .dataframe thead th {\n",
       "        text-align: right;\n",
       "    }\n",
       "</style>\n",
       "<table border=\"1\" class=\"dataframe\">\n",
       "  <thead>\n",
       "    <tr style=\"text-align: right;\">\n",
       "      <th></th>\n",
       "      <th>IncidentNumber</th>\n",
       "      <th>DateTimeOfCall</th>\n",
       "      <th>CalYear</th>\n",
       "      <th>FinYear</th>\n",
       "      <th>TypeOfIncident</th>\n",
       "      <th>PumpCount</th>\n",
       "      <th>PumpHoursTotal</th>\n",
       "      <th>HourlyNotionalCost(£)</th>\n",
       "      <th>IncidentNotionalCost(£)</th>\n",
       "      <th>FinalDescription</th>\n",
       "      <th>AnimalGroupParent</th>\n",
       "      <th>OriginofCall</th>\n",
       "      <th>PropertyType</th>\n",
       "      <th>PropertyCategory</th>\n",
       "      <th>SpecialServiceTypeCategory</th>\n",
       "      <th>SpecialServiceType</th>\n",
       "      <th>WardCode</th>\n",
       "      <th>Ward</th>\n",
       "      <th>BoroughCode</th>\n",
       "      <th>Borough</th>\n",
       "      <th>StnGroundName</th>\n",
       "      <th>PostcodeDistrict</th>\n",
       "      <th>Easting_m</th>\n",
       "      <th>Northing_m</th>\n",
       "      <th>Easting_rounded</th>\n",
       "      <th>Northing_rounded</th>\n",
       "    </tr>\n",
       "  </thead>\n",
       "  <tbody>\n",
       "    <tr>\n",
       "      <th>0</th>\n",
       "      <td>139091</td>\n",
       "      <td>01/01/2009 03:01</td>\n",
       "      <td>2009</td>\n",
       "      <td>2008/09</td>\n",
       "      <td>Special Service</td>\n",
       "      <td>1.0</td>\n",
       "      <td>2.0</td>\n",
       "      <td>255</td>\n",
       "      <td>510.0</td>\n",
       "      <td>DOG WITH JAW TRAPPED IN MAGAZINE RACK,B15</td>\n",
       "      <td>Dog</td>\n",
       "      <td>Person (land line)</td>\n",
       "      <td>House - single occupancy</td>\n",
       "      <td>Dwelling</td>\n",
       "      <td>Other animal assistance</td>\n",
       "      <td>Animal assistance involving livestock - Other ...</td>\n",
       "      <td>E05011467</td>\n",
       "      <td>Crystal Palace &amp; Upper Norwood</td>\n",
       "      <td>E09000008</td>\n",
       "      <td>Croydon</td>\n",
       "      <td>Norbury</td>\n",
       "      <td>SE19</td>\n",
       "      <td>NaN</td>\n",
       "      <td>NaN</td>\n",
       "      <td>532350</td>\n",
       "      <td>170050</td>\n",
       "    </tr>\n",
       "    <tr>\n",
       "      <th>1</th>\n",
       "      <td>275091</td>\n",
       "      <td>01/01/2009 08:51</td>\n",
       "      <td>2009</td>\n",
       "      <td>2008/09</td>\n",
       "      <td>Special Service</td>\n",
       "      <td>1.0</td>\n",
       "      <td>1.0</td>\n",
       "      <td>255</td>\n",
       "      <td>255.0</td>\n",
       "      <td>ASSIST RSPCA WITH FOX TRAPPED,B15</td>\n",
       "      <td>Fox</td>\n",
       "      <td>Person (land line)</td>\n",
       "      <td>Railings</td>\n",
       "      <td>Outdoor Structure</td>\n",
       "      <td>Other animal assistance</td>\n",
       "      <td>Animal assistance involving livestock - Other ...</td>\n",
       "      <td>E05000169</td>\n",
       "      <td>Woodside</td>\n",
       "      <td>E09000008</td>\n",
       "      <td>Croydon</td>\n",
       "      <td>Woodside</td>\n",
       "      <td>SE25</td>\n",
       "      <td>534785.0</td>\n",
       "      <td>167546.0</td>\n",
       "      <td>534750</td>\n",
       "      <td>167550</td>\n",
       "    </tr>\n",
       "    <tr>\n",
       "      <th>2</th>\n",
       "      <td>2075091</td>\n",
       "      <td>04/01/2009 10:07</td>\n",
       "      <td>2009</td>\n",
       "      <td>2008/09</td>\n",
       "      <td>Special Service</td>\n",
       "      <td>1.0</td>\n",
       "      <td>1.0</td>\n",
       "      <td>255</td>\n",
       "      <td>255.0</td>\n",
       "      <td>DOG CAUGHT IN DRAIN,B15</td>\n",
       "      <td>Dog</td>\n",
       "      <td>Person (mobile)</td>\n",
       "      <td>Pipe or drain</td>\n",
       "      <td>Outdoor Structure</td>\n",
       "      <td>Animal rescue from below ground</td>\n",
       "      <td>Animal rescue from below ground - Domestic pet</td>\n",
       "      <td>E05000558</td>\n",
       "      <td>Carshalton Central</td>\n",
       "      <td>E09000029</td>\n",
       "      <td>Sutton</td>\n",
       "      <td>Wallington</td>\n",
       "      <td>SM5</td>\n",
       "      <td>528041.0</td>\n",
       "      <td>164923.0</td>\n",
       "      <td>528050</td>\n",
       "      <td>164950</td>\n",
       "    </tr>\n",
       "  </tbody>\n",
       "</table>\n",
       "</div>"
      ],
      "text/plain": [
       "  IncidentNumber    DateTimeOfCall  CalYear  FinYear   TypeOfIncident  \\\n",
       "0         139091  01/01/2009 03:01     2009  2008/09  Special Service   \n",
       "1         275091  01/01/2009 08:51     2009  2008/09  Special Service   \n",
       "2        2075091  04/01/2009 10:07     2009  2008/09  Special Service   \n",
       "\n",
       "   PumpCount  PumpHoursTotal  HourlyNotionalCost(£)  IncidentNotionalCost(£)  \\\n",
       "0        1.0             2.0                    255                    510.0   \n",
       "1        1.0             1.0                    255                    255.0   \n",
       "2        1.0             1.0                    255                    255.0   \n",
       "\n",
       "                            FinalDescription AnimalGroupParent  \\\n",
       "0  DOG WITH JAW TRAPPED IN MAGAZINE RACK,B15               Dog   \n",
       "1          ASSIST RSPCA WITH FOX TRAPPED,B15               Fox   \n",
       "2                    DOG CAUGHT IN DRAIN,B15               Dog   \n",
       "\n",
       "         OriginofCall               PropertyType   PropertyCategory  \\\n",
       "0  Person (land line)  House - single occupancy            Dwelling   \n",
       "1  Person (land line)                   Railings  Outdoor Structure   \n",
       "2     Person (mobile)             Pipe or drain   Outdoor Structure   \n",
       "\n",
       "        SpecialServiceTypeCategory  \\\n",
       "0          Other animal assistance   \n",
       "1          Other animal assistance   \n",
       "2  Animal rescue from below ground   \n",
       "\n",
       "                                  SpecialServiceType   WardCode  \\\n",
       "0  Animal assistance involving livestock - Other ...  E05011467   \n",
       "1  Animal assistance involving livestock - Other ...  E05000169   \n",
       "2     Animal rescue from below ground - Domestic pet  E05000558   \n",
       "\n",
       "                             Ward BoroughCode  Borough StnGroundName  \\\n",
       "0  Crystal Palace & Upper Norwood   E09000008  Croydon       Norbury   \n",
       "1                        Woodside   E09000008  Croydon      Woodside   \n",
       "2              Carshalton Central   E09000029   Sutton    Wallington   \n",
       "\n",
       "  PostcodeDistrict  Easting_m  Northing_m  Easting_rounded  Northing_rounded  \n",
       "0             SE19        NaN         NaN           532350            170050  \n",
       "1             SE25   534785.0    167546.0           534750            167550  \n",
       "2              SM5   528041.0    164923.0           528050            164950  "
      ]
     },
     "execution_count": 22,
     "metadata": {},
     "output_type": "execute_result"
    }
   ],
   "source": [
    "rescue.limit(3).toPandas()"
   ]
  },
  {
   "cell_type": "markdown",
   "metadata": {},
   "source": [
    "See the article on [Returning Data from Cluster to Driver](../pyspark-intro/returning-data) for more details.\n",
    "\n",
    "### Select columns `.select()`\n",
    "\n",
    "Often your data will have too many columns that are not relevant, so we can use [`.select()`](https://spark.apache.org/docs/latest/api/python/reference/pyspark.sql/api/pyspark.sql.DataFrame.select.html) to just get the ones that are of interest. In our example, we can reduce the number of columns returned so that the output of `.show()` is much neater.\n",
    "\n",
    "Selecting columns is a *transformation*, and so will only be processed once an *action* is called. As such we are chaining this with `.show()` to preview the data:"
   ]
  },
  {
   "cell_type": "code",
   "execution_count": 8,
   "metadata": {},
   "outputs": [
    {
     "name": "stdout",
     "output_type": "stream",
     "text": [
      "+--------------+----------------+-----------------------------------------+\n",
      "|IncidentNumber|DateTimeofCall  |FinalDescription                         |\n",
      "+--------------+----------------+-----------------------------------------+\n",
      "|139091        |01/01/2009 03:01|DOG WITH JAW TRAPPED IN MAGAZINE RACK,B15|\n",
      "|275091        |01/01/2009 08:51|ASSIST RSPCA WITH FOX TRAPPED,B15        |\n",
      "|2075091       |04/01/2009 10:07|DOG CAUGHT IN DRAIN,B15                  |\n",
      "|2872091       |05/01/2009 12:27|HORSE TRAPPED IN LAKE,J17                |\n",
      "|3553091       |06/01/2009 15:23|RABBIT TRAPPED UNDER SOFA,B15            |\n",
      "+--------------+----------------+-----------------------------------------+\n",
      "only showing top 5 rows\n",
      "\n"
     ]
    }
   ],
   "source": [
    "(rescue\n",
    "    .select(\"IncidentNumber\", \"DateTimeofCall\", \"FinalDescription\")\n",
    "    .show(5, truncate=False))"
   ]
  },
  {
   "cell_type": "markdown",
   "metadata": {},
   "source": [
    "### Get the row count: `.count()`\n",
    "\n",
    "Sometimes you data will be small enough that you do not even need to use Spark. As such it is useful to know the row count, and then make the decision on whether to use Spark or just use pandas.\n",
    "\n",
    "Note that unlike pandas DataFrames the row count is not automatically determined when the data are read in as a PySpark DataFrame. This is an example of *lazy evaluation*. As such, [`.count()`](https://spark.apache.org/docs/latest/api/python/reference/pyspark.sql/api/pyspark.sql.DataFrame.count.html) is an *action* and has to be explicitly called."
   ]
  },
  {
   "cell_type": "code",
   "execution_count": 9,
   "metadata": {},
   "outputs": [
    {
     "data": {
      "text/plain": [
       "5898"
      ]
     },
     "execution_count": 9,
     "metadata": {},
     "output_type": "execute_result"
    }
   ],
   "source": [
    "rescue.count()"
   ]
  },
  {
   "cell_type": "markdown",
   "metadata": {},
   "source": [
    "### Drop columns: `.drop()`\n",
    "\n",
    "[`.drop()`](https://spark.apache.org/docs/latest/api/python/reference/pyspark.sql/api/pyspark.sql.DataFrame.drop.html) is the opposite of `select()`; we specify the columns that we want to remove. There are a lot of columns related to the location of the animal rescue incidents that we will not use that can be removed with `.drop()`. You do not need to specify the columns as a list with `[]`, just use a comma separator.\n",
    "\n",
    "Note that we have written over the our previous DataFrame by re-assiging to `rescue`; unlike pandas DFs, PySpark DFs are *immutable*.\n",
    "\n",
    "We then use `.printSchema()` to verify that the columns have been removed."
   ]
  },
  {
   "cell_type": "code",
   "execution_count": 10,
   "metadata": {},
   "outputs": [
    {
     "name": "stdout",
     "output_type": "stream",
     "text": [
      "root\n",
      " |-- IncidentNumber: string (nullable = true)\n",
      " |-- DateTimeOfCall: string (nullable = true)\n",
      " |-- CalYear: integer (nullable = true)\n",
      " |-- FinYear: string (nullable = true)\n",
      " |-- TypeOfIncident: string (nullable = true)\n",
      " |-- PumpCount: double (nullable = true)\n",
      " |-- PumpHoursTotal: double (nullable = true)\n",
      " |-- HourlyNotionalCost(£): integer (nullable = true)\n",
      " |-- IncidentNotionalCost(£): double (nullable = true)\n",
      " |-- FinalDescription: string (nullable = true)\n",
      " |-- AnimalGroupParent: string (nullable = true)\n",
      " |-- OriginofCall: string (nullable = true)\n",
      " |-- PropertyType: string (nullable = true)\n",
      " |-- PropertyCategory: string (nullable = true)\n",
      " |-- SpecialServiceTypeCategory: string (nullable = true)\n",
      " |-- SpecialServiceType: string (nullable = true)\n",
      " |-- Ward: string (nullable = true)\n",
      " |-- Borough: string (nullable = true)\n",
      " |-- StnGroundName: string (nullable = true)\n",
      " |-- PostcodeDistrict: string (nullable = true)\n",
      "\n"
     ]
    }
   ],
   "source": [
    "rescue = rescue.drop(\n",
    "    \"WardCode\",\n",
    "    \"BoroughCode\",\n",
    "    \"Easting_m\",\n",
    "    \"Northing_m\",\n",
    "    \"Easting_rounded\",\n",
    "    \"Northing_rounded\"\n",
    ")\n",
    "\n",
    "rescue.printSchema()"
   ]
  },
  {
   "cell_type": "markdown",
   "metadata": {},
   "source": [
    "### Rename columns: `.withColumnRenamed()`\n",
    "\n",
    "The source data has the column names in `CamelCase`, but when using Python we generally prefer to use `snake_case`. The source data also has columns containing special characters (`£`) which can be problematic when writing out data as it is not compatible will all storage formats.\n",
    "\n",
    "To rename columns, use [`.withColumnRenamed()`](https://spark.apache.org/docs/latest/api/python/reference/pyspark.sql/api/pyspark.sql.DataFrame.withColumnRenamed.html). This has two arguments: the original column name, followed by the new name. You need a separate `.withColumnRenamed()` statement for each column name but can chain these together. Once again we are re-assigning the DataFrame as it is immutable."
   ]
  },
  {
   "cell_type": "code",
   "execution_count": 11,
   "metadata": {},
   "outputs": [
    {
     "name": "stdout",
     "output_type": "stream",
     "text": [
      "root\n",
      " |-- incident_number: string (nullable = true)\n",
      " |-- DateTimeOfCall: string (nullable = true)\n",
      " |-- cal_year: integer (nullable = true)\n",
      " |-- FinYear: string (nullable = true)\n",
      " |-- TypeOfIncident: string (nullable = true)\n",
      " |-- engine_count: double (nullable = true)\n",
      " |-- job_hours: double (nullable = true)\n",
      " |-- HourlyNotionalCost(£): integer (nullable = true)\n",
      " |-- total_cost: double (nullable = true)\n",
      " |-- FinalDescription: string (nullable = true)\n",
      " |-- animal_group: string (nullable = true)\n",
      " |-- OriginofCall: string (nullable = true)\n",
      " |-- PropertyType: string (nullable = true)\n",
      " |-- PropertyCategory: string (nullable = true)\n",
      " |-- SpecialServiceTypeCategory: string (nullable = true)\n",
      " |-- SpecialServiceType: string (nullable = true)\n",
      " |-- Ward: string (nullable = true)\n",
      " |-- Borough: string (nullable = true)\n",
      " |-- StnGroundName: string (nullable = true)\n",
      " |-- PostcodeDistrict: string (nullable = true)\n",
      "\n"
     ]
    }
   ],
   "source": [
    "rescue = (rescue\n",
    "          .withColumnRenamed(\"IncidentNumber\", \"incident_number\")\n",
    "          .withColumnRenamed(\"AnimalGroupParent\", \"animal_group\")\n",
    "          .withColumnRenamed(\"CalYear\", \"cal_year\")\n",
    "          .withColumnRenamed(\"IncidentNotionalCost(£)\", \"total_cost\")\n",
    "          .withColumnRenamed(\"PumpHoursTotal\", \"job_hours\")\n",
    "          .withColumnRenamed(\"PumpCount\", \"engine_count\"))\n",
    "\n",
    "rescue.printSchema()"
   ]
  },
  {
   "cell_type": "markdown",
   "metadata": {},
   "source": [
    "Be careful using `.withColumnRenamed()`; if the column is not in the DataFrame then nothing will happen and an error will not be raised until you try and use the new column name.\n",
    "\n",
    "### Exercise 1\n",
    "\n",
    "#### Exercise 1a\n",
    "\n",
    "Rename the following columns in the `rescue` DataFrame:\n",
    "\n",
    "`FinalDescription` --> `description`\n",
    "\n",
    "`PostcodeDistrict` --> `postcode_district`\n",
    "\n",
    "#### Exercise 1b\n",
    "\n",
    "Select these columns and the six columns that were renamed in the cell above; you should have eight in total. Reassign the result to the `rescue` DataFrame.\n",
    "\n",
    "#### Exercise 1c\n",
    "\n",
    "Preview the first five rows of the DataFrame.\n",
    "\n",
    "<details>\n",
    "<summary><b>Exercise 1: Solution</b></summary>"
   ]
  },
  {
   "cell_type": "code",
   "execution_count": 12,
   "metadata": {},
   "outputs": [
    {
     "name": "stdout",
     "output_type": "stream",
     "text": [
      "+---------------+------------+--------+----------+---------+------------+--------------------+-----------------+\n",
      "|incident_number|animal_group|cal_year|total_cost|job_hours|engine_count|         description|postcode_district|\n",
      "+---------------+------------+--------+----------+---------+------------+--------------------+-----------------+\n",
      "|         139091|         Dog|    2009|     510.0|      2.0|         1.0|DOG WITH JAW TRAP...|             SE19|\n",
      "|         275091|         Fox|    2009|     255.0|      1.0|         1.0|ASSIST RSPCA WITH...|             SE25|\n",
      "|        2075091|         Dog|    2009|     255.0|      1.0|         1.0|DOG CAUGHT IN DRA...|              SM5|\n",
      "|        2872091|       Horse|    2009|     255.0|      1.0|         1.0|HORSE TRAPPED IN ...|              UB9|\n",
      "|        3553091|      Rabbit|    2009|     255.0|      1.0|         1.0|RABBIT TRAPPED UN...|              RM3|\n",
      "+---------------+------------+--------+----------+---------+------------+--------------------+-----------------+\n",
      "only showing top 5 rows\n",
      "\n"
     ]
    }
   ],
   "source": [
    "# 1a: Chain two .withColumnRenamed() operations\n",
    "rescue = (rescue\n",
    "          .withColumnRenamed(\"FinalDescription\", \"description\")\n",
    "          .withColumnRenamed(\"PostcodeDistrict\", \"postcode_district\"))\n",
    "\n",
    "# 1b: Select the eight columns and assign to rescue\n",
    "rescue = rescue.select(\n",
    "    \"incident_number\",\n",
    "    \"animal_group\",\n",
    "    \"cal_year\",\n",
    "    \"total_cost\",\n",
    "    \"job_hours\",\n",
    "    \"engine_count\",\n",
    "    \"description\",\n",
    "    \"postcode_district\")\n",
    "\n",
    "# 1c Preview with .show(); can also use .limit(5).toPandas()\n",
    "rescue.show(5)"
   ]
  },
  {
   "cell_type": "markdown",
   "metadata": {},
   "source": [
    "</details>\n",
    "\n",
    "### Filter rows: `.filter()` and `F.col()`\n",
    "\n",
    "Rows of PySpark DataFrames can be filtered with [`.filter()`](https://spark.apache.org/docs/latest/api/python/reference/pyspark.sql/api/pyspark.sql.DataFrame.filter.html), which takes a logical condition. [`F.col()`](https://spark.apache.org/docs/latest/api/python/reference/pyspark.sql/api/pyspark.sql.functions.col.html) is used to reference a column in a DataFrame by name and is the [most robust method to use](../pyspark-intro/f-col).\n",
    "\n",
    "For instance, if we want to select all the rows where `animal_group` is equal to `Hamster`, we can use `F.col(\"animal_group\") == \"Hamster\")`. Note the double equals sign used in a condition. We do not want to change the `rescue` DataFrame, so assign it to a new DF, `hamsters`:"
   ]
  },
  {
   "cell_type": "code",
   "execution_count": 13,
   "metadata": {},
   "outputs": [
    {
     "name": "stdout",
     "output_type": "stream",
     "text": [
      "+---------------+------------+\n",
      "|incident_number|animal_group|\n",
      "+---------------+------------+\n",
      "|       37009101|     Hamster|\n",
      "|       58746101|     Hamster|\n",
      "|      212716101|     Hamster|\n",
      "+---------------+------------+\n",
      "only showing top 3 rows\n",
      "\n"
     ]
    }
   ],
   "source": [
    "hamsters = rescue.filter(F.col(\"animal_group\") == \"Hamster\")\n",
    "hamsters.select(\"incident_number\", \"animal_group\").show(3)"
   ]
  },
  {
   "cell_type": "markdown",
   "metadata": {},
   "source": [
    "Alternatively you can just input a string into `.filter()`, although this can be messy to look at if the condition contains a string:"
   ]
  },
  {
   "cell_type": "code",
   "execution_count": 14,
   "metadata": {},
   "outputs": [
    {
     "name": "stdout",
     "output_type": "stream",
     "text": [
      "+---------------+------------+\n",
      "|incident_number|animal_group|\n",
      "+---------------+------------+\n",
      "|        5186091|         Cat|\n",
      "|        5724091|         Cat|\n",
      "|        5770091|         Cat|\n",
      "+---------------+------------+\n",
      "only showing top 3 rows\n",
      "\n"
     ]
    }
   ],
   "source": [
    "cats = rescue.filter(\"animal_group == 'Cat'\")\n",
    "cats.select(\"incident_number\", \"animal_group\").show(3)"
   ]
  },
  {
   "cell_type": "markdown",
   "metadata": {},
   "source": [
    "Multiple conditions should be in brackets; putting each condition on a new line makes the code easier to read:"
   ]
  },
  {
   "cell_type": "code",
   "execution_count": 15,
   "metadata": {},
   "outputs": [
    {
     "name": "stdout",
     "output_type": "stream",
     "text": [
      "+---------------+------------+--------+----------+\n",
      "|incident_number|animal_group|cal_year|total_cost|\n",
      "+---------------+------------+--------+----------+\n",
      "|       16209121|         Dog|    2012|     780.0|\n",
      "|       17531121|         Dog|    2012|     780.0|\n",
      "|       20818121|         Dog|    2012|     780.0|\n",
      "|       38636121|         Dog|    2012|     780.0|\n",
      "|       64764121|         Dog|    2012|    1040.0|\n",
      "+---------------+------------+--------+----------+\n",
      "\n"
     ]
    }
   ],
   "source": [
    "expensive_olympic_dogs = rescue.filter(\n",
    "    (F.col(\"animal_group\") == \"Dog\") &\n",
    "    (F.col(\"total_cost\") >= 750) &\n",
    "    (F.col(\"cal_year\") == 2012))\n",
    "\n",
    "(expensive_olympic_dogs\n",
    "    .select(\"incident_number\", \"animal_group\", \"cal_year\", \"total_cost\")\n",
    "    .show())"
   ]
  },
  {
   "cell_type": "markdown",
   "metadata": {},
   "source": [
    "### Exercise 2\n",
    "\n",
    "Create a new DataFrame which consists of all the rows where `animal_group` is equal to `\"Fox\"` and preview the first ten rows.\n",
    "\n",
    "<details>\n",
    "<summary><b>Exercise 2: Solution</b></summary>"
   ]
  },
  {
   "cell_type": "code",
   "execution_count": 16,
   "metadata": {},
   "outputs": [
    {
     "name": "stdout",
     "output_type": "stream",
     "text": [
      "+---------------+------------+--------+----------+---------+------------+--------------------+-----------------+\n",
      "|incident_number|animal_group|cal_year|total_cost|job_hours|engine_count|         description|postcode_district|\n",
      "+---------------+------------+--------+----------+---------+------------+--------------------+-----------------+\n",
      "|         275091|         Fox|    2009|     255.0|      1.0|         1.0|ASSIST RSPCA WITH...|             SE25|\n",
      "|       12451091|         Fox|    2009|     765.0|      3.0|         2.0|ASSIST RSPCA WITH...|              SE1|\n",
      "|       12770091|         Fox|    2009|     255.0|      1.0|         1.0|FOX TRAPPED IN FE...|              KT3|\n",
      "|       18386091|         Fox|    2009|     255.0|      1.0|         1.0|FOX TRAPPED IN FO...|              NW9|\n",
      "|       20027091|         Fox|    2009|     255.0|      1.0|         1.0|FOX TRAPPED IN BA...|              W14|\n",
      "|       30133091|         Fox|    2009|     255.0|      1.0|         1.0|FOX TRAPPED ABOVE...|              SE1|\n",
      "|       73167091|         Fox|    2009|     260.0|      1.0|         1.0|ASSIST RSPCA WITH...|              RM2|\n",
      "|       80733091|         Fox|    2009|     780.0|      3.0|         2.0|FOX TRAPPED IN DI...|              E14|\n",
      "|      105324091|         Fox|    2009|     520.0|      2.0|         1.0|FOX STUCK IN WIND...|              SW7|\n",
      "|      116595091|         Fox|    2009|     260.0|      1.0|         1.0|FOX TRAPPED IN FENCE|              HA5|\n",
      "+---------------+------------+--------+----------+---------+------------+--------------------+-----------------+\n",
      "only showing top 10 rows\n",
      "\n"
     ]
    }
   ],
   "source": [
    "# Use F.col() to filter, ensuring that a new DataFrame is created\n",
    "# Can also use a string condition instead, e.g. rescue.filter(\"animal_group == 'Fox'\")\n",
    "foxes = rescue.filter(F.col(\"animal_group\") == \"Fox\")\n",
    "\n",
    "# Preview with .show() or .limit(10).toPandas()\n",
    "foxes.show(10)"
   ]
  },
  {
   "cell_type": "markdown",
   "metadata": {},
   "source": [
    "</details>\n",
    "\n",
    "### Adding Columns: `.withColumn()`\n",
    "\n",
    "[`.withColumn()`](https://spark.apache.org/docs/latest/api/python/reference/pyspark.sql/api/pyspark.sql.DataFrame.withColumn.html) can be used to either create a new column, or overwrite an existing one. The first argument is the new column name, the second is the value of the column. Often this will be derived from other columns. For instance, we do not have a column for how long an incident took in the data, but do have the columns available to derive this:\n",
    "- `job_hours` gives the total number of hours for engines attending the incident, e.g. if 2 engines attended for an hour `job_hours` will be `2`\n",
    "- `engine_count` gives the number of engines in attendance\n",
    "\n",
    "So to get the duration of the incident, which we will call `incident_duration`, we have to divide `job_hours` by `engine_count`:"
   ]
  },
  {
   "cell_type": "code",
   "execution_count": 17,
   "metadata": {},
   "outputs": [],
   "source": [
    "rescue = rescue.withColumn(\n",
    "    \"incident_duration\", \n",
    "    F.col(\"job_hours\") / F.col(\"engine_count\")\n",
    ")"
   ]
  },
  {
   "cell_type": "markdown",
   "metadata": {},
   "source": [
    "Now preview the data with `.limit(5).toPandas()`:"
   ]
  },
  {
   "cell_type": "code",
   "execution_count": 18,
   "metadata": {},
   "outputs": [
    {
     "data": {
      "text/html": [
       "<div>\n",
       "<style scoped>\n",
       "    .dataframe tbody tr th:only-of-type {\n",
       "        vertical-align: middle;\n",
       "    }\n",
       "\n",
       "    .dataframe tbody tr th {\n",
       "        vertical-align: top;\n",
       "    }\n",
       "\n",
       "    .dataframe thead th {\n",
       "        text-align: right;\n",
       "    }\n",
       "</style>\n",
       "<table border=\"1\" class=\"dataframe\">\n",
       "  <thead>\n",
       "    <tr style=\"text-align: right;\">\n",
       "      <th></th>\n",
       "      <th>incident_number</th>\n",
       "      <th>animal_group</th>\n",
       "      <th>cal_year</th>\n",
       "      <th>total_cost</th>\n",
       "      <th>job_hours</th>\n",
       "      <th>engine_count</th>\n",
       "      <th>description</th>\n",
       "      <th>postcode_district</th>\n",
       "      <th>incident_duration</th>\n",
       "    </tr>\n",
       "  </thead>\n",
       "  <tbody>\n",
       "    <tr>\n",
       "      <th>0</th>\n",
       "      <td>139091</td>\n",
       "      <td>Dog</td>\n",
       "      <td>2009</td>\n",
       "      <td>510.0</td>\n",
       "      <td>2.0</td>\n",
       "      <td>1.0</td>\n",
       "      <td>DOG WITH JAW TRAPPED IN MAGAZINE RACK,B15</td>\n",
       "      <td>SE19</td>\n",
       "      <td>2.0</td>\n",
       "    </tr>\n",
       "    <tr>\n",
       "      <th>1</th>\n",
       "      <td>275091</td>\n",
       "      <td>Fox</td>\n",
       "      <td>2009</td>\n",
       "      <td>255.0</td>\n",
       "      <td>1.0</td>\n",
       "      <td>1.0</td>\n",
       "      <td>ASSIST RSPCA WITH FOX TRAPPED,B15</td>\n",
       "      <td>SE25</td>\n",
       "      <td>1.0</td>\n",
       "    </tr>\n",
       "    <tr>\n",
       "      <th>2</th>\n",
       "      <td>2075091</td>\n",
       "      <td>Dog</td>\n",
       "      <td>2009</td>\n",
       "      <td>255.0</td>\n",
       "      <td>1.0</td>\n",
       "      <td>1.0</td>\n",
       "      <td>DOG CAUGHT IN DRAIN,B15</td>\n",
       "      <td>SM5</td>\n",
       "      <td>1.0</td>\n",
       "    </tr>\n",
       "    <tr>\n",
       "      <th>3</th>\n",
       "      <td>2872091</td>\n",
       "      <td>Horse</td>\n",
       "      <td>2009</td>\n",
       "      <td>255.0</td>\n",
       "      <td>1.0</td>\n",
       "      <td>1.0</td>\n",
       "      <td>HORSE TRAPPED IN LAKE,J17</td>\n",
       "      <td>UB9</td>\n",
       "      <td>1.0</td>\n",
       "    </tr>\n",
       "    <tr>\n",
       "      <th>4</th>\n",
       "      <td>3553091</td>\n",
       "      <td>Rabbit</td>\n",
       "      <td>2009</td>\n",
       "      <td>255.0</td>\n",
       "      <td>1.0</td>\n",
       "      <td>1.0</td>\n",
       "      <td>RABBIT TRAPPED UNDER SOFA,B15</td>\n",
       "      <td>RM3</td>\n",
       "      <td>1.0</td>\n",
       "    </tr>\n",
       "  </tbody>\n",
       "</table>\n",
       "</div>"
      ],
      "text/plain": [
       "  incident_number animal_group  cal_year  total_cost  job_hours  engine_count  \\\n",
       "0          139091          Dog      2009       510.0        2.0           1.0   \n",
       "1          275091          Fox      2009       255.0        1.0           1.0   \n",
       "2         2075091          Dog      2009       255.0        1.0           1.0   \n",
       "3         2872091        Horse      2009       255.0        1.0           1.0   \n",
       "4         3553091       Rabbit      2009       255.0        1.0           1.0   \n",
       "\n",
       "                                 description postcode_district  \\\n",
       "0  DOG WITH JAW TRAPPED IN MAGAZINE RACK,B15              SE19   \n",
       "1          ASSIST RSPCA WITH FOX TRAPPED,B15              SE25   \n",
       "2                    DOG CAUGHT IN DRAIN,B15               SM5   \n",
       "3                  HORSE TRAPPED IN LAKE,J17               UB9   \n",
       "4              RABBIT TRAPPED UNDER SOFA,B15               RM3   \n",
       "\n",
       "   incident_duration  \n",
       "0                2.0  \n",
       "1                1.0  \n",
       "2                1.0  \n",
       "3                1.0  \n",
       "4                1.0  "
      ]
     },
     "execution_count": 18,
     "metadata": {},
     "output_type": "execute_result"
    }
   ],
   "source": [
    "rescue.limit(5).toPandas()"
   ]
  },
  {
   "cell_type": "markdown",
   "metadata": {},
   "source": [
    "Note that previewing the data took longer to process than defining the new column. Why? Remember that Spark is built on the concept of **transformations** and **actions**:\n",
    "* **Transformations** are lazily evaluated expressions. These form the set of instructions called the execution plan.  \n",
    "* **Actions** trigger computation to be performed on the cluster and results returned to the driver. It is actions that trigger the execution plan.\n",
    "\n",
    "Multiple transformations can be combined, as we did to preprocess the `rescue` DataFrame above. Only when an action is called, for example `.toPandas()`, `.show()` or `.count()`, are these transformations and action executed on the cluster, after which the results are returned to the driver."
   ]
  },
  {
   "cell_type": "markdown",
   "metadata": {},
   "source": [
    "### Sorting: `.orderBy()`\n",
    "\n",
    "An important Spark concept is that DataFrames are [not ordered by default](../spark-concepts/df-order), unlike a pandas DF which has an index. Remember that a Spark DataFrame is distributed into partitions, and there is no guarantee of the order of the rows within these partitions, or which partition a particular row is on.\n",
    "\n",
    "To sort the data, use [`.orderBy()`](https://spark.apache.org/docs/latest/api/python/reference/pyspark.sql/api/pyspark.sql.DataFrame.orderBy.html). By default this will sort ascending; to sort descending, use `ascending=False`. To show the highest cost incidents:"
   ]
  },
  {
   "cell_type": "code",
   "execution_count": 19,
   "metadata": {},
   "outputs": [
    {
     "name": "stdout",
     "output_type": "stream",
     "text": [
      "+---------------+----------+--------------------+\n",
      "|incident_number|total_cost|        animal_group|\n",
      "+---------------+----------+--------------------+\n",
      "|098141-28072016|    3912.0|                 Cat|\n",
      "|       48360131|    3480.0|               Horse|\n",
      "|       62700151|    2980.0|               Horse|\n",
      "|092389-09072018|    2664.0|               Horse|\n",
      "|       49076141|    2655.0|                 Cat|\n",
      "|       49189111|    2340.0|               Horse|\n",
      "|       82423111|    2340.0|               Horse|\n",
      "|      101755111|    2340.0|                Deer|\n",
      "|030477-09032018|    2296.0|Unknown - Wild An...|\n",
      "|028258-08032017|    2282.0|                 Cat|\n",
      "+---------------+----------+--------------------+\n",
      "only showing top 10 rows\n",
      "\n"
     ]
    }
   ],
   "source": [
    "(rescue\n",
    "    .orderBy(\"total_cost\", ascending=False)\n",
    "    .select(\"incident_number\", \"total_cost\", \"animal_group\")\n",
    "    .show(10))"
   ]
  },
  {
   "cell_type": "markdown",
   "metadata": {},
   "source": [
    "Horses make up a lot of the more expensive calls, which makes sense, given that they are large animals.\n",
    "\n",
    "There are actually multiple ways to sort data in PySpark; as well as `.orderBy()`, you can use [`.sort()`](https://spark.apache.org/docs/latest/api/python/reference/pyspark.sql/api/pyspark.sql.DataFrame.sort.html) or even an SQL expression. The same is true of sorting the data descending, where [`F.desc(column_name)`](https://spark.apache.org/docs/latest/api/python/reference/pyspark.sql/api/pyspark.sql.functions.desc.html) can be used instead of `ascending=False`. The most important principle here is consistency; try and use the same syntax as your colleagues to make the code easier to read.\n",
    "\n",
    "Note that sorting the DataFrame is an expensive operation, as the rows move between partitions. This is a key Spark concept called a [*shuffle*](../spark-concepts/shuffling). When you are ready to optimise your Spark code you will want to read the article on Shuffling.\n",
    "\n",
    "### Exercise 3\n",
    "\n",
    "Sort the incidents in terms of their duration, look at the top 10 and the bottom 10. Do you notice anything strange?\n",
    "\n",
    "<details>\n",
    "<summary><b>Exercise 3: Solution</b></summary>"
   ]
  },
  {
   "cell_type": "code",
   "execution_count": 20,
   "metadata": {},
   "outputs": [
    {
     "name": "stdout",
     "output_type": "stream",
     "text": [
      "+---------------+--------------------+--------+----------+---------+------------+--------------------+-----------------+-----------------+\n",
      "|incident_number|        animal_group|cal_year|total_cost|job_hours|engine_count|         description|postcode_district|incident_duration|\n",
      "+---------------+--------------------+--------+----------+---------+------------+--------------------+-----------------+-----------------+\n",
      "|       48360131|               Horse|    2013|    3480.0|     12.0|         2.0|FOAL IN RIVER WAT...|               E4|              6.0|\n",
      "|      137525091|               Horse|    2009|    1300.0|      5.0|         1.0|HORSE STUCK IN CANAL|              N18|              5.0|\n",
      "|       18627122|               Horse|    2012|    1300.0|      5.0|         1.0|HORSE STUCK ON SO...|              EN3|              5.0|\n",
      "|       92423121|Unknown - Domesti...|    2012|    1300.0|      5.0|         1.0|RUNNING CALL TO S...|              E14|              5.0|\n",
      "|         955141|               Horse|    2014|    1450.0|      5.0|         1.0|ASSIST POLICE WIT...|               E4|              5.0|\n",
      "|       62700151|               Horse|    2015|    2980.0|     10.0|         2.0|HORSE FALLEN INTO...|             TN14|              5.0|\n",
      "|125704-02092018|               Horse|    2018|    1665.0|      5.0|         1.0|HORSE STUCK IN DI...|             DA17|              5.0|\n",
      "|126939-05092018|               Horse|    2018|    1665.0|      5.0|         1.0|ASSIST RSPCA WITH...|             DA17|              5.0|\n",
      "|       49076141|                 Cat|    2014|    2655.0|      9.0|         2.0|KITTEN TRAPPED IN...|              TW4|              4.5|\n",
      "|       64764121|                 Dog|    2012|    1040.0|      4.0|         1.0|DOG TRAPPED IN BA...|              CR5|              4.0|\n",
      "+---------------+--------------------+--------+----------+---------+------------+--------------------+-----------------+-----------------+\n",
      "\n",
      "+---------------+------------+--------+----------+---------+------------+--------------------+-----------------+-----------------+\n",
      "|incident_number|animal_group|cal_year|total_cost|job_hours|engine_count|         description|postcode_district|incident_duration|\n",
      "+---------------+------------+--------+----------+---------+------------+--------------------+-----------------+-----------------+\n",
      "|       35453121|         Cat|    2012|      null|     null|        null| CAT INJURED UP TREE|              W11|             null|\n",
      "|        4920141|        Bird|    2014|      null|     null|        null|PIDGEON TRAPPED I...|              SW3|             null|\n",
      "|       36995121|       Horse|    2012|      null|     null|        null|PONY COLLASPED IN...|              CR0|             null|\n",
      "|      194986111|       Horse|    2011|      null|     null|        null|HORSE WITH NECK S...|              EN2|             null|\n",
      "|       51412121|         Cat|    2012|      null|     null|        null|INJURED CAT IN DI...|               E8|             null|\n",
      "|      208663091|       Horse|    2009|      null|     null|        null|3 HORSES LOOSE ON...|             UB10|             null|\n",
      "|       18325122|         Dog|    2012|      null|     null|        null|DOG WITH HEAD STU...|              SE6|             null|\n",
      "|       43265111|         Dog|    2011|      null|     null|        null|DOG IN DISTRESS I...|              SE1|             null|\n",
      "|        2602131|         Cat|    2013|      null|     null|        null|CAT STUCK BETWEEN...|               W4|             null|\n",
      "|      118613121|         Cat|    2012|      null|     null|        null|CAT FALLEN INTO R...|             SE16|             null|\n",
      "+---------------+------------+--------+----------+---------+------------+--------------------+-----------------+-----------------+\n",
      "\n"
     ]
    }
   ],
   "source": [
    "# To get the top 10, sort the DF descending\n",
    "top10 = (rescue\n",
    "         .orderBy(\"incident_duration\", ascending=False)\n",
    "         .limit(10))\n",
    "\n",
    "top10.show()\n",
    "\n",
    "# The bottom 10 can just be sorted ascending\n",
    "# Note that .tail() does not exist in Spark 2.4\n",
    "bottom10 = (rescue\n",
    "         .orderBy(\"incident_duration\")\n",
    "         .limit(10))\n",
    "\n",
    "# When previewing the results, the incident_duration are all null\n",
    "bottom10.show()"
   ]
  },
  {
   "cell_type": "markdown",
   "metadata": {},
   "source": [
    "</details>\n",
    "    \n",
    "### Grouping and Aggregating: `.groupBy()`, `.agg()` and `.alias()`\n",
    "\n",
    "In most cases, we want to get insights into the raw data, for instance, by taking the sum or average of a column, or getting the largest or smallest values. This is key to what the Office for National Statistics does: we release statistics! \n",
    "\n",
    "In Spark, grouping and aggregating is similar to pandas or SQL: we first group the data with [`.groupBy()`](https://spark.apache.org/docs/latest/api/python/reference/pyspark.sql/api/pyspark.sql.DataFrame.groupBy.html), then aggregate it in some way with a function from the `functions` module inside [`.agg()`](https://spark.apache.org/docs/latest/api/python/reference/pyspark.sql/api/pyspark.sql.DataFrame.agg.html), e.g. [`F.sum()`](https://spark.apache.org/docs/latest/api/python/reference/pyspark.sql/api/pyspark.sql.functions.sum.html), [`F.max()`](https://spark.apache.org/docs/latest/api/python/reference/pyspark.sql/api/pyspark.sql.functions.max.html). For instance, to find the average cost by `animal_group` we use [`F.mean()`](https://spark.apache.org/docs/latest/api/python/reference/pyspark.sql/api/pyspark.sql.functions.mean.html):"
   ]
  },
  {
   "cell_type": "code",
   "execution_count": 21,
   "metadata": {},
   "outputs": [
    {
     "name": "stdout",
     "output_type": "stream",
     "text": [
      "+--------------------+------------------+\n",
      "|        animal_group|   avg(total_cost)|\n",
      "+--------------------+------------------+\n",
      "|Unknown - Animal ...| 709.6666666666666|\n",
      "|                 Cow| 624.1666666666666|\n",
      "|               Horse| 747.4350649350649|\n",
      "|             Hamster|311.07142857142856|\n",
      "|Unknown - Heavy L...|362.54545454545456|\n",
      "+--------------------+------------------+\n",
      "only showing top 5 rows\n",
      "\n"
     ]
    }
   ],
   "source": [
    "cost_by_animal = (rescue\n",
    "                  .groupBy(\"animal_group\")\n",
    "                  .agg(F.mean(\"total_cost\")))\n",
    "cost_by_animal.show(5)"
   ]
  },
  {
   "cell_type": "markdown",
   "metadata": {},
   "source": [
    "The new column has been returned as `avg(total_cost)`. We want to give it a more sensible name and avoid using brackets. We saw earlier that we could use `.withColumnRenamed()` once the column has been created, but it is easier to use [`.alias()`](https://spark.apache.org/docs/latest/api/python/reference/pyspark.sql/api/pyspark.sql.Column.alias.html) to rename the column directly in the aggregation:"
   ]
  },
  {
   "cell_type": "code",
   "execution_count": 22,
   "metadata": {},
   "outputs": [
    {
     "name": "stdout",
     "output_type": "stream",
     "text": [
      "+--------------------+------------------+\n",
      "|        animal_group|      average_cost|\n",
      "+--------------------+------------------+\n",
      "|Unknown - Animal ...| 709.6666666666666|\n",
      "|                 Cow| 624.1666666666666|\n",
      "|               Horse| 747.4350649350649|\n",
      "|             Hamster|311.07142857142856|\n",
      "|Unknown - Heavy L...|362.54545454545456|\n",
      "+--------------------+------------------+\n",
      "only showing top 5 rows\n",
      "\n"
     ]
    }
   ],
   "source": [
    "cost_by_animal = (rescue\n",
    "                  .groupBy(\"animal_group\")\n",
    "                  .agg(F.mean(\"total_cost\").alias(\"average_cost\")))\n",
    "\n",
    "cost_by_animal.show(5)"
   ]
  },
  {
   "cell_type": "markdown",
   "metadata": {},
   "source": [
    "Remember that Spark DFs are not ordered unless we specifically do so with `.orderBy()`; now we have renamed the column `average_cost` this is easy to do:"
   ]
  },
  {
   "cell_type": "code",
   "execution_count": 23,
   "metadata": {},
   "outputs": [
    {
     "name": "stdout",
     "output_type": "stream",
     "text": [
      "+--------------------+------------------+\n",
      "|        animal_group|      average_cost|\n",
      "+--------------------+------------------+\n",
      "|                Goat|            1180.0|\n",
      "|                Bull|             780.0|\n",
      "|                Fish|             780.0|\n",
      "|               Horse| 747.4350649350649|\n",
      "|Unknown - Animal ...| 709.6666666666666|\n",
      "|                 Cow| 624.1666666666666|\n",
      "|                Lamb|             520.0|\n",
      "|            Hedgehog|             520.0|\n",
      "|                Deer| 423.8829787234043|\n",
      "|Unknown - Wild An...|390.03636363636366|\n",
      "+--------------------+------------------+\n",
      "only showing top 10 rows\n",
      "\n"
     ]
    }
   ],
   "source": [
    "cost_by_animal.orderBy(\"average_cost\", ascending=False).show(10)"
   ]
  },
  {
   "cell_type": "markdown",
   "metadata": {},
   "source": [
    "It looks like `Goat` could be an outlier as it is significantly higher than the other higher average cost incidents. We can investigate this in more detail using `.filter()`:"
   ]
  },
  {
   "cell_type": "code",
   "execution_count": 24,
   "metadata": {},
   "outputs": [
    {
     "data": {
      "text/plain": [
       "1"
      ]
     },
     "execution_count": 24,
     "metadata": {},
     "output_type": "execute_result"
    }
   ],
   "source": [
    "goats = rescue.filter(F.col(\"animal_group\") == \"Goat\")\n",
    "goats.count()"
   ]
  },
  {
   "cell_type": "markdown",
   "metadata": {},
   "source": [
    "Just one expensive goat incident! Lets see the description:"
   ]
  },
  {
   "cell_type": "code",
   "execution_count": 25,
   "metadata": {},
   "outputs": [
    {
     "data": {
      "text/html": [
       "<div>\n",
       "<style scoped>\n",
       "    .dataframe tbody tr th:only-of-type {\n",
       "        vertical-align: middle;\n",
       "    }\n",
       "\n",
       "    .dataframe tbody tr th {\n",
       "        vertical-align: top;\n",
       "    }\n",
       "\n",
       "    .dataframe thead th {\n",
       "        text-align: right;\n",
       "    }\n",
       "</style>\n",
       "<table border=\"1\" class=\"dataframe\">\n",
       "  <thead>\n",
       "    <tr style=\"text-align: right;\">\n",
       "      <th></th>\n",
       "      <th>incident_number</th>\n",
       "      <th>animal_group</th>\n",
       "      <th>description</th>\n",
       "    </tr>\n",
       "  </thead>\n",
       "  <tbody>\n",
       "    <tr>\n",
       "      <th>0</th>\n",
       "      <td>72214141</td>\n",
       "      <td>Goat</td>\n",
       "      <td>GOAT TRAPPED BELOW GROUND LEVEL ON LEDGE</td>\n",
       "    </tr>\n",
       "  </tbody>\n",
       "</table>\n",
       "</div>"
      ],
      "text/plain": [
       "  incident_number animal_group                               description\n",
       "0        72214141         Goat  GOAT TRAPPED BELOW GROUND LEVEL ON LEDGE"
      ]
     },
     "execution_count": 25,
     "metadata": {},
     "output_type": "execute_result"
    }
   ],
   "source": [
    "goats.select(\"incident_number\", \"animal_group\", \"description\").toPandas()"
   ]
  },
  {
   "cell_type": "markdown",
   "metadata": {},
   "source": [
    "Note that we did not use `.limit()` before `.toPandas()` here. This is because we know the row count is tiny, and so there was no danger of overloading the driver with too much data.\n",
    "\n",
    "### Reading data from a Parquet file: `spark.read.parquet()`\n",
    "\n",
    "The next section covers how to join data in Spark, but before we do, we need to read in another dataset. In our rescue data, we have a column for the postcode district, which represents the first part of the postcode. We have data for the population by postcode in another dataset, `population`.\n",
    "\n",
    "This data are stored as a parquet file. Parquet files the most efficient way to store data when using Spark. They are compressed and so take up much less storage space, and reading parquet files with Spark is many times quicker than reading CSVs. The drawback is that they are not human readable, although you can store them as a Hive table which means they can easily be interrogated with SQL. See the article on Parquet files for more information.\n",
    "\n",
    "The syntax for reading in a parquet file is similar to a CSV: [`spark.read.parquet()`](https://spark.apache.org/docs/latest/api/python/reference/pyspark.sql/api/pyspark.sql.DataFrameReader.parquet.html). There is no need for the `header` or `inferSchema` argument as unlike CSVs parquet files already have the schema defined. We can then preview the data with `.limit(5).toPandas()`:"
   ]
  },
  {
   "cell_type": "code",
   "execution_count": 26,
   "metadata": {},
   "outputs": [
    {
     "data": {
      "text/html": [
       "<div>\n",
       "<style scoped>\n",
       "    .dataframe tbody tr th:only-of-type {\n",
       "        vertical-align: middle;\n",
       "    }\n",
       "\n",
       "    .dataframe tbody tr th {\n",
       "        vertical-align: top;\n",
       "    }\n",
       "\n",
       "    .dataframe thead th {\n",
       "        text-align: right;\n",
       "    }\n",
       "</style>\n",
       "<table border=\"1\" class=\"dataframe\">\n",
       "  <thead>\n",
       "    <tr style=\"text-align: right;\">\n",
       "      <th></th>\n",
       "      <th>postcode_district</th>\n",
       "      <th>population</th>\n",
       "    </tr>\n",
       "  </thead>\n",
       "  <tbody>\n",
       "    <tr>\n",
       "      <th>0</th>\n",
       "      <td>DH7</td>\n",
       "      <td>41076</td>\n",
       "    </tr>\n",
       "    <tr>\n",
       "      <th>1</th>\n",
       "      <td>NW3</td>\n",
       "      <td>52376</td>\n",
       "    </tr>\n",
       "    <tr>\n",
       "      <th>2</th>\n",
       "      <td>NR4</td>\n",
       "      <td>22331</td>\n",
       "    </tr>\n",
       "    <tr>\n",
       "      <th>3</th>\n",
       "      <td>SO31</td>\n",
       "      <td>44742</td>\n",
       "    </tr>\n",
       "    <tr>\n",
       "      <th>4</th>\n",
       "      <td>CT18</td>\n",
       "      <td>14357</td>\n",
       "    </tr>\n",
       "  </tbody>\n",
       "</table>\n",
       "</div>"
      ],
      "text/plain": [
       "  postcode_district  population\n",
       "0               DH7       41076\n",
       "1               NW3       52376\n",
       "2               NR4       22331\n",
       "3              SO31       44742\n",
       "4              CT18       14357"
      ]
     },
     "execution_count": 26,
     "metadata": {},
     "output_type": "execute_result"
    }
   ],
   "source": [
    "population_path = config[\"population_path\"]\n",
    "\n",
    "\n",
    "population = spark.read.parquet(population_path)\n",
    "population.limit(5).toPandas()"
   ]
  },
  {
   "cell_type": "markdown",
   "metadata": {},
   "source": [
    "### Joining Data `.join()`\n",
    "\n",
    "Now we have read the population data in, we can join it to the rescue data to get the population by postcode. This can be done with the [`.join()`](https://spark.apache.org/docs/latest/api/python/reference/pyspark.sql/api/pyspark.sql.DataFrame.join.html) method.\n",
    "\n",
    "This article assumes that you are familiar with joins. Those who know SQL will be familiar with this term, although pandas and R users sometimes use the term *merge*. If you do not know how a join works, please read about [joins in SQL](https://en.wikipedia.org/wiki/Join_(SQL)) first; the principles are the same in Spark. Joins are expensive in Spark as they involve shuffling the data and this can make larger joins slow. See the article on [Optimising Joins](../spark-concepts/join-concepts) for more information on how to make them more efficient.\n",
    "\n",
    "`.join()` is a DataFrame method, so we start with the `rescue` DataFrame. The other arguments we need are:\n",
    "- `other`: the DataFrame on the right hand side of the join, `population`;\n",
    "- `on`: which specifies the mapping. Here we have a common column name and so can simply supply the column name;\n",
    "- `how`: the type of join to use, `\"left\"` in this case.\n",
    "\n",
    "To make the code easier to read we have put these arguments on new lines:"
   ]
  },
  {
   "cell_type": "code",
   "execution_count": 27,
   "metadata": {},
   "outputs": [],
   "source": [
    "rescue_with_pop = (\n",
    "    rescue.join(\n",
    "        population,\n",
    "        on=\"postcode_district\",\n",
    "        how=\"left\"))"
   ]
  },
  {
   "cell_type": "markdown",
   "metadata": {},
   "source": [
    "Once again, note how quick this code runs. This is because although a join is an expensive operation, we have only created the plan at this point. We need an action to run the plan and return a result; sort the joined DataFrame, subset the columns and then use `.limit(5).toPandas()`:"
   ]
  },
  {
   "cell_type": "code",
   "execution_count": 28,
   "metadata": {},
   "outputs": [
    {
     "data": {
      "text/html": [
       "<div>\n",
       "<style scoped>\n",
       "    .dataframe tbody tr th:only-of-type {\n",
       "        vertical-align: middle;\n",
       "    }\n",
       "\n",
       "    .dataframe tbody tr th {\n",
       "        vertical-align: top;\n",
       "    }\n",
       "\n",
       "    .dataframe thead th {\n",
       "        text-align: right;\n",
       "    }\n",
       "</style>\n",
       "<table border=\"1\" class=\"dataframe\">\n",
       "  <thead>\n",
       "    <tr style=\"text-align: right;\">\n",
       "      <th></th>\n",
       "      <th>incident_number</th>\n",
       "      <th>animal_group</th>\n",
       "      <th>postcode_district</th>\n",
       "      <th>population</th>\n",
       "    </tr>\n",
       "  </thead>\n",
       "  <tbody>\n",
       "    <tr>\n",
       "      <th>0</th>\n",
       "      <td>000014-03092018M</td>\n",
       "      <td>Unknown - Heavy Livestock Animal</td>\n",
       "      <td>CR8</td>\n",
       "      <td>32307</td>\n",
       "    </tr>\n",
       "    <tr>\n",
       "      <th>1</th>\n",
       "      <td>000099-01012017</td>\n",
       "      <td>Dog</td>\n",
       "      <td>BR2</td>\n",
       "      <td>44958</td>\n",
       "    </tr>\n",
       "    <tr>\n",
       "      <th>2</th>\n",
       "      <td>000260-01012017</td>\n",
       "      <td>Bird</td>\n",
       "      <td>CR0</td>\n",
       "      <td>153812</td>\n",
       "    </tr>\n",
       "    <tr>\n",
       "      <th>3</th>\n",
       "      <td>000375-01012017</td>\n",
       "      <td>Dog</td>\n",
       "      <td>TW8</td>\n",
       "      <td>20330</td>\n",
       "    </tr>\n",
       "    <tr>\n",
       "      <th>4</th>\n",
       "      <td>000477-01012017</td>\n",
       "      <td>Deer</td>\n",
       "      <td>HA7</td>\n",
       "      <td>36046</td>\n",
       "    </tr>\n",
       "  </tbody>\n",
       "</table>\n",
       "</div>"
      ],
      "text/plain": [
       "    incident_number                      animal_group postcode_district  \\\n",
       "0  000014-03092018M  Unknown - Heavy Livestock Animal               CR8   \n",
       "1   000099-01012017                               Dog               BR2   \n",
       "2   000260-01012017                              Bird               CR0   \n",
       "3   000375-01012017                               Dog               TW8   \n",
       "4   000477-01012017                              Deer               HA7   \n",
       "\n",
       "   population  \n",
       "0       32307  \n",
       "1       44958  \n",
       "2      153812  \n",
       "3       20330  \n",
       "4       36046  "
      ]
     },
     "execution_count": 28,
     "metadata": {},
     "output_type": "execute_result"
    }
   ],
   "source": [
    "rescue_with_pop = (rescue_with_pop\n",
    "                   .orderBy(\"incident_number\")\n",
    "                   .select(\"incident_number\", \"animal_group\", \"postcode_district\", \"population\"))\n",
    "\n",
    "rescue_with_pop.limit(5).toPandas()"
   ]
  },
  {
   "cell_type": "markdown",
   "metadata": {},
   "source": [
    "### Writing data: file choice\n",
    "\n",
    "In this article so far, we have been calling actions to preview the data, bringing back only a handful of rows each time. This is useful when developing and debugging code, but in production pipelines you will want to write the results.\n",
    "\n",
    "The format in which the results are written out depends on what you want to do next with the data:\n",
    "- If the data are intended to be human readable, e.g. as the basis for a presentation, or as a publication on the ONS website, then you will likely want to output the data as a CSV\n",
    "- If the data are intended to be used as an input to another Spark process, then use parquet or a Hive table.\n",
    "\n",
    "There are other use cases, e.g. JSON can be useful if you want the results to analysed with a different programming language, although here we only focus on CSV and parquet. See the article on [Writing Data](../spark-functions/writing-data) for more information.\n",
    "\n",
    "### Write to a parquet: `.write.parquet()`\n",
    "\n",
    "To write out our DataFrame as a parquet file, use [`rescue_with_pop.write.parquet()`](https://spark.apache.org/docs/latest/api/python/reference/pyspark.sql/api/pyspark.sql.DataFrameWriter.parquet.html), using the file path as the argument.\n",
    "\n",
    "The key difference between writing out data with Spark and writing out data with pandas is that the data will be distributed, which means that multiple files will be created, stored in a parent folder. Spark can read in these parent folders as one DataFrame. There will be one file written out per partition of the DataFrame."
   ]
  },
  {
   "cell_type": "code",
   "execution_count": 29,
   "metadata": {},
   "outputs": [],
   "source": [
    "output_path_parquet = config[\"rescue_with_pop_path_parquet\"]\n",
    "\n",
    "rescue_with_pop.write.parquet(output_path_parquet)"
   ]
  },
  {
   "cell_type": "markdown",
   "metadata": {},
   "source": [
    "It is worth looking at the raw data that is written out to see that it has been stored in several files in a parent folder.\n",
    "\n",
    "When reading the data in, Spark will treat every individual file as a partition. See the article on [Managing Partitions](../spark-concepts/partitions) for more information.\n",
    "\n",
    "### Write to a CSV: `.write.csv()` and `.coalesce()`\n",
    "\n",
    "CSVs will also be written out in a distributed manner as multiple files. While this is desirable in a parquet, it is not very useful with CSV, as the main benefit is to make them human readable. First, write out the data with [`.write.csv()`](https://spark.apache.org/docs/latest/api/python/reference/pyspark.sql/api/pyspark.sql.DataFrameWriter.csv.html), using the path defined in the config:"
   ]
  },
  {
   "cell_type": "code",
   "execution_count": 30,
   "metadata": {},
   "outputs": [],
   "source": [
    "output_path_csv = config[\"rescue_with_pop_path_csv\"]\n",
    "\n",
    "rescue_with_pop.write.csv(output_path_csv, header=True)"
   ]
  },
  {
   "cell_type": "markdown",
   "metadata": {},
   "source": [
    "Again, look at the raw data in a file browser. You can see that it has written out a folder called `rescue_with_pop.csv`, with multiple files inside. Each of these on their own is a legitimate CSV file, with the correct headers.\n",
    "\n",
    "To reduce the number of partitions, use [`.coalesce(numPartitions)`](https://spark.apache.org/docs/latest/api/python/reference/pyspark.sql/api/pyspark.sql.DataFrame.coalesce.html); this will combine existing partitions. Setting `numPartitions` to `1` will put all of the data on the same partition.\n",
    "\n",
    "As the file will already exist, we need to tell Spark to overwrite the existing file. Use [`.mode(\"overwrite\")`](https://spark.apache.org/docs/latest/api/python/reference/pyspark.sql/api/pyspark.sql.DataFrameWriter.mode.html) after `.write` to do this:"
   ]
  },
  {
   "cell_type": "code",
   "execution_count": 31,
   "metadata": {},
   "outputs": [],
   "source": [
    "(rescue_with_pop\n",
    "    .coalesce(1)\n",
    "    .write\n",
    "    .mode(\"overwrite\")\n",
    "    .csv(output_path_csv, header=True))"
   ]
  },
  {
   "cell_type": "markdown",
   "metadata": {},
   "source": [
    "Checking the file again, you can see that although the folder still exists, it will contain only one CSV file.\n",
    "\n",
    "A neater way of writing out CSV files to a Hadoop file system is with [Pydoop](../ancillary-topics/pydoop), allowing you to convert the Spark DataFrame to pandas first before making use of [`.to_csv()`](https://pandas.pydata.org/docs/reference/api/pandas.DataFrame.to_csv.html) from pandas, which has many options to control the output format.\n",
    "\n",
    "### Removing files\n",
    "\n",
    "Spark has no native way of removing files, so either use the standard Python methods, or delete them manually through a file browser. If on a local file system, use [`os.remove()`](https://docs.python.org/3/library/os.html#os.remove) to delete a file and [`shutil.rmtree()`](https://docs.python.org/3/library/shutil.html#shutil.rmtree) to remove a directory. If using HDFS or similar, then use [`subprocess.run()`](https://docs.python.org/3/library/subprocess.html#subprocess.run). Be careful when using the `subprocess` module as you will not get a warning when deleting files."
   ]
  },
  {
   "cell_type": "code",
   "execution_count": 32,
   "metadata": {},
   "outputs": [],
   "source": [
    "import subprocess\n",
    "for f in [output_path_parquet, output_path_csv]:\n",
    "    cmd = f\"hdfs dfs -rm -r -skipTrash {f}\"\n",
    "    subprocess.run(cmd, shell=True)"
   ]
  },
  {
   "cell_type": "markdown",
   "metadata": {},
   "source": [
    "### Further Resources\n",
    "\n",
    "Spark at the ONS Articles:\n",
    "- [Avoiding Module Import Conflicts](../ancillary-topics/module-imports)\n",
    "- [Guidance on Spark Sessions](../spark-overview/spark-session-guidance)\n",
    "- [Example Spark Sessions](../spark-overview/example-spark-sessions)\n",
    "- [Reading Data in PySpark](../pyspark-intro/reading-data-pyspark)\n",
    "- [Data Storage](../spark-overview/data-storage)\n",
    "- [Data Types in Spark](../spark-overview/data-types)\n",
    "- [Returning Data from Cluster to Driver](../pyspark-intro/returning-data)\n",
    "- [Reference columns by name: `F.col()`](../pyspark-intro/f-col)\n",
    "- [Spark DataFrames Are Not Ordered](../spark-concepts/df-order)\n",
    "- [Shuffling](../spark-concepts/shuffling)\n",
    "- [Optimising Joins](../spark-concepts/join-concepts)\n",
    "- [Writing Data](../spark-functions/writing-data)\n",
    "- [Managing Partitions](../spark-concepts/partitions)\n",
    "- [Pydoop](../ancillary-topics/pydoop)\n",
    "\n",
    "PySpark Documentation:\n",
    "- [`SparkSession`](https://spark.apache.org/docs/latest/api/python/reference/pyspark.sql/api/pyspark.sql.SparkSession.html)\n",
    "- [`pyspark.sql.functions`](https://spark.apache.org/docs/latest/api/python/reference/pyspark.sql/functions.html)\n",
    "- [`SparkSession.builder`](https://spark.apache.org/docs/latest/api/python/reference/pyspark.sql/api/pyspark.sql.SparkSession.html#pyspark.sql.SparkSession.builder) \n",
    "- [`.getOrCreate()`](https://spark.apache.org/docs/latest/api/python/reference/pyspark.sql/api/pyspark.sql.SparkSession.builder.getOrCreate.html)\n",
    "- [`spark.read.csv()`](https://spark.apache.org/docs/latest/api/python/reference/pyspark.sql/api/pyspark.sql.DataFrameReader.csv.html)\n",
    "- [`.printSchema()`](https://spark.apache.org/docs/latest/api/python/reference/pyspark.sql/api/pyspark.sql.DataFrame.printSchema.html)\n",
    "- [`.show()`](https://spark.apache.org/docs/latest/api/python/reference/pyspark.sql/api/pyspark.sql.DataFrame.show.html)\n",
    "- [`.toPandas()`](https://spark.apache.org/docs/latest/api/python/reference/pyspark.sql/api/pyspark.sql.DataFrame.toPandas.html)\n",
    "- [`.limit()`](https://spark.apache.org/docs/latest/api/python/reference/pyspark.sql/api/pyspark.sql.DataFrame.limit.html)\n",
    "- [`.select()`](https://spark.apache.org/docs/latest/api/python/reference/pyspark.sql/api/pyspark.sql.DataFrame.select.html)\n",
    "- [`.count()`](https://spark.apache.org/docs/latest/api/python/reference/pyspark.sql/api/pyspark.sql.DataFrame.count.html)\n",
    "- [`.drop()`](https://spark.apache.org/docs/latest/api/python/reference/pyspark.sql/api/pyspark.sql.DataFrame.drop.html)\n",
    "- [`.withColumnRenamed()`](https://spark.apache.org/docs/latest/api/python/reference/pyspark.sql/api/pyspark.sql.DataFrame.withColumnRenamed.html)\n",
    "- [`.filter()`](https://spark.apache.org/docs/latest/api/python/reference/pyspark.sql/api/pyspark.sql.DataFrame.filter.html)\n",
    "- [`F.col()`](https://spark.apache.org/docs/latest/api/python/reference/pyspark.sql/api/pyspark.sql.functions.col.html)\n",
    "- [`.withColumn()`](https://spark.apache.org/docs/latest/api/python/reference/pyspark.sql/api/pyspark.sql.DataFrame.withColumn.html)\n",
    "- [`.orderBy()`](https://spark.apache.org/docs/latest/api/python/reference/pyspark.sql/api/pyspark.sql.DataFrame.orderBy.html)\n",
    "- [`.sort()`](https://spark.apache.org/docs/latest/api/python/reference/pyspark.sql/api/pyspark.sql.DataFrame.sort.html)\n",
    "- [`F.desc()`](https://spark.apache.org/docs/latest/api/python/reference/pyspark.sql/api/pyspark.sql.functions.desc.html)\n",
    "- [`.groupBy()`](https://spark.apache.org/docs/latest/api/python/reference/pyspark.sql/api/pyspark.sql.DataFrame.groupBy.html)\n",
    "- [`.agg()`](https://spark.apache.org/docs/latest/api/python/reference/pyspark.sql/api/pyspark.sql.DataFrame.agg.html)\n",
    "- [`F.sum()`](https://spark.apache.org/docs/latest/api/python/reference/pyspark.sql/api/pyspark.sql.functions.sum.html)\n",
    "- [`F.max()`](https://spark.apache.org/docs/latest/api/python/reference/pyspark.sql/api/pyspark.sql.functions.max.html)\n",
    "- [`F.mean()`](https://spark.apache.org/docs/latest/api/python/reference/pyspark.sql/api/pyspark.sql.functions.mean.html)\n",
    "- [`.alias()`](https://spark.apache.org/docs/latest/api/python/reference/pyspark.sql/api/pyspark.sql.Column.alias.html)\n",
    "- [`spark.read.parquet()`](https://spark.apache.org/docs/latest/api/python/reference/pyspark.sql/api/pyspark.sql.DataFrameReader.parquet.html)\n",
    "- [`.join()`](https://spark.apache.org/docs/latest/api/python/reference/pyspark.sql/api/pyspark.sql.DataFrame.join.html)\n",
    "- [`.write.parquet()`](https://spark.apache.org/docs/latest/api/python/reference/pyspark.sql/api/pyspark.sql.DataFrameWriter.parquet.html)\n",
    "- [`.write.csv()`](https://spark.apache.org/docs/latest/api/python/reference/pyspark.sql/api/pyspark.sql.DataFrameWriter.csv.html)\n",
    "- [`.coalesce()`](https://spark.apache.org/docs/latest/api/python/reference/pyspark.sql/api/pyspark.sql.DataFrame.coalesce.html)\n",
    "- [`.mode()`](https://spark.apache.org/docs/latest/api/python/reference/pyspark.sql/api/pyspark.sql.DataFrameWriter.mode.html)\n",
    "\n",
    "Python Documentation\n",
    "- [Python Tutorial](https://docs.python.org/3/tutorial/)\n",
    "- [`dir()`](https://docs.python.org/3/library/functions.html#dir)\n",
    "- [`help()`](https://docs.python.org/3/library/functions.html#help)\n",
    "- [`os.remove()`](https://docs.python.org/3/library/os.html#os.remove)\n",
    "- [`shutil.rmtree()`](https://docs.python.org/3/library/shutil.html#shutil.rmtree)\n",
    "- [`subprocess.run()`](https://docs.python.org/3/library/subprocess.html#subprocess.run)\n",
    "\n",
    "pandas Documentation:\n",
    "- [10 Minutes to pandas](https://pandas.pydata.org/pandas-docs/stable/user_guide/10min.html)\n",
    "- [`.to_csv()`](https://pandas.pydata.org/docs/reference/api/pandas.DataFrame.to_csv.html) \n",
    "    \n",
    "Other Links:\n",
    "- [Databricks: Learning Spark](https://pages.databricks.com/rs/094-YMS-629/images/LearningSpark2.0.pdf)\n",
    "- [Wikipedia; Join (SQL)](https://en.wikipedia.org/wiki/Join_(SQL))\n",
    "\n",
    "#### Acknowledgements\n",
    "\n",
    "Thanks to Karina Marks, Chris Musselle, Greg Payne and Dave Beech for creating the initial version of this article."
   ]
  }
 ],
 "metadata": {
  "kernelspec": {
   "display_name": "ons-spark-env-3.8",
   "language": "python",
   "name": "python3"
  },
  "language_info": {
   "codemirror_mode": {
    "name": "ipython",
    "version": 3
   },
   "file_extension": ".py",
   "mimetype": "text/x-python",
   "name": "python",
   "nbconvert_exporter": "python",
   "pygments_lexer": "ipython3",
   "version": "3.8.15 (default, Nov 24 2022, 14:38:14) [MSC v.1916 64 bit (AMD64)]"
  },
  "vscode": {
   "interpreter": {
    "hash": "9c57779df1dea1b9eb188cf873833e898918bc3cfb3a87a3118d4020e0c6a26f"
   }
  }
 },
 "nbformat": 4,
 "nbformat_minor": 4
}
