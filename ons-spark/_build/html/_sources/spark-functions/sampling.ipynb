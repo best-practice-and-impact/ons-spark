{
 "cells": [
  {
   "cell_type": "markdown",
   "metadata": {},
   "source": [
    "## Sampling: `.sample()` and `sdf_sample()`\n",
    "\n",
    "You can take a sample of a DataFrame with [`.sample()`](https://spark.apache.org/docs/2.4.0/api/python/pyspark.sql.html#pyspark.sql.DataFrame.sample) in PySpark or [`sdf_sample()`](https://spark.rstudio.com/reference/sdf_sample.html) in sparklyr. This is something that you may want to do during development or initial analysis of data, as with a smaller amount of data your code will run faster and requires less memory to process.\n",
    "\n",
    "It is important to note that sampling in Spark returns an approximate fraction of the data, rather than an exact one. The reason for this is explained in the [Returning an exact sample](#returning-an-exact-sample) section.\n",
    "\n",
    "### PySpark example: `.sample()`\n",
    "\n",
    "First, set up the Spark session, read the Animal Rescue data, and then get the row count:"
   ]
  },
  {
   "cell_type": "code",
   "execution_count": 1,
   "metadata": {},
   "outputs": [
    {
     "data": {
      "text/plain": [
       "5898"
      ]
     },
     "execution_count": 1,
     "metadata": {},
     "output_type": "execute_result"
    }
   ],
   "source": [
    "import os\n",
    "from pyspark.sql import SparkSession, functions as F\n",
    "\n",
    "spark = SparkSession.builder.master(\"local[2]\").appName(\"sampling\").getOrCreate()\n",
    "\n",
    "data_path = f\"file:///{os.getcwd()}/../data/animal_rescue.parquet\"\n",
    "\n",
    "rescue = spark.read.parquet(data_path)\n",
    "\n",
    "rescue.count()"
   ]
  },
  {
   "cell_type": "markdown",
   "metadata": {},
   "source": [
    "To use `.sample()`, set the `fraction`, which is between 0 and 1. So if we want a $20\\%$ sample, use `fraction=0.2`. Note that this will give an *approximate* sample and so you will likely get slightly more or fewer rows than you expect.\n",
    "\n",
    "You can select to sample with replacement by setting `withReplacement=True`, which is set to `False` by default."
   ]
  },
  {
   "cell_type": "code",
   "execution_count": 2,
   "metadata": {},
   "outputs": [
    {
     "data": {
      "text/plain": [
       "594"
      ]
     },
     "execution_count": 2,
     "metadata": {},
     "output_type": "execute_result"
    }
   ],
   "source": [
    "rescue_sample = rescue.sample(withReplacement=False, fraction=0.1)\n",
    "rescue_sample.count()"
   ]
  },
  {
   "cell_type": "markdown",
   "metadata": {},
   "source": [
    "You can also set a seed, in a similar way to how random numbers generators work. This enables replication, which is useful in Spark given that the DataFrame will be otherwise be re-sampled every time an action is called."
   ]
  },
  {
   "cell_type": "code",
   "execution_count": 3,
   "metadata": {},
   "outputs": [
    {
     "name": "stdout",
     "output_type": "stream",
     "text": [
      "Seed 1 count: 589\n",
      "Seed 2 count: 589\n"
     ]
    }
   ],
   "source": [
    "rescue_sample_seed_1 = rescue.sample(withReplacement=None,\n",
    "                      fraction=0.1,\n",
    "                      seed=99)\n",
    "\n",
    "rescue_sample_seed_2 = rescue.sample(withReplacement=None,\n",
    "                      fraction=0.1,\n",
    "                      seed=99)\n",
    "\n",
    "print(f\"Seed 1 count: {rescue_sample_seed_1.count()}\")\n",
    "print(f\"Seed 2 count: {rescue_sample_seed_1.count()}\")"
   ]
  },
  {
   "cell_type": "markdown",
   "metadata": {},
   "source": [
    "We can see that both samples have returned the same number of rows due to the identical seed.\n",
    "\n",
    "Another way of replicating results is with persisting. Caching or checkpointing the DataFrame will avoid recalculation of the DF within the same Spark session. Writing out the DF to a Hive table or parquet enables it to be used in subsequent Spark sessions. See the chapter on persisting for more detail.\n",
    "\n",
    "### R Example: `sdf_sample()`\n",
    "\n",
    "In sparklyr, you can use `sdf_sample()`. The `fraction`, `seed` and `replacement` (with a slight name variation) arguments work in the same way as `.sample()`. Note that the arguments are in a different default order, which is often more useful in sparklyr as `fraction` is always used whereas `replacement=TRUE` is less common.\n",
    "\n",
    "```r\n",
    "rescue_sample <- rescue %>% sparklyr::sdf_sample(fraction=0.1, replacement=FALSE, seed=99)\n",
    "```\n",
    "### More details on sampling\n",
    "\n",
    "The following section gives more detail on sampling and how it is processed on the Spark cluster. is not compulsory reading, but may be of interest to some Spark users.\n",
    "\n",
    "#### Returning an exact sample\n",
    "\n",
    "We have demonstrated above that `.sample()` returns an approximate fraction, not an exact one. This is because every row is independently assigned a probability equal to `fraction` of being included in the sample, e.g. with `fraction=0.2` every row has a $20\\%$ probability of being in the sample. The number of rows returned in the sample therefore follows the binomial distribution.\n",
    "\n",
    "The advantage of the sample being calculated in this way is that it is processed as a *narrow transformation*, which is more efficient than a *wide transformation*.\n",
    "\n",
    "To return an exact sample, one method is to calculate how many rows are required in the sample, create a new column of random numbers and sort by it, and use `.limit()`. This requires an action and a wide transformation, and so will take longer to process than using `.sample()`."
   ]
  },
  {
   "cell_type": "code",
   "execution_count": 4,
   "metadata": {},
   "outputs": [
    {
     "data": {
      "text/plain": [
       "590"
      ]
     },
     "execution_count": 4,
     "metadata": {},
     "output_type": "execute_result"
    }
   ],
   "source": [
    "fraction = 0.1\n",
    "row_count = round(rescue.count() * fraction)\n",
    "row_count"
   ]
  },
  {
   "cell_type": "code",
   "execution_count": 5,
   "metadata": {},
   "outputs": [
    {
     "data": {
      "text/plain": [
       "590"
      ]
     },
     "execution_count": 5,
     "metadata": {},
     "output_type": "execute_result"
    }
   ],
   "source": [
    "rescue.withColumn(\"rand_no\", F.rand()).orderBy(\"rand_no\").limit(row_count).drop(\"rand_no\").count()"
   ]
  },
  {
   "cell_type": "markdown",
   "metadata": {},
   "source": [
    "#### Partitioning\n",
    "\n",
    "The number of partitions will remain the same when sampling, even though the DataFrame will be smaller. If you are taking a small fraction of the data then your DataFrame may have too many partitions. You can use [`.coalesce()`](https://spark.apache.org/docs/2.4.0/api/python/pyspark.sql.html#pyspark.sql.functions.coalesce) in PySpark or [`sdf_coalesce()`](https://spark.rstudio.com/reference/sdf_coalesce.html) in sparklyr to reduce the number of partitions, e.g. if your original DF had $200$ partitions and you take a $10\\%$ sample, you can reduce the number of partitions to $20$ with `df.sample(fraction=0.1).coalesce(20)`.\n",
    "\n",
    "#### Sampling consistently by filtering the data\n",
    "\n",
    "If the primary reason for using sampling is to process less data during development then an alternative is to filter the data and specify a condition which gives approximately the desired number of rows. This will give consistent results, which may or may not be desirable. For instance, in the Animal Rescue data we could use two years data:"
   ]
  },
  {
   "cell_type": "code",
   "execution_count": 6,
   "metadata": {},
   "outputs": [
    {
     "data": {
      "text/plain": [
       "1142"
      ]
     },
     "execution_count": 6,
     "metadata": {},
     "output_type": "execute_result"
    }
   ],
   "source": [
    "rescue.filter(F.col(\"CalYear\").isin(2012, 2017)).count()"
   ]
  },
  {
   "cell_type": "markdown",
   "metadata": {},
   "source": [
    "The disadvantage of this method is that you may have data quality issues in the original DF that will not be encountered, whereas these may be discovered with `.sample()`. Using unit testing and test driven development can mitigate the risk of these issues.\n",
    "\n",
    "### Other sampling functions\n",
    "\n",
    "This section briefly discusses similar functions to `.sample()` and `sdf_sample()`.\n",
    "\n",
    "#### Splitting a DF: `.randomSplit()` and `sdf_random_split()`\n",
    "\n",
    "You can split a DF into two or more DFs with [`.randomSplit()`](https://spark.apache.org/docs/2.4.0/api/python/pyspark.sql.html#pyspark.sql.DataFrame.randomSplit) in PySpark and [`sdf_random_split()`](https://spark.rstudio.com/reference/sdf_random_split.html) in sparklyr. This is common when using machine learning, to generate training and test datasets.\n",
    "\n",
    "Every row in the DF will be allocated to one of the split DFs. In common with the other sampling methods the exact size of each split may vary. An optional seed can also be set.\n",
    "\n",
    "For instance, to split the animal rescue data into three DFs with a weighting of $50\\%$, $40\\%$ and $10\\%$ in PySpark:"
   ]
  },
  {
   "cell_type": "code",
   "execution_count": 7,
   "metadata": {},
   "outputs": [
    {
     "name": "stdout",
     "output_type": "stream",
     "text": [
      "Split1: 2930\n",
      "Split2: 2367\n",
      "Split3: 601\n"
     ]
    }
   ],
   "source": [
    "split1, split2, split3 = rescue.randomSplit([0.5, 0.4, 0.1])\n",
    "\n",
    "print(f\"Split1: {split1.count()}\")\n",
    "print(f\"Split2: {split2.count()}\")\n",
    "print(f\"Split3: {split3.count()}\")"
   ]
  },
  {
   "cell_type": "markdown",
   "metadata": {},
   "source": [
    "Check that the count of the splits equals the total row count:"
   ]
  },
  {
   "cell_type": "code",
   "execution_count": 8,
   "metadata": {},
   "outputs": [
    {
     "name": "stdout",
     "output_type": "stream",
     "text": [
      "DF count: 5898\n",
      "Split count total: 5898\n"
     ]
    }
   ],
   "source": [
    "print(f\"DF count: {rescue.count()}\")\n",
    "print(f\"Split count total: {split1.count() + split2.count() + split3.count()}\")"
   ]
  },
  {
   "cell_type": "markdown",
   "metadata": {},
   "source": [
    "#### Stratified samples: `.sampleBy()`\n",
    "\n",
    "A stratified sample can be taken with [`.sampleBy()`](https://spark.apache.org/docs/2.4.0/api/python/pyspark.sql.html#pyspark.sql.DataFrame.sampleBy) in PySpark. This takes a column, `col`, to sample by, and a dictionary of weights, `fractions`.\n",
    "\n",
    "In common with other sampling methods this does not return an exact proportion and you can also optionally set a seed.\n",
    "\n",
    "Note that there is no native sparklyr implementation for stratified sampling, although there is a method for weighted sampling, [`sdf_weighted_sample()`](https://spark.rstudio.com/reference/sdf_weighted_sample.html).\n",
    "\n",
    "In PySpark, to return $5\\%$ of cats, $10\\%$ of dogs and $50\\%$ of hamsters:"
   ]
  },
  {
   "cell_type": "code",
   "execution_count": 9,
   "metadata": {},
   "outputs": [
    {
     "name": "stdout",
     "output_type": "stream",
     "text": [
      "+-----------------+---------+\n",
      "|AnimalGroupParent|row_count|\n",
      "+-----------------+---------+\n",
      "|              Cat|      141|\n",
      "|              Dog|      107|\n",
      "|          Hamster|        7|\n",
      "+-----------------+---------+\n",
      "\n"
     ]
    }
   ],
   "source": [
    "weights = {\"Cat\": 0.05, \"Dog\": 0.1, \"Hamster\": 0.5}\n",
    "stratified_sample = rescue.sampleBy(\"AnimalGroupParent\", fractions=weights)\n",
    "stratified_sample_count = (stratified_sample\n",
    "                           .groupBy(\"AnimalGroupParent\")\n",
    "                           .agg(F.count(\"AnimalGroupParent\").alias(\"row_count\"))\n",
    "                           .orderBy(\"AnimalGroupParent\"))\n",
    "stratified_sample_count.show()"
   ]
  },
  {
   "cell_type": "markdown",
   "metadata": {},
   "source": [
    "We can quickly compare the number of rows for each animal to the expected to confirm that they are approximately equal:"
   ]
  },
  {
   "cell_type": "code",
   "execution_count": 10,
   "metadata": {},
   "outputs": [
    {
     "name": "stdout",
     "output_type": "stream",
     "text": [
      "+-----------------+-----+------+-------------+---------+\n",
      "|AnimalGroupParent|count|weight|expected_rows|row_count|\n",
      "+-----------------+-----+------+-------------+---------+\n",
      "|              Cat| 2909|  0.05|        145.0|      141|\n",
      "|              Dog| 1008|   0.1|        101.0|      107|\n",
      "|          Hamster|   14|   0.5|          7.0|        7|\n",
      "+-----------------+-----+------+-------------+---------+\n",
      "\n"
     ]
    }
   ],
   "source": [
    "weights_df = spark.createDataFrame(list(weights.items()), schema=[\"AnimalGroupParent\", \"weight\"])\n",
    "\n",
    "(rescue\n",
    "    .groupBy(\"AnimalGroupParent\").count()\n",
    "    .join(weights_df, on=\"AnimalGroupParent\", how=\"inner\")\n",
    "    .withColumn(\"expected_rows\", F.round(F.col(\"count\") * F.col(\"weight\"), 0))\n",
    "    .join(stratified_sample_count, on=\"AnimalGroupParent\", how=\"left\")\n",
    "    .orderBy(\"AnimalGroupParent\")\n",
    "    .show()\n",
    ")"
   ]
  },
  {
   "cell_type": "markdown",
   "metadata": {},
   "source": [
    "### Further Resources\n",
    "\n",
    "PySpark Documentation:\n",
    "- [`.sample()`](https://spark.apache.org/docs/2.4.0/api/python/pyspark.sql.html#pyspark.sql.DataFrame.sample)\n",
    "- [`.coalesce()`](https://spark.apache.org/docs/2.4.0/api/python/pyspark.sql.html#pyspark.sql.functions.coalesce)\n",
    "- [`.randomSplit()`](https://spark.apache.org/docs/2.4.0/api/python/pyspark.sql.html#pyspark.sql.DataFrame.randomSplit)\n",
    "- [`.sampleBy()`](https://spark.apache.org/docs/2.4.0/api/python/pyspark.sql.html#pyspark.sql.DataFrame.sampleBy)\n",
    "\n",
    "sparklyr Documentation:\n",
    "- [`sdf_sample()`](https://spark.rstudio.com/reference/sdf_sample.html)\n",
    "- [`sdf_coalesce()`](https://spark.rstudio.com/reference/sdf_coalesce.html)\n",
    "- [`sdf_random_split()`](https://spark.rstudio.com/reference/sdf_random_split.html)\n",
    "- [`sdf_weighted_sample()`](https://spark.rstudio.com/reference/sdf_weighted_sample.html)\n",
    "\n",
    "Spark in ONS material:\n",
    "- Wide and narrow transformations\n",
    "- Persisting in Spark\n",
    "- Filtering data\n",
    "- Unit testing in Spark"
   ]
  }
 ],
 "metadata": {
  "kernelspec": {
   "display_name": "Python 3",
   "language": "python",
   "name": "python3"
  },
  "language_info": {
   "codemirror_mode": {
    "name": "ipython",
    "version": 3
   },
   "file_extension": ".py",
   "mimetype": "text/x-python",
   "name": "python",
   "nbconvert_exporter": "python",
   "pygments_lexer": "ipython3",
   "version": "3.6.8"
  }
 },
 "nbformat": 4,
 "nbformat_minor": 2
}
